{
 "cells": [
  {
   "cell_type": "code",
   "execution_count": 8,
   "metadata": {},
   "outputs": [],
   "source": [
    "import torch\n",
    "from modelutils import *\n",
    "from torchvision import datasets, transforms\n",
    "from optimizers import PSO, GWO\n",
    "import torchsummary"
   ]
  },
  {
   "cell_type": "code",
   "execution_count": 9,
   "metadata": {},
   "outputs": [],
   "source": [
    "batch_size = 64\n",
    "\n",
    "# Transform to normalize the data\n",
    "transform = transforms.Compose([\n",
    "    transforms.Resize((32, 32)),  # Resize to fit LeNet architecture\n",
    "    transforms.ToTensor(),\n",
    "    transforms.Normalize((0.5,), (0.5,))\n",
    "])\n",
    "\n",
    "# Download and load the training and test datasets\n",
    "trainset = datasets.MNIST(root='./data/', train=True, download=True, transform=transform)\n",
    "testset = datasets.MNIST(root='./data/', train=False, download=True, transform=transform)\n",
    "\n",
    "# Data loaders\n",
    "train_loader = torch.utils.data.DataLoader(trainset, batch_size=batch_size, shuffle=True)\n",
    "test_loader = torch.utils.data.DataLoader(testset, batch_size=batch_size, shuffle=False) "
   ]
  },
  {
   "cell_type": "code",
   "execution_count": 7,
   "metadata": {},
   "outputs": [],
   "source": [
    "hparams = {\n",
    "    \"range\": [(-1, 1), (0, 1)],\n",
    "    \"epochs\": [10, 20, 50, 100],\n",
    "    \"particles\": [10, 20, 25, 50, 100, 200]\n",
    "}\n",
    "settings = {}\n",
    "MODEL_PATH = \".results/model_params/PSO/MNIST\"\n",
    "CHART_PATH = \".results/model_params/PSO/CIFAR10\"\n",
    "device = get_device()\n",
    "model = lenet_mnist().to(device)"
   ]
  },
  {
   "cell_type": "code",
   "execution_count": null,
   "metadata": {},
   "outputs": [],
   "source": [
    "def plotter(metrics, idx, PATH=CHART_PATH):\n",
    "    for _ in metrics.keys():\n",
    "        plt.plot"
   ]
  },
  {
   "cell_type": "code",
   "execution_count": null,
   "metadata": {},
   "outputs": [],
   "source": [
    "file_form = \"PSO_MNIST_\"\n",
    "idx = 1\n",
    "for i in range(hparams[\"range\"]):\n",
    "    (min_value, max_value) = hparams[\"range\"][i]\n",
    "    for j in range(hparams[\"epochs\"]):\n",
    "        epochs = hparams[\"epochs\"][j] \n",
    "        for k in range(hparams[\"particles\"]):\n",
    "            particles = hparams[\"particles\"][k]\n",
    "            optimizer = PSO(model.parameters(), num_particles=25, max_param_value=max_value, min_param_value=min_value)\n",
    "            model_name = file_form + str(idx)\n",
    "            "
   ]
  }
 ],
 "metadata": {
  "kernelspec": {
   "display_name": "school",
   "language": "python",
   "name": "python3"
  },
  "language_info": {
   "codemirror_mode": {
    "name": "ipython",
    "version": 3
   },
   "file_extension": ".py",
   "mimetype": "text/x-python",
   "name": "python",
   "nbconvert_exporter": "python",
   "pygments_lexer": "ipython3",
   "version": "3.10.12"
  }
 },
 "nbformat": 4,
 "nbformat_minor": 2
}
