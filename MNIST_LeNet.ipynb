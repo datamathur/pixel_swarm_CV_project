{
 "cells": [
  {
   "cell_type": "code",
   "execution_count": 1,
   "metadata": {
    "ExecuteTime": {
     "end_time": "2024-04-22T19:16:18.498441Z",
     "start_time": "2024-04-22T19:16:17.130418Z"
    }
   },
   "outputs": [],
   "source": [
    "import torch\n",
    "from modelutils.MNIST_LeNet import LeNet\n",
    "from utils.utils import train, get_device\n",
    "from torchvision import datasets, transforms\n",
    "from optimizers.PSO import PSO"
   ]
  },
  {
   "cell_type": "markdown",
   "source": [
    "### Loading Data"
   ],
   "metadata": {
    "collapsed": false
   }
  },
  {
   "cell_type": "code",
   "outputs": [],
   "source": [
    "batch_size = 256\n",
    "\n",
    "# Transform to normalize the data\n",
    "transform = transforms.Compose([\n",
    "    transforms.Resize((32, 32)),  # Resize to fit LeNet architecture\n",
    "    transforms.ToTensor(),\n",
    "    transforms.Normalize((0.5,), (0.5,))\n",
    "])\n",
    "\n",
    "# Download and load the training and test datasets\n",
    "trainset = datasets.MNIST(root='./data', train=True, download=True, transform=transform)\n",
    "testset = datasets.MNIST(root='./data', train=False, download=True, transform=transform)\n",
    "\n",
    "# Data loaders\n",
    "train_loader = torch.utils.data.DataLoader(trainset, batch_size=batch_size, shuffle=True)\n",
    "test_loader = torch.utils.data.DataLoader(testset, batch_size=batch_size, shuffle=False)"
   ],
   "metadata": {
    "collapsed": false,
    "ExecuteTime": {
     "end_time": "2024-04-22T19:16:18.521173Z",
     "start_time": "2024-04-22T19:16:18.499916Z"
    }
   },
   "execution_count": 2
  },
  {
   "cell_type": "markdown",
   "source": [
    "### Model Setup"
   ],
   "metadata": {
    "collapsed": false
   }
  },
  {
   "cell_type": "code",
   "outputs": [
    {
     "name": "stdout",
     "output_type": "stream",
     "text": [
      "Using MPS\n"
     ]
    }
   ],
   "source": [
    "device = get_device()\n",
    "model = LeNet().to(device)\n",
    "optimizer = PSO(model.parameters(), inertial_weight=0.9, cognitive_coefficient=1.2, social_coefficient=1.2, num_particles=30)"
   ],
   "metadata": {
    "collapsed": false,
    "ExecuteTime": {
     "end_time": "2024-04-22T19:16:19.149408Z",
     "start_time": "2024-04-22T19:16:18.521983Z"
    }
   },
   "execution_count": 3
  },
  {
   "cell_type": "markdown",
   "source": [
    "### Training"
   ],
   "metadata": {
    "collapsed": false
   }
  },
  {
   "cell_type": "code",
   "outputs": [
    {
     "name": "stderr",
     "output_type": "stream",
     "text": [
      "  0%|          | 0/100 [00:00<?, ?it/s]"
     ]
    },
    {
     "name": "stdout",
     "output_type": "stream",
     "text": [
      "Epoch 1, Train Loss: 6565983457.280, Train Accuracy: 12.17%\n"
     ]
    },
    {
     "name": "stderr",
     "output_type": "stream",
     "text": [
      "  1%|          | 1/100 [00:51<1:24:22, 51.14s/it]"
     ]
    },
    {
     "name": "stdout",
     "output_type": "stream",
     "text": [
      "Validation Loss: 2634232473.600, Validation Accuracy: 12.84%\n",
      "Epoch 2, Train Loss: 6109156152.320, Train Accuracy: 11.47%\n"
     ]
    },
    {
     "name": "stderr",
     "output_type": "stream",
     "text": [
      "  2%|▏         | 2/100 [01:40<1:21:32, 49.93s/it]"
     ]
    },
    {
     "name": "stdout",
     "output_type": "stream",
     "text": [
      "Validation Loss: 2485049414.400, Validation Accuracy: 9.66%\n",
      "Epoch 3, Train Loss: 5787399521.280, Train Accuracy: 10.77%\n"
     ]
    },
    {
     "name": "stderr",
     "output_type": "stream",
     "text": [
      "  3%|▎         | 3/100 [02:29<1:20:17, 49.67s/it]"
     ]
    },
    {
     "name": "stdout",
     "output_type": "stream",
     "text": [
      "Validation Loss: 2483149577.600, Validation Accuracy: 10.89%\n",
      "Epoch 4, Train Loss: 5800277222.400, Train Accuracy: 10.83%\n"
     ]
    },
    {
     "name": "stderr",
     "output_type": "stream",
     "text": [
      "  4%|▍         | 4/100 [03:19<1:19:23, 49.62s/it]"
     ]
    },
    {
     "name": "stdout",
     "output_type": "stream",
     "text": [
      "Validation Loss: 2483149577.600, Validation Accuracy: 10.89%\n",
      "Epoch 5, Train Loss: 5799664372.480, Train Accuracy: 10.83%\n"
     ]
    },
    {
     "name": "stderr",
     "output_type": "stream",
     "text": [
      "  5%|▌         | 5/100 [04:08<1:18:25, 49.53s/it]"
     ]
    },
    {
     "name": "stdout",
     "output_type": "stream",
     "text": [
      "Validation Loss: 2483149577.600, Validation Accuracy: 10.89%\n",
      "Epoch 6, Train Loss: 5801049367.040, Train Accuracy: 10.83%\n"
     ]
    },
    {
     "name": "stderr",
     "output_type": "stream",
     "text": [
      "  6%|▌         | 6/100 [04:57<1:17:07, 49.23s/it]"
     ]
    },
    {
     "name": "stdout",
     "output_type": "stream",
     "text": [
      "Validation Loss: 2483149577.600, Validation Accuracy: 10.89%\n",
      "Epoch 7, Train Loss: 5798215219.200, Train Accuracy: 10.83%\n"
     ]
    },
    {
     "name": "stderr",
     "output_type": "stream",
     "text": [
      "  7%|▋         | 7/100 [05:46<1:16:32, 49.38s/it]"
     ]
    },
    {
     "name": "stdout",
     "output_type": "stream",
     "text": [
      "Validation Loss: 2483149577.600, Validation Accuracy: 10.89%\n",
      "Epoch 8, Train Loss: 5798954365.440, Train Accuracy: 10.83%\n"
     ]
    },
    {
     "name": "stderr",
     "output_type": "stream",
     "text": [
      "  8%|▊         | 8/100 [06:36<1:15:38, 49.33s/it]"
     ]
    },
    {
     "name": "stdout",
     "output_type": "stream",
     "text": [
      "Validation Loss: 2483149577.600, Validation Accuracy: 10.89%\n",
      "Epoch 9, Train Loss: 5799915924.480, Train Accuracy: 10.83%\n"
     ]
    },
    {
     "name": "stderr",
     "output_type": "stream",
     "text": [
      "  9%|▉         | 9/100 [07:24<1:14:20, 49.01s/it]"
     ]
    },
    {
     "name": "stdout",
     "output_type": "stream",
     "text": [
      "Validation Loss: 2483149577.600, Validation Accuracy: 10.89%\n",
      "Epoch 10, Train Loss: 5799123932.160, Train Accuracy: 10.83%\n"
     ]
    },
    {
     "name": "stderr",
     "output_type": "stream",
     "text": [
      " 10%|█         | 10/100 [08:13<1:13:37, 49.08s/it]"
     ]
    },
    {
     "name": "stdout",
     "output_type": "stream",
     "text": [
      "Validation Loss: 2483149577.600, Validation Accuracy: 10.89%\n",
      "Epoch 11, Train Loss: 5801062849.280, Train Accuracy: 10.83%\n"
     ]
    },
    {
     "name": "stderr",
     "output_type": "stream",
     "text": [
      " 11%|█         | 11/100 [09:03<1:13:05, 49.28s/it]"
     ]
    },
    {
     "name": "stdout",
     "output_type": "stream",
     "text": [
      "Validation Loss: 2483149577.600, Validation Accuracy: 10.89%\n",
      "Epoch 12, Train Loss: 5798241930.240, Train Accuracy: 10.83%\n"
     ]
    },
    {
     "name": "stderr",
     "output_type": "stream",
     "text": [
      " 12%|█▏        | 12/100 [09:52<1:12:18, 49.30s/it]"
     ]
    },
    {
     "name": "stdout",
     "output_type": "stream",
     "text": [
      "Validation Loss: 2483149577.600, Validation Accuracy: 10.89%\n",
      "Epoch 13, Train Loss: 5797436285.440, Train Accuracy: 10.83%\n"
     ]
    },
    {
     "name": "stderr",
     "output_type": "stream",
     "text": [
      " 13%|█▎        | 13/100 [10:43<1:11:57, 49.63s/it]"
     ]
    },
    {
     "name": "stdout",
     "output_type": "stream",
     "text": [
      "Validation Loss: 2483149577.600, Validation Accuracy: 10.89%\n",
      "Epoch 14, Train Loss: 5800491281.920, Train Accuracy: 10.83%\n"
     ]
    },
    {
     "name": "stderr",
     "output_type": "stream",
     "text": [
      " 14%|█▍        | 14/100 [11:34<1:11:51, 50.14s/it]"
     ]
    },
    {
     "name": "stdout",
     "output_type": "stream",
     "text": [
      "Validation Loss: 2483149577.600, Validation Accuracy: 10.89%\n",
      "Epoch 15, Train Loss: 5796277456.640, Train Accuracy: 10.83%\n"
     ]
    },
    {
     "name": "stderr",
     "output_type": "stream",
     "text": [
      " 15%|█▌        | 15/100 [12:24<1:11:14, 50.28s/it]"
     ]
    },
    {
     "name": "stdout",
     "output_type": "stream",
     "text": [
      "Validation Loss: 2483149577.600, Validation Accuracy: 10.89%\n",
      "Epoch 16, Train Loss: 5798924321.280, Train Accuracy: 10.83%\n"
     ]
    },
    {
     "name": "stderr",
     "output_type": "stream",
     "text": [
      " 16%|█▌        | 16/100 [13:15<1:10:31, 50.38s/it]"
     ]
    },
    {
     "name": "stdout",
     "output_type": "stream",
     "text": [
      "Validation Loss: 2483149577.600, Validation Accuracy: 10.89%\n",
      "Epoch 17, Train Loss: 5799295531.520, Train Accuracy: 10.83%\n"
     ]
    },
    {
     "name": "stderr",
     "output_type": "stream",
     "text": [
      " 17%|█▋        | 17/100 [14:05<1:09:31, 50.26s/it]"
     ]
    },
    {
     "name": "stdout",
     "output_type": "stream",
     "text": [
      "Validation Loss: 2483149577.600, Validation Accuracy: 10.89%\n",
      "Epoch 18, Train Loss: 5798921264.640, Train Accuracy: 10.83%\n"
     ]
    },
    {
     "name": "stderr",
     "output_type": "stream",
     "text": [
      " 18%|█▊        | 18/100 [14:56<1:08:45, 50.32s/it]"
     ]
    },
    {
     "name": "stdout",
     "output_type": "stream",
     "text": [
      "Validation Loss: 2483149577.600, Validation Accuracy: 10.89%\n",
      "Epoch 19, Train Loss: 5798649643.520, Train Accuracy: 10.83%\n"
     ]
    },
    {
     "name": "stderr",
     "output_type": "stream",
     "text": [
      " 19%|█▉        | 19/100 [15:46<1:08:10, 50.50s/it]"
     ]
    },
    {
     "name": "stdout",
     "output_type": "stream",
     "text": [
      "Validation Loss: 2483149577.600, Validation Accuracy: 10.89%\n",
      "Epoch 20, Train Loss: 5796846074.880, Train Accuracy: 10.83%\n"
     ]
    },
    {
     "name": "stderr",
     "output_type": "stream",
     "text": [
      " 20%|██        | 20/100 [16:37<1:07:29, 50.61s/it]"
     ]
    },
    {
     "name": "stdout",
     "output_type": "stream",
     "text": [
      "Validation Loss: 2483149577.600, Validation Accuracy: 10.89%\n",
      "Epoch 21, Train Loss: 5800751142.400, Train Accuracy: 10.83%\n"
     ]
    },
    {
     "name": "stderr",
     "output_type": "stream",
     "text": [
      " 21%|██        | 21/100 [17:28<1:06:41, 50.65s/it]"
     ]
    },
    {
     "name": "stdout",
     "output_type": "stream",
     "text": [
      "Validation Loss: 2483149577.600, Validation Accuracy: 10.89%\n",
      "Epoch 22, Train Loss: 5801760258.560, Train Accuracy: 10.83%\n"
     ]
    },
    {
     "name": "stderr",
     "output_type": "stream",
     "text": [
      " 22%|██▏       | 22/100 [18:18<1:05:41, 50.54s/it]"
     ]
    },
    {
     "name": "stdout",
     "output_type": "stream",
     "text": [
      "Validation Loss: 2483149577.600, Validation Accuracy: 10.89%\n",
      "Epoch 23, Train Loss: 5799322296.320, Train Accuracy: 10.83%\n"
     ]
    },
    {
     "name": "stderr",
     "output_type": "stream",
     "text": [
      " 23%|██▎       | 23/100 [19:09<1:04:56, 50.61s/it]"
     ]
    },
    {
     "name": "stdout",
     "output_type": "stream",
     "text": [
      "Validation Loss: 2483149577.600, Validation Accuracy: 10.89%\n",
      "Epoch 24, Train Loss: 5800784120.320, Train Accuracy: 10.83%\n"
     ]
    },
    {
     "name": "stderr",
     "output_type": "stream",
     "text": [
      " 24%|██▍       | 24/100 [19:59<1:03:54, 50.45s/it]"
     ]
    },
    {
     "name": "stdout",
     "output_type": "stream",
     "text": [
      "Validation Loss: 2483149577.600, Validation Accuracy: 10.89%\n",
      "Epoch 25, Train Loss: 5798367313.920, Train Accuracy: 10.83%\n"
     ]
    },
    {
     "name": "stderr",
     "output_type": "stream",
     "text": [
      " 25%|██▌       | 25/100 [20:50<1:03:07, 50.50s/it]"
     ]
    },
    {
     "name": "stdout",
     "output_type": "stream",
     "text": [
      "Validation Loss: 2483149577.600, Validation Accuracy: 10.89%\n",
      "Epoch 26, Train Loss: 5803686640.640, Train Accuracy: 10.83%\n"
     ]
    },
    {
     "name": "stderr",
     "output_type": "stream",
     "text": [
      " 26%|██▌       | 26/100 [21:40<1:02:12, 50.44s/it]"
     ]
    },
    {
     "name": "stdout",
     "output_type": "stream",
     "text": [
      "Validation Loss: 2483149577.600, Validation Accuracy: 10.89%\n",
      "Epoch 27, Train Loss: 5798815754.240, Train Accuracy: 10.83%\n"
     ]
    },
    {
     "name": "stderr",
     "output_type": "stream",
     "text": [
      " 27%|██▋       | 27/100 [22:30<1:01:06, 50.23s/it]"
     ]
    },
    {
     "name": "stdout",
     "output_type": "stream",
     "text": [
      "Validation Loss: 2483149577.600, Validation Accuracy: 10.89%\n",
      "Epoch 28, Train Loss: 5797820119.040, Train Accuracy: 10.83%\n"
     ]
    },
    {
     "name": "stderr",
     "output_type": "stream",
     "text": [
      " 28%|██▊       | 28/100 [23:20<1:00:20, 50.29s/it]"
     ]
    },
    {
     "name": "stdout",
     "output_type": "stream",
     "text": [
      "Validation Loss: 2483149577.600, Validation Accuracy: 10.89%\n",
      "Epoch 29, Train Loss: 5798145876.480, Train Accuracy: 10.83%\n"
     ]
    },
    {
     "name": "stderr",
     "output_type": "stream",
     "text": [
      " 29%|██▉       | 29/100 [24:11<59:36, 50.37s/it]  "
     ]
    },
    {
     "name": "stdout",
     "output_type": "stream",
     "text": [
      "Validation Loss: 2483149577.600, Validation Accuracy: 10.89%\n",
      "Epoch 30, Train Loss: 5800014561.280, Train Accuracy: 10.83%\n"
     ]
    },
    {
     "name": "stderr",
     "output_type": "stream",
     "text": [
      " 30%|███       | 30/100 [25:02<58:56, 50.52s/it]"
     ]
    },
    {
     "name": "stdout",
     "output_type": "stream",
     "text": [
      "Validation Loss: 2483149577.600, Validation Accuracy: 10.89%\n",
      "Epoch 31, Train Loss: 5799880391.680, Train Accuracy: 10.83%\n"
     ]
    },
    {
     "name": "stderr",
     "output_type": "stream",
     "text": [
      " 31%|███       | 31/100 [25:53<58:12, 50.62s/it]"
     ]
    },
    {
     "name": "stdout",
     "output_type": "stream",
     "text": [
      "Validation Loss: 2483149577.600, Validation Accuracy: 10.89%\n",
      "Epoch 32, Train Loss: 5799372531.200, Train Accuracy: 10.83%\n"
     ]
    },
    {
     "name": "stderr",
     "output_type": "stream",
     "text": [
      " 32%|███▏      | 32/100 [26:44<57:29, 50.73s/it]"
     ]
    },
    {
     "name": "stdout",
     "output_type": "stream",
     "text": [
      "Validation Loss: 2483149577.600, Validation Accuracy: 10.89%\n"
     ]
    }
   ],
   "source": [
    "train(100, optimizer, model, device, train_loader, test_loader)"
   ],
   "metadata": {
    "collapsed": false,
    "is_executing": true,
    "ExecuteTime": {
     "start_time": "2024-04-22T19:16:19.150290Z"
    }
   },
   "execution_count": null
  },
  {
   "cell_type": "code",
   "outputs": [],
   "source": [],
   "metadata": {
    "collapsed": false,
    "is_executing": true
   }
  }
 ],
 "metadata": {
  "language_info": {
   "name": "python"
  },
  "kernelspec": {
   "name": "python3",
   "language": "python",
   "display_name": "Python 3 (ipykernel)"
  }
 },
 "nbformat": 4,
 "nbformat_minor": 2
}
