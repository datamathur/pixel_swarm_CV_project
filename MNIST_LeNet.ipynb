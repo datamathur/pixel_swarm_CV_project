{
 "cells": [
  {
   "cell_type": "code",
   "execution_count": 1,
   "metadata": {
    "ExecuteTime": {
     "end_time": "2024-04-22T20:45:54.801055Z",
     "start_time": "2024-04-22T20:45:53.327919Z"
    }
   },
   "outputs": [],
   "source": [
    "import torch\n",
    "from modelutils.MNIST_LeNet import LeNet\n",
    "from utils.utils import train, get_device\n",
    "from torchvision import datasets, transforms\n",
    "from optimizers.PSO import PSO"
   ]
  },
  {
   "cell_type": "markdown",
   "source": [
    "### Loading Data"
   ],
   "metadata": {
    "collapsed": false
   }
  },
  {
   "cell_type": "code",
   "outputs": [],
   "source": [
    "batch_size = 64\n",
    "\n",
    "# Transform to normalize the data\n",
    "transform = transforms.Compose([\n",
    "    transforms.Resize((32, 32)),  # Resize to fit LeNet architecture\n",
    "    transforms.ToTensor(),\n",
    "    transforms.Normalize((0.5,), (0.5,))\n",
    "])\n",
    "\n",
    "# Download and load the training and test datasets\n",
    "trainset = datasets.MNIST(root='./data', train=True, download=True, transform=transform)\n",
    "testset = datasets.MNIST(root='./data', train=False, download=True, transform=transform)\n",
    "\n",
    "# Data loaders\n",
    "train_loader = torch.utils.data.DataLoader(trainset, batch_size=batch_size, shuffle=True)\n",
    "test_loader = torch.utils.data.DataLoader(testset, batch_size=batch_size, shuffle=False)"
   ],
   "metadata": {
    "collapsed": false,
    "ExecuteTime": {
     "end_time": "2024-04-22T20:45:54.823801Z",
     "start_time": "2024-04-22T20:45:54.802344Z"
    }
   },
   "execution_count": 2
  },
  {
   "cell_type": "markdown",
   "source": [
    "### Model Setup"
   ],
   "metadata": {
    "collapsed": false
   }
  },
  {
   "cell_type": "code",
   "outputs": [
    {
     "name": "stdout",
     "output_type": "stream",
     "text": [
      "Using MPS\n"
     ]
    }
   ],
   "source": [
    "device = get_device()\n",
    "model = LeNet().to(device)\n",
    "optimizer = PSO(model.parameters(), inertial_weight=0.9, cognitive_coefficient=1.2, social_coefficient=1.1, num_particles=10, min_param_value=0., max_param_value=1.)"
   ],
   "metadata": {
    "collapsed": false,
    "ExecuteTime": {
     "end_time": "2024-04-22T20:45:55.043674Z",
     "start_time": "2024-04-22T20:45:54.824598Z"
    }
   },
   "execution_count": 3
  },
  {
   "cell_type": "markdown",
   "source": [
    "### Training"
   ],
   "metadata": {
    "collapsed": false
   }
  },
  {
   "cell_type": "code",
   "outputs": [
    {
     "name": "stderr",
     "output_type": "stream",
     "text": [
      "  0%|          | 0/50 [00:00<?, ?it/s]"
     ]
    },
    {
     "name": "stdout",
     "output_type": "stream",
     "text": [
      "Epoch 1, Train Loss: 7029817639.680, Train Accuracy: 12.30%\n"
     ]
    },
    {
     "name": "stderr",
     "output_type": "stream",
     "text": [
      "  2%|▏         | 1/50 [01:03<52:00, 63.68s/it]"
     ]
    },
    {
     "name": "stdout",
     "output_type": "stream",
     "text": [
      "Validation Loss: 734257385.172, Validation Accuracy: 12.22%\n",
      "Epoch 2, Train Loss: 6832945511.040, Train Accuracy: 12.01%\n"
     ]
    },
    {
     "name": "stderr",
     "output_type": "stream",
     "text": [
      "  4%|▍         | 2/50 [02:03<49:08, 61.43s/it]"
     ]
    },
    {
     "name": "stdout",
     "output_type": "stream",
     "text": [
      "Validation Loss: 734261069.045, Validation Accuracy: 12.23%\n",
      "Epoch 3, Train Loss: 6833440672.000, Train Accuracy: 12.01%\n"
     ]
    },
    {
     "name": "stderr",
     "output_type": "stream",
     "text": [
      "  6%|▌         | 3/50 [03:03<47:31, 60.66s/it]"
     ]
    },
    {
     "name": "stdout",
     "output_type": "stream",
     "text": [
      "Validation Loss: 734261069.045, Validation Accuracy: 12.23%\n",
      "Epoch 4, Train Loss: 6834701969.600, Train Accuracy: 12.01%\n"
     ]
    },
    {
     "name": "stderr",
     "output_type": "stream",
     "text": [
      "  8%|▊         | 4/50 [04:03<46:22, 60.50s/it]"
     ]
    },
    {
     "name": "stdout",
     "output_type": "stream",
     "text": [
      "Validation Loss: 734261069.045, Validation Accuracy: 12.23%\n",
      "Epoch 5, Train Loss: 6833759107.520, Train Accuracy: 12.01%\n"
     ]
    },
    {
     "name": "stderr",
     "output_type": "stream",
     "text": [
      " 10%|█         | 5/50 [05:03<45:07, 60.16s/it]"
     ]
    },
    {
     "name": "stdout",
     "output_type": "stream",
     "text": [
      "Validation Loss: 734261069.045, Validation Accuracy: 12.23%\n",
      "Epoch 6, Train Loss: 6833856986.240, Train Accuracy: 12.01%\n"
     ]
    },
    {
     "name": "stderr",
     "output_type": "stream",
     "text": [
      " 12%|█▏        | 6/50 [06:03<44:09, 60.22s/it]"
     ]
    },
    {
     "name": "stdout",
     "output_type": "stream",
     "text": [
      "Validation Loss: 734261069.045, Validation Accuracy: 12.23%\n",
      "Epoch 7, Train Loss: 6834354625.280, Train Accuracy: 12.01%\n"
     ]
    },
    {
     "name": "stderr",
     "output_type": "stream",
     "text": [
      " 14%|█▍        | 7/50 [07:04<43:28, 60.66s/it]"
     ]
    },
    {
     "name": "stdout",
     "output_type": "stream",
     "text": [
      "Validation Loss: 734261069.045, Validation Accuracy: 12.23%\n",
      "Epoch 8, Train Loss: 6833809083.840, Train Accuracy: 12.01%\n"
     ]
    },
    {
     "name": "stderr",
     "output_type": "stream",
     "text": [
      " 16%|█▌        | 8/50 [08:04<42:18, 60.44s/it]"
     ]
    },
    {
     "name": "stdout",
     "output_type": "stream",
     "text": [
      "Validation Loss: 734261069.045, Validation Accuracy: 12.23%\n",
      "Epoch 9, Train Loss: 6833646164.480, Train Accuracy: 12.01%\n"
     ]
    },
    {
     "name": "stderr",
     "output_type": "stream",
     "text": [
      " 18%|█▊        | 9/50 [09:04<41:04, 60.10s/it]"
     ]
    },
    {
     "name": "stdout",
     "output_type": "stream",
     "text": [
      "Validation Loss: 734261069.045, Validation Accuracy: 12.23%\n",
      "Epoch 10, Train Loss: 6833636856.320, Train Accuracy: 12.01%\n"
     ]
    },
    {
     "name": "stderr",
     "output_type": "stream",
     "text": [
      " 20%|██        | 10/50 [10:04<40:03, 60.08s/it]"
     ]
    },
    {
     "name": "stdout",
     "output_type": "stream",
     "text": [
      "Validation Loss: 734261069.045, Validation Accuracy: 12.23%\n",
      "Epoch 11, Train Loss: 6833808558.080, Train Accuracy: 12.01%\n"
     ]
    },
    {
     "name": "stderr",
     "output_type": "stream",
     "text": [
      " 22%|██▏       | 11/50 [11:04<39:05, 60.14s/it]"
     ]
    },
    {
     "name": "stdout",
     "output_type": "stream",
     "text": [
      "Validation Loss: 734261069.045, Validation Accuracy: 12.23%\n",
      "Epoch 12, Train Loss: 6833350022.080, Train Accuracy: 12.01%\n"
     ]
    },
    {
     "name": "stderr",
     "output_type": "stream",
     "text": [
      " 24%|██▍       | 12/50 [12:02<37:39, 59.47s/it]"
     ]
    },
    {
     "name": "stdout",
     "output_type": "stream",
     "text": [
      "Validation Loss: 734261069.045, Validation Accuracy: 12.23%\n",
      "Epoch 13, Train Loss: 6832588891.520, Train Accuracy: 12.01%\n"
     ]
    },
    {
     "name": "stderr",
     "output_type": "stream",
     "text": [
      " 26%|██▌       | 13/50 [13:00<36:17, 58.86s/it]"
     ]
    },
    {
     "name": "stdout",
     "output_type": "stream",
     "text": [
      "Validation Loss: 734261069.045, Validation Accuracy: 12.23%\n",
      "Epoch 14, Train Loss: 6833270834.560, Train Accuracy: 12.01%\n"
     ]
    },
    {
     "name": "stderr",
     "output_type": "stream",
     "text": [
      " 28%|██▊       | 14/50 [13:57<35:01, 58.38s/it]"
     ]
    },
    {
     "name": "stdout",
     "output_type": "stream",
     "text": [
      "Validation Loss: 734261069.045, Validation Accuracy: 12.23%\n",
      "Epoch 15, Train Loss: 6833719049.600, Train Accuracy: 12.01%\n"
     ]
    },
    {
     "name": "stderr",
     "output_type": "stream",
     "text": [
      " 30%|███       | 15/50 [14:54<33:50, 58.01s/it]"
     ]
    },
    {
     "name": "stdout",
     "output_type": "stream",
     "text": [
      "Validation Loss: 734261069.045, Validation Accuracy: 12.23%\n",
      "Epoch 16, Train Loss: 6832893004.800, Train Accuracy: 12.01%\n"
     ]
    },
    {
     "name": "stderr",
     "output_type": "stream",
     "text": [
      " 32%|███▏      | 16/50 [15:54<33:09, 58.50s/it]"
     ]
    },
    {
     "name": "stdout",
     "output_type": "stream",
     "text": [
      "Validation Loss: 734261069.045, Validation Accuracy: 12.23%\n",
      "Epoch 17, Train Loss: 6833198013.120, Train Accuracy: 12.01%\n"
     ]
    },
    {
     "name": "stderr",
     "output_type": "stream",
     "text": [
      " 34%|███▍      | 17/50 [16:56<32:47, 59.63s/it]"
     ]
    },
    {
     "name": "stdout",
     "output_type": "stream",
     "text": [
      "Validation Loss: 734261069.045, Validation Accuracy: 12.23%\n",
      "Epoch 18, Train Loss: 6833670729.600, Train Accuracy: 12.01%\n"
     ]
    },
    {
     "name": "stderr",
     "output_type": "stream",
     "text": [
      " 36%|███▌      | 18/50 [17:58<32:11, 60.36s/it]"
     ]
    },
    {
     "name": "stdout",
     "output_type": "stream",
     "text": [
      "Validation Loss: 734261069.045, Validation Accuracy: 12.23%\n",
      "Epoch 19, Train Loss: 6833182348.800, Train Accuracy: 12.01%\n"
     ]
    },
    {
     "name": "stderr",
     "output_type": "stream",
     "text": [
      " 38%|███▊      | 19/50 [19:00<31:27, 60.90s/it]"
     ]
    },
    {
     "name": "stdout",
     "output_type": "stream",
     "text": [
      "Validation Loss: 734261069.045, Validation Accuracy: 12.23%\n",
      "Epoch 20, Train Loss: 6834782823.680, Train Accuracy: 12.01%\n"
     ]
    },
    {
     "name": "stderr",
     "output_type": "stream",
     "text": [
      " 40%|████      | 20/50 [20:03<30:45, 61.50s/it]"
     ]
    },
    {
     "name": "stdout",
     "output_type": "stream",
     "text": [
      "Validation Loss: 734261069.045, Validation Accuracy: 12.23%\n",
      "Epoch 21, Train Loss: 6833861167.360, Train Accuracy: 12.01%\n"
     ]
    },
    {
     "name": "stderr",
     "output_type": "stream",
     "text": [
      " 42%|████▏     | 21/50 [21:07<30:02, 62.16s/it]"
     ]
    },
    {
     "name": "stdout",
     "output_type": "stream",
     "text": [
      "Validation Loss: 734261069.045, Validation Accuracy: 12.23%\n",
      "Epoch 22, Train Loss: 6831841560.000, Train Accuracy: 12.01%\n"
     ]
    },
    {
     "name": "stderr",
     "output_type": "stream",
     "text": [
      " 44%|████▍     | 22/50 [22:10<29:09, 62.49s/it]"
     ]
    },
    {
     "name": "stdout",
     "output_type": "stream",
     "text": [
      "Validation Loss: 734261069.045, Validation Accuracy: 12.23%\n",
      "Epoch 23, Train Loss: 6833818783.680, Train Accuracy: 12.01%\n"
     ]
    },
    {
     "name": "stderr",
     "output_type": "stream",
     "text": [
      " 46%|████▌     | 23/50 [23:13<28:08, 62.55s/it]"
     ]
    },
    {
     "name": "stdout",
     "output_type": "stream",
     "text": [
      "Validation Loss: 734261069.045, Validation Accuracy: 12.23%\n",
      "Epoch 24, Train Loss: 6832729560.320, Train Accuracy: 12.01%\n"
     ]
    },
    {
     "name": "stderr",
     "output_type": "stream",
     "text": [
      " 48%|████▊     | 24/50 [24:15<27:01, 62.36s/it]"
     ]
    },
    {
     "name": "stdout",
     "output_type": "stream",
     "text": [
      "Validation Loss: 734261069.045, Validation Accuracy: 12.23%\n",
      "Epoch 25, Train Loss: 6833306586.560, Train Accuracy: 12.01%\n"
     ]
    },
    {
     "name": "stderr",
     "output_type": "stream",
     "text": [
      " 50%|█████     | 25/50 [25:16<25:55, 62.22s/it]"
     ]
    },
    {
     "name": "stdout",
     "output_type": "stream",
     "text": [
      "Validation Loss: 734261069.045, Validation Accuracy: 12.23%\n",
      "Epoch 26, Train Loss: 6833627335.680, Train Accuracy: 12.01%\n"
     ]
    },
    {
     "name": "stderr",
     "output_type": "stream",
     "text": [
      " 52%|█████▏    | 26/50 [26:18<24:52, 62.17s/it]"
     ]
    },
    {
     "name": "stdout",
     "output_type": "stream",
     "text": [
      "Validation Loss: 734261069.045, Validation Accuracy: 12.23%\n",
      "Epoch 27, Train Loss: 6834089412.160, Train Accuracy: 12.01%\n"
     ]
    },
    {
     "name": "stderr",
     "output_type": "stream",
     "text": [
      " 54%|█████▍    | 27/50 [27:21<23:55, 62.41s/it]"
     ]
    },
    {
     "name": "stdout",
     "output_type": "stream",
     "text": [
      "Validation Loss: 734261069.045, Validation Accuracy: 12.23%\n",
      "Epoch 28, Train Loss: 6833444478.080, Train Accuracy: 12.01%\n"
     ]
    },
    {
     "name": "stderr",
     "output_type": "stream",
     "text": [
      " 56%|█████▌    | 28/50 [28:24<22:53, 62.42s/it]"
     ]
    },
    {
     "name": "stdout",
     "output_type": "stream",
     "text": [
      "Validation Loss: 734261069.045, Validation Accuracy: 12.23%\n",
      "Epoch 29, Train Loss: 6833446706.560, Train Accuracy: 12.01%\n"
     ]
    },
    {
     "name": "stderr",
     "output_type": "stream",
     "text": [
      " 58%|█████▊    | 29/50 [29:27<21:54, 62.59s/it]"
     ]
    },
    {
     "name": "stdout",
     "output_type": "stream",
     "text": [
      "Validation Loss: 734261069.045, Validation Accuracy: 12.23%\n",
      "Epoch 30, Train Loss: 6833398570.880, Train Accuracy: 12.01%\n"
     ]
    },
    {
     "name": "stderr",
     "output_type": "stream",
     "text": [
      " 60%|██████    | 30/50 [30:32<21:04, 63.23s/it]"
     ]
    },
    {
     "name": "stdout",
     "output_type": "stream",
     "text": [
      "Validation Loss: 734261069.045, Validation Accuracy: 12.23%\n",
      "Epoch 31, Train Loss: 6833658164.160, Train Accuracy: 12.01%\n"
     ]
    },
    {
     "name": "stderr",
     "output_type": "stream",
     "text": [
      " 62%|██████▏   | 31/50 [31:35<20:00, 63.20s/it]"
     ]
    },
    {
     "name": "stdout",
     "output_type": "stream",
     "text": [
      "Validation Loss: 734261069.045, Validation Accuracy: 12.23%\n",
      "Epoch 32, Train Loss: 6833069169.920, Train Accuracy: 12.01%\n"
     ]
    },
    {
     "name": "stderr",
     "output_type": "stream",
     "text": [
      " 64%|██████▍   | 32/50 [32:39<19:00, 63.39s/it]"
     ]
    },
    {
     "name": "stdout",
     "output_type": "stream",
     "text": [
      "Validation Loss: 734261069.045, Validation Accuracy: 12.23%\n",
      "Epoch 33, Train Loss: 6833552661.120, Train Accuracy: 12.01%\n"
     ]
    },
    {
     "name": "stderr",
     "output_type": "stream",
     "text": [
      " 66%|██████▌   | 33/50 [33:42<17:55, 63.29s/it]"
     ]
    },
    {
     "name": "stdout",
     "output_type": "stream",
     "text": [
      "Validation Loss: 734261069.045, Validation Accuracy: 12.23%\n",
      "Epoch 34, Train Loss: 6832742693.760, Train Accuracy: 12.01%\n"
     ]
    },
    {
     "name": "stderr",
     "output_type": "stream",
     "text": [
      " 68%|██████▊   | 34/50 [34:44<16:48, 63.03s/it]"
     ]
    },
    {
     "name": "stdout",
     "output_type": "stream",
     "text": [
      "Validation Loss: 734261069.045, Validation Accuracy: 12.23%\n",
      "Epoch 35, Train Loss: 6833763987.520, Train Accuracy: 12.01%\n"
     ]
    },
    {
     "name": "stderr",
     "output_type": "stream",
     "text": [
      " 70%|███████   | 35/50 [35:46<15:40, 62.67s/it]"
     ]
    },
    {
     "name": "stdout",
     "output_type": "stream",
     "text": [
      "Validation Loss: 734261069.045, Validation Accuracy: 12.23%\n",
      "Epoch 36, Train Loss: 6833354983.360, Train Accuracy: 12.01%\n"
     ]
    },
    {
     "name": "stderr",
     "output_type": "stream",
     "text": [
      " 72%|███████▏  | 36/50 [36:49<14:38, 62.72s/it]"
     ]
    },
    {
     "name": "stdout",
     "output_type": "stream",
     "text": [
      "Validation Loss: 734261069.045, Validation Accuracy: 12.23%\n",
      "Epoch 37, Train Loss: 6832975678.080, Train Accuracy: 12.01%\n"
     ]
    },
    {
     "name": "stderr",
     "output_type": "stream",
     "text": [
      " 74%|███████▍  | 37/50 [37:50<13:31, 62.41s/it]"
     ]
    },
    {
     "name": "stdout",
     "output_type": "stream",
     "text": [
      "Validation Loss: 734261069.045, Validation Accuracy: 12.23%\n",
      "Epoch 38, Train Loss: 6832593218.880, Train Accuracy: 12.01%\n"
     ]
    },
    {
     "name": "stderr",
     "output_type": "stream",
     "text": [
      " 76%|███████▌  | 38/50 [38:52<12:26, 62.21s/it]"
     ]
    },
    {
     "name": "stdout",
     "output_type": "stream",
     "text": [
      "Validation Loss: 734261069.045, Validation Accuracy: 12.23%\n",
      "Epoch 39, Train Loss: 6833340826.880, Train Accuracy: 12.01%\n"
     ]
    },
    {
     "name": "stderr",
     "output_type": "stream",
     "text": [
      " 78%|███████▊  | 39/50 [39:54<11:22, 62.08s/it]"
     ]
    },
    {
     "name": "stdout",
     "output_type": "stream",
     "text": [
      "Validation Loss: 734261069.045, Validation Accuracy: 12.23%\n",
      "Epoch 40, Train Loss: 6834172892.160, Train Accuracy: 12.01%\n"
     ]
    },
    {
     "name": "stderr",
     "output_type": "stream",
     "text": [
      " 80%|████████  | 40/50 [40:56<10:20, 62.08s/it]"
     ]
    },
    {
     "name": "stdout",
     "output_type": "stream",
     "text": [
      "Validation Loss: 734261069.045, Validation Accuracy: 12.23%\n",
      "Epoch 41, Train Loss: 6833984840.320, Train Accuracy: 12.01%\n"
     ]
    },
    {
     "name": "stderr",
     "output_type": "stream",
     "text": [
      " 82%|████████▏ | 41/50 [41:59<09:20, 62.29s/it]"
     ]
    },
    {
     "name": "stdout",
     "output_type": "stream",
     "text": [
      "Validation Loss: 734261069.045, Validation Accuracy: 12.23%\n",
      "Epoch 42, Train Loss: 6833811025.280, Train Accuracy: 12.01%\n"
     ]
    },
    {
     "name": "stderr",
     "output_type": "stream",
     "text": [
      " 84%|████████▍ | 42/50 [43:01<08:18, 62.37s/it]"
     ]
    },
    {
     "name": "stdout",
     "output_type": "stream",
     "text": [
      "Validation Loss: 734261069.045, Validation Accuracy: 12.23%\n",
      "Epoch 43, Train Loss: 6833680042.880, Train Accuracy: 12.01%\n"
     ]
    },
    {
     "name": "stderr",
     "output_type": "stream",
     "text": [
      " 86%|████████▌ | 43/50 [44:04<07:17, 62.50s/it]"
     ]
    },
    {
     "name": "stdout",
     "output_type": "stream",
     "text": [
      "Validation Loss: 734261069.045, Validation Accuracy: 12.23%\n",
      "Epoch 44, Train Loss: 6833519732.800, Train Accuracy: 12.01%\n"
     ]
    },
    {
     "name": "stderr",
     "output_type": "stream",
     "text": [
      " 88%|████████▊ | 44/50 [45:07<06:15, 62.60s/it]"
     ]
    },
    {
     "name": "stdout",
     "output_type": "stream",
     "text": [
      "Validation Loss: 734261069.045, Validation Accuracy: 12.23%\n",
      "Epoch 45, Train Loss: 6832996206.720, Train Accuracy: 12.01%\n"
     ]
    },
    {
     "name": "stderr",
     "output_type": "stream",
     "text": [
      " 90%|█████████ | 45/50 [46:10<05:13, 62.66s/it]"
     ]
    },
    {
     "name": "stdout",
     "output_type": "stream",
     "text": [
      "Validation Loss: 734261069.045, Validation Accuracy: 12.23%\n",
      "Epoch 46, Train Loss: 6833386403.840, Train Accuracy: 12.01%\n"
     ]
    },
    {
     "name": "stderr",
     "output_type": "stream",
     "text": [
      " 92%|█████████▏| 46/50 [47:13<04:10, 62.69s/it]"
     ]
    },
    {
     "name": "stdout",
     "output_type": "stream",
     "text": [
      "Validation Loss: 734261069.045, Validation Accuracy: 12.23%\n",
      "Epoch 47, Train Loss: 6834357182.720, Train Accuracy: 12.01%\n"
     ]
    },
    {
     "name": "stderr",
     "output_type": "stream",
     "text": [
      " 94%|█████████▍| 47/50 [48:15<03:08, 62.75s/it]"
     ]
    },
    {
     "name": "stdout",
     "output_type": "stream",
     "text": [
      "Validation Loss: 734261069.045, Validation Accuracy: 12.23%\n",
      "Epoch 48, Train Loss: 6833280442.880, Train Accuracy: 12.01%\n"
     ]
    },
    {
     "name": "stderr",
     "output_type": "stream",
     "text": [
      " 96%|█████████▌| 48/50 [49:18<02:05, 62.74s/it]"
     ]
    },
    {
     "name": "stdout",
     "output_type": "stream",
     "text": [
      "Validation Loss: 734261069.045, Validation Accuracy: 12.23%\n",
      "Epoch 49, Train Loss: 6833413325.120, Train Accuracy: 12.01%\n"
     ]
    },
    {
     "name": "stderr",
     "output_type": "stream",
     "text": [
      " 98%|█████████▊| 49/50 [50:20<01:02, 62.51s/it]"
     ]
    },
    {
     "name": "stdout",
     "output_type": "stream",
     "text": [
      "Validation Loss: 734261069.045, Validation Accuracy: 12.23%\n",
      "Epoch 50, Train Loss: 6832522717.120, Train Accuracy: 12.01%\n"
     ]
    },
    {
     "name": "stderr",
     "output_type": "stream",
     "text": [
      "100%|██████████| 50/50 [51:22<00:00, 61.65s/it]"
     ]
    },
    {
     "name": "stdout",
     "output_type": "stream",
     "text": [
      "Validation Loss: 734261069.045, Validation Accuracy: 12.23%\n",
      "Finished Training\n"
     ]
    },
    {
     "name": "stderr",
     "output_type": "stream",
     "text": [
      "\n"
     ]
    }
   ],
   "source": [
    "train(50, optimizer, model, device, train_loader, test_loader)"
   ],
   "metadata": {
    "collapsed": false,
    "ExecuteTime": {
     "end_time": "2024-04-22T21:37:17.723573Z",
     "start_time": "2024-04-22T20:45:55.044637Z"
    }
   },
   "execution_count": 4
  },
  {
   "cell_type": "code",
   "outputs": [],
   "source": [],
   "metadata": {
    "collapsed": false,
    "ExecuteTime": {
     "end_time": "2024-04-22T21:37:17.727615Z",
     "start_time": "2024-04-22T21:37:17.725838Z"
    }
   },
   "execution_count": 4
  }
 ],
 "metadata": {
  "language_info": {
   "name": "python"
  },
  "kernelspec": {
   "name": "python3",
   "language": "python",
   "display_name": "Python 3 (ipykernel)"
  }
 },
 "nbformat": 4,
 "nbformat_minor": 2
}
