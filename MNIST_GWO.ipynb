{
 "cells": [
  {
   "cell_type": "code",
   "execution_count": 1,
   "metadata": {},
   "outputs": [],
   "source": [
    "import torch\n",
    "from modelutils import *\n",
    "from torchvision import datasets, transforms\n",
    "from optimizers import PSO, GWO\n",
    "import torchsummary\n",
    "import matplotlib.pyplot as plt"
   ]
  },
  {
   "cell_type": "code",
   "execution_count": 2,
   "metadata": {},
   "outputs": [],
   "source": [
    "batch_size = 64\n",
    "\n",
    "# Transform to normalize the data\n",
    "transform = transforms.Compose([\n",
    "    transforms.Resize((32, 32)),  # Resize to fit LeNet architecture\n",
    "    transforms.ToTensor(),\n",
    "    transforms.Normalize((0.5,), (0.5,))\n",
    "])\n",
    "\n",
    "# Download and load the training and test datasets\n",
    "trainset = datasets.MNIST(root='./data/', train=True, download=True, transform=transform)\n",
    "testset = datasets.MNIST(root='./data/', train=False, download=True, transform=transform)\n",
    "\n",
    "# Data loaders\n",
    "train_loader = torch.utils.data.DataLoader(trainset, batch_size=batch_size, shuffle=True)\n",
    "test_loader = torch.utils.data.DataLoader(testset, batch_size=batch_size, shuffle=False) "
   ]
  },
  {
   "cell_type": "code",
   "execution_count": 3,
   "metadata": {},
   "outputs": [
    {
     "name": "stdout",
     "output_type": "stream",
     "text": [
      "Using CPU\n"
     ]
    }
   ],
   "source": [
    "hparams = {\n",
    "    \"epochs\": [50, 100],\n",
    "    \"particles\": [10, 20, 25, 50]\n",
    "}\n",
    "best_model = None\n",
    "best_acc = 0\n",
    "MODEL_PATH = \"./results/model_params/GWO/MNIST/\"\n",
    "CHART_PATH = \"./results/charts/GWO/MNIST/\"\n",
    "device = get_device()\n",
    "model = lenet_mnist().to(device)"
   ]
  },
  {
   "cell_type": "code",
   "execution_count": 4,
   "metadata": {},
   "outputs": [
    {
     "name": "stdout",
     "output_type": "stream",
     "text": [
      "Model 1 Epochs 50 Population 10\n"
     ]
    },
    {
     "name": "stderr",
     "output_type": "stream",
     "text": [
      "  0%|          | 0/50 [00:00<?, ?it/s]"
     ]
    },
    {
     "name": "stdout",
     "output_type": "stream",
     "text": [
      "Epoch 1, Train Loss: 21.600, Train Accuracy: 9.70%\n"
     ]
    },
    {
     "name": "stderr",
     "output_type": "stream",
     "text": [
      "  2%|▏         | 1/50 [01:05<53:25, 65.42s/it]"
     ]
    },
    {
     "name": "stdout",
     "output_type": "stream",
     "text": [
      "Validation Loss: 2.303, Validation Accuracy: 9.69%\n",
      "Epoch 2, Train Loss: 21.600, Train Accuracy: 9.70%\n"
     ]
    },
    {
     "name": "stderr",
     "output_type": "stream",
     "text": [
      "  4%|▍         | 2/50 [02:09<51:33, 64.44s/it]"
     ]
    },
    {
     "name": "stdout",
     "output_type": "stream",
     "text": [
      "Validation Loss: 2.303, Validation Accuracy: 9.69%\n",
      "Epoch 3, Train Loss: 21.600, Train Accuracy: 9.70%\n"
     ]
    },
    {
     "name": "stderr",
     "output_type": "stream",
     "text": [
      "  6%|▌         | 3/50 [03:14<50:55, 65.01s/it]"
     ]
    },
    {
     "name": "stdout",
     "output_type": "stream",
     "text": [
      "Validation Loss: 2.303, Validation Accuracy: 9.69%\n",
      "Epoch 4, Train Loss: 21.600, Train Accuracy: 9.70%\n"
     ]
    },
    {
     "name": "stderr",
     "output_type": "stream",
     "text": [
      "  8%|▊         | 4/50 [04:21<50:17, 65.60s/it]"
     ]
    },
    {
     "name": "stdout",
     "output_type": "stream",
     "text": [
      "Validation Loss: 2.303, Validation Accuracy: 9.69%\n",
      "Epoch 5, Train Loss: 21.600, Train Accuracy: 9.70%\n"
     ]
    },
    {
     "name": "stderr",
     "output_type": "stream",
     "text": [
      " 10%|█         | 5/50 [05:22<47:53, 63.85s/it]"
     ]
    },
    {
     "name": "stdout",
     "output_type": "stream",
     "text": [
      "Validation Loss: 2.303, Validation Accuracy: 9.69%\n",
      "Epoch 6, Train Loss: 21.600, Train Accuracy: 9.70%\n"
     ]
    },
    {
     "name": "stderr",
     "output_type": "stream",
     "text": [
      " 12%|█▏        | 6/50 [06:23<46:09, 62.95s/it]"
     ]
    },
    {
     "name": "stdout",
     "output_type": "stream",
     "text": [
      "Validation Loss: 2.303, Validation Accuracy: 9.69%\n",
      "Epoch 7, Train Loss: 21.600, Train Accuracy: 9.70%\n"
     ]
    },
    {
     "name": "stderr",
     "output_type": "stream",
     "text": [
      " 14%|█▍        | 7/50 [07:26<45:12, 63.07s/it]"
     ]
    },
    {
     "name": "stdout",
     "output_type": "stream",
     "text": [
      "Validation Loss: 2.303, Validation Accuracy: 9.69%\n",
      "Epoch 8, Train Loss: 21.600, Train Accuracy: 9.70%\n"
     ]
    },
    {
     "name": "stderr",
     "output_type": "stream",
     "text": [
      " 16%|█▌        | 8/50 [08:32<44:48, 64.02s/it]"
     ]
    },
    {
     "name": "stdout",
     "output_type": "stream",
     "text": [
      "Validation Loss: 2.303, Validation Accuracy: 9.69%\n",
      "Epoch 9, Train Loss: 21.600, Train Accuracy: 9.70%\n"
     ]
    },
    {
     "name": "stderr",
     "output_type": "stream",
     "text": [
      " 18%|█▊        | 9/50 [09:36<43:36, 63.81s/it]"
     ]
    },
    {
     "name": "stdout",
     "output_type": "stream",
     "text": [
      "Validation Loss: 2.303, Validation Accuracy: 9.69%\n",
      "Epoch 10, Train Loss: 21.600, Train Accuracy: 9.70%\n"
     ]
    },
    {
     "name": "stderr",
     "output_type": "stream",
     "text": [
      " 20%|██        | 10/50 [10:37<42:06, 63.17s/it]"
     ]
    },
    {
     "name": "stdout",
     "output_type": "stream",
     "text": [
      "Validation Loss: 2.303, Validation Accuracy: 9.69%\n",
      "Epoch 11, Train Loss: 21.600, Train Accuracy: 9.70%\n"
     ]
    },
    {
     "name": "stderr",
     "output_type": "stream",
     "text": [
      " 22%|██▏       | 11/50 [11:39<40:42, 62.62s/it]"
     ]
    },
    {
     "name": "stdout",
     "output_type": "stream",
     "text": [
      "Validation Loss: 2.303, Validation Accuracy: 9.69%\n",
      "Epoch 12, Train Loss: 21.600, Train Accuracy: 9.70%\n"
     ]
    },
    {
     "name": "stderr",
     "output_type": "stream",
     "text": [
      " 24%|██▍       | 12/50 [12:35<38:31, 60.83s/it]"
     ]
    },
    {
     "name": "stdout",
     "output_type": "stream",
     "text": [
      "Validation Loss: 2.303, Validation Accuracy: 9.69%\n",
      "Epoch 13, Train Loss: 21.600, Train Accuracy: 9.70%\n"
     ]
    },
    {
     "name": "stderr",
     "output_type": "stream",
     "text": [
      " 26%|██▌       | 13/50 [13:39<38:07, 61.83s/it]"
     ]
    },
    {
     "name": "stdout",
     "output_type": "stream",
     "text": [
      "Validation Loss: 2.303, Validation Accuracy: 9.69%\n",
      "Epoch 14, Train Loss: 21.600, Train Accuracy: 9.70%\n"
     ]
    },
    {
     "name": "stderr",
     "output_type": "stream",
     "text": [
      " 28%|██▊       | 14/50 [14:44<37:35, 62.65s/it]"
     ]
    },
    {
     "name": "stdout",
     "output_type": "stream",
     "text": [
      "Validation Loss: 2.303, Validation Accuracy: 9.69%\n",
      "Epoch 15, Train Loss: 21.600, Train Accuracy: 9.70%\n"
     ]
    },
    {
     "name": "stderr",
     "output_type": "stream",
     "text": [
      " 30%|███       | 15/50 [15:50<37:12, 63.78s/it]"
     ]
    },
    {
     "name": "stdout",
     "output_type": "stream",
     "text": [
      "Validation Loss: 2.303, Validation Accuracy: 9.69%\n",
      "Epoch 16, Train Loss: 21.600, Train Accuracy: 9.70%\n"
     ]
    },
    {
     "name": "stderr",
     "output_type": "stream",
     "text": [
      " 32%|███▏      | 16/50 [16:53<35:53, 63.33s/it]"
     ]
    },
    {
     "name": "stdout",
     "output_type": "stream",
     "text": [
      "Validation Loss: 2.303, Validation Accuracy: 9.69%\n",
      "Epoch 17, Train Loss: 21.600, Train Accuracy: 9.70%\n"
     ]
    },
    {
     "name": "stderr",
     "output_type": "stream",
     "text": [
      " 34%|███▍      | 17/50 [17:57<34:58, 63.60s/it]"
     ]
    },
    {
     "name": "stdout",
     "output_type": "stream",
     "text": [
      "Validation Loss: 2.303, Validation Accuracy: 9.69%\n",
      "Epoch 18, Train Loss: 21.600, Train Accuracy: 9.70%\n"
     ]
    },
    {
     "name": "stderr",
     "output_type": "stream",
     "text": [
      " 36%|███▌      | 18/50 [19:04<34:26, 64.59s/it]"
     ]
    },
    {
     "name": "stdout",
     "output_type": "stream",
     "text": [
      "Validation Loss: 2.303, Validation Accuracy: 9.69%\n",
      "Epoch 19, Train Loss: 21.600, Train Accuracy: 9.70%\n"
     ]
    },
    {
     "name": "stderr",
     "output_type": "stream",
     "text": [
      " 38%|███▊      | 19/50 [20:13<34:09, 66.10s/it]"
     ]
    },
    {
     "name": "stdout",
     "output_type": "stream",
     "text": [
      "Validation Loss: 2.303, Validation Accuracy: 9.69%\n",
      "Epoch 20, Train Loss: 21.600, Train Accuracy: 9.70%\n"
     ]
    },
    {
     "name": "stderr",
     "output_type": "stream",
     "text": [
      " 40%|████      | 20/50 [21:21<33:13, 66.47s/it]"
     ]
    },
    {
     "name": "stdout",
     "output_type": "stream",
     "text": [
      "Validation Loss: 2.303, Validation Accuracy: 9.69%\n",
      "Epoch 21, Train Loss: 21.600, Train Accuracy: 9.70%\n"
     ]
    },
    {
     "name": "stderr",
     "output_type": "stream",
     "text": [
      " 42%|████▏     | 21/50 [22:26<31:55, 66.05s/it]"
     ]
    },
    {
     "name": "stdout",
     "output_type": "stream",
     "text": [
      "Validation Loss: 2.303, Validation Accuracy: 9.69%\n",
      "Epoch 22, Train Loss: 21.600, Train Accuracy: 9.70%\n"
     ]
    },
    {
     "name": "stderr",
     "output_type": "stream",
     "text": [
      " 44%|████▍     | 22/50 [23:45<32:38, 69.94s/it]"
     ]
    },
    {
     "name": "stdout",
     "output_type": "stream",
     "text": [
      "Validation Loss: 2.303, Validation Accuracy: 9.69%\n",
      "Epoch 23, Train Loss: 21.600, Train Accuracy: 9.70%\n"
     ]
    },
    {
     "name": "stderr",
     "output_type": "stream",
     "text": [
      " 46%|████▌     | 23/50 [25:24<35:28, 78.84s/it]"
     ]
    },
    {
     "name": "stdout",
     "output_type": "stream",
     "text": [
      "Validation Loss: 2.303, Validation Accuracy: 9.69%\n",
      "Epoch 24, Train Loss: 21.600, Train Accuracy: 9.70%\n"
     ]
    },
    {
     "name": "stderr",
     "output_type": "stream",
     "text": [
      " 48%|████▊     | 24/50 [26:41<33:54, 78.27s/it]"
     ]
    },
    {
     "name": "stdout",
     "output_type": "stream",
     "text": [
      "Validation Loss: 2.303, Validation Accuracy: 9.69%\n",
      "Epoch 25, Train Loss: 21.600, Train Accuracy: 9.70%\n"
     ]
    },
    {
     "name": "stderr",
     "output_type": "stream",
     "text": [
      " 50%|█████     | 25/50 [27:51<31:29, 75.59s/it]"
     ]
    },
    {
     "name": "stdout",
     "output_type": "stream",
     "text": [
      "Validation Loss: 2.303, Validation Accuracy: 9.69%\n",
      "Epoch 26, Train Loss: 21.600, Train Accuracy: 9.70%\n"
     ]
    },
    {
     "name": "stderr",
     "output_type": "stream",
     "text": [
      " 52%|█████▏    | 26/50 [29:02<29:40, 74.19s/it]"
     ]
    },
    {
     "name": "stdout",
     "output_type": "stream",
     "text": [
      "Validation Loss: 2.303, Validation Accuracy: 9.69%\n",
      "Epoch 27, Train Loss: 21.600, Train Accuracy: 9.70%\n"
     ]
    },
    {
     "name": "stderr",
     "output_type": "stream",
     "text": [
      " 54%|█████▍    | 27/50 [30:05<27:09, 70.86s/it]"
     ]
    },
    {
     "name": "stdout",
     "output_type": "stream",
     "text": [
      "Validation Loss: 2.303, Validation Accuracy: 9.69%\n",
      "Epoch 28, Train Loss: 21.600, Train Accuracy: 9.70%\n"
     ]
    },
    {
     "name": "stderr",
     "output_type": "stream",
     "text": [
      " 56%|█████▌    | 28/50 [30:53<23:30, 64.11s/it]"
     ]
    },
    {
     "name": "stdout",
     "output_type": "stream",
     "text": [
      "Validation Loss: 2.303, Validation Accuracy: 9.69%\n",
      "Epoch 29, Train Loss: 21.600, Train Accuracy: 9.70%\n"
     ]
    },
    {
     "name": "stderr",
     "output_type": "stream",
     "text": [
      " 58%|█████▊    | 29/50 [31:33<19:51, 56.74s/it]"
     ]
    },
    {
     "name": "stdout",
     "output_type": "stream",
     "text": [
      "Validation Loss: 2.303, Validation Accuracy: 9.69%\n",
      "Epoch 30, Train Loss: 21.600, Train Accuracy: 9.70%\n"
     ]
    },
    {
     "name": "stderr",
     "output_type": "stream",
     "text": [
      " 60%|██████    | 30/50 [32:27<18:42, 56.11s/it]"
     ]
    },
    {
     "name": "stdout",
     "output_type": "stream",
     "text": [
      "Validation Loss: 2.303, Validation Accuracy: 9.69%\n",
      "Epoch 31, Train Loss: 21.600, Train Accuracy: 9.70%\n"
     ]
    },
    {
     "name": "stderr",
     "output_type": "stream",
     "text": [
      " 62%|██████▏   | 31/50 [33:32<18:37, 58.81s/it]"
     ]
    },
    {
     "name": "stdout",
     "output_type": "stream",
     "text": [
      "Validation Loss: 2.303, Validation Accuracy: 9.69%\n",
      "Epoch 32, Train Loss: 21.600, Train Accuracy: 9.70%\n"
     ]
    },
    {
     "name": "stderr",
     "output_type": "stream",
     "text": [
      " 64%|██████▍   | 32/50 [34:36<18:05, 60.30s/it]"
     ]
    },
    {
     "name": "stdout",
     "output_type": "stream",
     "text": [
      "Validation Loss: 2.303, Validation Accuracy: 9.69%\n",
      "Epoch 33, Train Loss: 21.600, Train Accuracy: 9.70%\n"
     ]
    },
    {
     "name": "stderr",
     "output_type": "stream",
     "text": [
      " 66%|██████▌   | 33/50 [35:41<17:30, 61.79s/it]"
     ]
    },
    {
     "name": "stdout",
     "output_type": "stream",
     "text": [
      "Validation Loss: 2.303, Validation Accuracy: 9.69%\n",
      "Epoch 34, Train Loss: 21.600, Train Accuracy: 9.70%\n"
     ]
    },
    {
     "name": "stderr",
     "output_type": "stream",
     "text": [
      " 68%|██████▊   | 34/50 [36:46<16:40, 62.52s/it]"
     ]
    },
    {
     "name": "stdout",
     "output_type": "stream",
     "text": [
      "Validation Loss: 2.303, Validation Accuracy: 9.69%\n",
      "Epoch 35, Train Loss: 21.600, Train Accuracy: 9.70%\n"
     ]
    },
    {
     "name": "stderr",
     "output_type": "stream",
     "text": [
      " 70%|███████   | 35/50 [37:51<15:49, 63.28s/it]"
     ]
    },
    {
     "name": "stdout",
     "output_type": "stream",
     "text": [
      "Validation Loss: 2.303, Validation Accuracy: 9.69%\n",
      "Epoch 36, Train Loss: 21.600, Train Accuracy: 9.70%\n"
     ]
    },
    {
     "name": "stderr",
     "output_type": "stream",
     "text": [
      " 72%|███████▏  | 36/50 [38:53<14:40, 62.92s/it]"
     ]
    },
    {
     "name": "stdout",
     "output_type": "stream",
     "text": [
      "Validation Loss: 2.303, Validation Accuracy: 9.69%\n",
      "Epoch 37, Train Loss: 21.600, Train Accuracy: 9.70%\n"
     ]
    },
    {
     "name": "stderr",
     "output_type": "stream",
     "text": [
      " 74%|███████▍  | 37/50 [39:59<13:49, 63.78s/it]"
     ]
    },
    {
     "name": "stdout",
     "output_type": "stream",
     "text": [
      "Validation Loss: 2.303, Validation Accuracy: 9.69%\n",
      "Epoch 38, Train Loss: 21.600, Train Accuracy: 9.70%\n"
     ]
    },
    {
     "name": "stderr",
     "output_type": "stream",
     "text": [
      " 76%|███████▌  | 38/50 [41:20<13:47, 68.96s/it]"
     ]
    },
    {
     "name": "stdout",
     "output_type": "stream",
     "text": [
      "Validation Loss: 2.303, Validation Accuracy: 9.69%\n",
      "Epoch 39, Train Loss: 21.600, Train Accuracy: 9.70%\n"
     ]
    },
    {
     "name": "stderr",
     "output_type": "stream",
     "text": [
      " 78%|███████▊  | 39/50 [42:42<13:21, 72.88s/it]"
     ]
    },
    {
     "name": "stdout",
     "output_type": "stream",
     "text": [
      "Validation Loss: 2.303, Validation Accuracy: 9.69%\n",
      "Epoch 40, Train Loss: 21.600, Train Accuracy: 9.70%\n"
     ]
    },
    {
     "name": "stderr",
     "output_type": "stream",
     "text": [
      " 80%|████████  | 40/50 [44:01<12:27, 74.76s/it]"
     ]
    },
    {
     "name": "stdout",
     "output_type": "stream",
     "text": [
      "Validation Loss: 2.303, Validation Accuracy: 9.69%\n",
      "Epoch 41, Train Loss: 21.600, Train Accuracy: 9.70%\n"
     ]
    },
    {
     "name": "stderr",
     "output_type": "stream",
     "text": [
      " 82%|████████▏ | 41/50 [45:17<11:16, 75.21s/it]"
     ]
    },
    {
     "name": "stdout",
     "output_type": "stream",
     "text": [
      "Validation Loss: 2.303, Validation Accuracy: 9.69%\n",
      "Epoch 42, Train Loss: 21.600, Train Accuracy: 9.70%\n"
     ]
    },
    {
     "name": "stderr",
     "output_type": "stream",
     "text": [
      " 84%|████████▍ | 42/50 [46:30<09:55, 74.46s/it]"
     ]
    },
    {
     "name": "stdout",
     "output_type": "stream",
     "text": [
      "Validation Loss: 2.303, Validation Accuracy: 9.69%\n",
      "Epoch 43, Train Loss: 21.600, Train Accuracy: 9.70%\n"
     ]
    },
    {
     "name": "stderr",
     "output_type": "stream",
     "text": [
      " 86%|████████▌ | 43/50 [47:50<08:54, 76.33s/it]"
     ]
    },
    {
     "name": "stdout",
     "output_type": "stream",
     "text": [
      "Validation Loss: 2.303, Validation Accuracy: 9.69%\n",
      "Epoch 44, Train Loss: 21.600, Train Accuracy: 9.70%\n"
     ]
    },
    {
     "name": "stderr",
     "output_type": "stream",
     "text": [
      " 88%|████████▊ | 44/50 [49:07<07:37, 76.24s/it]"
     ]
    },
    {
     "name": "stdout",
     "output_type": "stream",
     "text": [
      "Validation Loss: 2.303, Validation Accuracy: 9.69%\n",
      "Epoch 45, Train Loss: 21.600, Train Accuracy: 9.70%\n"
     ]
    },
    {
     "name": "stderr",
     "output_type": "stream",
     "text": [
      " 90%|█████████ | 45/50 [50:07<05:57, 71.57s/it]"
     ]
    },
    {
     "name": "stdout",
     "output_type": "stream",
     "text": [
      "Validation Loss: 2.303, Validation Accuracy: 9.69%\n",
      "Epoch 46, Train Loss: 21.600, Train Accuracy: 9.70%\n"
     ]
    },
    {
     "name": "stderr",
     "output_type": "stream",
     "text": [
      " 92%|█████████▏| 46/50 [51:07<04:32, 68.17s/it]"
     ]
    },
    {
     "name": "stdout",
     "output_type": "stream",
     "text": [
      "Validation Loss: 2.303, Validation Accuracy: 9.69%\n",
      "Epoch 47, Train Loss: 21.600, Train Accuracy: 9.70%\n"
     ]
    },
    {
     "name": "stderr",
     "output_type": "stream",
     "text": [
      " 94%|█████████▍| 47/50 [52:21<03:29, 69.74s/it]"
     ]
    },
    {
     "name": "stdout",
     "output_type": "stream",
     "text": [
      "Validation Loss: 2.303, Validation Accuracy: 9.69%\n",
      "Epoch 48, Train Loss: 21.600, Train Accuracy: 9.70%\n"
     ]
    },
    {
     "name": "stderr",
     "output_type": "stream",
     "text": [
      " 96%|█████████▌| 48/50 [53:40<02:25, 72.62s/it]"
     ]
    },
    {
     "name": "stdout",
     "output_type": "stream",
     "text": [
      "Validation Loss: 2.303, Validation Accuracy: 9.69%\n",
      "Epoch 49, Train Loss: 21.600, Train Accuracy: 9.70%\n"
     ]
    },
    {
     "name": "stderr",
     "output_type": "stream",
     "text": [
      " 98%|█████████▊| 49/50 [55:16<01:19, 79.54s/it]"
     ]
    },
    {
     "name": "stdout",
     "output_type": "stream",
     "text": [
      "Validation Loss: 2.303, Validation Accuracy: 9.69%\n",
      "Epoch 50, Train Loss: 21.600, Train Accuracy: 9.70%\n"
     ]
    },
    {
     "name": "stderr",
     "output_type": "stream",
     "text": [
      "100%|██████████| 50/50 [56:45<00:00, 68.12s/it]"
     ]
    },
    {
     "name": "stdout",
     "output_type": "stream",
     "text": [
      "Validation Loss: 2.303, Validation Accuracy: 9.69%\n",
      "Finished Training\n"
     ]
    },
    {
     "name": "stderr",
     "output_type": "stream",
     "text": [
      "\n"
     ]
    },
    {
     "name": "stdout",
     "output_type": "stream",
     "text": [
      "Model 2 Epochs 50 Population 20\n"
     ]
    },
    {
     "name": "stderr",
     "output_type": "stream",
     "text": [
      "  0%|          | 0/50 [00:00<?, ?it/s]"
     ]
    },
    {
     "name": "stdout",
     "output_type": "stream",
     "text": [
      "Epoch 1, Train Loss: 21.600, Train Accuracy: 9.70%\n"
     ]
    },
    {
     "name": "stderr",
     "output_type": "stream",
     "text": [
      "  2%|▏         | 1/50 [01:31<1:14:36, 91.35s/it]"
     ]
    },
    {
     "name": "stdout",
     "output_type": "stream",
     "text": [
      "Validation Loss: 2.303, Validation Accuracy: 9.69%\n",
      "Epoch 2, Train Loss: 21.600, Train Accuracy: 9.70%\n"
     ]
    },
    {
     "name": "stderr",
     "output_type": "stream",
     "text": [
      "  4%|▍         | 2/50 [02:58<1:10:55, 88.66s/it]"
     ]
    },
    {
     "name": "stdout",
     "output_type": "stream",
     "text": [
      "Validation Loss: 2.303, Validation Accuracy: 9.69%\n",
      "Epoch 3, Train Loss: 21.600, Train Accuracy: 9.70%\n"
     ]
    },
    {
     "name": "stderr",
     "output_type": "stream",
     "text": [
      "  6%|▌         | 3/50 [04:29<1:10:33, 90.07s/it]"
     ]
    },
    {
     "name": "stdout",
     "output_type": "stream",
     "text": [
      "Validation Loss: 2.303, Validation Accuracy: 9.69%\n",
      "Epoch 4, Train Loss: 21.600, Train Accuracy: 9.70%\n"
     ]
    },
    {
     "name": "stderr",
     "output_type": "stream",
     "text": [
      "  8%|▊         | 4/50 [06:05<1:10:37, 92.13s/it]"
     ]
    },
    {
     "name": "stdout",
     "output_type": "stream",
     "text": [
      "Validation Loss: 2.303, Validation Accuracy: 9.69%\n",
      "Epoch 5, Train Loss: 21.600, Train Accuracy: 9.70%\n"
     ]
    },
    {
     "name": "stderr",
     "output_type": "stream",
     "text": [
      " 10%|█         | 5/50 [07:23<1:05:17, 87.06s/it]"
     ]
    },
    {
     "name": "stdout",
     "output_type": "stream",
     "text": [
      "Validation Loss: 2.303, Validation Accuracy: 9.69%\n",
      "Epoch 6, Train Loss: 21.600, Train Accuracy: 9.70%\n"
     ]
    },
    {
     "name": "stderr",
     "output_type": "stream",
     "text": [
      " 12%|█▏        | 6/50 [08:58<1:05:54, 89.87s/it]"
     ]
    },
    {
     "name": "stdout",
     "output_type": "stream",
     "text": [
      "Validation Loss: 2.303, Validation Accuracy: 9.69%\n",
      "Epoch 7, Train Loss: 21.600, Train Accuracy: 9.70%\n"
     ]
    },
    {
     "name": "stderr",
     "output_type": "stream",
     "text": [
      " 14%|█▍        | 7/50 [10:28<1:04:25, 89.90s/it]"
     ]
    },
    {
     "name": "stdout",
     "output_type": "stream",
     "text": [
      "Validation Loss: 2.303, Validation Accuracy: 9.69%\n",
      "Epoch 8, Train Loss: 21.600, Train Accuracy: 9.70%\n"
     ]
    },
    {
     "name": "stderr",
     "output_type": "stream",
     "text": [
      " 16%|█▌        | 8/50 [11:49<1:00:53, 87.00s/it]"
     ]
    },
    {
     "name": "stdout",
     "output_type": "stream",
     "text": [
      "Validation Loss: 2.303, Validation Accuracy: 9.69%\n",
      "Epoch 9, Train Loss: 21.600, Train Accuracy: 9.70%\n"
     ]
    },
    {
     "name": "stderr",
     "output_type": "stream",
     "text": [
      " 18%|█▊        | 9/50 [13:03<56:46, 83.09s/it]  "
     ]
    },
    {
     "name": "stdout",
     "output_type": "stream",
     "text": [
      "Validation Loss: 2.303, Validation Accuracy: 9.69%\n",
      "Epoch 10, Train Loss: 21.600, Train Accuracy: 9.70%\n"
     ]
    },
    {
     "name": "stderr",
     "output_type": "stream",
     "text": [
      " 20%|██        | 10/50 [14:35<57:07, 85.69s/it]"
     ]
    },
    {
     "name": "stdout",
     "output_type": "stream",
     "text": [
      "Validation Loss: 2.303, Validation Accuracy: 9.69%\n",
      "Epoch 11, Train Loss: 21.600, Train Accuracy: 9.70%\n"
     ]
    },
    {
     "name": "stderr",
     "output_type": "stream",
     "text": [
      " 22%|██▏       | 11/50 [16:03<56:13, 86.49s/it]"
     ]
    },
    {
     "name": "stdout",
     "output_type": "stream",
     "text": [
      "Validation Loss: 2.303, Validation Accuracy: 9.69%\n",
      "Epoch 12, Train Loss: 21.600, Train Accuracy: 9.70%\n"
     ]
    },
    {
     "name": "stderr",
     "output_type": "stream",
     "text": [
      " 24%|██▍       | 12/50 [17:39<56:38, 89.44s/it]"
     ]
    },
    {
     "name": "stdout",
     "output_type": "stream",
     "text": [
      "Validation Loss: 2.303, Validation Accuracy: 9.69%\n",
      "Epoch 13, Train Loss: 21.600, Train Accuracy: 9.70%\n"
     ]
    },
    {
     "name": "stderr",
     "output_type": "stream",
     "text": [
      " 26%|██▌       | 13/50 [19:15<56:15, 91.22s/it]"
     ]
    },
    {
     "name": "stdout",
     "output_type": "stream",
     "text": [
      "Validation Loss: 2.303, Validation Accuracy: 9.69%\n",
      "Epoch 14, Train Loss: 21.600, Train Accuracy: 9.70%\n"
     ]
    },
    {
     "name": "stderr",
     "output_type": "stream",
     "text": [
      " 28%|██▊       | 14/50 [20:39<53:25, 89.03s/it]"
     ]
    },
    {
     "name": "stdout",
     "output_type": "stream",
     "text": [
      "Validation Loss: 2.303, Validation Accuracy: 9.69%\n",
      "Epoch 15, Train Loss: 21.600, Train Accuracy: 9.70%\n"
     ]
    },
    {
     "name": "stderr",
     "output_type": "stream",
     "text": [
      " 30%|███       | 15/50 [21:56<49:56, 85.61s/it]"
     ]
    },
    {
     "name": "stdout",
     "output_type": "stream",
     "text": [
      "Validation Loss: 2.303, Validation Accuracy: 9.69%\n",
      "Epoch 16, Train Loss: 21.600, Train Accuracy: 9.70%\n"
     ]
    },
    {
     "name": "stderr",
     "output_type": "stream",
     "text": [
      " 32%|███▏      | 16/50 [23:36<50:53, 89.80s/it]"
     ]
    },
    {
     "name": "stdout",
     "output_type": "stream",
     "text": [
      "Validation Loss: 2.303, Validation Accuracy: 9.69%\n",
      "Epoch 17, Train Loss: 21.600, Train Accuracy: 9.70%\n"
     ]
    },
    {
     "name": "stderr",
     "output_type": "stream",
     "text": [
      " 34%|███▍      | 17/50 [25:02<48:45, 88.65s/it]"
     ]
    },
    {
     "name": "stdout",
     "output_type": "stream",
     "text": [
      "Validation Loss: 2.303, Validation Accuracy: 9.69%\n",
      "Epoch 18, Train Loss: 21.600, Train Accuracy: 9.70%\n"
     ]
    },
    {
     "name": "stderr",
     "output_type": "stream",
     "text": [
      " 36%|███▌      | 18/50 [26:29<47:07, 88.36s/it]"
     ]
    },
    {
     "name": "stdout",
     "output_type": "stream",
     "text": [
      "Validation Loss: 2.303, Validation Accuracy: 9.69%\n",
      "Epoch 19, Train Loss: 21.600, Train Accuracy: 9.70%\n"
     ]
    },
    {
     "name": "stderr",
     "output_type": "stream",
     "text": [
      " 38%|███▊      | 19/50 [27:53<44:52, 86.86s/it]"
     ]
    },
    {
     "name": "stdout",
     "output_type": "stream",
     "text": [
      "Validation Loss: 2.303, Validation Accuracy: 9.69%\n",
      "Epoch 20, Train Loss: 21.600, Train Accuracy: 9.70%\n"
     ]
    },
    {
     "name": "stderr",
     "output_type": "stream",
     "text": [
      " 40%|████      | 20/50 [29:14<42:39, 85.30s/it]"
     ]
    },
    {
     "name": "stdout",
     "output_type": "stream",
     "text": [
      "Validation Loss: 2.303, Validation Accuracy: 9.69%\n",
      "Epoch 21, Train Loss: 21.600, Train Accuracy: 9.70%\n"
     ]
    },
    {
     "name": "stderr",
     "output_type": "stream",
     "text": [
      " 42%|████▏     | 21/50 [30:24<38:57, 80.59s/it]"
     ]
    },
    {
     "name": "stdout",
     "output_type": "stream",
     "text": [
      "Validation Loss: 2.303, Validation Accuracy: 9.69%\n",
      "Epoch 22, Train Loss: 21.600, Train Accuracy: 9.70%\n"
     ]
    },
    {
     "name": "stderr",
     "output_type": "stream",
     "text": [
      " 44%|████▍     | 22/50 [31:33<35:54, 76.94s/it]"
     ]
    },
    {
     "name": "stdout",
     "output_type": "stream",
     "text": [
      "Validation Loss: 2.303, Validation Accuracy: 9.69%\n",
      "Epoch 23, Train Loss: 21.600, Train Accuracy: 9.70%\n"
     ]
    },
    {
     "name": "stderr",
     "output_type": "stream",
     "text": [
      " 46%|████▌     | 23/50 [32:42<33:40, 74.82s/it]"
     ]
    },
    {
     "name": "stdout",
     "output_type": "stream",
     "text": [
      "Validation Loss: 2.303, Validation Accuracy: 9.69%\n",
      "Epoch 24, Train Loss: 21.600, Train Accuracy: 9.70%\n"
     ]
    },
    {
     "name": "stderr",
     "output_type": "stream",
     "text": [
      " 48%|████▊     | 24/50 [33:51<31:34, 72.85s/it]"
     ]
    },
    {
     "name": "stdout",
     "output_type": "stream",
     "text": [
      "Validation Loss: 2.303, Validation Accuracy: 9.69%\n",
      "Epoch 25, Train Loss: 21.600, Train Accuracy: 9.70%\n"
     ]
    },
    {
     "name": "stderr",
     "output_type": "stream",
     "text": [
      " 50%|█████     | 25/50 [35:00<29:55, 71.83s/it]"
     ]
    },
    {
     "name": "stdout",
     "output_type": "stream",
     "text": [
      "Validation Loss: 2.303, Validation Accuracy: 9.69%\n",
      "Epoch 26, Train Loss: 21.600, Train Accuracy: 9.70%\n"
     ]
    },
    {
     "name": "stderr",
     "output_type": "stream",
     "text": [
      " 52%|█████▏    | 26/50 [36:24<30:13, 75.55s/it]"
     ]
    },
    {
     "name": "stdout",
     "output_type": "stream",
     "text": [
      "Validation Loss: 2.303, Validation Accuracy: 9.69%\n",
      "Epoch 27, Train Loss: 21.600, Train Accuracy: 9.70%\n"
     ]
    },
    {
     "name": "stderr",
     "output_type": "stream",
     "text": [
      " 54%|█████▍    | 27/50 [37:39<28:51, 75.28s/it]"
     ]
    },
    {
     "name": "stdout",
     "output_type": "stream",
     "text": [
      "Validation Loss: 2.303, Validation Accuracy: 9.69%\n",
      "Epoch 28, Train Loss: 21.600, Train Accuracy: 9.70%\n"
     ]
    },
    {
     "name": "stderr",
     "output_type": "stream",
     "text": [
      " 56%|█████▌    | 28/50 [38:47<26:48, 73.12s/it]"
     ]
    },
    {
     "name": "stdout",
     "output_type": "stream",
     "text": [
      "Validation Loss: 2.303, Validation Accuracy: 9.69%\n",
      "Epoch 29, Train Loss: 21.600, Train Accuracy: 9.70%\n"
     ]
    },
    {
     "name": "stderr",
     "output_type": "stream",
     "text": [
      " 58%|█████▊    | 29/50 [39:59<25:27, 72.75s/it]"
     ]
    },
    {
     "name": "stdout",
     "output_type": "stream",
     "text": [
      "Validation Loss: 2.303, Validation Accuracy: 9.69%\n",
      "Epoch 30, Train Loss: 21.600, Train Accuracy: 9.70%\n"
     ]
    },
    {
     "name": "stderr",
     "output_type": "stream",
     "text": [
      " 60%|██████    | 30/50 [41:07<23:48, 71.44s/it]"
     ]
    },
    {
     "name": "stdout",
     "output_type": "stream",
     "text": [
      "Validation Loss: 2.303, Validation Accuracy: 9.69%\n",
      "Epoch 31, Train Loss: 21.600, Train Accuracy: 9.70%\n"
     ]
    },
    {
     "name": "stderr",
     "output_type": "stream",
     "text": [
      " 62%|██████▏   | 31/50 [42:22<22:55, 72.39s/it]"
     ]
    },
    {
     "name": "stdout",
     "output_type": "stream",
     "text": [
      "Validation Loss: 2.303, Validation Accuracy: 9.69%\n",
      "Epoch 32, Train Loss: 21.600, Train Accuracy: 9.70%\n"
     ]
    },
    {
     "name": "stderr",
     "output_type": "stream",
     "text": [
      " 64%|██████▍   | 32/50 [43:59<23:53, 79.65s/it]"
     ]
    },
    {
     "name": "stdout",
     "output_type": "stream",
     "text": [
      "Validation Loss: 2.303, Validation Accuracy: 9.69%\n",
      "Epoch 33, Train Loss: 21.600, Train Accuracy: 9.70%\n"
     ]
    },
    {
     "name": "stderr",
     "output_type": "stream",
     "text": [
      " 66%|██████▌   | 33/50 [45:31<23:39, 83.52s/it]"
     ]
    },
    {
     "name": "stdout",
     "output_type": "stream",
     "text": [
      "Validation Loss: 2.303, Validation Accuracy: 9.69%\n",
      "Epoch 34, Train Loss: 21.600, Train Accuracy: 9.70%\n"
     ]
    },
    {
     "name": "stderr",
     "output_type": "stream",
     "text": [
      " 68%|██████▊   | 34/50 [47:14<23:48, 89.26s/it]"
     ]
    },
    {
     "name": "stdout",
     "output_type": "stream",
     "text": [
      "Validation Loss: 2.303, Validation Accuracy: 9.69%\n",
      "Epoch 35, Train Loss: 21.600, Train Accuracy: 9.70%\n"
     ]
    },
    {
     "name": "stderr",
     "output_type": "stream",
     "text": [
      " 70%|███████   | 35/50 [49:04<23:51, 95.42s/it]"
     ]
    },
    {
     "name": "stdout",
     "output_type": "stream",
     "text": [
      "Validation Loss: 2.303, Validation Accuracy: 9.69%\n",
      "Epoch 36, Train Loss: 21.600, Train Accuracy: 9.70%\n"
     ]
    },
    {
     "name": "stderr",
     "output_type": "stream",
     "text": [
      " 72%|███████▏  | 36/50 [50:49<22:59, 98.53s/it]"
     ]
    },
    {
     "name": "stdout",
     "output_type": "stream",
     "text": [
      "Validation Loss: 2.303, Validation Accuracy: 9.69%\n",
      "Epoch 37, Train Loss: 21.600, Train Accuracy: 9.70%\n"
     ]
    },
    {
     "name": "stderr",
     "output_type": "stream",
     "text": [
      " 74%|███████▍  | 37/50 [52:28<21:19, 98.43s/it]"
     ]
    },
    {
     "name": "stdout",
     "output_type": "stream",
     "text": [
      "Validation Loss: 2.303, Validation Accuracy: 9.69%\n",
      "Epoch 38, Train Loss: 21.600, Train Accuracy: 9.70%\n"
     ]
    },
    {
     "name": "stderr",
     "output_type": "stream",
     "text": [
      " 76%|███████▌  | 38/50 [54:12<20:01, 100.16s/it]"
     ]
    },
    {
     "name": "stdout",
     "output_type": "stream",
     "text": [
      "Validation Loss: 2.303, Validation Accuracy: 9.69%\n",
      "Epoch 39, Train Loss: 21.600, Train Accuracy: 9.70%\n"
     ]
    },
    {
     "name": "stderr",
     "output_type": "stream",
     "text": [
      " 78%|███████▊  | 39/50 [55:51<18:20, 100.04s/it]"
     ]
    },
    {
     "name": "stdout",
     "output_type": "stream",
     "text": [
      "Validation Loss: 2.303, Validation Accuracy: 9.69%\n",
      "Epoch 40, Train Loss: 21.600, Train Accuracy: 9.70%\n"
     ]
    },
    {
     "name": "stderr",
     "output_type": "stream",
     "text": [
      " 80%|████████  | 40/50 [57:24<16:17, 97.75s/it] "
     ]
    },
    {
     "name": "stdout",
     "output_type": "stream",
     "text": [
      "Validation Loss: 2.303, Validation Accuracy: 9.69%\n",
      "Epoch 41, Train Loss: 21.600, Train Accuracy: 9.70%\n"
     ]
    },
    {
     "name": "stderr",
     "output_type": "stream",
     "text": [
      " 82%|████████▏ | 41/50 [58:57<14:27, 96.41s/it]"
     ]
    },
    {
     "name": "stdout",
     "output_type": "stream",
     "text": [
      "Validation Loss: 2.303, Validation Accuracy: 9.69%\n",
      "Epoch 42, Train Loss: 21.600, Train Accuracy: 9.70%\n"
     ]
    },
    {
     "name": "stderr",
     "output_type": "stream",
     "text": [
      " 84%|████████▍ | 42/50 [1:00:32<12:47, 95.88s/it]"
     ]
    },
    {
     "name": "stdout",
     "output_type": "stream",
     "text": [
      "Validation Loss: 2.303, Validation Accuracy: 9.69%\n",
      "Epoch 43, Train Loss: 21.600, Train Accuracy: 9.70%\n"
     ]
    },
    {
     "name": "stderr",
     "output_type": "stream",
     "text": [
      " 86%|████████▌ | 43/50 [1:02:10<11:16, 96.59s/it]"
     ]
    },
    {
     "name": "stdout",
     "output_type": "stream",
     "text": [
      "Validation Loss: 2.303, Validation Accuracy: 9.69%\n",
      "Epoch 44, Train Loss: 21.600, Train Accuracy: 9.70%\n"
     ]
    },
    {
     "name": "stderr",
     "output_type": "stream",
     "text": [
      " 88%|████████▊ | 44/50 [1:03:51<09:46, 97.80s/it]"
     ]
    },
    {
     "name": "stdout",
     "output_type": "stream",
     "text": [
      "Validation Loss: 2.303, Validation Accuracy: 9.69%\n",
      "Epoch 45, Train Loss: 21.600, Train Accuracy: 9.70%\n"
     ]
    },
    {
     "name": "stderr",
     "output_type": "stream",
     "text": [
      " 90%|█████████ | 45/50 [1:05:14<07:47, 93.56s/it]"
     ]
    },
    {
     "name": "stdout",
     "output_type": "stream",
     "text": [
      "Validation Loss: 2.303, Validation Accuracy: 9.69%\n",
      "Epoch 46, Train Loss: 21.600, Train Accuracy: 9.70%\n"
     ]
    },
    {
     "name": "stderr",
     "output_type": "stream",
     "text": [
      " 92%|█████████▏| 46/50 [1:06:38<06:02, 90.57s/it]"
     ]
    },
    {
     "name": "stdout",
     "output_type": "stream",
     "text": [
      "Validation Loss: 2.303, Validation Accuracy: 9.69%\n",
      "Epoch 47, Train Loss: 21.600, Train Accuracy: 9.70%\n"
     ]
    },
    {
     "name": "stderr",
     "output_type": "stream",
     "text": [
      " 94%|█████████▍| 47/50 [1:08:14<04:36, 92.25s/it]"
     ]
    },
    {
     "name": "stdout",
     "output_type": "stream",
     "text": [
      "Validation Loss: 2.303, Validation Accuracy: 9.69%\n",
      "Epoch 48, Train Loss: 21.600, Train Accuracy: 9.70%\n"
     ]
    },
    {
     "name": "stderr",
     "output_type": "stream",
     "text": [
      " 96%|█████████▌| 48/50 [1:09:51<03:07, 93.57s/it]"
     ]
    },
    {
     "name": "stdout",
     "output_type": "stream",
     "text": [
      "Validation Loss: 2.303, Validation Accuracy: 9.69%\n",
      "Epoch 49, Train Loss: 21.600, Train Accuracy: 9.70%\n"
     ]
    },
    {
     "name": "stderr",
     "output_type": "stream",
     "text": [
      " 98%|█████████▊| 49/50 [1:11:15<01:30, 90.71s/it]"
     ]
    },
    {
     "name": "stdout",
     "output_type": "stream",
     "text": [
      "Validation Loss: 2.303, Validation Accuracy: 9.69%\n",
      "Epoch 50, Train Loss: 21.600, Train Accuracy: 9.70%\n"
     ]
    },
    {
     "name": "stderr",
     "output_type": "stream",
     "text": [
      "100%|██████████| 50/50 [1:12:39<00:00, 87.18s/it]"
     ]
    },
    {
     "name": "stdout",
     "output_type": "stream",
     "text": [
      "Validation Loss: 2.303, Validation Accuracy: 9.69%\n",
      "Finished Training\n"
     ]
    },
    {
     "name": "stderr",
     "output_type": "stream",
     "text": [
      "\n"
     ]
    },
    {
     "name": "stdout",
     "output_type": "stream",
     "text": [
      "Model 3 Epochs 50 Population 25\n"
     ]
    },
    {
     "name": "stderr",
     "output_type": "stream",
     "text": [
      "  0%|          | 0/50 [00:00<?, ?it/s]"
     ]
    },
    {
     "name": "stdout",
     "output_type": "stream",
     "text": [
      "Epoch 1, Train Loss: 21.600, Train Accuracy: 9.70%\n"
     ]
    },
    {
     "name": "stderr",
     "output_type": "stream",
     "text": [
      "  2%|▏         | 1/50 [01:28<1:12:24, 88.65s/it]"
     ]
    },
    {
     "name": "stdout",
     "output_type": "stream",
     "text": [
      "Validation Loss: 2.303, Validation Accuracy: 9.69%\n",
      "Epoch 2, Train Loss: 21.600, Train Accuracy: 9.70%\n"
     ]
    },
    {
     "name": "stderr",
     "output_type": "stream",
     "text": [
      "  4%|▍         | 2/50 [02:52<1:08:44, 85.93s/it]"
     ]
    },
    {
     "name": "stdout",
     "output_type": "stream",
     "text": [
      "Validation Loss: 2.303, Validation Accuracy: 9.69%\n",
      "Epoch 3, Train Loss: 21.600, Train Accuracy: 9.70%\n"
     ]
    },
    {
     "name": "stderr",
     "output_type": "stream",
     "text": [
      "  6%|▌         | 3/50 [04:30<1:11:25, 91.17s/it]"
     ]
    },
    {
     "name": "stdout",
     "output_type": "stream",
     "text": [
      "Validation Loss: 2.303, Validation Accuracy: 9.69%\n",
      "Epoch 4, Train Loss: 21.600, Train Accuracy: 9.70%\n"
     ]
    },
    {
     "name": "stderr",
     "output_type": "stream",
     "text": [
      "  8%|▊         | 4/50 [06:25<1:17:08, 100.63s/it]"
     ]
    },
    {
     "name": "stdout",
     "output_type": "stream",
     "text": [
      "Validation Loss: 2.303, Validation Accuracy: 9.69%\n",
      "Epoch 5, Train Loss: 21.600, Train Accuracy: 9.70%\n"
     ]
    },
    {
     "name": "stderr",
     "output_type": "stream",
     "text": [
      " 10%|█         | 5/50 [08:11<1:17:02, 102.73s/it]"
     ]
    },
    {
     "name": "stdout",
     "output_type": "stream",
     "text": [
      "Validation Loss: 2.303, Validation Accuracy: 9.69%\n",
      "Epoch 6, Train Loss: 21.600, Train Accuracy: 9.70%\n"
     ]
    },
    {
     "name": "stderr",
     "output_type": "stream",
     "text": [
      " 12%|█▏        | 6/50 [09:44<1:12:46, 99.25s/it] "
     ]
    },
    {
     "name": "stdout",
     "output_type": "stream",
     "text": [
      "Validation Loss: 2.303, Validation Accuracy: 9.69%\n",
      "Epoch 7, Train Loss: 21.600, Train Accuracy: 9.70%\n"
     ]
    },
    {
     "name": "stderr",
     "output_type": "stream",
     "text": [
      " 14%|█▍        | 7/50 [11:45<1:16:17, 106.46s/it]"
     ]
    },
    {
     "name": "stdout",
     "output_type": "stream",
     "text": [
      "Validation Loss: 2.303, Validation Accuracy: 9.69%\n",
      "Epoch 8, Train Loss: 21.600, Train Accuracy: 9.70%\n"
     ]
    },
    {
     "name": "stderr",
     "output_type": "stream",
     "text": [
      " 16%|█▌        | 8/50 [13:29<1:14:04, 105.81s/it]"
     ]
    },
    {
     "name": "stdout",
     "output_type": "stream",
     "text": [
      "Validation Loss: 2.303, Validation Accuracy: 9.69%\n",
      "Epoch 9, Train Loss: 21.600, Train Accuracy: 9.70%\n"
     ]
    },
    {
     "name": "stderr",
     "output_type": "stream",
     "text": [
      " 18%|█▊        | 9/50 [15:26<1:14:41, 109.30s/it]"
     ]
    },
    {
     "name": "stdout",
     "output_type": "stream",
     "text": [
      "Validation Loss: 2.303, Validation Accuracy: 9.69%\n",
      "Epoch 10, Train Loss: 21.600, Train Accuracy: 9.70%\n"
     ]
    },
    {
     "name": "stderr",
     "output_type": "stream",
     "text": [
      " 20%|██        | 10/50 [17:14<1:12:35, 108.89s/it]"
     ]
    },
    {
     "name": "stdout",
     "output_type": "stream",
     "text": [
      "Validation Loss: 2.303, Validation Accuracy: 9.69%\n",
      "Epoch 11, Train Loss: 21.600, Train Accuracy: 9.70%\n"
     ]
    },
    {
     "name": "stderr",
     "output_type": "stream",
     "text": [
      " 22%|██▏       | 11/50 [18:51<1:08:20, 105.14s/it]"
     ]
    },
    {
     "name": "stdout",
     "output_type": "stream",
     "text": [
      "Validation Loss: 2.303, Validation Accuracy: 9.69%\n",
      "Epoch 12, Train Loss: 21.600, Train Accuracy: 9.70%\n"
     ]
    },
    {
     "name": "stderr",
     "output_type": "stream",
     "text": [
      " 24%|██▍       | 12/50 [20:19<1:03:18, 99.96s/it] "
     ]
    },
    {
     "name": "stdout",
     "output_type": "stream",
     "text": [
      "Validation Loss: 2.303, Validation Accuracy: 9.69%\n",
      "Epoch 13, Train Loss: 21.600, Train Accuracy: 9.70%\n"
     ]
    },
    {
     "name": "stderr",
     "output_type": "stream",
     "text": [
      " 26%|██▌       | 13/50 [22:08<1:03:24, 102.82s/it]"
     ]
    },
    {
     "name": "stdout",
     "output_type": "stream",
     "text": [
      "Validation Loss: 2.303, Validation Accuracy: 9.69%\n",
      "Epoch 14, Train Loss: 21.600, Train Accuracy: 9.70%\n"
     ]
    },
    {
     "name": "stderr",
     "output_type": "stream",
     "text": [
      " 28%|██▊       | 14/50 [23:54<1:02:15, 103.75s/it]"
     ]
    },
    {
     "name": "stdout",
     "output_type": "stream",
     "text": [
      "Validation Loss: 2.303, Validation Accuracy: 9.69%\n",
      "Epoch 15, Train Loss: 21.600, Train Accuracy: 9.70%\n"
     ]
    },
    {
     "name": "stderr",
     "output_type": "stream",
     "text": [
      " 30%|███       | 15/50 [25:33<59:41, 102.34s/it]  "
     ]
    },
    {
     "name": "stdout",
     "output_type": "stream",
     "text": [
      "Validation Loss: 2.303, Validation Accuracy: 9.69%\n",
      "Epoch 16, Train Loss: 21.600, Train Accuracy: 9.70%\n"
     ]
    },
    {
     "name": "stderr",
     "output_type": "stream",
     "text": [
      " 32%|███▏      | 16/50 [27:07<56:28, 99.65s/it] "
     ]
    },
    {
     "name": "stdout",
     "output_type": "stream",
     "text": [
      "Validation Loss: 2.303, Validation Accuracy: 9.69%\n",
      "Epoch 17, Train Loss: 21.600, Train Accuracy: 9.70%\n"
     ]
    },
    {
     "name": "stderr",
     "output_type": "stream",
     "text": [
      " 34%|███▍      | 17/50 [28:45<54:30, 99.10s/it]"
     ]
    },
    {
     "name": "stdout",
     "output_type": "stream",
     "text": [
      "Validation Loss: 2.303, Validation Accuracy: 9.69%\n",
      "Epoch 18, Train Loss: 21.600, Train Accuracy: 9.70%\n"
     ]
    },
    {
     "name": "stderr",
     "output_type": "stream",
     "text": [
      " 36%|███▌      | 18/50 [30:30<53:54, 101.08s/it]"
     ]
    },
    {
     "name": "stdout",
     "output_type": "stream",
     "text": [
      "Validation Loss: 2.303, Validation Accuracy: 9.69%\n",
      "Epoch 19, Train Loss: 21.600, Train Accuracy: 9.70%\n"
     ]
    },
    {
     "name": "stderr",
     "output_type": "stream",
     "text": [
      " 38%|███▊      | 19/50 [32:12<52:18, 101.25s/it]"
     ]
    },
    {
     "name": "stdout",
     "output_type": "stream",
     "text": [
      "Validation Loss: 2.303, Validation Accuracy: 9.69%\n",
      "Epoch 20, Train Loss: 21.600, Train Accuracy: 9.70%\n"
     ]
    },
    {
     "name": "stderr",
     "output_type": "stream",
     "text": [
      " 40%|████      | 20/50 [33:56<50:58, 101.95s/it]"
     ]
    },
    {
     "name": "stdout",
     "output_type": "stream",
     "text": [
      "Validation Loss: 2.303, Validation Accuracy: 9.69%\n",
      "Epoch 21, Train Loss: 21.600, Train Accuracy: 9.70%\n"
     ]
    },
    {
     "name": "stderr",
     "output_type": "stream",
     "text": [
      " 42%|████▏     | 21/50 [35:27<47:46, 98.83s/it] "
     ]
    },
    {
     "name": "stdout",
     "output_type": "stream",
     "text": [
      "Validation Loss: 2.303, Validation Accuracy: 9.69%\n",
      "Epoch 22, Train Loss: 21.600, Train Accuracy: 9.70%\n"
     ]
    },
    {
     "name": "stderr",
     "output_type": "stream",
     "text": [
      " 44%|████▍     | 22/50 [37:13<47:07, 100.98s/it]"
     ]
    },
    {
     "name": "stdout",
     "output_type": "stream",
     "text": [
      "Validation Loss: 2.303, Validation Accuracy: 9.69%\n",
      "Epoch 23, Train Loss: 21.600, Train Accuracy: 9.70%\n"
     ]
    },
    {
     "name": "stderr",
     "output_type": "stream",
     "text": [
      " 46%|████▌     | 23/50 [38:58<45:58, 102.18s/it]"
     ]
    },
    {
     "name": "stdout",
     "output_type": "stream",
     "text": [
      "Validation Loss: 2.303, Validation Accuracy: 9.69%\n",
      "Epoch 24, Train Loss: 21.600, Train Accuracy: 9.70%\n"
     ]
    },
    {
     "name": "stderr",
     "output_type": "stream",
     "text": [
      " 48%|████▊     | 24/50 [40:52<45:44, 105.55s/it]"
     ]
    },
    {
     "name": "stdout",
     "output_type": "stream",
     "text": [
      "Validation Loss: 2.303, Validation Accuracy: 9.69%\n",
      "Epoch 25, Train Loss: 21.600, Train Accuracy: 9.70%\n"
     ]
    },
    {
     "name": "stderr",
     "output_type": "stream",
     "text": [
      " 50%|█████     | 25/50 [42:34<43:35, 104.64s/it]"
     ]
    },
    {
     "name": "stdout",
     "output_type": "stream",
     "text": [
      "Validation Loss: 2.303, Validation Accuracy: 9.69%\n",
      "Epoch 26, Train Loss: 21.600, Train Accuracy: 9.70%\n"
     ]
    },
    {
     "name": "stderr",
     "output_type": "stream",
     "text": [
      " 52%|█████▏    | 26/50 [44:13<41:08, 102.87s/it]"
     ]
    },
    {
     "name": "stdout",
     "output_type": "stream",
     "text": [
      "Validation Loss: 2.303, Validation Accuracy: 9.69%\n",
      "Epoch 27, Train Loss: 21.600, Train Accuracy: 9.70%\n"
     ]
    },
    {
     "name": "stderr",
     "output_type": "stream",
     "text": [
      " 54%|█████▍    | 27/50 [45:41<37:43, 98.40s/it] "
     ]
    },
    {
     "name": "stdout",
     "output_type": "stream",
     "text": [
      "Validation Loss: 2.303, Validation Accuracy: 9.69%\n",
      "Epoch 28, Train Loss: 21.600, Train Accuracy: 9.70%\n"
     ]
    },
    {
     "name": "stderr",
     "output_type": "stream",
     "text": [
      " 56%|█████▌    | 28/50 [46:42<32:01, 87.34s/it]"
     ]
    },
    {
     "name": "stdout",
     "output_type": "stream",
     "text": [
      "Validation Loss: 2.303, Validation Accuracy: 9.69%\n",
      "Epoch 29, Train Loss: 21.600, Train Accuracy: 9.70%\n"
     ]
    },
    {
     "name": "stderr",
     "output_type": "stream",
     "text": [
      " 58%|█████▊    | 29/50 [47:51<28:33, 81.61s/it]"
     ]
    },
    {
     "name": "stdout",
     "output_type": "stream",
     "text": [
      "Validation Loss: 2.303, Validation Accuracy: 9.69%\n",
      "Epoch 30, Train Loss: 21.600, Train Accuracy: 9.70%\n"
     ]
    },
    {
     "name": "stderr",
     "output_type": "stream",
     "text": [
      " 60%|██████    | 30/50 [49:16<27:35, 82.79s/it]"
     ]
    },
    {
     "name": "stdout",
     "output_type": "stream",
     "text": [
      "Validation Loss: 2.303, Validation Accuracy: 9.69%\n",
      "Epoch 31, Train Loss: 21.600, Train Accuracy: 9.70%\n"
     ]
    },
    {
     "name": "stderr",
     "output_type": "stream",
     "text": [
      " 62%|██████▏   | 31/50 [50:45<26:47, 84.60s/it]"
     ]
    },
    {
     "name": "stdout",
     "output_type": "stream",
     "text": [
      "Validation Loss: 2.303, Validation Accuracy: 9.69%\n",
      "Epoch 32, Train Loss: 21.600, Train Accuracy: 9.70%\n"
     ]
    },
    {
     "name": "stderr",
     "output_type": "stream",
     "text": [
      " 64%|██████▍   | 32/50 [52:12<25:37, 85.43s/it]"
     ]
    },
    {
     "name": "stdout",
     "output_type": "stream",
     "text": [
      "Validation Loss: 2.303, Validation Accuracy: 9.69%\n",
      "Epoch 33, Train Loss: 21.600, Train Accuracy: 9.70%\n"
     ]
    },
    {
     "name": "stderr",
     "output_type": "stream",
     "text": [
      " 66%|██████▌   | 33/50 [53:37<24:06, 85.12s/it]"
     ]
    },
    {
     "name": "stdout",
     "output_type": "stream",
     "text": [
      "Validation Loss: 2.303, Validation Accuracy: 9.69%\n",
      "Epoch 34, Train Loss: 21.600, Train Accuracy: 9.70%\n"
     ]
    },
    {
     "name": "stderr",
     "output_type": "stream",
     "text": [
      " 68%|██████▊   | 34/50 [55:09<23:17, 87.33s/it]"
     ]
    },
    {
     "name": "stdout",
     "output_type": "stream",
     "text": [
      "Validation Loss: 2.303, Validation Accuracy: 9.69%\n",
      "Epoch 35, Train Loss: 21.600, Train Accuracy: 9.70%\n"
     ]
    },
    {
     "name": "stderr",
     "output_type": "stream",
     "text": [
      " 70%|███████   | 35/50 [57:00<23:37, 94.49s/it]"
     ]
    },
    {
     "name": "stdout",
     "output_type": "stream",
     "text": [
      "Validation Loss: 2.303, Validation Accuracy: 9.69%\n",
      "Epoch 36, Train Loss: 21.600, Train Accuracy: 9.70%\n"
     ]
    },
    {
     "name": "stderr",
     "output_type": "stream",
     "text": [
      " 72%|███████▏  | 36/50 [58:35<22:03, 94.51s/it]"
     ]
    },
    {
     "name": "stdout",
     "output_type": "stream",
     "text": [
      "Validation Loss: 2.303, Validation Accuracy: 9.69%\n",
      "Epoch 37, Train Loss: 21.600, Train Accuracy: 9.70%\n"
     ]
    },
    {
     "name": "stderr",
     "output_type": "stream",
     "text": [
      " 74%|███████▍  | 37/50 [1:00:10<20:29, 94.55s/it]"
     ]
    },
    {
     "name": "stdout",
     "output_type": "stream",
     "text": [
      "Validation Loss: 2.303, Validation Accuracy: 9.69%\n",
      "Epoch 38, Train Loss: 21.600, Train Accuracy: 9.70%\n"
     ]
    },
    {
     "name": "stderr",
     "output_type": "stream",
     "text": [
      " 76%|███████▌  | 38/50 [1:01:45<18:56, 94.68s/it]"
     ]
    },
    {
     "name": "stdout",
     "output_type": "stream",
     "text": [
      "Validation Loss: 2.303, Validation Accuracy: 9.69%\n",
      "Epoch 39, Train Loss: 21.600, Train Accuracy: 9.70%\n"
     ]
    },
    {
     "name": "stderr",
     "output_type": "stream",
     "text": [
      " 78%|███████▊  | 39/50 [1:03:08<16:44, 91.32s/it]"
     ]
    },
    {
     "name": "stdout",
     "output_type": "stream",
     "text": [
      "Validation Loss: 2.303, Validation Accuracy: 9.69%\n",
      "Epoch 40, Train Loss: 21.600, Train Accuracy: 9.70%\n"
     ]
    },
    {
     "name": "stderr",
     "output_type": "stream",
     "text": [
      " 80%|████████  | 40/50 [1:04:22<14:22, 86.22s/it]"
     ]
    },
    {
     "name": "stdout",
     "output_type": "stream",
     "text": [
      "Validation Loss: 2.303, Validation Accuracy: 9.69%\n",
      "Epoch 41, Train Loss: 21.600, Train Accuracy: 9.70%\n"
     ]
    },
    {
     "name": "stderr",
     "output_type": "stream",
     "text": [
      " 82%|████████▏ | 41/50 [1:05:36<12:21, 82.39s/it]"
     ]
    },
    {
     "name": "stdout",
     "output_type": "stream",
     "text": [
      "Validation Loss: 2.303, Validation Accuracy: 9.69%\n",
      "Epoch 42, Train Loss: 21.600, Train Accuracy: 9.70%\n"
     ]
    },
    {
     "name": "stderr",
     "output_type": "stream",
     "text": [
      " 84%|████████▍ | 42/50 [1:06:51<10:41, 80.16s/it]"
     ]
    },
    {
     "name": "stdout",
     "output_type": "stream",
     "text": [
      "Validation Loss: 2.303, Validation Accuracy: 9.69%\n",
      "Epoch 43, Train Loss: 21.600, Train Accuracy: 9.70%\n"
     ]
    },
    {
     "name": "stderr",
     "output_type": "stream",
     "text": [
      " 86%|████████▌ | 43/50 [1:08:11<09:21, 80.20s/it]"
     ]
    },
    {
     "name": "stdout",
     "output_type": "stream",
     "text": [
      "Validation Loss: 2.303, Validation Accuracy: 9.69%\n",
      "Epoch 44, Train Loss: 21.600, Train Accuracy: 9.70%\n"
     ]
    },
    {
     "name": "stderr",
     "output_type": "stream",
     "text": [
      " 88%|████████▊ | 44/50 [1:09:29<07:57, 79.55s/it]"
     ]
    },
    {
     "name": "stdout",
     "output_type": "stream",
     "text": [
      "Validation Loss: 2.303, Validation Accuracy: 9.69%\n",
      "Epoch 45, Train Loss: 21.600, Train Accuracy: 9.70%\n"
     ]
    },
    {
     "name": "stderr",
     "output_type": "stream",
     "text": [
      " 90%|█████████ | 45/50 [1:10:44<06:30, 78.16s/it]"
     ]
    },
    {
     "name": "stdout",
     "output_type": "stream",
     "text": [
      "Validation Loss: 2.303, Validation Accuracy: 9.69%\n",
      "Epoch 46, Train Loss: 21.600, Train Accuracy: 9.70%\n"
     ]
    },
    {
     "name": "stderr",
     "output_type": "stream",
     "text": [
      " 92%|█████████▏| 46/50 [1:12:00<05:09, 77.45s/it]"
     ]
    },
    {
     "name": "stdout",
     "output_type": "stream",
     "text": [
      "Validation Loss: 2.303, Validation Accuracy: 9.69%\n",
      "Epoch 47, Train Loss: 21.600, Train Accuracy: 9.70%\n"
     ]
    },
    {
     "name": "stderr",
     "output_type": "stream",
     "text": [
      " 94%|█████████▍| 47/50 [1:13:15<03:50, 76.88s/it]"
     ]
    },
    {
     "name": "stdout",
     "output_type": "stream",
     "text": [
      "Validation Loss: 2.303, Validation Accuracy: 9.69%\n",
      "Epoch 48, Train Loss: 21.600, Train Accuracy: 9.70%\n"
     ]
    },
    {
     "name": "stderr",
     "output_type": "stream",
     "text": [
      " 96%|█████████▌| 48/50 [1:14:32<02:33, 76.90s/it]"
     ]
    },
    {
     "name": "stdout",
     "output_type": "stream",
     "text": [
      "Validation Loss: 2.303, Validation Accuracy: 9.69%\n",
      "Epoch 49, Train Loss: 21.600, Train Accuracy: 9.70%\n"
     ]
    },
    {
     "name": "stderr",
     "output_type": "stream",
     "text": [
      " 98%|█████████▊| 49/50 [1:15:47<01:16, 76.16s/it]"
     ]
    },
    {
     "name": "stdout",
     "output_type": "stream",
     "text": [
      "Validation Loss: 2.303, Validation Accuracy: 9.69%\n",
      "Epoch 50, Train Loss: 21.600, Train Accuracy: 9.70%\n"
     ]
    },
    {
     "name": "stderr",
     "output_type": "stream",
     "text": [
      "100%|██████████| 50/50 [1:17:04<00:00, 92.48s/it]"
     ]
    },
    {
     "name": "stdout",
     "output_type": "stream",
     "text": [
      "Validation Loss: 2.303, Validation Accuracy: 9.69%\n",
      "Finished Training\n"
     ]
    },
    {
     "name": "stderr",
     "output_type": "stream",
     "text": [
      "\n"
     ]
    },
    {
     "name": "stdout",
     "output_type": "stream",
     "text": [
      "Model 4 Epochs 50 Population 50\n"
     ]
    },
    {
     "name": "stderr",
     "output_type": "stream",
     "text": [
      "  0%|          | 0/50 [00:00<?, ?it/s]"
     ]
    },
    {
     "name": "stdout",
     "output_type": "stream",
     "text": [
      "Epoch 1, Train Loss: 21.600, Train Accuracy: 9.70%\n"
     ]
    },
    {
     "name": "stderr",
     "output_type": "stream",
     "text": [
      "  2%|▏         | 1/50 [01:16<1:02:06, 76.06s/it]"
     ]
    },
    {
     "name": "stdout",
     "output_type": "stream",
     "text": [
      "Validation Loss: 2.303, Validation Accuracy: 9.69%\n",
      "Epoch 2, Train Loss: 21.600, Train Accuracy: 9.70%\n"
     ]
    },
    {
     "name": "stderr",
     "output_type": "stream",
     "text": [
      "  4%|▍         | 2/50 [02:31<1:00:38, 75.80s/it]"
     ]
    },
    {
     "name": "stdout",
     "output_type": "stream",
     "text": [
      "Validation Loss: 2.303, Validation Accuracy: 9.69%\n",
      "Epoch 3, Train Loss: 21.600, Train Accuracy: 9.70%\n"
     ]
    },
    {
     "name": "stderr",
     "output_type": "stream",
     "text": [
      "  6%|▌         | 3/50 [03:48<59:49, 76.38s/it]  "
     ]
    },
    {
     "name": "stdout",
     "output_type": "stream",
     "text": [
      "Validation Loss: 2.303, Validation Accuracy: 9.69%\n",
      "Epoch 4, Train Loss: 21.600, Train Accuracy: 9.70%\n"
     ]
    },
    {
     "name": "stderr",
     "output_type": "stream",
     "text": [
      "  8%|▊         | 4/50 [05:03<58:04, 75.76s/it]"
     ]
    },
    {
     "name": "stdout",
     "output_type": "stream",
     "text": [
      "Validation Loss: 2.303, Validation Accuracy: 9.69%\n",
      "Epoch 5, Train Loss: 21.600, Train Accuracy: 9.70%\n"
     ]
    },
    {
     "name": "stderr",
     "output_type": "stream",
     "text": [
      " 10%|█         | 5/50 [06:19<56:59, 75.99s/it]"
     ]
    },
    {
     "name": "stdout",
     "output_type": "stream",
     "text": [
      "Validation Loss: 2.303, Validation Accuracy: 9.69%\n",
      "Epoch 6, Train Loss: 21.600, Train Accuracy: 9.70%\n"
     ]
    },
    {
     "name": "stderr",
     "output_type": "stream",
     "text": [
      " 12%|█▏        | 6/50 [07:40<56:45, 77.41s/it]"
     ]
    },
    {
     "name": "stdout",
     "output_type": "stream",
     "text": [
      "Validation Loss: 2.303, Validation Accuracy: 9.69%\n",
      "Epoch 7, Train Loss: 21.600, Train Accuracy: 9.70%\n"
     ]
    },
    {
     "name": "stderr",
     "output_type": "stream",
     "text": [
      " 14%|█▍        | 7/50 [08:56<55:18, 77.16s/it]"
     ]
    },
    {
     "name": "stdout",
     "output_type": "stream",
     "text": [
      "Validation Loss: 2.303, Validation Accuracy: 9.69%\n",
      "Epoch 8, Train Loss: 21.600, Train Accuracy: 9.70%\n"
     ]
    },
    {
     "name": "stderr",
     "output_type": "stream",
     "text": [
      " 16%|█▌        | 8/50 [10:11<53:25, 76.32s/it]"
     ]
    },
    {
     "name": "stdout",
     "output_type": "stream",
     "text": [
      "Validation Loss: 2.303, Validation Accuracy: 9.69%\n",
      "Epoch 9, Train Loss: 21.600, Train Accuracy: 9.70%\n"
     ]
    },
    {
     "name": "stderr",
     "output_type": "stream",
     "text": [
      " 18%|█▊        | 9/50 [11:27<52:07, 76.28s/it]"
     ]
    },
    {
     "name": "stdout",
     "output_type": "stream",
     "text": [
      "Validation Loss: 2.303, Validation Accuracy: 9.69%\n",
      "Epoch 10, Train Loss: 21.600, Train Accuracy: 9.70%\n"
     ]
    },
    {
     "name": "stderr",
     "output_type": "stream",
     "text": [
      " 20%|██        | 10/50 [12:40<50:11, 75.30s/it]"
     ]
    },
    {
     "name": "stdout",
     "output_type": "stream",
     "text": [
      "Validation Loss: 2.303, Validation Accuracy: 9.69%\n",
      "Epoch 11, Train Loss: 21.600, Train Accuracy: 9.70%\n"
     ]
    },
    {
     "name": "stderr",
     "output_type": "stream",
     "text": [
      " 22%|██▏       | 11/50 [13:57<49:18, 75.87s/it]"
     ]
    },
    {
     "name": "stdout",
     "output_type": "stream",
     "text": [
      "Validation Loss: 2.303, Validation Accuracy: 9.69%\n",
      "Epoch 12, Train Loss: 21.600, Train Accuracy: 9.70%\n"
     ]
    },
    {
     "name": "stderr",
     "output_type": "stream",
     "text": [
      " 24%|██▍       | 12/50 [15:16<48:36, 76.75s/it]"
     ]
    },
    {
     "name": "stdout",
     "output_type": "stream",
     "text": [
      "Validation Loss: 2.303, Validation Accuracy: 9.69%\n",
      "Epoch 13, Train Loss: 21.600, Train Accuracy: 9.70%\n"
     ]
    },
    {
     "name": "stderr",
     "output_type": "stream",
     "text": [
      " 26%|██▌       | 13/50 [16:40<48:36, 78.84s/it]"
     ]
    },
    {
     "name": "stdout",
     "output_type": "stream",
     "text": [
      "Validation Loss: 2.303, Validation Accuracy: 9.69%\n",
      "Epoch 14, Train Loss: 21.600, Train Accuracy: 9.70%\n"
     ]
    },
    {
     "name": "stderr",
     "output_type": "stream",
     "text": [
      " 28%|██▊       | 14/50 [17:55<46:37, 77.72s/it]"
     ]
    },
    {
     "name": "stdout",
     "output_type": "stream",
     "text": [
      "Validation Loss: 2.303, Validation Accuracy: 9.69%\n",
      "Epoch 15, Train Loss: 21.600, Train Accuracy: 9.70%\n"
     ]
    },
    {
     "name": "stderr",
     "output_type": "stream",
     "text": [
      " 30%|███       | 15/50 [19:11<45:02, 77.21s/it]"
     ]
    },
    {
     "name": "stdout",
     "output_type": "stream",
     "text": [
      "Validation Loss: 2.303, Validation Accuracy: 9.69%\n",
      "Epoch 16, Train Loss: 21.600, Train Accuracy: 9.70%\n"
     ]
    },
    {
     "name": "stderr",
     "output_type": "stream",
     "text": [
      " 32%|███▏      | 16/50 [20:29<43:57, 77.58s/it]"
     ]
    },
    {
     "name": "stdout",
     "output_type": "stream",
     "text": [
      "Validation Loss: 2.303, Validation Accuracy: 9.69%\n",
      "Epoch 17, Train Loss: 21.600, Train Accuracy: 9.70%\n"
     ]
    },
    {
     "name": "stderr",
     "output_type": "stream",
     "text": [
      " 34%|███▍      | 17/50 [21:47<42:38, 77.52s/it]"
     ]
    },
    {
     "name": "stdout",
     "output_type": "stream",
     "text": [
      "Validation Loss: 2.303, Validation Accuracy: 9.69%\n",
      "Epoch 18, Train Loss: 21.600, Train Accuracy: 9.70%\n"
     ]
    },
    {
     "name": "stderr",
     "output_type": "stream",
     "text": [
      " 36%|███▌      | 18/50 [23:03<41:05, 77.06s/it]"
     ]
    },
    {
     "name": "stdout",
     "output_type": "stream",
     "text": [
      "Validation Loss: 2.303, Validation Accuracy: 9.69%\n",
      "Epoch 19, Train Loss: 21.600, Train Accuracy: 9.70%\n"
     ]
    },
    {
     "name": "stderr",
     "output_type": "stream",
     "text": [
      " 38%|███▊      | 19/50 [24:21<40:05, 77.58s/it]"
     ]
    },
    {
     "name": "stdout",
     "output_type": "stream",
     "text": [
      "Validation Loss: 2.303, Validation Accuracy: 9.69%\n",
      "Epoch 20, Train Loss: 21.600, Train Accuracy: 9.70%\n"
     ]
    },
    {
     "name": "stderr",
     "output_type": "stream",
     "text": [
      " 40%|████      | 20/50 [25:39<38:43, 77.44s/it]"
     ]
    },
    {
     "name": "stdout",
     "output_type": "stream",
     "text": [
      "Validation Loss: 2.303, Validation Accuracy: 9.69%\n",
      "Epoch 21, Train Loss: 21.600, Train Accuracy: 9.70%\n"
     ]
    },
    {
     "name": "stderr",
     "output_type": "stream",
     "text": [
      " 42%|████▏     | 21/50 [26:56<37:23, 77.36s/it]"
     ]
    },
    {
     "name": "stdout",
     "output_type": "stream",
     "text": [
      "Validation Loss: 2.303, Validation Accuracy: 9.69%\n",
      "Epoch 22, Train Loss: 21.600, Train Accuracy: 9.70%\n"
     ]
    },
    {
     "name": "stderr",
     "output_type": "stream",
     "text": [
      " 44%|████▍     | 22/50 [28:11<35:48, 76.73s/it]"
     ]
    },
    {
     "name": "stdout",
     "output_type": "stream",
     "text": [
      "Validation Loss: 2.303, Validation Accuracy: 9.69%\n",
      "Epoch 23, Train Loss: 21.600, Train Accuracy: 9.70%\n"
     ]
    },
    {
     "name": "stderr",
     "output_type": "stream",
     "text": [
      " 46%|████▌     | 23/50 [29:26<34:21, 76.33s/it]"
     ]
    },
    {
     "name": "stdout",
     "output_type": "stream",
     "text": [
      "Validation Loss: 2.303, Validation Accuracy: 9.69%\n",
      "Epoch 24, Train Loss: 21.600, Train Accuracy: 9.70%\n"
     ]
    },
    {
     "name": "stderr",
     "output_type": "stream",
     "text": [
      " 48%|████▊     | 24/50 [30:43<33:03, 76.29s/it]"
     ]
    },
    {
     "name": "stdout",
     "output_type": "stream",
     "text": [
      "Validation Loss: 2.303, Validation Accuracy: 9.69%\n",
      "Epoch 25, Train Loss: 21.600, Train Accuracy: 9.70%\n"
     ]
    },
    {
     "name": "stderr",
     "output_type": "stream",
     "text": [
      " 50%|█████     | 25/50 [31:58<31:41, 76.08s/it]"
     ]
    },
    {
     "name": "stdout",
     "output_type": "stream",
     "text": [
      "Validation Loss: 2.303, Validation Accuracy: 9.69%\n",
      "Epoch 26, Train Loss: 21.600, Train Accuracy: 9.70%\n"
     ]
    },
    {
     "name": "stderr",
     "output_type": "stream",
     "text": [
      " 52%|█████▏    | 26/50 [33:15<30:29, 76.25s/it]"
     ]
    },
    {
     "name": "stdout",
     "output_type": "stream",
     "text": [
      "Validation Loss: 2.303, Validation Accuracy: 9.69%\n",
      "Epoch 27, Train Loss: 21.600, Train Accuracy: 9.70%\n"
     ]
    },
    {
     "name": "stderr",
     "output_type": "stream",
     "text": [
      " 54%|█████▍    | 27/50 [34:30<29:06, 75.92s/it]"
     ]
    },
    {
     "name": "stdout",
     "output_type": "stream",
     "text": [
      "Validation Loss: 2.303, Validation Accuracy: 9.69%\n",
      "Epoch 28, Train Loss: 21.600, Train Accuracy: 9.70%\n"
     ]
    },
    {
     "name": "stderr",
     "output_type": "stream",
     "text": [
      " 56%|█████▌    | 28/50 [35:50<28:20, 77.31s/it]"
     ]
    },
    {
     "name": "stdout",
     "output_type": "stream",
     "text": [
      "Validation Loss: 2.303, Validation Accuracy: 9.69%\n",
      "Epoch 29, Train Loss: 21.600, Train Accuracy: 9.70%\n"
     ]
    },
    {
     "name": "stderr",
     "output_type": "stream",
     "text": [
      " 58%|█████▊    | 29/50 [36:55<25:41, 73.41s/it]"
     ]
    },
    {
     "name": "stdout",
     "output_type": "stream",
     "text": [
      "Validation Loss: 2.303, Validation Accuracy: 9.69%\n",
      "Epoch 30, Train Loss: 21.600, Train Accuracy: 9.70%\n"
     ]
    },
    {
     "name": "stderr",
     "output_type": "stream",
     "text": [
      " 60%|██████    | 30/50 [37:57<23:19, 69.95s/it]"
     ]
    },
    {
     "name": "stdout",
     "output_type": "stream",
     "text": [
      "Validation Loss: 2.303, Validation Accuracy: 9.69%\n",
      "Epoch 31, Train Loss: 21.600, Train Accuracy: 9.70%\n"
     ]
    },
    {
     "name": "stderr",
     "output_type": "stream",
     "text": [
      " 62%|██████▏   | 31/50 [39:04<21:52, 69.07s/it]"
     ]
    },
    {
     "name": "stdout",
     "output_type": "stream",
     "text": [
      "Validation Loss: 2.303, Validation Accuracy: 9.69%\n",
      "Epoch 32, Train Loss: 21.600, Train Accuracy: 9.70%\n"
     ]
    },
    {
     "name": "stderr",
     "output_type": "stream",
     "text": [
      " 64%|██████▍   | 32/50 [40:06<20:07, 67.11s/it]"
     ]
    },
    {
     "name": "stdout",
     "output_type": "stream",
     "text": [
      "Validation Loss: 2.303, Validation Accuracy: 9.69%\n",
      "Epoch 33, Train Loss: 21.600, Train Accuracy: 9.70%\n"
     ]
    },
    {
     "name": "stderr",
     "output_type": "stream",
     "text": [
      " 66%|██████▌   | 33/50 [41:26<20:04, 70.84s/it]"
     ]
    },
    {
     "name": "stdout",
     "output_type": "stream",
     "text": [
      "Validation Loss: 2.303, Validation Accuracy: 9.69%\n",
      "Epoch 34, Train Loss: 21.600, Train Accuracy: 9.70%\n"
     ]
    },
    {
     "name": "stderr",
     "output_type": "stream",
     "text": [
      " 68%|██████▊   | 34/50 [42:48<19:47, 74.21s/it]"
     ]
    },
    {
     "name": "stdout",
     "output_type": "stream",
     "text": [
      "Validation Loss: 2.303, Validation Accuracy: 9.69%\n",
      "Epoch 35, Train Loss: 21.600, Train Accuracy: 9.70%\n"
     ]
    },
    {
     "name": "stderr",
     "output_type": "stream",
     "text": [
      " 70%|███████   | 35/50 [44:11<19:14, 76.94s/it]"
     ]
    },
    {
     "name": "stdout",
     "output_type": "stream",
     "text": [
      "Validation Loss: 2.303, Validation Accuracy: 9.69%\n",
      "Epoch 36, Train Loss: 21.600, Train Accuracy: 9.70%\n"
     ]
    },
    {
     "name": "stderr",
     "output_type": "stream",
     "text": [
      " 72%|███████▏  | 36/50 [45:22<17:30, 75.01s/it]"
     ]
    },
    {
     "name": "stdout",
     "output_type": "stream",
     "text": [
      "Validation Loss: 2.303, Validation Accuracy: 9.69%\n",
      "Epoch 37, Train Loss: 21.600, Train Accuracy: 9.70%\n"
     ]
    },
    {
     "name": "stderr",
     "output_type": "stream",
     "text": [
      " 74%|███████▍  | 37/50 [46:24<15:24, 71.10s/it]"
     ]
    },
    {
     "name": "stdout",
     "output_type": "stream",
     "text": [
      "Validation Loss: 2.303, Validation Accuracy: 9.69%\n",
      "Epoch 38, Train Loss: 21.600, Train Accuracy: 9.70%\n"
     ]
    },
    {
     "name": "stderr",
     "output_type": "stream",
     "text": [
      " 76%|███████▌  | 38/50 [47:25<13:36, 68.06s/it]"
     ]
    },
    {
     "name": "stdout",
     "output_type": "stream",
     "text": [
      "Validation Loss: 2.303, Validation Accuracy: 9.69%\n",
      "Epoch 39, Train Loss: 21.600, Train Accuracy: 9.70%\n"
     ]
    },
    {
     "name": "stderr",
     "output_type": "stream",
     "text": [
      " 78%|███████▊  | 39/50 [48:26<12:07, 66.18s/it]"
     ]
    },
    {
     "name": "stdout",
     "output_type": "stream",
     "text": [
      "Validation Loss: 2.303, Validation Accuracy: 9.69%\n",
      "Epoch 40, Train Loss: 21.600, Train Accuracy: 9.70%\n"
     ]
    },
    {
     "name": "stderr",
     "output_type": "stream",
     "text": [
      " 80%|████████  | 40/50 [49:28<10:48, 64.86s/it]"
     ]
    },
    {
     "name": "stdout",
     "output_type": "stream",
     "text": [
      "Validation Loss: 2.303, Validation Accuracy: 9.69%\n",
      "Epoch 41, Train Loss: 21.600, Train Accuracy: 9.70%\n"
     ]
    },
    {
     "name": "stderr",
     "output_type": "stream",
     "text": [
      " 82%|████████▏ | 41/50 [50:28<09:30, 63.44s/it]"
     ]
    },
    {
     "name": "stdout",
     "output_type": "stream",
     "text": [
      "Validation Loss: 2.303, Validation Accuracy: 9.69%\n",
      "Epoch 42, Train Loss: 21.600, Train Accuracy: 9.70%\n"
     ]
    },
    {
     "name": "stderr",
     "output_type": "stream",
     "text": [
      " 84%|████████▍ | 42/50 [51:30<08:24, 63.00s/it]"
     ]
    },
    {
     "name": "stdout",
     "output_type": "stream",
     "text": [
      "Validation Loss: 2.303, Validation Accuracy: 9.69%\n",
      "Epoch 43, Train Loss: 21.600, Train Accuracy: 9.70%\n"
     ]
    },
    {
     "name": "stderr",
     "output_type": "stream",
     "text": [
      " 86%|████████▌ | 43/50 [52:30<07:14, 62.06s/it]"
     ]
    },
    {
     "name": "stdout",
     "output_type": "stream",
     "text": [
      "Validation Loss: 2.303, Validation Accuracy: 9.69%\n",
      "Epoch 44, Train Loss: 21.600, Train Accuracy: 9.70%\n"
     ]
    },
    {
     "name": "stderr",
     "output_type": "stream",
     "text": [
      " 88%|████████▊ | 44/50 [53:34<06:15, 62.55s/it]"
     ]
    },
    {
     "name": "stdout",
     "output_type": "stream",
     "text": [
      "Validation Loss: 2.303, Validation Accuracy: 9.69%\n",
      "Epoch 45, Train Loss: 21.600, Train Accuracy: 9.70%\n"
     ]
    },
    {
     "name": "stderr",
     "output_type": "stream",
     "text": [
      " 90%|█████████ | 45/50 [54:35<05:10, 62.14s/it]"
     ]
    },
    {
     "name": "stdout",
     "output_type": "stream",
     "text": [
      "Validation Loss: 2.303, Validation Accuracy: 9.69%\n",
      "Epoch 46, Train Loss: 21.600, Train Accuracy: 9.70%\n"
     ]
    },
    {
     "name": "stderr",
     "output_type": "stream",
     "text": [
      " 92%|█████████▏| 46/50 [55:35<04:05, 61.40s/it]"
     ]
    },
    {
     "name": "stdout",
     "output_type": "stream",
     "text": [
      "Validation Loss: 2.303, Validation Accuracy: 9.69%\n",
      "Epoch 47, Train Loss: 21.600, Train Accuracy: 9.70%\n"
     ]
    },
    {
     "name": "stderr",
     "output_type": "stream",
     "text": [
      " 94%|█████████▍| 47/50 [56:35<03:03, 61.11s/it]"
     ]
    },
    {
     "name": "stdout",
     "output_type": "stream",
     "text": [
      "Validation Loss: 2.303, Validation Accuracy: 9.69%\n",
      "Epoch 48, Train Loss: 21.600, Train Accuracy: 9.70%\n"
     ]
    },
    {
     "name": "stderr",
     "output_type": "stream",
     "text": [
      " 96%|█████████▌| 48/50 [57:37<02:02, 61.22s/it]"
     ]
    },
    {
     "name": "stdout",
     "output_type": "stream",
     "text": [
      "Validation Loss: 2.303, Validation Accuracy: 9.69%\n",
      "Epoch 49, Train Loss: 21.600, Train Accuracy: 9.70%\n"
     ]
    },
    {
     "name": "stderr",
     "output_type": "stream",
     "text": [
      " 98%|█████████▊| 49/50 [58:38<01:01, 61.30s/it]"
     ]
    },
    {
     "name": "stdout",
     "output_type": "stream",
     "text": [
      "Validation Loss: 2.303, Validation Accuracy: 9.69%\n",
      "Epoch 50, Train Loss: 21.600, Train Accuracy: 9.70%\n"
     ]
    },
    {
     "name": "stderr",
     "output_type": "stream",
     "text": [
      "100%|██████████| 50/50 [59:40<00:00, 71.62s/it]"
     ]
    },
    {
     "name": "stdout",
     "output_type": "stream",
     "text": [
      "Validation Loss: 2.303, Validation Accuracy: 9.69%\n",
      "Finished Training\n"
     ]
    },
    {
     "name": "stderr",
     "output_type": "stream",
     "text": [
      "\n"
     ]
    },
    {
     "name": "stdout",
     "output_type": "stream",
     "text": [
      "Model 5 Epochs 100 Population 10\n"
     ]
    },
    {
     "name": "stderr",
     "output_type": "stream",
     "text": [
      "  0%|          | 0/100 [00:00<?, ?it/s]"
     ]
    },
    {
     "name": "stdout",
     "output_type": "stream",
     "text": [
      "Epoch 1, Train Loss: 21.600, Train Accuracy: 9.70%\n"
     ]
    },
    {
     "name": "stderr",
     "output_type": "stream",
     "text": [
      "  1%|          | 1/100 [01:14<2:02:30, 74.25s/it]"
     ]
    },
    {
     "name": "stdout",
     "output_type": "stream",
     "text": [
      "Validation Loss: 2.303, Validation Accuracy: 9.69%\n",
      "Epoch 2, Train Loss: 21.600, Train Accuracy: 9.70%\n"
     ]
    },
    {
     "name": "stderr",
     "output_type": "stream",
     "text": [
      "  2%|▏         | 2/100 [02:17<1:50:15, 67.50s/it]"
     ]
    },
    {
     "name": "stdout",
     "output_type": "stream",
     "text": [
      "Validation Loss: 2.303, Validation Accuracy: 9.69%\n",
      "Epoch 3, Train Loss: 21.600, Train Accuracy: 9.70%\n"
     ]
    },
    {
     "name": "stderr",
     "output_type": "stream",
     "text": [
      "  3%|▎         | 3/100 [03:18<1:44:38, 64.72s/it]"
     ]
    },
    {
     "name": "stdout",
     "output_type": "stream",
     "text": [
      "Validation Loss: 2.303, Validation Accuracy: 9.69%\n",
      "Epoch 4, Train Loss: 21.600, Train Accuracy: 9.70%\n"
     ]
    },
    {
     "name": "stderr",
     "output_type": "stream",
     "text": [
      "  4%|▍         | 4/100 [04:19<1:40:58, 63.11s/it]"
     ]
    },
    {
     "name": "stdout",
     "output_type": "stream",
     "text": [
      "Validation Loss: 2.303, Validation Accuracy: 9.69%\n",
      "Epoch 5, Train Loss: 21.600, Train Accuracy: 9.70%\n"
     ]
    },
    {
     "name": "stderr",
     "output_type": "stream",
     "text": [
      "  5%|▌         | 5/100 [05:21<1:39:16, 62.70s/it]"
     ]
    },
    {
     "name": "stdout",
     "output_type": "stream",
     "text": [
      "Validation Loss: 2.303, Validation Accuracy: 9.69%\n",
      "Epoch 6, Train Loss: 21.600, Train Accuracy: 9.70%\n"
     ]
    },
    {
     "name": "stderr",
     "output_type": "stream",
     "text": [
      "  6%|▌         | 6/100 [06:21<1:36:49, 61.80s/it]"
     ]
    },
    {
     "name": "stdout",
     "output_type": "stream",
     "text": [
      "Validation Loss: 2.303, Validation Accuracy: 9.69%\n",
      "Epoch 7, Train Loss: 21.600, Train Accuracy: 9.70%\n"
     ]
    },
    {
     "name": "stderr",
     "output_type": "stream",
     "text": [
      "  7%|▋         | 7/100 [07:21<1:34:56, 61.25s/it]"
     ]
    },
    {
     "name": "stdout",
     "output_type": "stream",
     "text": [
      "Validation Loss: 2.303, Validation Accuracy: 9.69%\n",
      "Epoch 8, Train Loss: 21.600, Train Accuracy: 9.70%\n"
     ]
    },
    {
     "name": "stderr",
     "output_type": "stream",
     "text": [
      "  8%|▊         | 8/100 [08:27<1:36:11, 62.74s/it]"
     ]
    },
    {
     "name": "stdout",
     "output_type": "stream",
     "text": [
      "Validation Loss: 2.303, Validation Accuracy: 9.69%\n",
      "Epoch 9, Train Loss: 21.600, Train Accuracy: 9.70%\n"
     ]
    },
    {
     "name": "stderr",
     "output_type": "stream",
     "text": [
      "  9%|▉         | 9/100 [09:32<1:36:26, 63.58s/it]"
     ]
    },
    {
     "name": "stdout",
     "output_type": "stream",
     "text": [
      "Validation Loss: 2.303, Validation Accuracy: 9.69%\n",
      "Epoch 10, Train Loss: 21.600, Train Accuracy: 9.70%\n"
     ]
    },
    {
     "name": "stderr",
     "output_type": "stream",
     "text": [
      " 10%|█         | 10/100 [10:41<1:37:52, 65.25s/it]"
     ]
    },
    {
     "name": "stdout",
     "output_type": "stream",
     "text": [
      "Validation Loss: 2.303, Validation Accuracy: 9.69%\n",
      "Epoch 11, Train Loss: 21.600, Train Accuracy: 9.70%\n"
     ]
    },
    {
     "name": "stderr",
     "output_type": "stream",
     "text": [
      " 11%|█         | 11/100 [11:53<1:39:51, 67.32s/it]"
     ]
    },
    {
     "name": "stdout",
     "output_type": "stream",
     "text": [
      "Validation Loss: 2.303, Validation Accuracy: 9.69%\n",
      "Epoch 12, Train Loss: 21.600, Train Accuracy: 9.70%\n"
     ]
    },
    {
     "name": "stderr",
     "output_type": "stream",
     "text": [
      " 12%|█▏        | 12/100 [13:12<1:43:47, 70.76s/it]"
     ]
    },
    {
     "name": "stdout",
     "output_type": "stream",
     "text": [
      "Validation Loss: 2.303, Validation Accuracy: 9.69%\n",
      "Epoch 13, Train Loss: 21.600, Train Accuracy: 9.70%\n"
     ]
    },
    {
     "name": "stderr",
     "output_type": "stream",
     "text": [
      " 13%|█▎        | 13/100 [14:34<1:47:49, 74.36s/it]"
     ]
    },
    {
     "name": "stdout",
     "output_type": "stream",
     "text": [
      "Validation Loss: 2.303, Validation Accuracy: 9.69%\n",
      "Epoch 14, Train Loss: 21.600, Train Accuracy: 9.70%\n"
     ]
    },
    {
     "name": "stderr",
     "output_type": "stream",
     "text": [
      " 14%|█▍        | 14/100 [15:44<1:44:33, 72.95s/it]"
     ]
    },
    {
     "name": "stdout",
     "output_type": "stream",
     "text": [
      "Validation Loss: 2.303, Validation Accuracy: 9.69%\n",
      "Epoch 15, Train Loss: 21.600, Train Accuracy: 9.70%\n"
     ]
    },
    {
     "name": "stderr",
     "output_type": "stream",
     "text": [
      " 15%|█▌        | 15/100 [17:10<1:49:02, 76.97s/it]"
     ]
    },
    {
     "name": "stdout",
     "output_type": "stream",
     "text": [
      "Validation Loss: 2.303, Validation Accuracy: 9.69%\n",
      "Epoch 16, Train Loss: 21.600, Train Accuracy: 9.70%\n"
     ]
    },
    {
     "name": "stderr",
     "output_type": "stream",
     "text": [
      " 16%|█▌        | 16/100 [18:46<1:55:34, 82.55s/it]"
     ]
    },
    {
     "name": "stdout",
     "output_type": "stream",
     "text": [
      "Validation Loss: 2.303, Validation Accuracy: 9.69%\n",
      "Epoch 17, Train Loss: 21.600, Train Accuracy: 9.70%\n"
     ]
    },
    {
     "name": "stderr",
     "output_type": "stream",
     "text": [
      " 17%|█▋        | 17/100 [20:11<1:55:26, 83.46s/it]"
     ]
    },
    {
     "name": "stdout",
     "output_type": "stream",
     "text": [
      "Validation Loss: 2.303, Validation Accuracy: 9.69%\n",
      "Epoch 18, Train Loss: 21.600, Train Accuracy: 9.70%\n"
     ]
    },
    {
     "name": "stderr",
     "output_type": "stream",
     "text": [
      " 18%|█▊        | 18/100 [21:47<1:59:13, 87.23s/it]"
     ]
    },
    {
     "name": "stdout",
     "output_type": "stream",
     "text": [
      "Validation Loss: 2.303, Validation Accuracy: 9.69%\n",
      "Epoch 19, Train Loss: 21.600, Train Accuracy: 9.70%\n"
     ]
    },
    {
     "name": "stderr",
     "output_type": "stream",
     "text": [
      " 19%|█▉        | 19/100 [23:26<2:02:18, 90.60s/it]"
     ]
    },
    {
     "name": "stdout",
     "output_type": "stream",
     "text": [
      "Validation Loss: 2.303, Validation Accuracy: 9.69%\n",
      "Epoch 20, Train Loss: 21.600, Train Accuracy: 9.70%\n"
     ]
    },
    {
     "name": "stderr",
     "output_type": "stream",
     "text": [
      " 20%|██        | 20/100 [25:07<2:04:53, 93.67s/it]"
     ]
    },
    {
     "name": "stdout",
     "output_type": "stream",
     "text": [
      "Validation Loss: 2.303, Validation Accuracy: 9.69%\n",
      "Epoch 21, Train Loss: 21.600, Train Accuracy: 9.70%\n"
     ]
    },
    {
     "name": "stderr",
     "output_type": "stream",
     "text": [
      " 21%|██        | 21/100 [26:41<2:03:45, 93.99s/it]"
     ]
    },
    {
     "name": "stdout",
     "output_type": "stream",
     "text": [
      "Validation Loss: 2.303, Validation Accuracy: 9.69%\n",
      "Epoch 22, Train Loss: 21.600, Train Accuracy: 9.70%\n"
     ]
    },
    {
     "name": "stderr",
     "output_type": "stream",
     "text": [
      " 22%|██▏       | 22/100 [27:55<1:54:22, 87.98s/it]"
     ]
    },
    {
     "name": "stdout",
     "output_type": "stream",
     "text": [
      "Validation Loss: 2.303, Validation Accuracy: 9.69%\n",
      "Epoch 23, Train Loss: 21.600, Train Accuracy: 9.70%\n"
     ]
    },
    {
     "name": "stderr",
     "output_type": "stream",
     "text": [
      " 23%|██▎       | 23/100 [29:22<1:52:30, 87.66s/it]"
     ]
    },
    {
     "name": "stdout",
     "output_type": "stream",
     "text": [
      "Validation Loss: 2.303, Validation Accuracy: 9.69%\n",
      "Epoch 24, Train Loss: 21.600, Train Accuracy: 9.70%\n"
     ]
    },
    {
     "name": "stderr",
     "output_type": "stream",
     "text": [
      " 24%|██▍       | 24/100 [30:51<1:51:25, 87.97s/it]"
     ]
    },
    {
     "name": "stdout",
     "output_type": "stream",
     "text": [
      "Validation Loss: 2.303, Validation Accuracy: 9.69%\n",
      "Epoch 25, Train Loss: 21.600, Train Accuracy: 9.70%\n"
     ]
    },
    {
     "name": "stderr",
     "output_type": "stream",
     "text": [
      " 25%|██▌       | 25/100 [32:24<1:51:57, 89.56s/it]"
     ]
    },
    {
     "name": "stdout",
     "output_type": "stream",
     "text": [
      "Validation Loss: 2.303, Validation Accuracy: 9.69%\n",
      "Epoch 26, Train Loss: 21.600, Train Accuracy: 9.70%\n"
     ]
    },
    {
     "name": "stderr",
     "output_type": "stream",
     "text": [
      " 26%|██▌       | 26/100 [34:09<1:56:01, 94.07s/it]"
     ]
    },
    {
     "name": "stdout",
     "output_type": "stream",
     "text": [
      "Validation Loss: 2.303, Validation Accuracy: 9.69%\n",
      "Epoch 27, Train Loss: 21.600, Train Accuracy: 9.70%\n"
     ]
    },
    {
     "name": "stderr",
     "output_type": "stream",
     "text": [
      " 27%|██▋       | 27/100 [36:07<2:03:24, 101.43s/it]"
     ]
    },
    {
     "name": "stdout",
     "output_type": "stream",
     "text": [
      "Validation Loss: 2.303, Validation Accuracy: 9.69%\n",
      "Epoch 28, Train Loss: 21.600, Train Accuracy: 9.70%\n"
     ]
    },
    {
     "name": "stderr",
     "output_type": "stream",
     "text": [
      " 28%|██▊       | 28/100 [37:43<1:59:37, 99.69s/it] "
     ]
    },
    {
     "name": "stdout",
     "output_type": "stream",
     "text": [
      "Validation Loss: 2.303, Validation Accuracy: 9.69%\n",
      "Epoch 29, Train Loss: 21.600, Train Accuracy: 9.70%\n"
     ]
    },
    {
     "name": "stderr",
     "output_type": "stream",
     "text": [
      " 29%|██▉       | 29/100 [39:11<1:53:53, 96.25s/it]"
     ]
    },
    {
     "name": "stdout",
     "output_type": "stream",
     "text": [
      "Validation Loss: 2.303, Validation Accuracy: 9.69%\n",
      "Epoch 30, Train Loss: 21.600, Train Accuracy: 9.70%\n"
     ]
    },
    {
     "name": "stderr",
     "output_type": "stream",
     "text": [
      " 30%|███       | 30/100 [40:36<1:48:24, 92.92s/it]"
     ]
    },
    {
     "name": "stdout",
     "output_type": "stream",
     "text": [
      "Validation Loss: 2.303, Validation Accuracy: 9.69%\n",
      "Epoch 31, Train Loss: 21.600, Train Accuracy: 9.70%\n"
     ]
    },
    {
     "name": "stderr",
     "output_type": "stream",
     "text": [
      " 31%|███       | 31/100 [42:04<1:45:04, 91.36s/it]"
     ]
    },
    {
     "name": "stdout",
     "output_type": "stream",
     "text": [
      "Validation Loss: 2.303, Validation Accuracy: 9.69%\n",
      "Epoch 32, Train Loss: 21.600, Train Accuracy: 9.70%\n"
     ]
    },
    {
     "name": "stderr",
     "output_type": "stream",
     "text": [
      " 32%|███▏      | 32/100 [43:30<1:41:42, 89.74s/it]"
     ]
    },
    {
     "name": "stdout",
     "output_type": "stream",
     "text": [
      "Validation Loss: 2.303, Validation Accuracy: 9.69%\n",
      "Epoch 33, Train Loss: 21.600, Train Accuracy: 9.70%\n"
     ]
    },
    {
     "name": "stderr",
     "output_type": "stream",
     "text": [
      " 33%|███▎      | 33/100 [44:56<1:38:57, 88.62s/it]"
     ]
    },
    {
     "name": "stdout",
     "output_type": "stream",
     "text": [
      "Validation Loss: 2.303, Validation Accuracy: 9.69%\n",
      "Epoch 34, Train Loss: 21.600, Train Accuracy: 9.70%\n"
     ]
    },
    {
     "name": "stderr",
     "output_type": "stream",
     "text": [
      " 34%|███▍      | 34/100 [46:21<1:36:21, 87.61s/it]"
     ]
    },
    {
     "name": "stdout",
     "output_type": "stream",
     "text": [
      "Validation Loss: 2.303, Validation Accuracy: 9.69%\n",
      "Epoch 35, Train Loss: 21.600, Train Accuracy: 9.70%\n"
     ]
    },
    {
     "name": "stderr",
     "output_type": "stream",
     "text": [
      " 35%|███▌      | 35/100 [47:38<1:31:23, 84.37s/it]"
     ]
    },
    {
     "name": "stdout",
     "output_type": "stream",
     "text": [
      "Validation Loss: 2.303, Validation Accuracy: 9.69%\n",
      "Epoch 36, Train Loss: 21.600, Train Accuracy: 9.70%\n"
     ]
    },
    {
     "name": "stderr",
     "output_type": "stream",
     "text": [
      " 36%|███▌      | 36/100 [49:18<1:34:52, 88.94s/it]"
     ]
    },
    {
     "name": "stdout",
     "output_type": "stream",
     "text": [
      "Validation Loss: 2.303, Validation Accuracy: 9.69%\n",
      "Epoch 37, Train Loss: 21.600, Train Accuracy: 9.70%\n"
     ]
    },
    {
     "name": "stderr",
     "output_type": "stream",
     "text": [
      " 37%|███▋      | 37/100 [50:50<1:34:24, 89.91s/it]"
     ]
    },
    {
     "name": "stdout",
     "output_type": "stream",
     "text": [
      "Validation Loss: 2.303, Validation Accuracy: 9.69%\n",
      "Epoch 38, Train Loss: 21.600, Train Accuracy: 9.70%\n"
     ]
    },
    {
     "name": "stderr",
     "output_type": "stream",
     "text": [
      " 38%|███▊      | 38/100 [52:25<1:34:22, 91.33s/it]"
     ]
    },
    {
     "name": "stdout",
     "output_type": "stream",
     "text": [
      "Validation Loss: 2.303, Validation Accuracy: 9.69%\n",
      "Epoch 39, Train Loss: 21.600, Train Accuracy: 9.70%\n"
     ]
    },
    {
     "name": "stderr",
     "output_type": "stream",
     "text": [
      " 39%|███▉      | 39/100 [54:01<1:34:22, 92.83s/it]"
     ]
    },
    {
     "name": "stdout",
     "output_type": "stream",
     "text": [
      "Validation Loss: 2.303, Validation Accuracy: 9.69%\n",
      "Epoch 40, Train Loss: 21.600, Train Accuracy: 9.70%\n"
     ]
    },
    {
     "name": "stderr",
     "output_type": "stream",
     "text": [
      " 40%|████      | 40/100 [55:19<1:28:20, 88.34s/it]"
     ]
    },
    {
     "name": "stdout",
     "output_type": "stream",
     "text": [
      "Validation Loss: 2.303, Validation Accuracy: 9.69%\n",
      "Epoch 41, Train Loss: 21.600, Train Accuracy: 9.70%\n"
     ]
    },
    {
     "name": "stderr",
     "output_type": "stream",
     "text": [
      " 41%|████      | 41/100 [56:30<1:21:50, 83.23s/it]"
     ]
    },
    {
     "name": "stdout",
     "output_type": "stream",
     "text": [
      "Validation Loss: 2.303, Validation Accuracy: 9.69%\n",
      "Epoch 42, Train Loss: 21.600, Train Accuracy: 9.70%\n"
     ]
    },
    {
     "name": "stderr",
     "output_type": "stream",
     "text": [
      " 42%|████▏     | 42/100 [57:59<1:22:00, 84.83s/it]"
     ]
    },
    {
     "name": "stdout",
     "output_type": "stream",
     "text": [
      "Validation Loss: 2.303, Validation Accuracy: 9.69%\n",
      "Epoch 43, Train Loss: 21.600, Train Accuracy: 9.70%\n"
     ]
    },
    {
     "name": "stderr",
     "output_type": "stream",
     "text": [
      " 43%|████▎     | 43/100 [59:18<1:18:57, 83.11s/it]"
     ]
    },
    {
     "name": "stdout",
     "output_type": "stream",
     "text": [
      "Validation Loss: 2.303, Validation Accuracy: 9.69%\n",
      "Epoch 44, Train Loss: 21.600, Train Accuracy: 9.70%\n"
     ]
    },
    {
     "name": "stderr",
     "output_type": "stream",
     "text": [
      " 44%|████▍     | 44/100 [1:00:32<1:15:01, 80.38s/it]"
     ]
    },
    {
     "name": "stdout",
     "output_type": "stream",
     "text": [
      "Validation Loss: 2.303, Validation Accuracy: 9.69%\n",
      "Epoch 45, Train Loss: 21.600, Train Accuracy: 9.70%\n"
     ]
    },
    {
     "name": "stderr",
     "output_type": "stream",
     "text": [
      " 45%|████▌     | 45/100 [1:01:43<1:11:13, 77.70s/it]"
     ]
    },
    {
     "name": "stdout",
     "output_type": "stream",
     "text": [
      "Validation Loss: 2.303, Validation Accuracy: 9.69%\n",
      "Epoch 46, Train Loss: 21.600, Train Accuracy: 9.70%\n"
     ]
    },
    {
     "name": "stderr",
     "output_type": "stream",
     "text": [
      " 46%|████▌     | 46/100 [1:02:53<1:07:46, 75.30s/it]"
     ]
    },
    {
     "name": "stdout",
     "output_type": "stream",
     "text": [
      "Validation Loss: 2.303, Validation Accuracy: 9.69%\n",
      "Epoch 47, Train Loss: 21.600, Train Accuracy: 9.70%\n"
     ]
    },
    {
     "name": "stderr",
     "output_type": "stream",
     "text": [
      " 47%|████▋     | 47/100 [1:03:57<1:03:30, 71.91s/it]"
     ]
    },
    {
     "name": "stdout",
     "output_type": "stream",
     "text": [
      "Validation Loss: 2.303, Validation Accuracy: 9.69%\n",
      "Epoch 48, Train Loss: 21.600, Train Accuracy: 9.70%\n"
     ]
    },
    {
     "name": "stderr",
     "output_type": "stream",
     "text": [
      " 48%|████▊     | 48/100 [1:05:00<59:55, 69.14s/it]  "
     ]
    },
    {
     "name": "stdout",
     "output_type": "stream",
     "text": [
      "Validation Loss: 2.303, Validation Accuracy: 9.69%\n",
      "Epoch 49, Train Loss: 21.600, Train Accuracy: 9.70%\n"
     ]
    },
    {
     "name": "stderr",
     "output_type": "stream",
     "text": [
      " 49%|████▉     | 49/100 [1:06:02<56:58, 67.04s/it]"
     ]
    },
    {
     "name": "stdout",
     "output_type": "stream",
     "text": [
      "Validation Loss: 2.303, Validation Accuracy: 9.69%\n",
      "Epoch 50, Train Loss: 21.600, Train Accuracy: 9.70%\n"
     ]
    },
    {
     "name": "stderr",
     "output_type": "stream",
     "text": [
      " 50%|█████     | 50/100 [1:07:27<1:00:23, 72.47s/it]"
     ]
    },
    {
     "name": "stdout",
     "output_type": "stream",
     "text": [
      "Validation Loss: 2.303, Validation Accuracy: 9.69%\n",
      "Epoch 51, Train Loss: 21.600, Train Accuracy: 9.70%\n"
     ]
    },
    {
     "name": "stderr",
     "output_type": "stream",
     "text": [
      " 51%|█████     | 51/100 [1:09:03<1:05:01, 79.63s/it]"
     ]
    },
    {
     "name": "stdout",
     "output_type": "stream",
     "text": [
      "Validation Loss: 2.303, Validation Accuracy: 9.69%\n",
      "Epoch 52, Train Loss: 21.600, Train Accuracy: 9.70%\n"
     ]
    },
    {
     "name": "stderr",
     "output_type": "stream",
     "text": [
      " 52%|█████▏    | 52/100 [1:10:31<1:05:42, 82.14s/it]"
     ]
    },
    {
     "name": "stdout",
     "output_type": "stream",
     "text": [
      "Validation Loss: 2.303, Validation Accuracy: 9.69%\n",
      "Epoch 53, Train Loss: 21.600, Train Accuracy: 9.70%\n"
     ]
    },
    {
     "name": "stderr",
     "output_type": "stream",
     "text": [
      " 53%|█████▎    | 53/100 [1:12:02<1:06:17, 84.62s/it]"
     ]
    },
    {
     "name": "stdout",
     "output_type": "stream",
     "text": [
      "Validation Loss: 2.303, Validation Accuracy: 9.69%\n",
      "Epoch 54, Train Loss: 21.600, Train Accuracy: 9.70%\n"
     ]
    },
    {
     "name": "stderr",
     "output_type": "stream",
     "text": [
      " 54%|█████▍    | 54/100 [1:13:30<1:05:41, 85.70s/it]"
     ]
    },
    {
     "name": "stdout",
     "output_type": "stream",
     "text": [
      "Validation Loss: 2.303, Validation Accuracy: 9.69%\n",
      "Epoch 55, Train Loss: 21.600, Train Accuracy: 9.70%\n"
     ]
    },
    {
     "name": "stderr",
     "output_type": "stream",
     "text": [
      " 55%|█████▌    | 55/100 [1:14:50<1:03:04, 84.10s/it]"
     ]
    },
    {
     "name": "stdout",
     "output_type": "stream",
     "text": [
      "Validation Loss: 2.303, Validation Accuracy: 9.69%\n",
      "Epoch 56, Train Loss: 21.600, Train Accuracy: 9.70%\n"
     ]
    },
    {
     "name": "stderr",
     "output_type": "stream",
     "text": [
      " 56%|█████▌    | 56/100 [1:16:14<1:01:40, 84.11s/it]"
     ]
    },
    {
     "name": "stdout",
     "output_type": "stream",
     "text": [
      "Validation Loss: 2.303, Validation Accuracy: 9.69%\n",
      "Epoch 57, Train Loss: 21.600, Train Accuracy: 9.70%\n"
     ]
    },
    {
     "name": "stderr",
     "output_type": "stream",
     "text": [
      " 57%|█████▋    | 57/100 [1:17:34<59:15, 82.69s/it]  "
     ]
    },
    {
     "name": "stdout",
     "output_type": "stream",
     "text": [
      "Validation Loss: 2.303, Validation Accuracy: 9.69%\n",
      "Epoch 58, Train Loss: 21.600, Train Accuracy: 9.70%\n"
     ]
    },
    {
     "name": "stderr",
     "output_type": "stream",
     "text": [
      " 58%|█████▊    | 58/100 [1:18:52<56:59, 81.42s/it]"
     ]
    },
    {
     "name": "stdout",
     "output_type": "stream",
     "text": [
      "Validation Loss: 2.303, Validation Accuracy: 9.69%\n",
      "Epoch 59, Train Loss: 21.600, Train Accuracy: 9.70%\n"
     ]
    },
    {
     "name": "stderr",
     "output_type": "stream",
     "text": [
      " 59%|█████▉    | 59/100 [1:20:21<57:04, 83.52s/it]"
     ]
    },
    {
     "name": "stdout",
     "output_type": "stream",
     "text": [
      "Validation Loss: 2.303, Validation Accuracy: 9.69%\n",
      "Epoch 60, Train Loss: 21.600, Train Accuracy: 9.70%\n"
     ]
    },
    {
     "name": "stderr",
     "output_type": "stream",
     "text": [
      " 60%|██████    | 60/100 [1:21:53<57:30, 86.26s/it]"
     ]
    },
    {
     "name": "stdout",
     "output_type": "stream",
     "text": [
      "Validation Loss: 2.303, Validation Accuracy: 9.69%\n",
      "Epoch 61, Train Loss: 21.600, Train Accuracy: 9.70%\n"
     ]
    },
    {
     "name": "stderr",
     "output_type": "stream",
     "text": [
      " 61%|██████    | 61/100 [1:23:18<55:51, 85.94s/it]"
     ]
    },
    {
     "name": "stdout",
     "output_type": "stream",
     "text": [
      "Validation Loss: 2.303, Validation Accuracy: 9.69%\n",
      "Epoch 62, Train Loss: 21.600, Train Accuracy: 9.70%\n"
     ]
    },
    {
     "name": "stderr",
     "output_type": "stream",
     "text": [
      " 62%|██████▏   | 62/100 [1:24:45<54:33, 86.13s/it]"
     ]
    },
    {
     "name": "stdout",
     "output_type": "stream",
     "text": [
      "Validation Loss: 2.303, Validation Accuracy: 9.69%\n",
      "Epoch 63, Train Loss: 21.600, Train Accuracy: 9.70%\n"
     ]
    },
    {
     "name": "stderr",
     "output_type": "stream",
     "text": [
      " 63%|██████▎   | 63/100 [1:26:18<54:17, 88.03s/it]"
     ]
    },
    {
     "name": "stdout",
     "output_type": "stream",
     "text": [
      "Validation Loss: 2.303, Validation Accuracy: 9.69%\n",
      "Epoch 64, Train Loss: 21.600, Train Accuracy: 9.70%\n"
     ]
    },
    {
     "name": "stderr",
     "output_type": "stream",
     "text": [
      " 64%|██████▍   | 64/100 [1:27:49<53:28, 89.12s/it]"
     ]
    },
    {
     "name": "stdout",
     "output_type": "stream",
     "text": [
      "Validation Loss: 2.303, Validation Accuracy: 9.69%\n",
      "Epoch 65, Train Loss: 21.600, Train Accuracy: 9.70%\n"
     ]
    },
    {
     "name": "stderr",
     "output_type": "stream",
     "text": [
      " 65%|██████▌   | 65/100 [1:29:24<52:54, 90.71s/it]"
     ]
    },
    {
     "name": "stdout",
     "output_type": "stream",
     "text": [
      "Validation Loss: 2.303, Validation Accuracy: 9.69%\n",
      "Epoch 66, Train Loss: 21.600, Train Accuracy: 9.70%\n"
     ]
    },
    {
     "name": "stderr",
     "output_type": "stream",
     "text": [
      " 66%|██████▌   | 66/100 [1:30:51<50:48, 89.67s/it]"
     ]
    },
    {
     "name": "stdout",
     "output_type": "stream",
     "text": [
      "Validation Loss: 2.303, Validation Accuracy: 9.69%\n",
      "Epoch 67, Train Loss: 21.600, Train Accuracy: 9.70%\n"
     ]
    },
    {
     "name": "stderr",
     "output_type": "stream",
     "text": [
      " 67%|██████▋   | 67/100 [1:32:18<48:49, 88.77s/it]"
     ]
    },
    {
     "name": "stdout",
     "output_type": "stream",
     "text": [
      "Validation Loss: 2.303, Validation Accuracy: 9.69%\n",
      "Epoch 68, Train Loss: 21.600, Train Accuracy: 9.70%\n"
     ]
    },
    {
     "name": "stderr",
     "output_type": "stream",
     "text": [
      " 68%|██████▊   | 68/100 [1:33:49<47:42, 89.44s/it]"
     ]
    },
    {
     "name": "stdout",
     "output_type": "stream",
     "text": [
      "Validation Loss: 2.303, Validation Accuracy: 9.69%\n",
      "Epoch 69, Train Loss: 21.600, Train Accuracy: 9.70%\n"
     ]
    },
    {
     "name": "stderr",
     "output_type": "stream",
     "text": [
      " 69%|██████▉   | 69/100 [1:35:22<46:46, 90.54s/it]"
     ]
    },
    {
     "name": "stdout",
     "output_type": "stream",
     "text": [
      "Validation Loss: 2.303, Validation Accuracy: 9.69%\n",
      "Epoch 70, Train Loss: 21.600, Train Accuracy: 9.70%\n"
     ]
    },
    {
     "name": "stderr",
     "output_type": "stream",
     "text": [
      " 70%|███████   | 70/100 [1:36:44<43:58, 87.97s/it]"
     ]
    },
    {
     "name": "stdout",
     "output_type": "stream",
     "text": [
      "Validation Loss: 2.303, Validation Accuracy: 9.69%\n",
      "Epoch 71, Train Loss: 21.600, Train Accuracy: 9.70%\n"
     ]
    },
    {
     "name": "stderr",
     "output_type": "stream",
     "text": [
      " 71%|███████   | 71/100 [1:38:09<42:11, 87.29s/it]"
     ]
    },
    {
     "name": "stdout",
     "output_type": "stream",
     "text": [
      "Validation Loss: 2.303, Validation Accuracy: 9.69%\n",
      "Epoch 72, Train Loss: 21.600, Train Accuracy: 9.70%\n"
     ]
    },
    {
     "name": "stderr",
     "output_type": "stream",
     "text": [
      " 72%|███████▏  | 72/100 [1:40:07<45:00, 96.44s/it]"
     ]
    },
    {
     "name": "stdout",
     "output_type": "stream",
     "text": [
      "Validation Loss: 2.303, Validation Accuracy: 9.69%\n",
      "Epoch 73, Train Loss: 21.600, Train Accuracy: 9.70%\n"
     ]
    },
    {
     "name": "stderr",
     "output_type": "stream",
     "text": [
      " 73%|███████▎  | 73/100 [1:41:35<42:14, 93.88s/it]"
     ]
    },
    {
     "name": "stdout",
     "output_type": "stream",
     "text": [
      "Validation Loss: 2.303, Validation Accuracy: 9.69%\n",
      "Epoch 74, Train Loss: 21.600, Train Accuracy: 9.70%\n"
     ]
    },
    {
     "name": "stderr",
     "output_type": "stream",
     "text": [
      " 74%|███████▍  | 74/100 [1:43:04<40:02, 92.41s/it]"
     ]
    },
    {
     "name": "stdout",
     "output_type": "stream",
     "text": [
      "Validation Loss: 2.303, Validation Accuracy: 9.69%\n",
      "Epoch 75, Train Loss: 21.600, Train Accuracy: 9.70%\n"
     ]
    },
    {
     "name": "stderr",
     "output_type": "stream",
     "text": [
      " 75%|███████▌  | 75/100 [1:44:57<41:03, 98.52s/it]"
     ]
    },
    {
     "name": "stdout",
     "output_type": "stream",
     "text": [
      "Validation Loss: 2.303, Validation Accuracy: 9.69%\n",
      "Epoch 76, Train Loss: 21.600, Train Accuracy: 9.70%\n"
     ]
    },
    {
     "name": "stderr",
     "output_type": "stream",
     "text": [
      " 76%|███████▌  | 76/100 [1:46:51<41:16, 103.20s/it]"
     ]
    },
    {
     "name": "stdout",
     "output_type": "stream",
     "text": [
      "Validation Loss: 2.303, Validation Accuracy: 9.69%\n",
      "Epoch 77, Train Loss: 21.600, Train Accuracy: 9.70%\n"
     ]
    },
    {
     "name": "stderr",
     "output_type": "stream",
     "text": [
      " 77%|███████▋  | 77/100 [1:48:31<39:12, 102.27s/it]"
     ]
    },
    {
     "name": "stdout",
     "output_type": "stream",
     "text": [
      "Validation Loss: 2.303, Validation Accuracy: 9.69%\n",
      "Epoch 78, Train Loss: 21.600, Train Accuracy: 9.70%\n"
     ]
    },
    {
     "name": "stderr",
     "output_type": "stream",
     "text": [
      " 78%|███████▊  | 78/100 [1:50:04<36:29, 99.53s/it] "
     ]
    },
    {
     "name": "stdout",
     "output_type": "stream",
     "text": [
      "Validation Loss: 2.303, Validation Accuracy: 9.69%\n",
      "Epoch 79, Train Loss: 21.600, Train Accuracy: 9.70%\n"
     ]
    },
    {
     "name": "stderr",
     "output_type": "stream",
     "text": [
      " 79%|███████▉  | 79/100 [1:51:31<33:32, 95.82s/it]"
     ]
    },
    {
     "name": "stdout",
     "output_type": "stream",
     "text": [
      "Validation Loss: 2.303, Validation Accuracy: 9.69%\n",
      "Epoch 80, Train Loss: 21.600, Train Accuracy: 9.70%\n"
     ]
    },
    {
     "name": "stderr",
     "output_type": "stream",
     "text": [
      " 80%|████████  | 80/100 [1:53:28<34:04, 102.21s/it]"
     ]
    },
    {
     "name": "stdout",
     "output_type": "stream",
     "text": [
      "Validation Loss: 2.303, Validation Accuracy: 9.69%\n",
      "Epoch 81, Train Loss: 21.600, Train Accuracy: 9.70%\n"
     ]
    },
    {
     "name": "stderr",
     "output_type": "stream",
     "text": [
      " 81%|████████  | 81/100 [1:55:22<33:29, 105.76s/it]"
     ]
    },
    {
     "name": "stdout",
     "output_type": "stream",
     "text": [
      "Validation Loss: 2.303, Validation Accuracy: 9.69%\n",
      "Epoch 82, Train Loss: 21.600, Train Accuracy: 9.70%\n"
     ]
    },
    {
     "name": "stderr",
     "output_type": "stream",
     "text": [
      " 82%|████████▏ | 82/100 [1:57:04<31:23, 104.64s/it]"
     ]
    },
    {
     "name": "stdout",
     "output_type": "stream",
     "text": [
      "Validation Loss: 2.303, Validation Accuracy: 9.69%\n",
      "Epoch 83, Train Loss: 21.600, Train Accuracy: 9.70%\n"
     ]
    },
    {
     "name": "stderr",
     "output_type": "stream",
     "text": [
      " 83%|████████▎ | 83/100 [1:58:49<29:40, 104.72s/it]"
     ]
    },
    {
     "name": "stdout",
     "output_type": "stream",
     "text": [
      "Validation Loss: 2.303, Validation Accuracy: 9.69%\n",
      "Epoch 84, Train Loss: 21.600, Train Accuracy: 9.70%\n"
     ]
    },
    {
     "name": "stderr",
     "output_type": "stream",
     "text": [
      " 84%|████████▍ | 84/100 [2:00:31<27:38, 103.66s/it]"
     ]
    },
    {
     "name": "stdout",
     "output_type": "stream",
     "text": [
      "Validation Loss: 2.303, Validation Accuracy: 9.69%\n",
      "Epoch 85, Train Loss: 21.600, Train Accuracy: 9.70%\n"
     ]
    },
    {
     "name": "stderr",
     "output_type": "stream",
     "text": [
      " 85%|████████▌ | 85/100 [2:02:06<25:16, 101.10s/it]"
     ]
    },
    {
     "name": "stdout",
     "output_type": "stream",
     "text": [
      "Validation Loss: 2.303, Validation Accuracy: 9.69%\n",
      "Epoch 86, Train Loss: 21.600, Train Accuracy: 9.70%\n"
     ]
    },
    {
     "name": "stderr",
     "output_type": "stream",
     "text": [
      " 86%|████████▌ | 86/100 [2:03:39<23:01, 98.66s/it] "
     ]
    },
    {
     "name": "stdout",
     "output_type": "stream",
     "text": [
      "Validation Loss: 2.303, Validation Accuracy: 9.69%\n",
      "Epoch 87, Train Loss: 21.600, Train Accuracy: 9.70%\n"
     ]
    },
    {
     "name": "stderr",
     "output_type": "stream",
     "text": [
      " 87%|████████▋ | 87/100 [2:05:18<21:24, 98.77s/it]"
     ]
    },
    {
     "name": "stdout",
     "output_type": "stream",
     "text": [
      "Validation Loss: 2.303, Validation Accuracy: 9.69%\n",
      "Epoch 88, Train Loss: 21.600, Train Accuracy: 9.70%\n"
     ]
    },
    {
     "name": "stderr",
     "output_type": "stream",
     "text": [
      " 88%|████████▊ | 88/100 [2:06:55<19:39, 98.32s/it]"
     ]
    },
    {
     "name": "stdout",
     "output_type": "stream",
     "text": [
      "Validation Loss: 2.303, Validation Accuracy: 9.69%\n",
      "Epoch 89, Train Loss: 21.600, Train Accuracy: 9.70%\n"
     ]
    },
    {
     "name": "stderr",
     "output_type": "stream",
     "text": [
      " 89%|████████▉ | 89/100 [2:08:35<18:06, 98.75s/it]"
     ]
    },
    {
     "name": "stdout",
     "output_type": "stream",
     "text": [
      "Validation Loss: 2.303, Validation Accuracy: 9.69%\n",
      "Epoch 90, Train Loss: 21.600, Train Accuracy: 9.70%\n"
     ]
    },
    {
     "name": "stderr",
     "output_type": "stream",
     "text": [
      " 90%|█████████ | 90/100 [2:10:18<16:42, 100.26s/it]"
     ]
    },
    {
     "name": "stdout",
     "output_type": "stream",
     "text": [
      "Validation Loss: 2.303, Validation Accuracy: 9.69%\n",
      "Epoch 91, Train Loss: 21.600, Train Accuracy: 9.70%\n"
     ]
    },
    {
     "name": "stderr",
     "output_type": "stream",
     "text": [
      " 91%|█████████ | 91/100 [2:11:49<14:36, 97.35s/it] "
     ]
    },
    {
     "name": "stdout",
     "output_type": "stream",
     "text": [
      "Validation Loss: 2.303, Validation Accuracy: 9.69%\n",
      "Epoch 92, Train Loss: 21.600, Train Accuracy: 9.70%\n"
     ]
    },
    {
     "name": "stderr",
     "output_type": "stream",
     "text": [
      " 92%|█████████▏| 92/100 [2:13:15<12:32, 94.05s/it]"
     ]
    },
    {
     "name": "stdout",
     "output_type": "stream",
     "text": [
      "Validation Loss: 2.303, Validation Accuracy: 9.69%\n",
      "Epoch 93, Train Loss: 21.600, Train Accuracy: 9.70%\n"
     ]
    },
    {
     "name": "stderr",
     "output_type": "stream",
     "text": [
      " 93%|█████████▎| 93/100 [2:15:03<11:27, 98.20s/it]"
     ]
    },
    {
     "name": "stdout",
     "output_type": "stream",
     "text": [
      "Validation Loss: 2.303, Validation Accuracy: 9.69%\n",
      "Epoch 94, Train Loss: 21.600, Train Accuracy: 9.70%\n"
     ]
    },
    {
     "name": "stderr",
     "output_type": "stream",
     "text": [
      " 94%|█████████▍| 94/100 [2:16:38<09:43, 97.21s/it]"
     ]
    },
    {
     "name": "stdout",
     "output_type": "stream",
     "text": [
      "Validation Loss: 2.303, Validation Accuracy: 9.69%\n",
      "Epoch 95, Train Loss: 21.600, Train Accuracy: 9.70%\n"
     ]
    },
    {
     "name": "stderr",
     "output_type": "stream",
     "text": [
      " 95%|█████████▌| 95/100 [2:18:16<08:06, 97.36s/it]"
     ]
    },
    {
     "name": "stdout",
     "output_type": "stream",
     "text": [
      "Validation Loss: 2.303, Validation Accuracy: 9.69%\n",
      "Epoch 96, Train Loss: 21.600, Train Accuracy: 9.70%\n"
     ]
    },
    {
     "name": "stderr",
     "output_type": "stream",
     "text": [
      " 96%|█████████▌| 96/100 [2:19:36<06:08, 92.13s/it]"
     ]
    },
    {
     "name": "stdout",
     "output_type": "stream",
     "text": [
      "Validation Loss: 2.303, Validation Accuracy: 9.69%\n",
      "Epoch 97, Train Loss: 21.600, Train Accuracy: 9.70%\n"
     ]
    },
    {
     "name": "stderr",
     "output_type": "stream",
     "text": [
      " 97%|█████████▋| 97/100 [2:20:48<04:18, 86.04s/it]"
     ]
    },
    {
     "name": "stdout",
     "output_type": "stream",
     "text": [
      "Validation Loss: 2.303, Validation Accuracy: 9.69%\n",
      "Epoch 98, Train Loss: 21.600, Train Accuracy: 9.70%\n"
     ]
    },
    {
     "name": "stderr",
     "output_type": "stream",
     "text": [
      " 98%|█████████▊| 98/100 [2:22:00<02:43, 81.93s/it]"
     ]
    },
    {
     "name": "stdout",
     "output_type": "stream",
     "text": [
      "Validation Loss: 2.303, Validation Accuracy: 9.69%\n",
      "Epoch 99, Train Loss: 21.600, Train Accuracy: 9.70%\n"
     ]
    },
    {
     "name": "stderr",
     "output_type": "stream",
     "text": [
      " 99%|█████████▉| 99/100 [2:23:16<01:20, 80.08s/it]"
     ]
    },
    {
     "name": "stdout",
     "output_type": "stream",
     "text": [
      "Validation Loss: 2.303, Validation Accuracy: 9.69%\n",
      "Epoch 100, Train Loss: 21.600, Train Accuracy: 9.70%\n"
     ]
    },
    {
     "name": "stderr",
     "output_type": "stream",
     "text": [
      "100%|██████████| 100/100 [2:24:41<00:00, 86.82s/it]"
     ]
    },
    {
     "name": "stdout",
     "output_type": "stream",
     "text": [
      "Validation Loss: 2.303, Validation Accuracy: 9.69%\n",
      "Finished Training\n"
     ]
    },
    {
     "name": "stderr",
     "output_type": "stream",
     "text": [
      "\n"
     ]
    },
    {
     "name": "stdout",
     "output_type": "stream",
     "text": [
      "Model 6 Epochs 100 Population 20\n"
     ]
    },
    {
     "name": "stderr",
     "output_type": "stream",
     "text": [
      "  0%|          | 0/100 [00:00<?, ?it/s]"
     ]
    },
    {
     "name": "stdout",
     "output_type": "stream",
     "text": [
      "Epoch 1, Train Loss: 21.600, Train Accuracy: 9.70%\n"
     ]
    },
    {
     "name": "stderr",
     "output_type": "stream",
     "text": [
      "  1%|          | 1/100 [01:21<2:14:58, 81.80s/it]"
     ]
    },
    {
     "name": "stdout",
     "output_type": "stream",
     "text": [
      "Validation Loss: 2.303, Validation Accuracy: 9.69%\n",
      "Epoch 2, Train Loss: 21.600, Train Accuracy: 9.70%\n"
     ]
    },
    {
     "name": "stderr",
     "output_type": "stream",
     "text": [
      "  2%|▏         | 2/100 [02:35<2:06:06, 77.21s/it]"
     ]
    },
    {
     "name": "stdout",
     "output_type": "stream",
     "text": [
      "Validation Loss: 2.303, Validation Accuracy: 9.69%\n",
      "Epoch 3, Train Loss: 21.600, Train Accuracy: 9.70%\n"
     ]
    },
    {
     "name": "stderr",
     "output_type": "stream",
     "text": [
      "  3%|▎         | 3/100 [03:54<2:06:03, 77.97s/it]"
     ]
    },
    {
     "name": "stdout",
     "output_type": "stream",
     "text": [
      "Validation Loss: 2.303, Validation Accuracy: 9.69%\n",
      "Epoch 4, Train Loss: 21.600, Train Accuracy: 9.70%\n"
     ]
    },
    {
     "name": "stderr",
     "output_type": "stream",
     "text": [
      "  4%|▍         | 4/100 [05:08<2:02:19, 76.46s/it]"
     ]
    },
    {
     "name": "stdout",
     "output_type": "stream",
     "text": [
      "Validation Loss: 2.303, Validation Accuracy: 9.69%\n",
      "Epoch 5, Train Loss: 21.600, Train Accuracy: 9.70%\n"
     ]
    },
    {
     "name": "stderr",
     "output_type": "stream",
     "text": [
      "  5%|▌         | 5/100 [06:35<2:06:47, 80.08s/it]"
     ]
    },
    {
     "name": "stdout",
     "output_type": "stream",
     "text": [
      "Validation Loss: 2.303, Validation Accuracy: 9.69%\n",
      "Epoch 6, Train Loss: 21.600, Train Accuracy: 9.70%\n"
     ]
    },
    {
     "name": "stderr",
     "output_type": "stream",
     "text": [
      "  6%|▌         | 6/100 [08:03<2:09:39, 82.76s/it]"
     ]
    },
    {
     "name": "stdout",
     "output_type": "stream",
     "text": [
      "Validation Loss: 2.303, Validation Accuracy: 9.69%\n",
      "Epoch 7, Train Loss: 21.600, Train Accuracy: 9.70%\n"
     ]
    },
    {
     "name": "stderr",
     "output_type": "stream",
     "text": [
      "  7%|▋         | 7/100 [09:18<2:04:22, 80.24s/it]"
     ]
    },
    {
     "name": "stdout",
     "output_type": "stream",
     "text": [
      "Validation Loss: 2.303, Validation Accuracy: 9.69%\n",
      "Epoch 8, Train Loss: 21.600, Train Accuracy: 9.70%\n"
     ]
    },
    {
     "name": "stderr",
     "output_type": "stream",
     "text": [
      "  8%|▊         | 8/100 [10:33<2:00:42, 78.72s/it]"
     ]
    },
    {
     "name": "stdout",
     "output_type": "stream",
     "text": [
      "Validation Loss: 2.303, Validation Accuracy: 9.69%\n",
      "Epoch 9, Train Loss: 21.600, Train Accuracy: 9.70%\n"
     ]
    },
    {
     "name": "stderr",
     "output_type": "stream",
     "text": [
      "  9%|▉         | 9/100 [11:46<1:56:46, 76.99s/it]"
     ]
    },
    {
     "name": "stdout",
     "output_type": "stream",
     "text": [
      "Validation Loss: 2.303, Validation Accuracy: 9.69%\n",
      "Epoch 10, Train Loss: 21.600, Train Accuracy: 9.70%\n"
     ]
    },
    {
     "name": "stderr",
     "output_type": "stream",
     "text": [
      " 10%|█         | 10/100 [13:04<1:55:34, 77.05s/it]"
     ]
    },
    {
     "name": "stdout",
     "output_type": "stream",
     "text": [
      "Validation Loss: 2.303, Validation Accuracy: 9.69%\n",
      "Epoch 11, Train Loss: 21.600, Train Accuracy: 9.70%\n"
     ]
    },
    {
     "name": "stderr",
     "output_type": "stream",
     "text": [
      " 11%|█         | 11/100 [14:20<1:53:58, 76.84s/it]"
     ]
    },
    {
     "name": "stdout",
     "output_type": "stream",
     "text": [
      "Validation Loss: 2.303, Validation Accuracy: 9.69%\n",
      "Epoch 12, Train Loss: 21.600, Train Accuracy: 9.70%\n"
     ]
    },
    {
     "name": "stderr",
     "output_type": "stream",
     "text": [
      " 12%|█▏        | 12/100 [15:34<1:51:35, 76.09s/it]"
     ]
    },
    {
     "name": "stdout",
     "output_type": "stream",
     "text": [
      "Validation Loss: 2.303, Validation Accuracy: 9.69%\n",
      "Epoch 13, Train Loss: 21.600, Train Accuracy: 9.70%\n"
     ]
    },
    {
     "name": "stderr",
     "output_type": "stream",
     "text": [
      " 13%|█▎        | 13/100 [16:47<1:48:54, 75.11s/it]"
     ]
    },
    {
     "name": "stdout",
     "output_type": "stream",
     "text": [
      "Validation Loss: 2.303, Validation Accuracy: 9.69%\n",
      "Epoch 14, Train Loss: 21.600, Train Accuracy: 9.70%\n"
     ]
    },
    {
     "name": "stderr",
     "output_type": "stream",
     "text": [
      " 14%|█▍        | 14/100 [18:03<1:47:44, 75.17s/it]"
     ]
    },
    {
     "name": "stdout",
     "output_type": "stream",
     "text": [
      "Validation Loss: 2.303, Validation Accuracy: 9.69%\n",
      "Epoch 15, Train Loss: 21.600, Train Accuracy: 9.70%\n"
     ]
    },
    {
     "name": "stderr",
     "output_type": "stream",
     "text": [
      " 15%|█▌        | 15/100 [19:20<1:47:37, 75.97s/it]"
     ]
    },
    {
     "name": "stdout",
     "output_type": "stream",
     "text": [
      "Validation Loss: 2.303, Validation Accuracy: 9.69%\n",
      "Epoch 16, Train Loss: 21.600, Train Accuracy: 9.70%\n"
     ]
    },
    {
     "name": "stderr",
     "output_type": "stream",
     "text": [
      " 16%|█▌        | 16/100 [20:37<1:46:49, 76.30s/it]"
     ]
    },
    {
     "name": "stdout",
     "output_type": "stream",
     "text": [
      "Validation Loss: 2.303, Validation Accuracy: 9.69%\n",
      "Epoch 17, Train Loss: 21.600, Train Accuracy: 9.70%\n"
     ]
    },
    {
     "name": "stderr",
     "output_type": "stream",
     "text": [
      " 17%|█▋        | 17/100 [21:51<1:44:33, 75.58s/it]"
     ]
    },
    {
     "name": "stdout",
     "output_type": "stream",
     "text": [
      "Validation Loss: 2.303, Validation Accuracy: 9.69%\n",
      "Epoch 18, Train Loss: 21.600, Train Accuracy: 9.70%\n"
     ]
    },
    {
     "name": "stderr",
     "output_type": "stream",
     "text": [
      " 18%|█▊        | 18/100 [23:05<1:42:23, 74.91s/it]"
     ]
    },
    {
     "name": "stdout",
     "output_type": "stream",
     "text": [
      "Validation Loss: 2.303, Validation Accuracy: 9.69%\n",
      "Epoch 19, Train Loss: 21.600, Train Accuracy: 9.70%\n"
     ]
    },
    {
     "name": "stderr",
     "output_type": "stream",
     "text": [
      " 19%|█▉        | 19/100 [24:18<1:40:40, 74.57s/it]"
     ]
    },
    {
     "name": "stdout",
     "output_type": "stream",
     "text": [
      "Validation Loss: 2.303, Validation Accuracy: 9.69%\n",
      "Epoch 20, Train Loss: 21.600, Train Accuracy: 9.70%\n"
     ]
    },
    {
     "name": "stderr",
     "output_type": "stream",
     "text": [
      " 20%|██        | 20/100 [25:30<1:38:16, 73.71s/it]"
     ]
    },
    {
     "name": "stdout",
     "output_type": "stream",
     "text": [
      "Validation Loss: 2.303, Validation Accuracy: 9.69%\n",
      "Epoch 21, Train Loss: 21.600, Train Accuracy: 9.70%\n"
     ]
    },
    {
     "name": "stderr",
     "output_type": "stream",
     "text": [
      " 21%|██        | 21/100 [27:01<1:43:58, 78.97s/it]"
     ]
    },
    {
     "name": "stdout",
     "output_type": "stream",
     "text": [
      "Validation Loss: 2.303, Validation Accuracy: 9.69%\n",
      "Epoch 22, Train Loss: 21.600, Train Accuracy: 9.70%\n"
     ]
    },
    {
     "name": "stderr",
     "output_type": "stream",
     "text": [
      " 22%|██▏       | 22/100 [28:25<1:44:29, 80.38s/it]"
     ]
    },
    {
     "name": "stdout",
     "output_type": "stream",
     "text": [
      "Validation Loss: 2.303, Validation Accuracy: 9.69%\n",
      "Epoch 23, Train Loss: 21.600, Train Accuracy: 9.70%\n"
     ]
    },
    {
     "name": "stderr",
     "output_type": "stream",
     "text": [
      " 23%|██▎       | 23/100 [29:52<1:45:47, 82.44s/it]"
     ]
    },
    {
     "name": "stdout",
     "output_type": "stream",
     "text": [
      "Validation Loss: 2.303, Validation Accuracy: 9.69%\n",
      "Epoch 24, Train Loss: 21.600, Train Accuracy: 9.70%\n"
     ]
    },
    {
     "name": "stderr",
     "output_type": "stream",
     "text": [
      " 24%|██▍       | 24/100 [31:20<1:46:15, 83.89s/it]"
     ]
    },
    {
     "name": "stdout",
     "output_type": "stream",
     "text": [
      "Validation Loss: 2.303, Validation Accuracy: 9.69%\n",
      "Epoch 25, Train Loss: 21.600, Train Accuracy: 9.70%\n"
     ]
    },
    {
     "name": "stderr",
     "output_type": "stream",
     "text": [
      " 25%|██▌       | 25/100 [32:41<1:44:04, 83.26s/it]"
     ]
    },
    {
     "name": "stdout",
     "output_type": "stream",
     "text": [
      "Validation Loss: 2.303, Validation Accuracy: 9.69%\n",
      "Epoch 26, Train Loss: 21.600, Train Accuracy: 9.70%\n"
     ]
    },
    {
     "name": "stderr",
     "output_type": "stream",
     "text": [
      " 26%|██▌       | 26/100 [34:04<1:42:17, 82.94s/it]"
     ]
    },
    {
     "name": "stdout",
     "output_type": "stream",
     "text": [
      "Validation Loss: 2.303, Validation Accuracy: 9.69%\n",
      "Epoch 27, Train Loss: 21.600, Train Accuracy: 9.70%\n"
     ]
    },
    {
     "name": "stderr",
     "output_type": "stream",
     "text": [
      " 27%|██▋       | 27/100 [36:03<1:54:14, 93.90s/it]"
     ]
    },
    {
     "name": "stdout",
     "output_type": "stream",
     "text": [
      "Validation Loss: 2.303, Validation Accuracy: 9.69%\n",
      "Epoch 28, Train Loss: 21.600, Train Accuracy: 9.70%\n"
     ]
    },
    {
     "name": "stderr",
     "output_type": "stream",
     "text": [
      " 28%|██▊       | 28/100 [38:16<2:06:35, 105.49s/it]"
     ]
    },
    {
     "name": "stdout",
     "output_type": "stream",
     "text": [
      "Validation Loss: 2.303, Validation Accuracy: 9.69%\n",
      "Epoch 29, Train Loss: 21.600, Train Accuracy: 9.70%\n"
     ]
    },
    {
     "name": "stderr",
     "output_type": "stream",
     "text": [
      " 29%|██▉       | 29/100 [39:31<1:54:00, 96.35s/it] "
     ]
    },
    {
     "name": "stdout",
     "output_type": "stream",
     "text": [
      "Validation Loss: 2.303, Validation Accuracy: 9.69%\n",
      "Epoch 30, Train Loss: 21.600, Train Accuracy: 9.70%\n"
     ]
    },
    {
     "name": "stderr",
     "output_type": "stream",
     "text": [
      " 30%|███       | 30/100 [41:13<1:54:24, 98.07s/it]"
     ]
    },
    {
     "name": "stdout",
     "output_type": "stream",
     "text": [
      "Validation Loss: 2.303, Validation Accuracy: 9.69%\n",
      "Epoch 31, Train Loss: 21.600, Train Accuracy: 9.70%\n"
     ]
    },
    {
     "name": "stderr",
     "output_type": "stream",
     "text": [
      " 31%|███       | 31/100 [43:03<1:57:02, 101.77s/it]"
     ]
    },
    {
     "name": "stdout",
     "output_type": "stream",
     "text": [
      "Validation Loss: 2.303, Validation Accuracy: 9.69%\n",
      "Epoch 32, Train Loss: 21.600, Train Accuracy: 9.70%\n"
     ]
    },
    {
     "name": "stderr",
     "output_type": "stream",
     "text": [
      " 32%|███▏      | 32/100 [44:59<2:00:10, 106.03s/it]"
     ]
    },
    {
     "name": "stdout",
     "output_type": "stream",
     "text": [
      "Validation Loss: 2.303, Validation Accuracy: 9.69%\n",
      "Epoch 33, Train Loss: 21.600, Train Accuracy: 9.70%\n"
     ]
    },
    {
     "name": "stderr",
     "output_type": "stream",
     "text": [
      " 33%|███▎      | 33/100 [46:56<2:02:00, 109.27s/it]"
     ]
    },
    {
     "name": "stdout",
     "output_type": "stream",
     "text": [
      "Validation Loss: 2.303, Validation Accuracy: 9.69%\n",
      "Epoch 34, Train Loss: 21.600, Train Accuracy: 9.70%\n"
     ]
    },
    {
     "name": "stderr",
     "output_type": "stream",
     "text": [
      " 34%|███▍      | 34/100 [48:35<1:56:50, 106.21s/it]"
     ]
    },
    {
     "name": "stdout",
     "output_type": "stream",
     "text": [
      "Validation Loss: 2.303, Validation Accuracy: 9.69%\n",
      "Epoch 35, Train Loss: 21.600, Train Accuracy: 9.70%\n"
     ]
    },
    {
     "name": "stderr",
     "output_type": "stream",
     "text": [
      " 35%|███▌      | 35/100 [50:15<1:53:05, 104.39s/it]"
     ]
    },
    {
     "name": "stdout",
     "output_type": "stream",
     "text": [
      "Validation Loss: 2.303, Validation Accuracy: 9.69%\n",
      "Epoch 36, Train Loss: 21.600, Train Accuracy: 9.70%\n"
     ]
    },
    {
     "name": "stderr",
     "output_type": "stream",
     "text": [
      " 36%|███▌      | 36/100 [51:40<1:44:58, 98.41s/it] "
     ]
    },
    {
     "name": "stdout",
     "output_type": "stream",
     "text": [
      "Validation Loss: 2.303, Validation Accuracy: 9.69%\n",
      "Epoch 37, Train Loss: 21.600, Train Accuracy: 9.70%\n"
     ]
    },
    {
     "name": "stderr",
     "output_type": "stream",
     "text": [
      " 37%|███▋      | 37/100 [53:11<1:40:59, 96.18s/it]"
     ]
    },
    {
     "name": "stdout",
     "output_type": "stream",
     "text": [
      "Validation Loss: 2.303, Validation Accuracy: 9.69%\n",
      "Epoch 38, Train Loss: 21.600, Train Accuracy: 9.70%\n"
     ]
    },
    {
     "name": "stderr",
     "output_type": "stream",
     "text": [
      " 38%|███▊      | 38/100 [54:45<1:38:49, 95.64s/it]"
     ]
    },
    {
     "name": "stdout",
     "output_type": "stream",
     "text": [
      "Validation Loss: 2.303, Validation Accuracy: 9.69%\n",
      "Epoch 39, Train Loss: 21.600, Train Accuracy: 9.70%\n"
     ]
    },
    {
     "name": "stderr",
     "output_type": "stream",
     "text": [
      " 39%|███▉      | 39/100 [56:34<1:41:10, 99.52s/it]"
     ]
    },
    {
     "name": "stdout",
     "output_type": "stream",
     "text": [
      "Validation Loss: 2.303, Validation Accuracy: 9.69%\n",
      "Epoch 40, Train Loss: 21.600, Train Accuracy: 9.70%\n"
     ]
    },
    {
     "name": "stderr",
     "output_type": "stream",
     "text": [
      " 40%|████      | 40/100 [58:18<1:41:06, 101.11s/it]"
     ]
    },
    {
     "name": "stdout",
     "output_type": "stream",
     "text": [
      "Validation Loss: 2.303, Validation Accuracy: 9.69%\n",
      "Epoch 41, Train Loss: 21.600, Train Accuracy: 9.70%\n"
     ]
    },
    {
     "name": "stderr",
     "output_type": "stream",
     "text": [
      " 41%|████      | 41/100 [59:57<1:38:37, 100.30s/it]"
     ]
    },
    {
     "name": "stdout",
     "output_type": "stream",
     "text": [
      "Validation Loss: 2.303, Validation Accuracy: 9.69%\n",
      "Epoch 42, Train Loss: 21.600, Train Accuracy: 9.70%\n"
     ]
    },
    {
     "name": "stderr",
     "output_type": "stream",
     "text": [
      " 42%|████▏     | 42/100 [1:02:06<1:45:21, 108.99s/it]"
     ]
    },
    {
     "name": "stdout",
     "output_type": "stream",
     "text": [
      "Validation Loss: 2.303, Validation Accuracy: 9.69%\n",
      "Epoch 43, Train Loss: 21.600, Train Accuracy: 9.70%\n"
     ]
    },
    {
     "name": "stderr",
     "output_type": "stream",
     "text": [
      " 43%|████▎     | 43/100 [1:04:09<1:47:37, 113.28s/it]"
     ]
    },
    {
     "name": "stdout",
     "output_type": "stream",
     "text": [
      "Validation Loss: 2.303, Validation Accuracy: 9.69%\n",
      "Epoch 44, Train Loss: 21.600, Train Accuracy: 9.70%\n"
     ]
    },
    {
     "name": "stderr",
     "output_type": "stream",
     "text": [
      " 44%|████▍     | 44/100 [1:06:10<1:47:52, 115.58s/it]"
     ]
    },
    {
     "name": "stdout",
     "output_type": "stream",
     "text": [
      "Validation Loss: 2.303, Validation Accuracy: 9.69%\n",
      "Epoch 45, Train Loss: 21.600, Train Accuracy: 9.70%\n"
     ]
    },
    {
     "name": "stderr",
     "output_type": "stream",
     "text": [
      " 45%|████▌     | 45/100 [1:08:22<1:50:15, 120.29s/it]"
     ]
    },
    {
     "name": "stdout",
     "output_type": "stream",
     "text": [
      "Validation Loss: 2.303, Validation Accuracy: 9.69%\n",
      "Epoch 46, Train Loss: 21.600, Train Accuracy: 9.70%\n"
     ]
    },
    {
     "name": "stderr",
     "output_type": "stream",
     "text": [
      " 46%|████▌     | 46/100 [1:10:52<1:56:30, 129.46s/it]"
     ]
    },
    {
     "name": "stdout",
     "output_type": "stream",
     "text": [
      "Validation Loss: 2.303, Validation Accuracy: 9.69%\n",
      "Epoch 47, Train Loss: 21.600, Train Accuracy: 9.70%\n"
     ]
    },
    {
     "name": "stderr",
     "output_type": "stream",
     "text": [
      " 47%|████▋     | 47/100 [1:13:06<1:55:33, 130.82s/it]"
     ]
    },
    {
     "name": "stdout",
     "output_type": "stream",
     "text": [
      "Validation Loss: 2.303, Validation Accuracy: 9.69%\n",
      "Epoch 48, Train Loss: 21.600, Train Accuracy: 9.70%\n"
     ]
    },
    {
     "name": "stderr",
     "output_type": "stream",
     "text": [
      " 48%|████▊     | 48/100 [1:15:30<1:56:45, 134.72s/it]"
     ]
    },
    {
     "name": "stdout",
     "output_type": "stream",
     "text": [
      "Validation Loss: 2.303, Validation Accuracy: 9.69%\n",
      "Epoch 49, Train Loss: 21.600, Train Accuracy: 9.70%\n"
     ]
    },
    {
     "name": "stderr",
     "output_type": "stream",
     "text": [
      " 49%|████▉     | 49/100 [1:18:12<2:01:25, 142.85s/it]"
     ]
    },
    {
     "name": "stdout",
     "output_type": "stream",
     "text": [
      "Validation Loss: 2.303, Validation Accuracy: 9.69%\n",
      "Epoch 50, Train Loss: 21.600, Train Accuracy: 9.70%\n"
     ]
    },
    {
     "name": "stderr",
     "output_type": "stream",
     "text": [
      " 50%|█████     | 50/100 [1:20:11<1:53:03, 135.67s/it]"
     ]
    },
    {
     "name": "stdout",
     "output_type": "stream",
     "text": [
      "Validation Loss: 2.303, Validation Accuracy: 9.69%\n",
      "Epoch 51, Train Loss: 21.600, Train Accuracy: 9.70%\n"
     ]
    },
    {
     "name": "stderr",
     "output_type": "stream",
     "text": [
      " 51%|█████     | 51/100 [1:21:42<1:39:48, 122.20s/it]"
     ]
    },
    {
     "name": "stdout",
     "output_type": "stream",
     "text": [
      "Validation Loss: 2.303, Validation Accuracy: 9.69%\n",
      "Epoch 52, Train Loss: 21.600, Train Accuracy: 9.70%\n"
     ]
    },
    {
     "name": "stderr",
     "output_type": "stream",
     "text": [
      " 52%|█████▏    | 52/100 [1:23:10<1:29:31, 111.90s/it]"
     ]
    },
    {
     "name": "stdout",
     "output_type": "stream",
     "text": [
      "Validation Loss: 2.303, Validation Accuracy: 9.69%\n",
      "Epoch 53, Train Loss: 21.600, Train Accuracy: 9.70%\n"
     ]
    },
    {
     "name": "stderr",
     "output_type": "stream",
     "text": [
      " 53%|█████▎    | 53/100 [1:25:07<1:28:51, 113.43s/it]"
     ]
    },
    {
     "name": "stdout",
     "output_type": "stream",
     "text": [
      "Validation Loss: 2.303, Validation Accuracy: 9.69%\n",
      "Epoch 54, Train Loss: 21.600, Train Accuracy: 9.70%\n"
     ]
    },
    {
     "name": "stderr",
     "output_type": "stream",
     "text": [
      " 54%|█████▍    | 54/100 [1:27:22<1:32:07, 120.17s/it]"
     ]
    },
    {
     "name": "stdout",
     "output_type": "stream",
     "text": [
      "Validation Loss: 2.303, Validation Accuracy: 9.69%\n",
      "Epoch 55, Train Loss: 21.600, Train Accuracy: 9.70%\n"
     ]
    },
    {
     "name": "stderr",
     "output_type": "stream",
     "text": [
      " 55%|█████▌    | 55/100 [1:29:19<1:29:17, 119.05s/it]"
     ]
    },
    {
     "name": "stdout",
     "output_type": "stream",
     "text": [
      "Validation Loss: 2.303, Validation Accuracy: 9.69%\n",
      "Epoch 56, Train Loss: 21.600, Train Accuracy: 9.70%\n"
     ]
    },
    {
     "name": "stderr",
     "output_type": "stream",
     "text": [
      " 56%|█████▌    | 56/100 [1:31:20<1:27:50, 119.77s/it]"
     ]
    },
    {
     "name": "stdout",
     "output_type": "stream",
     "text": [
      "Validation Loss: 2.303, Validation Accuracy: 9.69%\n",
      "Epoch 57, Train Loss: 21.600, Train Accuracy: 9.70%\n"
     ]
    },
    {
     "name": "stderr",
     "output_type": "stream",
     "text": [
      " 57%|█████▋    | 57/100 [1:33:16<1:24:58, 118.56s/it]"
     ]
    },
    {
     "name": "stdout",
     "output_type": "stream",
     "text": [
      "Validation Loss: 2.303, Validation Accuracy: 9.69%\n",
      "Epoch 58, Train Loss: 21.600, Train Accuracy: 9.70%\n"
     ]
    },
    {
     "name": "stderr",
     "output_type": "stream",
     "text": [
      " 58%|█████▊    | 58/100 [1:35:26<1:25:25, 122.03s/it]"
     ]
    },
    {
     "name": "stdout",
     "output_type": "stream",
     "text": [
      "Validation Loss: 2.303, Validation Accuracy: 9.69%\n",
      "Epoch 59, Train Loss: 21.600, Train Accuracy: 9.70%\n"
     ]
    },
    {
     "name": "stderr",
     "output_type": "stream",
     "text": [
      " 59%|█████▉    | 59/100 [1:37:27<1:23:10, 121.73s/it]"
     ]
    },
    {
     "name": "stdout",
     "output_type": "stream",
     "text": [
      "Validation Loss: 2.303, Validation Accuracy: 9.69%\n",
      "Epoch 60, Train Loss: 21.600, Train Accuracy: 9.70%\n"
     ]
    },
    {
     "name": "stderr",
     "output_type": "stream",
     "text": [
      " 60%|██████    | 60/100 [1:38:57<1:14:43, 112.08s/it]"
     ]
    },
    {
     "name": "stdout",
     "output_type": "stream",
     "text": [
      "Validation Loss: 2.303, Validation Accuracy: 9.69%\n",
      "Epoch 61, Train Loss: 21.600, Train Accuracy: 9.70%\n"
     ]
    },
    {
     "name": "stderr",
     "output_type": "stream",
     "text": [
      " 61%|██████    | 61/100 [1:40:16<1:06:20, 102.07s/it]"
     ]
    },
    {
     "name": "stdout",
     "output_type": "stream",
     "text": [
      "Validation Loss: 2.303, Validation Accuracy: 9.69%\n",
      "Epoch 62, Train Loss: 21.600, Train Accuracy: 9.70%\n"
     ]
    },
    {
     "name": "stderr",
     "output_type": "stream",
     "text": [
      " 62%|██████▏   | 62/100 [1:41:42<1:01:45, 97.51s/it] "
     ]
    },
    {
     "name": "stdout",
     "output_type": "stream",
     "text": [
      "Validation Loss: 2.303, Validation Accuracy: 9.69%\n",
      "Epoch 63, Train Loss: 21.600, Train Accuracy: 9.70%\n"
     ]
    },
    {
     "name": "stderr",
     "output_type": "stream",
     "text": [
      " 63%|██████▎   | 63/100 [1:43:05<57:20, 93.00s/it]  "
     ]
    },
    {
     "name": "stdout",
     "output_type": "stream",
     "text": [
      "Validation Loss: 2.303, Validation Accuracy: 9.69%\n",
      "Epoch 64, Train Loss: 21.600, Train Accuracy: 9.70%\n"
     ]
    },
    {
     "name": "stderr",
     "output_type": "stream",
     "text": [
      " 64%|██████▍   | 64/100 [1:45:10<1:01:31, 102.55s/it]"
     ]
    },
    {
     "name": "stdout",
     "output_type": "stream",
     "text": [
      "Validation Loss: 2.303, Validation Accuracy: 9.69%\n",
      "Epoch 65, Train Loss: 21.600, Train Accuracy: 9.70%\n"
     ]
    },
    {
     "name": "stderr",
     "output_type": "stream",
     "text": [
      " 65%|██████▌   | 65/100 [1:47:45<1:09:04, 118.42s/it]"
     ]
    },
    {
     "name": "stdout",
     "output_type": "stream",
     "text": [
      "Validation Loss: 2.303, Validation Accuracy: 9.69%\n",
      "Epoch 66, Train Loss: 21.600, Train Accuracy: 9.70%\n"
     ]
    },
    {
     "name": "stderr",
     "output_type": "stream",
     "text": [
      " 66%|██████▌   | 66/100 [1:50:04<1:10:38, 124.65s/it]"
     ]
    },
    {
     "name": "stdout",
     "output_type": "stream",
     "text": [
      "Validation Loss: 2.303, Validation Accuracy: 9.69%\n",
      "Epoch 67, Train Loss: 21.600, Train Accuracy: 9.70%\n"
     ]
    },
    {
     "name": "stderr",
     "output_type": "stream",
     "text": [
      " 67%|██████▋   | 67/100 [1:51:53<1:05:50, 119.72s/it]"
     ]
    },
    {
     "name": "stdout",
     "output_type": "stream",
     "text": [
      "Validation Loss: 2.303, Validation Accuracy: 9.69%\n",
      "Epoch 68, Train Loss: 21.600, Train Accuracy: 9.70%\n"
     ]
    },
    {
     "name": "stderr",
     "output_type": "stream",
     "text": [
      " 68%|██████▊   | 68/100 [1:53:13<57:31, 107.85s/it]  "
     ]
    },
    {
     "name": "stdout",
     "output_type": "stream",
     "text": [
      "Validation Loss: 2.303, Validation Accuracy: 9.69%\n",
      "Epoch 69, Train Loss: 21.600, Train Accuracy: 9.70%\n"
     ]
    },
    {
     "name": "stderr",
     "output_type": "stream",
     "text": [
      " 69%|██████▉   | 69/100 [1:54:29<50:51, 98.42s/it] "
     ]
    },
    {
     "name": "stdout",
     "output_type": "stream",
     "text": [
      "Validation Loss: 2.303, Validation Accuracy: 9.69%\n",
      "Epoch 70, Train Loss: 21.600, Train Accuracy: 9.70%\n"
     ]
    },
    {
     "name": "stderr",
     "output_type": "stream",
     "text": [
      " 70%|███████   | 70/100 [1:55:42<45:22, 90.75s/it]"
     ]
    },
    {
     "name": "stdout",
     "output_type": "stream",
     "text": [
      "Validation Loss: 2.303, Validation Accuracy: 9.69%\n",
      "Epoch 71, Train Loss: 21.600, Train Accuracy: 9.70%\n"
     ]
    },
    {
     "name": "stderr",
     "output_type": "stream",
     "text": [
      " 71%|███████   | 71/100 [1:56:54<41:06, 85.04s/it]"
     ]
    },
    {
     "name": "stdout",
     "output_type": "stream",
     "text": [
      "Validation Loss: 2.303, Validation Accuracy: 9.69%\n",
      "Epoch 72, Train Loss: 21.600, Train Accuracy: 9.70%\n"
     ]
    },
    {
     "name": "stderr",
     "output_type": "stream",
     "text": [
      " 72%|███████▏  | 72/100 [1:58:08<38:07, 81.70s/it]"
     ]
    },
    {
     "name": "stdout",
     "output_type": "stream",
     "text": [
      "Validation Loss: 2.303, Validation Accuracy: 9.69%\n",
      "Epoch 73, Train Loss: 21.600, Train Accuracy: 9.70%\n"
     ]
    },
    {
     "name": "stderr",
     "output_type": "stream",
     "text": [
      " 73%|███████▎  | 73/100 [1:59:21<35:40, 79.29s/it]"
     ]
    },
    {
     "name": "stdout",
     "output_type": "stream",
     "text": [
      "Validation Loss: 2.303, Validation Accuracy: 9.69%\n",
      "Epoch 74, Train Loss: 21.600, Train Accuracy: 9.70%\n"
     ]
    },
    {
     "name": "stderr",
     "output_type": "stream",
     "text": [
      " 74%|███████▍  | 74/100 [2:00:39<34:08, 78.80s/it]"
     ]
    },
    {
     "name": "stdout",
     "output_type": "stream",
     "text": [
      "Validation Loss: 2.303, Validation Accuracy: 9.69%\n",
      "Epoch 75, Train Loss: 21.600, Train Accuracy: 9.70%\n"
     ]
    },
    {
     "name": "stderr",
     "output_type": "stream",
     "text": [
      " 75%|███████▌  | 75/100 [2:02:20<35:35, 85.43s/it]"
     ]
    },
    {
     "name": "stdout",
     "output_type": "stream",
     "text": [
      "Validation Loss: 2.303, Validation Accuracy: 9.69%\n",
      "Epoch 76, Train Loss: 21.600, Train Accuracy: 9.70%\n"
     ]
    },
    {
     "name": "stderr",
     "output_type": "stream",
     "text": [
      " 76%|███████▌  | 76/100 [2:03:57<35:34, 88.95s/it]"
     ]
    },
    {
     "name": "stdout",
     "output_type": "stream",
     "text": [
      "Validation Loss: 2.303, Validation Accuracy: 9.69%\n",
      "Epoch 77, Train Loss: 21.600, Train Accuracy: 9.70%\n"
     ]
    },
    {
     "name": "stderr",
     "output_type": "stream",
     "text": [
      " 77%|███████▋  | 77/100 [2:05:18<33:09, 86.52s/it]"
     ]
    },
    {
     "name": "stdout",
     "output_type": "stream",
     "text": [
      "Validation Loss: 2.303, Validation Accuracy: 9.69%\n",
      "Epoch 78, Train Loss: 21.600, Train Accuracy: 9.70%\n"
     ]
    },
    {
     "name": "stderr",
     "output_type": "stream",
     "text": [
      " 78%|███████▊  | 78/100 [2:06:31<30:16, 82.57s/it]"
     ]
    },
    {
     "name": "stdout",
     "output_type": "stream",
     "text": [
      "Validation Loss: 2.303, Validation Accuracy: 9.69%\n",
      "Epoch 79, Train Loss: 21.600, Train Accuracy: 9.70%\n"
     ]
    },
    {
     "name": "stderr",
     "output_type": "stream",
     "text": [
      " 79%|███████▉  | 79/100 [2:07:41<27:36, 78.87s/it]"
     ]
    },
    {
     "name": "stdout",
     "output_type": "stream",
     "text": [
      "Validation Loss: 2.303, Validation Accuracy: 9.69%\n",
      "Epoch 80, Train Loss: 21.600, Train Accuracy: 9.70%\n"
     ]
    },
    {
     "name": "stderr",
     "output_type": "stream",
     "text": [
      " 80%|████████  | 80/100 [2:08:59<26:10, 78.52s/it]"
     ]
    },
    {
     "name": "stdout",
     "output_type": "stream",
     "text": [
      "Validation Loss: 2.303, Validation Accuracy: 9.69%\n",
      "Epoch 81, Train Loss: 21.600, Train Accuracy: 9.70%\n"
     ]
    },
    {
     "name": "stderr",
     "output_type": "stream",
     "text": [
      " 81%|████████  | 81/100 [2:10:19<25:01, 79.00s/it]"
     ]
    },
    {
     "name": "stdout",
     "output_type": "stream",
     "text": [
      "Validation Loss: 2.303, Validation Accuracy: 9.69%\n",
      "Epoch 82, Train Loss: 21.600, Train Accuracy: 9.70%\n"
     ]
    },
    {
     "name": "stderr",
     "output_type": "stream",
     "text": [
      " 82%|████████▏ | 82/100 [2:11:40<23:48, 79.38s/it]"
     ]
    },
    {
     "name": "stdout",
     "output_type": "stream",
     "text": [
      "Validation Loss: 2.303, Validation Accuracy: 9.69%\n",
      "Epoch 83, Train Loss: 21.600, Train Accuracy: 9.70%\n"
     ]
    },
    {
     "name": "stderr",
     "output_type": "stream",
     "text": [
      " 83%|████████▎ | 83/100 [2:12:42<21:01, 74.22s/it]"
     ]
    },
    {
     "name": "stdout",
     "output_type": "stream",
     "text": [
      "Validation Loss: 2.303, Validation Accuracy: 9.69%\n",
      "Epoch 84, Train Loss: 21.600, Train Accuracy: 9.70%\n"
     ]
    },
    {
     "name": "stderr",
     "output_type": "stream",
     "text": [
      " 84%|████████▍ | 84/100 [2:13:42<18:42, 70.14s/it]"
     ]
    },
    {
     "name": "stdout",
     "output_type": "stream",
     "text": [
      "Validation Loss: 2.303, Validation Accuracy: 9.69%\n",
      "Epoch 85, Train Loss: 21.600, Train Accuracy: 9.70%\n"
     ]
    },
    {
     "name": "stderr",
     "output_type": "stream",
     "text": [
      " 85%|████████▌ | 85/100 [2:14:49<17:15, 69.00s/it]"
     ]
    },
    {
     "name": "stdout",
     "output_type": "stream",
     "text": [
      "Validation Loss: 2.303, Validation Accuracy: 9.69%\n",
      "Epoch 86, Train Loss: 21.600, Train Accuracy: 9.70%\n"
     ]
    },
    {
     "name": "stderr",
     "output_type": "stream",
     "text": [
      " 86%|████████▌ | 86/100 [2:15:49<15:30, 66.47s/it]"
     ]
    },
    {
     "name": "stdout",
     "output_type": "stream",
     "text": [
      "Validation Loss: 2.303, Validation Accuracy: 9.69%\n",
      "Epoch 87, Train Loss: 21.600, Train Accuracy: 9.70%\n"
     ]
    },
    {
     "name": "stderr",
     "output_type": "stream",
     "text": [
      " 87%|████████▋ | 87/100 [2:16:53<14:13, 65.63s/it]"
     ]
    },
    {
     "name": "stdout",
     "output_type": "stream",
     "text": [
      "Validation Loss: 2.303, Validation Accuracy: 9.69%\n",
      "Epoch 88, Train Loss: 21.600, Train Accuracy: 9.70%\n"
     ]
    },
    {
     "name": "stderr",
     "output_type": "stream",
     "text": [
      " 88%|████████▊ | 88/100 [2:17:55<12:55, 64.61s/it]"
     ]
    },
    {
     "name": "stdout",
     "output_type": "stream",
     "text": [
      "Validation Loss: 2.303, Validation Accuracy: 9.69%\n",
      "Epoch 89, Train Loss: 21.600, Train Accuracy: 9.70%\n"
     ]
    },
    {
     "name": "stderr",
     "output_type": "stream",
     "text": [
      " 89%|████████▉ | 89/100 [2:19:12<12:29, 68.18s/it]"
     ]
    },
    {
     "name": "stdout",
     "output_type": "stream",
     "text": [
      "Validation Loss: 2.303, Validation Accuracy: 9.69%\n",
      "Epoch 90, Train Loss: 21.600, Train Accuracy: 9.70%\n"
     ]
    },
    {
     "name": "stderr",
     "output_type": "stream",
     "text": [
      " 90%|█████████ | 90/100 [2:20:35<12:07, 72.77s/it]"
     ]
    },
    {
     "name": "stdout",
     "output_type": "stream",
     "text": [
      "Validation Loss: 2.303, Validation Accuracy: 9.69%\n",
      "Epoch 91, Train Loss: 21.600, Train Accuracy: 9.70%\n"
     ]
    },
    {
     "name": "stderr",
     "output_type": "stream",
     "text": [
      " 91%|█████████ | 91/100 [2:21:48<10:54, 72.74s/it]"
     ]
    },
    {
     "name": "stdout",
     "output_type": "stream",
     "text": [
      "Validation Loss: 2.303, Validation Accuracy: 9.69%\n",
      "Epoch 92, Train Loss: 21.600, Train Accuracy: 9.70%\n"
     ]
    },
    {
     "name": "stderr",
     "output_type": "stream",
     "text": [
      " 92%|█████████▏| 92/100 [2:23:04<09:49, 73.63s/it]"
     ]
    },
    {
     "name": "stdout",
     "output_type": "stream",
     "text": [
      "Validation Loss: 2.303, Validation Accuracy: 9.69%\n",
      "Epoch 93, Train Loss: 21.600, Train Accuracy: 9.70%\n"
     ]
    },
    {
     "name": "stderr",
     "output_type": "stream",
     "text": [
      " 93%|█████████▎| 93/100 [2:24:19<08:39, 74.21s/it]"
     ]
    },
    {
     "name": "stdout",
     "output_type": "stream",
     "text": [
      "Validation Loss: 2.303, Validation Accuracy: 9.69%\n",
      "Epoch 94, Train Loss: 21.600, Train Accuracy: 9.70%\n"
     ]
    },
    {
     "name": "stderr",
     "output_type": "stream",
     "text": [
      " 94%|█████████▍| 94/100 [2:25:30<07:19, 73.18s/it]"
     ]
    },
    {
     "name": "stdout",
     "output_type": "stream",
     "text": [
      "Validation Loss: 2.303, Validation Accuracy: 9.69%\n",
      "Epoch 95, Train Loss: 21.600, Train Accuracy: 9.70%\n"
     ]
    },
    {
     "name": "stderr",
     "output_type": "stream",
     "text": [
      " 95%|█████████▌| 95/100 [2:26:46<06:10, 74.14s/it]"
     ]
    },
    {
     "name": "stdout",
     "output_type": "stream",
     "text": [
      "Validation Loss: 2.303, Validation Accuracy: 9.69%\n",
      "Epoch 96, Train Loss: 21.600, Train Accuracy: 9.70%\n"
     ]
    },
    {
     "name": "stderr",
     "output_type": "stream",
     "text": [
      " 96%|█████████▌| 96/100 [2:27:59<04:54, 73.64s/it]"
     ]
    },
    {
     "name": "stdout",
     "output_type": "stream",
     "text": [
      "Validation Loss: 2.303, Validation Accuracy: 9.69%\n",
      "Epoch 97, Train Loss: 21.600, Train Accuracy: 9.70%\n"
     ]
    },
    {
     "name": "stderr",
     "output_type": "stream",
     "text": [
      " 97%|█████████▋| 97/100 [2:29:15<03:43, 74.35s/it]"
     ]
    },
    {
     "name": "stdout",
     "output_type": "stream",
     "text": [
      "Validation Loss: 2.303, Validation Accuracy: 9.69%\n",
      "Epoch 98, Train Loss: 21.600, Train Accuracy: 9.70%\n"
     ]
    },
    {
     "name": "stderr",
     "output_type": "stream",
     "text": [
      " 98%|█████████▊| 98/100 [2:30:27<02:27, 73.59s/it]"
     ]
    },
    {
     "name": "stdout",
     "output_type": "stream",
     "text": [
      "Validation Loss: 2.303, Validation Accuracy: 9.69%\n",
      "Epoch 99, Train Loss: 21.600, Train Accuracy: 9.70%\n"
     ]
    },
    {
     "name": "stderr",
     "output_type": "stream",
     "text": [
      " 99%|█████████▉| 99/100 [2:31:37<01:12, 72.58s/it]"
     ]
    },
    {
     "name": "stdout",
     "output_type": "stream",
     "text": [
      "Validation Loss: 2.303, Validation Accuracy: 9.69%\n",
      "Epoch 100, Train Loss: 21.600, Train Accuracy: 9.70%\n"
     ]
    },
    {
     "name": "stderr",
     "output_type": "stream",
     "text": [
      "100%|██████████| 100/100 [2:32:49<00:00, 91.70s/it]"
     ]
    },
    {
     "name": "stdout",
     "output_type": "stream",
     "text": [
      "Validation Loss: 2.303, Validation Accuracy: 9.69%\n",
      "Finished Training\n"
     ]
    },
    {
     "name": "stderr",
     "output_type": "stream",
     "text": [
      "\n"
     ]
    },
    {
     "name": "stdout",
     "output_type": "stream",
     "text": [
      "Model 7 Epochs 100 Population 25\n"
     ]
    },
    {
     "name": "stderr",
     "output_type": "stream",
     "text": [
      "  0%|          | 0/100 [00:00<?, ?it/s]"
     ]
    },
    {
     "name": "stdout",
     "output_type": "stream",
     "text": [
      "Epoch 1, Train Loss: 21.600, Train Accuracy: 9.70%\n"
     ]
    },
    {
     "name": "stderr",
     "output_type": "stream",
     "text": [
      "  1%|          | 1/100 [01:45<2:53:59, 105.45s/it]"
     ]
    },
    {
     "name": "stdout",
     "output_type": "stream",
     "text": [
      "Validation Loss: 2.303, Validation Accuracy: 9.69%\n",
      "Epoch 2, Train Loss: 21.600, Train Accuracy: 9.70%\n"
     ]
    },
    {
     "name": "stderr",
     "output_type": "stream",
     "text": [
      "  2%|▏         | 2/100 [03:09<2:32:06, 93.13s/it] "
     ]
    },
    {
     "name": "stdout",
     "output_type": "stream",
     "text": [
      "Validation Loss: 2.303, Validation Accuracy: 9.69%\n",
      "Epoch 3, Train Loss: 21.600, Train Accuracy: 9.70%\n"
     ]
    },
    {
     "name": "stderr",
     "output_type": "stream",
     "text": [
      "  3%|▎         | 3/100 [04:22<2:15:14, 83.66s/it]"
     ]
    },
    {
     "name": "stdout",
     "output_type": "stream",
     "text": [
      "Validation Loss: 2.303, Validation Accuracy: 9.69%\n",
      "Epoch 4, Train Loss: 21.600, Train Accuracy: 9.70%\n"
     ]
    },
    {
     "name": "stderr",
     "output_type": "stream",
     "text": [
      "  4%|▍         | 4/100 [05:40<2:10:40, 81.68s/it]"
     ]
    },
    {
     "name": "stdout",
     "output_type": "stream",
     "text": [
      "Validation Loss: 2.303, Validation Accuracy: 9.69%\n",
      "Epoch 5, Train Loss: 21.600, Train Accuracy: 9.70%\n"
     ]
    },
    {
     "name": "stderr",
     "output_type": "stream",
     "text": [
      "  5%|▌         | 5/100 [06:56<2:05:49, 79.46s/it]"
     ]
    },
    {
     "name": "stdout",
     "output_type": "stream",
     "text": [
      "Validation Loss: 2.303, Validation Accuracy: 9.69%\n",
      "Epoch 6, Train Loss: 21.600, Train Accuracy: 9.70%\n"
     ]
    },
    {
     "name": "stderr",
     "output_type": "stream",
     "text": [
      "  6%|▌         | 6/100 [08:08<2:00:22, 76.83s/it]"
     ]
    },
    {
     "name": "stdout",
     "output_type": "stream",
     "text": [
      "Validation Loss: 2.303, Validation Accuracy: 9.69%\n",
      "Epoch 7, Train Loss: 21.600, Train Accuracy: 9.70%\n"
     ]
    },
    {
     "name": "stderr",
     "output_type": "stream",
     "text": [
      "  7%|▋         | 7/100 [09:19<1:56:26, 75.12s/it]"
     ]
    },
    {
     "name": "stdout",
     "output_type": "stream",
     "text": [
      "Validation Loss: 2.303, Validation Accuracy: 9.69%\n",
      "Epoch 8, Train Loss: 21.600, Train Accuracy: 9.70%\n"
     ]
    },
    {
     "name": "stderr",
     "output_type": "stream",
     "text": [
      "  8%|▊         | 8/100 [10:34<1:55:00, 75.01s/it]"
     ]
    },
    {
     "name": "stdout",
     "output_type": "stream",
     "text": [
      "Validation Loss: 2.303, Validation Accuracy: 9.69%\n",
      "Epoch 9, Train Loss: 21.600, Train Accuracy: 9.70%\n"
     ]
    },
    {
     "name": "stderr",
     "output_type": "stream",
     "text": [
      "  9%|▉         | 9/100 [11:46<1:52:19, 74.06s/it]"
     ]
    },
    {
     "name": "stdout",
     "output_type": "stream",
     "text": [
      "Validation Loss: 2.303, Validation Accuracy: 9.69%\n",
      "Epoch 10, Train Loss: 21.600, Train Accuracy: 9.70%\n"
     ]
    },
    {
     "name": "stderr",
     "output_type": "stream",
     "text": [
      " 10%|█         | 10/100 [12:56<1:49:09, 72.77s/it]"
     ]
    },
    {
     "name": "stdout",
     "output_type": "stream",
     "text": [
      "Validation Loss: 2.303, Validation Accuracy: 9.69%\n",
      "Epoch 11, Train Loss: 21.600, Train Accuracy: 9.70%\n"
     ]
    },
    {
     "name": "stderr",
     "output_type": "stream",
     "text": [
      " 11%|█         | 11/100 [14:08<1:47:33, 72.51s/it]"
     ]
    },
    {
     "name": "stdout",
     "output_type": "stream",
     "text": [
      "Validation Loss: 2.303, Validation Accuracy: 9.69%\n",
      "Epoch 12, Train Loss: 21.600, Train Accuracy: 9.70%\n"
     ]
    },
    {
     "name": "stderr",
     "output_type": "stream",
     "text": [
      " 12%|█▏        | 12/100 [15:20<1:46:05, 72.33s/it]"
     ]
    },
    {
     "name": "stdout",
     "output_type": "stream",
     "text": [
      "Validation Loss: 2.303, Validation Accuracy: 9.69%\n",
      "Epoch 13, Train Loss: 21.600, Train Accuracy: 9.70%\n"
     ]
    },
    {
     "name": "stderr",
     "output_type": "stream",
     "text": [
      " 13%|█▎        | 13/100 [16:39<1:47:40, 74.26s/it]"
     ]
    },
    {
     "name": "stdout",
     "output_type": "stream",
     "text": [
      "Validation Loss: 2.303, Validation Accuracy: 9.69%\n",
      "Epoch 14, Train Loss: 21.600, Train Accuracy: 9.70%\n"
     ]
    },
    {
     "name": "stderr",
     "output_type": "stream",
     "text": [
      " 14%|█▍        | 14/100 [17:49<1:44:39, 73.01s/it]"
     ]
    },
    {
     "name": "stdout",
     "output_type": "stream",
     "text": [
      "Validation Loss: 2.303, Validation Accuracy: 9.69%\n",
      "Epoch 15, Train Loss: 21.600, Train Accuracy: 9.70%\n"
     ]
    },
    {
     "name": "stderr",
     "output_type": "stream",
     "text": [
      " 15%|█▌        | 15/100 [18:59<1:42:11, 72.13s/it]"
     ]
    },
    {
     "name": "stdout",
     "output_type": "stream",
     "text": [
      "Validation Loss: 2.303, Validation Accuracy: 9.69%\n",
      "Epoch 16, Train Loss: 21.600, Train Accuracy: 9.70%\n"
     ]
    },
    {
     "name": "stderr",
     "output_type": "stream",
     "text": [
      " 16%|█▌        | 16/100 [20:08<1:39:55, 71.38s/it]"
     ]
    },
    {
     "name": "stdout",
     "output_type": "stream",
     "text": [
      "Validation Loss: 2.303, Validation Accuracy: 9.69%\n",
      "Epoch 17, Train Loss: 21.600, Train Accuracy: 9.70%\n"
     ]
    },
    {
     "name": "stderr",
     "output_type": "stream",
     "text": [
      " 17%|█▋        | 17/100 [21:19<1:38:27, 71.18s/it]"
     ]
    },
    {
     "name": "stdout",
     "output_type": "stream",
     "text": [
      "Validation Loss: 2.303, Validation Accuracy: 9.69%\n",
      "Epoch 18, Train Loss: 21.600, Train Accuracy: 9.70%\n"
     ]
    },
    {
     "name": "stderr",
     "output_type": "stream",
     "text": [
      " 18%|█▊        | 18/100 [22:29<1:36:49, 70.84s/it]"
     ]
    },
    {
     "name": "stdout",
     "output_type": "stream",
     "text": [
      "Validation Loss: 2.303, Validation Accuracy: 9.69%\n",
      "Epoch 19, Train Loss: 21.600, Train Accuracy: 9.70%\n"
     ]
    },
    {
     "name": "stderr",
     "output_type": "stream",
     "text": [
      " 19%|█▉        | 19/100 [23:37<1:34:35, 70.07s/it]"
     ]
    },
    {
     "name": "stdout",
     "output_type": "stream",
     "text": [
      "Validation Loss: 2.303, Validation Accuracy: 9.69%\n",
      "Epoch 20, Train Loss: 21.600, Train Accuracy: 9.70%\n"
     ]
    },
    {
     "name": "stderr",
     "output_type": "stream",
     "text": [
      " 20%|██        | 20/100 [24:46<1:32:52, 69.66s/it]"
     ]
    },
    {
     "name": "stdout",
     "output_type": "stream",
     "text": [
      "Validation Loss: 2.303, Validation Accuracy: 9.69%\n",
      "Epoch 21, Train Loss: 21.600, Train Accuracy: 9.70%\n"
     ]
    },
    {
     "name": "stderr",
     "output_type": "stream",
     "text": [
      " 21%|██        | 21/100 [25:57<1:32:17, 70.09s/it]"
     ]
    },
    {
     "name": "stdout",
     "output_type": "stream",
     "text": [
      "Validation Loss: 2.303, Validation Accuracy: 9.69%\n",
      "Epoch 22, Train Loss: 21.600, Train Accuracy: 9.70%\n"
     ]
    },
    {
     "name": "stderr",
     "output_type": "stream",
     "text": [
      " 22%|██▏       | 22/100 [27:09<1:31:40, 70.52s/it]"
     ]
    },
    {
     "name": "stdout",
     "output_type": "stream",
     "text": [
      "Validation Loss: 2.303, Validation Accuracy: 9.69%\n",
      "Epoch 23, Train Loss: 21.600, Train Accuracy: 9.70%\n"
     ]
    },
    {
     "name": "stderr",
     "output_type": "stream",
     "text": [
      " 23%|██▎       | 23/100 [28:20<1:30:58, 70.88s/it]"
     ]
    },
    {
     "name": "stdout",
     "output_type": "stream",
     "text": [
      "Validation Loss: 2.303, Validation Accuracy: 9.69%\n",
      "Epoch 24, Train Loss: 21.600, Train Accuracy: 9.70%\n"
     ]
    },
    {
     "name": "stderr",
     "output_type": "stream",
     "text": [
      " 24%|██▍       | 24/100 [29:32<1:29:56, 71.00s/it]"
     ]
    },
    {
     "name": "stdout",
     "output_type": "stream",
     "text": [
      "Validation Loss: 2.303, Validation Accuracy: 9.69%\n",
      "Epoch 25, Train Loss: 21.600, Train Accuracy: 9.70%\n"
     ]
    },
    {
     "name": "stderr",
     "output_type": "stream",
     "text": [
      " 25%|██▌       | 25/100 [30:56<1:33:43, 74.97s/it]"
     ]
    },
    {
     "name": "stdout",
     "output_type": "stream",
     "text": [
      "Validation Loss: 2.303, Validation Accuracy: 9.69%\n",
      "Epoch 26, Train Loss: 21.600, Train Accuracy: 9.70%\n"
     ]
    },
    {
     "name": "stderr",
     "output_type": "stream",
     "text": [
      " 26%|██▌       | 26/100 [32:13<1:33:16, 75.63s/it]"
     ]
    },
    {
     "name": "stdout",
     "output_type": "stream",
     "text": [
      "Validation Loss: 2.303, Validation Accuracy: 9.69%\n",
      "Epoch 27, Train Loss: 21.600, Train Accuracy: 9.70%\n"
     ]
    },
    {
     "name": "stderr",
     "output_type": "stream",
     "text": [
      " 27%|██▋       | 27/100 [33:31<1:32:54, 76.37s/it]"
     ]
    },
    {
     "name": "stdout",
     "output_type": "stream",
     "text": [
      "Validation Loss: 2.303, Validation Accuracy: 9.69%\n",
      "Epoch 28, Train Loss: 21.600, Train Accuracy: 9.70%\n"
     ]
    },
    {
     "name": "stderr",
     "output_type": "stream",
     "text": [
      " 28%|██▊       | 28/100 [34:50<1:32:32, 77.12s/it]"
     ]
    },
    {
     "name": "stdout",
     "output_type": "stream",
     "text": [
      "Validation Loss: 2.303, Validation Accuracy: 9.69%\n",
      "Epoch 29, Train Loss: 21.600, Train Accuracy: 9.70%\n"
     ]
    },
    {
     "name": "stderr",
     "output_type": "stream",
     "text": [
      " 29%|██▉       | 29/100 [36:09<1:31:44, 77.53s/it]"
     ]
    },
    {
     "name": "stdout",
     "output_type": "stream",
     "text": [
      "Validation Loss: 2.303, Validation Accuracy: 9.69%\n",
      "Epoch 30, Train Loss: 21.600, Train Accuracy: 9.70%\n"
     ]
    },
    {
     "name": "stderr",
     "output_type": "stream",
     "text": [
      " 30%|███       | 30/100 [37:30<1:31:40, 78.58s/it]"
     ]
    },
    {
     "name": "stdout",
     "output_type": "stream",
     "text": [
      "Validation Loss: 2.303, Validation Accuracy: 9.69%\n",
      "Epoch 31, Train Loss: 21.600, Train Accuracy: 9.70%\n"
     ]
    },
    {
     "name": "stderr",
     "output_type": "stream",
     "text": [
      " 31%|███       | 31/100 [38:52<1:31:44, 79.78s/it]"
     ]
    },
    {
     "name": "stdout",
     "output_type": "stream",
     "text": [
      "Validation Loss: 2.303, Validation Accuracy: 9.69%\n",
      "Epoch 32, Train Loss: 21.600, Train Accuracy: 9.70%\n"
     ]
    },
    {
     "name": "stderr",
     "output_type": "stream",
     "text": [
      " 32%|███▏      | 32/100 [40:06<1:28:14, 77.85s/it]"
     ]
    },
    {
     "name": "stdout",
     "output_type": "stream",
     "text": [
      "Validation Loss: 2.303, Validation Accuracy: 9.69%\n",
      "Epoch 33, Train Loss: 21.600, Train Accuracy: 9.70%\n"
     ]
    },
    {
     "name": "stderr",
     "output_type": "stream",
     "text": [
      " 33%|███▎      | 33/100 [41:28<1:28:34, 79.32s/it]"
     ]
    },
    {
     "name": "stdout",
     "output_type": "stream",
     "text": [
      "Validation Loss: 2.303, Validation Accuracy: 9.69%\n",
      "Epoch 34, Train Loss: 21.600, Train Accuracy: 9.70%\n"
     ]
    },
    {
     "name": "stderr",
     "output_type": "stream",
     "text": [
      " 34%|███▍      | 34/100 [42:50<1:28:04, 80.07s/it]"
     ]
    },
    {
     "name": "stdout",
     "output_type": "stream",
     "text": [
      "Validation Loss: 2.303, Validation Accuracy: 9.69%\n",
      "Epoch 35, Train Loss: 21.600, Train Accuracy: 9.70%\n"
     ]
    },
    {
     "name": "stderr",
     "output_type": "stream",
     "text": [
      " 35%|███▌      | 35/100 [44:10<1:26:44, 80.07s/it]"
     ]
    },
    {
     "name": "stdout",
     "output_type": "stream",
     "text": [
      "Validation Loss: 2.303, Validation Accuracy: 9.69%\n",
      "Epoch 36, Train Loss: 21.600, Train Accuracy: 9.70%\n"
     ]
    },
    {
     "name": "stderr",
     "output_type": "stream",
     "text": [
      " 36%|███▌      | 36/100 [45:29<1:25:06, 79.78s/it]"
     ]
    },
    {
     "name": "stdout",
     "output_type": "stream",
     "text": [
      "Validation Loss: 2.303, Validation Accuracy: 9.69%\n",
      "Epoch 37, Train Loss: 21.600, Train Accuracy: 9.70%\n"
     ]
    },
    {
     "name": "stderr",
     "output_type": "stream",
     "text": [
      " 37%|███▋      | 37/100 [46:48<1:23:28, 79.49s/it]"
     ]
    },
    {
     "name": "stdout",
     "output_type": "stream",
     "text": [
      "Validation Loss: 2.303, Validation Accuracy: 9.69%\n",
      "Epoch 38, Train Loss: 21.600, Train Accuracy: 9.70%\n"
     ]
    },
    {
     "name": "stderr",
     "output_type": "stream",
     "text": [
      " 38%|███▊      | 38/100 [48:13<1:23:54, 81.20s/it]"
     ]
    },
    {
     "name": "stdout",
     "output_type": "stream",
     "text": [
      "Validation Loss: 2.303, Validation Accuracy: 9.69%\n",
      "Epoch 39, Train Loss: 21.600, Train Accuracy: 9.70%\n"
     ]
    },
    {
     "name": "stderr",
     "output_type": "stream",
     "text": [
      " 39%|███▉      | 39/100 [49:36<1:22:59, 81.63s/it]"
     ]
    },
    {
     "name": "stdout",
     "output_type": "stream",
     "text": [
      "Validation Loss: 2.303, Validation Accuracy: 9.69%\n",
      "Epoch 40, Train Loss: 21.600, Train Accuracy: 9.70%\n"
     ]
    },
    {
     "name": "stderr",
     "output_type": "stream",
     "text": [
      " 40%|████      | 40/100 [50:57<1:21:27, 81.46s/it]"
     ]
    },
    {
     "name": "stdout",
     "output_type": "stream",
     "text": [
      "Validation Loss: 2.303, Validation Accuracy: 9.69%\n",
      "Epoch 41, Train Loss: 21.600, Train Accuracy: 9.70%\n"
     ]
    },
    {
     "name": "stderr",
     "output_type": "stream",
     "text": [
      " 41%|████      | 41/100 [52:13<1:18:28, 79.81s/it]"
     ]
    },
    {
     "name": "stdout",
     "output_type": "stream",
     "text": [
      "Validation Loss: 2.303, Validation Accuracy: 9.69%\n",
      "Epoch 42, Train Loss: 21.600, Train Accuracy: 9.70%\n"
     ]
    },
    {
     "name": "stderr",
     "output_type": "stream",
     "text": [
      " 42%|████▏     | 42/100 [53:32<1:16:59, 79.65s/it]"
     ]
    },
    {
     "name": "stdout",
     "output_type": "stream",
     "text": [
      "Validation Loss: 2.303, Validation Accuracy: 9.69%\n",
      "Epoch 43, Train Loss: 21.600, Train Accuracy: 9.70%\n"
     ]
    },
    {
     "name": "stderr",
     "output_type": "stream",
     "text": [
      " 43%|████▎     | 43/100 [54:52<1:15:38, 79.62s/it]"
     ]
    },
    {
     "name": "stdout",
     "output_type": "stream",
     "text": [
      "Validation Loss: 2.303, Validation Accuracy: 9.69%\n",
      "Epoch 44, Train Loss: 21.600, Train Accuracy: 9.70%\n"
     ]
    },
    {
     "name": "stderr",
     "output_type": "stream",
     "text": [
      " 44%|████▍     | 44/100 [56:37<1:21:34, 87.40s/it]"
     ]
    },
    {
     "name": "stdout",
     "output_type": "stream",
     "text": [
      "Validation Loss: 2.303, Validation Accuracy: 9.69%\n",
      "Epoch 45, Train Loss: 21.600, Train Accuracy: 9.70%\n"
     ]
    },
    {
     "name": "stderr",
     "output_type": "stream",
     "text": [
      " 45%|████▌     | 45/100 [58:00<1:18:56, 86.12s/it]"
     ]
    },
    {
     "name": "stdout",
     "output_type": "stream",
     "text": [
      "Validation Loss: 2.303, Validation Accuracy: 9.69%\n",
      "Epoch 46, Train Loss: 21.600, Train Accuracy: 9.70%\n"
     ]
    },
    {
     "name": "stderr",
     "output_type": "stream",
     "text": [
      " 46%|████▌     | 46/100 [59:42<1:21:40, 90.74s/it]"
     ]
    },
    {
     "name": "stdout",
     "output_type": "stream",
     "text": [
      "Validation Loss: 2.303, Validation Accuracy: 9.69%\n",
      "Epoch 47, Train Loss: 21.600, Train Accuracy: 9.70%\n"
     ]
    },
    {
     "name": "stderr",
     "output_type": "stream",
     "text": [
      " 47%|████▋     | 47/100 [1:00:59<1:16:38, 86.76s/it]"
     ]
    },
    {
     "name": "stdout",
     "output_type": "stream",
     "text": [
      "Validation Loss: 2.303, Validation Accuracy: 9.69%\n",
      "Epoch 48, Train Loss: 21.600, Train Accuracy: 9.70%\n"
     ]
    },
    {
     "name": "stderr",
     "output_type": "stream",
     "text": [
      " 48%|████▊     | 48/100 [1:02:09<1:10:36, 81.47s/it]"
     ]
    },
    {
     "name": "stdout",
     "output_type": "stream",
     "text": [
      "Validation Loss: 2.303, Validation Accuracy: 9.69%\n",
      "Epoch 49, Train Loss: 21.600, Train Accuracy: 9.70%\n"
     ]
    },
    {
     "name": "stderr",
     "output_type": "stream",
     "text": [
      " 49%|████▉     | 49/100 [1:03:46<1:13:15, 86.18s/it]"
     ]
    },
    {
     "name": "stdout",
     "output_type": "stream",
     "text": [
      "Validation Loss: 2.303, Validation Accuracy: 9.69%\n",
      "Epoch 50, Train Loss: 21.600, Train Accuracy: 9.70%\n"
     ]
    },
    {
     "name": "stderr",
     "output_type": "stream",
     "text": [
      " 50%|█████     | 50/100 [1:04:58<1:08:23, 82.07s/it]"
     ]
    },
    {
     "name": "stdout",
     "output_type": "stream",
     "text": [
      "Validation Loss: 2.303, Validation Accuracy: 9.69%\n",
      "Epoch 51, Train Loss: 21.600, Train Accuracy: 9.70%\n"
     ]
    },
    {
     "name": "stderr",
     "output_type": "stream",
     "text": [
      " 51%|█████     | 51/100 [1:06:10<1:04:35, 79.09s/it]"
     ]
    },
    {
     "name": "stdout",
     "output_type": "stream",
     "text": [
      "Validation Loss: 2.303, Validation Accuracy: 9.69%\n",
      "Epoch 52, Train Loss: 21.600, Train Accuracy: 9.70%\n"
     ]
    },
    {
     "name": "stderr",
     "output_type": "stream",
     "text": [
      " 52%|█████▏    | 52/100 [1:08:45<1:21:28, 101.84s/it]"
     ]
    },
    {
     "name": "stdout",
     "output_type": "stream",
     "text": [
      "Validation Loss: 2.303, Validation Accuracy: 9.69%\n",
      "Epoch 53, Train Loss: 21.600, Train Accuracy: 9.70%\n"
     ]
    },
    {
     "name": "stderr",
     "output_type": "stream",
     "text": [
      " 53%|█████▎    | 53/100 [1:11:31<1:34:49, 121.06s/it]"
     ]
    },
    {
     "name": "stdout",
     "output_type": "stream",
     "text": [
      "Validation Loss: 2.303, Validation Accuracy: 9.69%\n",
      "Epoch 54, Train Loss: 21.600, Train Accuracy: 9.70%\n"
     ]
    },
    {
     "name": "stderr",
     "output_type": "stream",
     "text": [
      " 54%|█████▍    | 54/100 [1:14:01<1:39:26, 129.70s/it]"
     ]
    },
    {
     "name": "stdout",
     "output_type": "stream",
     "text": [
      "Validation Loss: 2.303, Validation Accuracy: 9.69%\n",
      "Epoch 55, Train Loss: 21.600, Train Accuracy: 9.70%\n"
     ]
    },
    {
     "name": "stderr",
     "output_type": "stream",
     "text": [
      " 55%|█████▌    | 55/100 [1:15:47<1:31:49, 122.42s/it]"
     ]
    },
    {
     "name": "stdout",
     "output_type": "stream",
     "text": [
      "Validation Loss: 2.303, Validation Accuracy: 9.69%\n",
      "Epoch 56, Train Loss: 21.600, Train Accuracy: 9.70%\n"
     ]
    },
    {
     "name": "stderr",
     "output_type": "stream",
     "text": [
      " 56%|█████▌    | 56/100 [1:17:56<1:31:23, 124.63s/it]"
     ]
    },
    {
     "name": "stdout",
     "output_type": "stream",
     "text": [
      "Validation Loss: 2.303, Validation Accuracy: 9.69%\n",
      "Epoch 57, Train Loss: 21.600, Train Accuracy: 9.70%\n"
     ]
    },
    {
     "name": "stderr",
     "output_type": "stream",
     "text": [
      " 57%|█████▋    | 57/100 [1:20:22<1:33:46, 130.86s/it]"
     ]
    },
    {
     "name": "stdout",
     "output_type": "stream",
     "text": [
      "Validation Loss: 2.303, Validation Accuracy: 9.69%\n",
      "Epoch 58, Train Loss: 21.600, Train Accuracy: 9.70%\n"
     ]
    },
    {
     "name": "stderr",
     "output_type": "stream",
     "text": [
      " 58%|█████▊    | 58/100 [1:21:59<1:24:32, 120.78s/it]"
     ]
    },
    {
     "name": "stdout",
     "output_type": "stream",
     "text": [
      "Validation Loss: 2.303, Validation Accuracy: 9.69%\n",
      "Epoch 59, Train Loss: 21.600, Train Accuracy: 9.70%\n"
     ]
    },
    {
     "name": "stderr",
     "output_type": "stream",
     "text": [
      " 59%|█████▉    | 59/100 [1:24:01<1:22:46, 121.14s/it]"
     ]
    },
    {
     "name": "stdout",
     "output_type": "stream",
     "text": [
      "Validation Loss: 2.303, Validation Accuracy: 9.69%\n",
      "Epoch 60, Train Loss: 21.600, Train Accuracy: 9.70%\n"
     ]
    },
    {
     "name": "stderr",
     "output_type": "stream",
     "text": [
      " 60%|██████    | 60/100 [1:26:03<1:20:55, 121.38s/it]"
     ]
    },
    {
     "name": "stdout",
     "output_type": "stream",
     "text": [
      "Validation Loss: 2.303, Validation Accuracy: 9.69%\n",
      "Epoch 61, Train Loss: 21.600, Train Accuracy: 9.70%\n"
     ]
    },
    {
     "name": "stderr",
     "output_type": "stream",
     "text": [
      " 61%|██████    | 61/100 [1:28:07<1:19:25, 122.19s/it]"
     ]
    },
    {
     "name": "stdout",
     "output_type": "stream",
     "text": [
      "Validation Loss: 2.303, Validation Accuracy: 9.69%\n",
      "Epoch 62, Train Loss: 21.600, Train Accuracy: 9.70%\n"
     ]
    },
    {
     "name": "stderr",
     "output_type": "stream",
     "text": [
      " 62%|██████▏   | 62/100 [1:30:44<1:23:55, 132.52s/it]"
     ]
    },
    {
     "name": "stdout",
     "output_type": "stream",
     "text": [
      "Validation Loss: 2.303, Validation Accuracy: 9.69%\n",
      "Epoch 63, Train Loss: 21.600, Train Accuracy: 9.70%\n"
     ]
    },
    {
     "name": "stderr",
     "output_type": "stream",
     "text": [
      " 63%|██████▎   | 63/100 [1:33:11<1:24:25, 136.91s/it]"
     ]
    },
    {
     "name": "stdout",
     "output_type": "stream",
     "text": [
      "Validation Loss: 2.303, Validation Accuracy: 9.69%\n",
      "Epoch 64, Train Loss: 21.600, Train Accuracy: 9.70%\n"
     ]
    },
    {
     "name": "stderr",
     "output_type": "stream",
     "text": [
      " 64%|██████▍   | 64/100 [1:34:55<1:16:17, 127.16s/it]"
     ]
    },
    {
     "name": "stdout",
     "output_type": "stream",
     "text": [
      "Validation Loss: 2.303, Validation Accuracy: 9.69%\n",
      "Epoch 65, Train Loss: 21.600, Train Accuracy: 9.70%\n"
     ]
    },
    {
     "name": "stderr",
     "output_type": "stream",
     "text": [
      " 65%|██████▌   | 65/100 [1:36:10<1:04:59, 111.42s/it]"
     ]
    },
    {
     "name": "stdout",
     "output_type": "stream",
     "text": [
      "Validation Loss: 2.303, Validation Accuracy: 9.69%\n",
      "Epoch 66, Train Loss: 21.600, Train Accuracy: 9.70%\n"
     ]
    },
    {
     "name": "stderr",
     "output_type": "stream",
     "text": [
      " 66%|██████▌   | 66/100 [1:37:24<56:50, 100.31s/it]  "
     ]
    },
    {
     "name": "stdout",
     "output_type": "stream",
     "text": [
      "Validation Loss: 2.303, Validation Accuracy: 9.69%\n",
      "Epoch 67, Train Loss: 21.600, Train Accuracy: 9.70%\n"
     ]
    },
    {
     "name": "stderr",
     "output_type": "stream",
     "text": [
      " 67%|██████▋   | 67/100 [1:38:43<51:40, 93.97s/it] "
     ]
    },
    {
     "name": "stdout",
     "output_type": "stream",
     "text": [
      "Validation Loss: 2.303, Validation Accuracy: 9.69%\n",
      "Epoch 68, Train Loss: 21.600, Train Accuracy: 9.70%\n"
     ]
    },
    {
     "name": "stderr",
     "output_type": "stream",
     "text": [
      " 68%|██████▊   | 68/100 [1:40:02<47:34, 89.22s/it]"
     ]
    },
    {
     "name": "stdout",
     "output_type": "stream",
     "text": [
      "Validation Loss: 2.303, Validation Accuracy: 9.69%\n",
      "Epoch 69, Train Loss: 21.600, Train Accuracy: 9.70%\n"
     ]
    },
    {
     "name": "stderr",
     "output_type": "stream",
     "text": [
      " 69%|██████▉   | 69/100 [1:41:19<44:18, 85.76s/it]"
     ]
    },
    {
     "name": "stdout",
     "output_type": "stream",
     "text": [
      "Validation Loss: 2.303, Validation Accuracy: 9.69%\n",
      "Epoch 70, Train Loss: 21.600, Train Accuracy: 9.70%\n"
     ]
    },
    {
     "name": "stderr",
     "output_type": "stream",
     "text": [
      " 70%|███████   | 70/100 [1:42:37<41:44, 83.48s/it]"
     ]
    },
    {
     "name": "stdout",
     "output_type": "stream",
     "text": [
      "Validation Loss: 2.303, Validation Accuracy: 9.69%\n",
      "Epoch 71, Train Loss: 21.600, Train Accuracy: 9.70%\n"
     ]
    },
    {
     "name": "stderr",
     "output_type": "stream",
     "text": [
      " 71%|███████   | 71/100 [1:43:54<39:20, 81.41s/it]"
     ]
    },
    {
     "name": "stdout",
     "output_type": "stream",
     "text": [
      "Validation Loss: 2.303, Validation Accuracy: 9.69%\n",
      "Epoch 72, Train Loss: 21.600, Train Accuracy: 9.70%\n"
     ]
    },
    {
     "name": "stderr",
     "output_type": "stream",
     "text": [
      " 72%|███████▏  | 72/100 [1:45:09<37:04, 79.43s/it]"
     ]
    },
    {
     "name": "stdout",
     "output_type": "stream",
     "text": [
      "Validation Loss: 2.303, Validation Accuracy: 9.69%\n",
      "Epoch 73, Train Loss: 21.600, Train Accuracy: 9.70%\n"
     ]
    },
    {
     "name": "stderr",
     "output_type": "stream",
     "text": [
      " 73%|███████▎  | 73/100 [1:46:26<35:26, 78.77s/it]"
     ]
    },
    {
     "name": "stdout",
     "output_type": "stream",
     "text": [
      "Validation Loss: 2.303, Validation Accuracy: 9.69%\n",
      "Epoch 74, Train Loss: 21.600, Train Accuracy: 9.70%\n"
     ]
    },
    {
     "name": "stderr",
     "output_type": "stream",
     "text": [
      " 74%|███████▍  | 74/100 [1:47:46<34:16, 79.10s/it]"
     ]
    },
    {
     "name": "stdout",
     "output_type": "stream",
     "text": [
      "Validation Loss: 2.303, Validation Accuracy: 9.69%\n",
      "Epoch 75, Train Loss: 21.600, Train Accuracy: 9.70%\n"
     ]
    },
    {
     "name": "stderr",
     "output_type": "stream",
     "text": [
      " 75%|███████▌  | 75/100 [1:49:05<32:56, 79.07s/it]"
     ]
    },
    {
     "name": "stdout",
     "output_type": "stream",
     "text": [
      "Validation Loss: 2.303, Validation Accuracy: 9.69%\n",
      "Epoch 76, Train Loss: 21.600, Train Accuracy: 9.70%\n"
     ]
    },
    {
     "name": "stderr",
     "output_type": "stream",
     "text": [
      " 76%|███████▌  | 76/100 [1:50:23<31:29, 78.71s/it]"
     ]
    },
    {
     "name": "stdout",
     "output_type": "stream",
     "text": [
      "Validation Loss: 2.303, Validation Accuracy: 9.69%\n",
      "Epoch 77, Train Loss: 21.600, Train Accuracy: 9.70%\n"
     ]
    },
    {
     "name": "stderr",
     "output_type": "stream",
     "text": [
      " 77%|███████▋  | 77/100 [1:52:36<36:24, 94.96s/it]"
     ]
    },
    {
     "name": "stdout",
     "output_type": "stream",
     "text": [
      "Validation Loss: 2.303, Validation Accuracy: 9.69%\n",
      "Epoch 78, Train Loss: 21.600, Train Accuracy: 9.70%\n"
     ]
    },
    {
     "name": "stderr",
     "output_type": "stream",
     "text": [
      " 78%|███████▊  | 78/100 [1:53:56<33:15, 90.72s/it]"
     ]
    },
    {
     "name": "stdout",
     "output_type": "stream",
     "text": [
      "Validation Loss: 2.303, Validation Accuracy: 9.69%\n",
      "Epoch 79, Train Loss: 21.600, Train Accuracy: 9.70%\n"
     ]
    },
    {
     "name": "stderr",
     "output_type": "stream",
     "text": [
      " 79%|███████▉  | 79/100 [1:56:03<35:30, 101.46s/it]"
     ]
    },
    {
     "name": "stdout",
     "output_type": "stream",
     "text": [
      "Validation Loss: 2.303, Validation Accuracy: 9.69%\n",
      "Epoch 80, Train Loss: 21.600, Train Accuracy: 9.70%\n"
     ]
    },
    {
     "name": "stderr",
     "output_type": "stream",
     "text": [
      " 80%|████████  | 80/100 [1:57:29<32:15, 96.76s/it] "
     ]
    },
    {
     "name": "stdout",
     "output_type": "stream",
     "text": [
      "Validation Loss: 2.303, Validation Accuracy: 9.69%\n",
      "Epoch 81, Train Loss: 21.600, Train Accuracy: 9.70%\n"
     ]
    },
    {
     "name": "stderr",
     "output_type": "stream",
     "text": [
      " 81%|████████  | 81/100 [1:58:56<29:44, 93.93s/it]"
     ]
    },
    {
     "name": "stdout",
     "output_type": "stream",
     "text": [
      "Validation Loss: 2.303, Validation Accuracy: 9.69%\n",
      "Epoch 82, Train Loss: 21.600, Train Accuracy: 9.70%\n"
     ]
    },
    {
     "name": "stderr",
     "output_type": "stream",
     "text": [
      " 82%|████████▏ | 82/100 [2:00:23<27:33, 91.88s/it]"
     ]
    },
    {
     "name": "stdout",
     "output_type": "stream",
     "text": [
      "Validation Loss: 2.303, Validation Accuracy: 9.69%\n",
      "Epoch 83, Train Loss: 21.600, Train Accuracy: 9.70%\n"
     ]
    },
    {
     "name": "stderr",
     "output_type": "stream",
     "text": [
      " 83%|████████▎ | 83/100 [2:01:43<25:00, 88.29s/it]"
     ]
    },
    {
     "name": "stdout",
     "output_type": "stream",
     "text": [
      "Validation Loss: 2.303, Validation Accuracy: 9.69%\n",
      "Epoch 84, Train Loss: 21.600, Train Accuracy: 9.70%\n"
     ]
    },
    {
     "name": "stderr",
     "output_type": "stream",
     "text": [
      " 84%|████████▍ | 84/100 [2:03:03<22:51, 85.71s/it]"
     ]
    },
    {
     "name": "stdout",
     "output_type": "stream",
     "text": [
      "Validation Loss: 2.303, Validation Accuracy: 9.69%\n",
      "Epoch 85, Train Loss: 21.600, Train Accuracy: 9.70%\n"
     ]
    },
    {
     "name": "stderr",
     "output_type": "stream",
     "text": [
      " 85%|████████▌ | 85/100 [2:04:29<21:28, 85.91s/it]"
     ]
    },
    {
     "name": "stdout",
     "output_type": "stream",
     "text": [
      "Validation Loss: 2.303, Validation Accuracy: 9.69%\n",
      "Epoch 86, Train Loss: 21.600, Train Accuracy: 9.70%\n"
     ]
    },
    {
     "name": "stderr",
     "output_type": "stream",
     "text": [
      " 86%|████████▌ | 86/100 [2:05:53<19:53, 85.27s/it]"
     ]
    },
    {
     "name": "stdout",
     "output_type": "stream",
     "text": [
      "Validation Loss: 2.303, Validation Accuracy: 9.69%\n",
      "Epoch 87, Train Loss: 21.600, Train Accuracy: 9.70%\n"
     ]
    },
    {
     "name": "stderr",
     "output_type": "stream",
     "text": [
      " 87%|████████▋ | 87/100 [2:07:20<18:34, 85.70s/it]"
     ]
    },
    {
     "name": "stdout",
     "output_type": "stream",
     "text": [
      "Validation Loss: 2.303, Validation Accuracy: 9.69%\n",
      "Epoch 88, Train Loss: 21.600, Train Accuracy: 9.70%\n"
     ]
    },
    {
     "name": "stderr",
     "output_type": "stream",
     "text": [
      " 88%|████████▊ | 88/100 [2:08:43<17:01, 85.15s/it]"
     ]
    },
    {
     "name": "stdout",
     "output_type": "stream",
     "text": [
      "Validation Loss: 2.303, Validation Accuracy: 9.69%\n",
      "Epoch 89, Train Loss: 21.600, Train Accuracy: 9.70%\n"
     ]
    },
    {
     "name": "stderr",
     "output_type": "stream",
     "text": [
      " 89%|████████▉ | 89/100 [2:10:14<15:53, 86.70s/it]"
     ]
    },
    {
     "name": "stdout",
     "output_type": "stream",
     "text": [
      "Validation Loss: 2.303, Validation Accuracy: 9.69%\n",
      "Epoch 90, Train Loss: 21.600, Train Accuracy: 9.70%\n"
     ]
    },
    {
     "name": "stderr",
     "output_type": "stream",
     "text": [
      " 90%|█████████ | 90/100 [2:11:54<15:07, 90.78s/it]"
     ]
    },
    {
     "name": "stdout",
     "output_type": "stream",
     "text": [
      "Validation Loss: 2.303, Validation Accuracy: 9.69%\n",
      "Epoch 91, Train Loss: 21.600, Train Accuracy: 9.70%\n"
     ]
    },
    {
     "name": "stderr",
     "output_type": "stream",
     "text": [
      " 91%|█████████ | 91/100 [2:13:32<13:56, 92.98s/it]"
     ]
    },
    {
     "name": "stdout",
     "output_type": "stream",
     "text": [
      "Validation Loss: 2.303, Validation Accuracy: 9.69%\n",
      "Epoch 92, Train Loss: 21.600, Train Accuracy: 9.70%\n"
     ]
    },
    {
     "name": "stderr",
     "output_type": "stream",
     "text": [
      " 92%|█████████▏| 92/100 [2:15:12<12:40, 95.08s/it]"
     ]
    },
    {
     "name": "stdout",
     "output_type": "stream",
     "text": [
      "Validation Loss: 2.303, Validation Accuracy: 9.69%\n",
      "Epoch 93, Train Loss: 21.600, Train Accuracy: 9.70%\n"
     ]
    },
    {
     "name": "stderr",
     "output_type": "stream",
     "text": [
      " 93%|█████████▎| 93/100 [2:16:48<11:06, 95.20s/it]"
     ]
    },
    {
     "name": "stdout",
     "output_type": "stream",
     "text": [
      "Validation Loss: 2.303, Validation Accuracy: 9.69%\n",
      "Epoch 94, Train Loss: 21.600, Train Accuracy: 9.70%\n"
     ]
    },
    {
     "name": "stderr",
     "output_type": "stream",
     "text": [
      " 94%|█████████▍| 94/100 [2:18:48<10:15, 102.63s/it]"
     ]
    },
    {
     "name": "stdout",
     "output_type": "stream",
     "text": [
      "Validation Loss: 2.303, Validation Accuracy: 9.69%\n",
      "Epoch 95, Train Loss: 21.600, Train Accuracy: 9.70%\n"
     ]
    },
    {
     "name": "stderr",
     "output_type": "stream",
     "text": [
      " 95%|█████████▌| 95/100 [2:23:10<12:32, 150.46s/it]"
     ]
    },
    {
     "name": "stdout",
     "output_type": "stream",
     "text": [
      "Validation Loss: 2.303, Validation Accuracy: 9.69%\n",
      "Epoch 96, Train Loss: 21.600, Train Accuracy: 9.70%\n"
     ]
    },
    {
     "name": "stderr",
     "output_type": "stream",
     "text": [
      " 96%|█████████▌| 96/100 [2:29:03<14:04, 211.23s/it]"
     ]
    },
    {
     "name": "stdout",
     "output_type": "stream",
     "text": [
      "Validation Loss: 2.303, Validation Accuracy: 9.69%\n",
      "Epoch 97, Train Loss: 21.600, Train Accuracy: 9.70%\n"
     ]
    },
    {
     "name": "stderr",
     "output_type": "stream",
     "text": [
      " 97%|█████████▋| 97/100 [2:32:20<10:21, 207.03s/it]"
     ]
    },
    {
     "name": "stdout",
     "output_type": "stream",
     "text": [
      "Validation Loss: 2.303, Validation Accuracy: 9.69%\n",
      "Epoch 98, Train Loss: 21.600, Train Accuracy: 9.70%\n"
     ]
    },
    {
     "name": "stderr",
     "output_type": "stream",
     "text": [
      " 98%|█████████▊| 98/100 [2:34:54<06:22, 191.20s/it]"
     ]
    },
    {
     "name": "stdout",
     "output_type": "stream",
     "text": [
      "Validation Loss: 2.303, Validation Accuracy: 9.69%\n",
      "Epoch 99, Train Loss: 21.600, Train Accuracy: 9.70%\n"
     ]
    },
    {
     "name": "stderr",
     "output_type": "stream",
     "text": [
      " 99%|█████████▉| 99/100 [2:36:36<02:44, 164.24s/it]"
     ]
    },
    {
     "name": "stdout",
     "output_type": "stream",
     "text": [
      "Validation Loss: 2.303, Validation Accuracy: 9.69%\n",
      "Epoch 100, Train Loss: 21.600, Train Accuracy: 9.70%\n"
     ]
    },
    {
     "name": "stderr",
     "output_type": "stream",
     "text": [
      "100%|██████████| 100/100 [2:39:41<00:00, 95.81s/it] "
     ]
    },
    {
     "name": "stdout",
     "output_type": "stream",
     "text": [
      "Validation Loss: 2.303, Validation Accuracy: 9.69%\n",
      "Finished Training\n"
     ]
    },
    {
     "name": "stderr",
     "output_type": "stream",
     "text": [
      "\n"
     ]
    },
    {
     "name": "stdout",
     "output_type": "stream",
     "text": [
      "Model 8 Epochs 100 Population 50\n"
     ]
    },
    {
     "name": "stderr",
     "output_type": "stream",
     "text": [
      "  0%|          | 0/100 [00:00<?, ?it/s]"
     ]
    },
    {
     "name": "stdout",
     "output_type": "stream",
     "text": [
      "Epoch 1, Train Loss: 21.600, Train Accuracy: 9.70%\n"
     ]
    },
    {
     "name": "stderr",
     "output_type": "stream",
     "text": [
      "  1%|          | 1/100 [02:47<4:36:18, 167.46s/it]"
     ]
    },
    {
     "name": "stdout",
     "output_type": "stream",
     "text": [
      "Validation Loss: 2.303, Validation Accuracy: 9.69%\n",
      "Epoch 2, Train Loss: 21.600, Train Accuracy: 9.70%\n"
     ]
    },
    {
     "name": "stderr",
     "output_type": "stream",
     "text": [
      "  2%|▏         | 2/100 [04:42<3:43:29, 136.83s/it]"
     ]
    },
    {
     "name": "stdout",
     "output_type": "stream",
     "text": [
      "Validation Loss: 2.303, Validation Accuracy: 9.69%\n",
      "Epoch 3, Train Loss: 21.600, Train Accuracy: 9.70%\n"
     ]
    },
    {
     "name": "stderr",
     "output_type": "stream",
     "text": [
      "  3%|▎         | 3/100 [06:32<3:20:50, 124.23s/it]"
     ]
    },
    {
     "name": "stdout",
     "output_type": "stream",
     "text": [
      "Validation Loss: 2.303, Validation Accuracy: 9.69%\n",
      "Epoch 4, Train Loss: 21.600, Train Accuracy: 9.70%\n"
     ]
    },
    {
     "name": "stderr",
     "output_type": "stream",
     "text": [
      "  4%|▍         | 4/100 [08:15<3:05:41, 116.06s/it]"
     ]
    },
    {
     "name": "stdout",
     "output_type": "stream",
     "text": [
      "Validation Loss: 2.303, Validation Accuracy: 9.69%\n",
      "Epoch 5, Train Loss: 21.600, Train Accuracy: 9.70%\n"
     ]
    },
    {
     "name": "stderr",
     "output_type": "stream",
     "text": [
      "  5%|▌         | 5/100 [10:28<3:13:25, 122.17s/it]"
     ]
    },
    {
     "name": "stdout",
     "output_type": "stream",
     "text": [
      "Validation Loss: 2.303, Validation Accuracy: 9.69%\n",
      "Epoch 6, Train Loss: 21.600, Train Accuracy: 9.70%\n"
     ]
    },
    {
     "name": "stderr",
     "output_type": "stream",
     "text": [
      "  6%|▌         | 6/100 [13:00<3:27:10, 132.24s/it]"
     ]
    },
    {
     "name": "stdout",
     "output_type": "stream",
     "text": [
      "Validation Loss: 2.303, Validation Accuracy: 9.69%\n",
      "Epoch 7, Train Loss: 21.600, Train Accuracy: 9.70%\n"
     ]
    },
    {
     "name": "stderr",
     "output_type": "stream",
     "text": [
      "  7%|▋         | 7/100 [15:19<3:28:39, 134.62s/it]"
     ]
    },
    {
     "name": "stdout",
     "output_type": "stream",
     "text": [
      "Validation Loss: 2.303, Validation Accuracy: 9.69%\n",
      "Epoch 8, Train Loss: 21.600, Train Accuracy: 9.70%\n"
     ]
    },
    {
     "name": "stderr",
     "output_type": "stream",
     "text": [
      "  8%|▊         | 8/100 [17:42<3:30:13, 137.10s/it]"
     ]
    },
    {
     "name": "stdout",
     "output_type": "stream",
     "text": [
      "Validation Loss: 2.303, Validation Accuracy: 9.69%\n"
     ]
    }
   ],
   "source": [
    "idx = 1\n",
    "for i in range(len(hparams[\"epochs\"])):\n",
    "    epochs = hparams[\"epochs\"][i] \n",
    "    for j in range(len(hparams[\"particles\"])):\n",
    "        particles = hparams[\"particles\"][j]\n",
    "        name = f\"Model {idx} Epochs {epochs} Population {particles}\"\n",
    "        print(name)\n",
    "        optimizer = GWO(model.parameters(), min_param_value = 0., max_param_value=1., lr = round(2/epochs, 3))\n",
    "        metrics = train(num_epochs= epochs, optimizer= optimizer, model= model, device= device, train_loader= train_loader, val_loader= test_loader)\n",
    "        torch.save(model.state_dict(), MODEL_PATH + name)\n",
    "        plotter(metrics= metrics, idx = idx, name = name, PATH = CHART_PATH)\n",
    "        idx += 1\n",
    "        if metrics[\"val_acc\"]>best_acc:\n",
    "            best_acc = metrics[\"val_acc\"]\n",
    "            best_model = name"
   ]
  },
  {
   "cell_type": "code",
   "execution_count": null,
   "metadata": {},
   "outputs": [],
   "source": [
    "print([best_model, best_acc])"
   ]
  }
 ],
 "metadata": {
  "kernelspec": {
   "display_name": "school",
   "language": "python",
   "name": "python3"
  },
  "language_info": {
   "codemirror_mode": {
    "name": "ipython",
    "version": 3
   },
   "file_extension": ".py",
   "mimetype": "text/x-python",
   "name": "python",
   "nbconvert_exporter": "python",
   "pygments_lexer": "ipython3",
   "version": "3.1.undefined"
  }
 },
 "nbformat": 4,
 "nbformat_minor": 2
}
