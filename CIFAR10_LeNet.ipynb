{
 "cells": [
  {
   "cell_type": "code",
   "outputs": [],
   "source": [
    "import torch\n",
    "from modelutils.CIFAR10_LeNet import LeNet\n",
    "from utils.utils import train, get_device\n",
    "from torchvision import datasets, transforms\n",
    "from optimizers.PSO import PSO\n"
   ],
   "metadata": {
    "collapsed": false,
    "ExecuteTime": {
     "end_time": "2024-04-22T19:29:51.225022Z",
     "start_time": "2024-04-22T19:29:49.845675Z"
    }
   },
   "id": "82e02e8a3c623250",
   "execution_count": 1
  },
  {
   "cell_type": "markdown",
   "source": [
    "### Loading Data"
   ],
   "metadata": {
    "collapsed": false
   },
   "id": "68b8260dead244ea"
  },
  {
   "cell_type": "code",
   "outputs": [
    {
     "name": "stdout",
     "output_type": "stream",
     "text": [
      "Files already downloaded and verified\n",
      "Files already downloaded and verified\n"
     ]
    }
   ],
   "source": [
    "batch_size = 256\n",
    "\n",
    "transform = transforms.Compose([\n",
    "    transforms.Resize((32, 32)),\n",
    "    transforms.ToTensor(),\n",
    "    transforms.Normalize((0.4914, 0.4822, 0.4465), (0.2023, 0.1994, 0.2010))\n",
    "])\n",
    "\n",
    "# Download and load the training and test datasets\n",
    "trainset = datasets.CIFAR10(root='./data', train=True, download=True, transform=transform)\n",
    "testset = datasets.CIFAR10(root='./data', train=False, download=True, transform=transform)\n",
    "\n",
    "# Data loaders\n",
    "train_loader = torch.utils.data.DataLoader(trainset, batch_size=batch_size, shuffle=True)\n",
    "test_loader = torch.utils.data.DataLoader(testset, batch_size=batch_size, shuffle=False)"
   ],
   "metadata": {
    "collapsed": false,
    "ExecuteTime": {
     "end_time": "2024-04-22T19:29:53.245601Z",
     "start_time": "2024-04-22T19:29:51.226490Z"
    }
   },
   "id": "8bd1217b0934ff71",
   "execution_count": 2
  },
  {
   "cell_type": "markdown",
   "source": [
    "### Model Setup"
   ],
   "metadata": {
    "collapsed": false
   },
   "id": "3c38cb39d69dc7b7"
  },
  {
   "cell_type": "code",
   "outputs": [
    {
     "name": "stdout",
     "output_type": "stream",
     "text": [
      "Using MPS\n"
     ]
    }
   ],
   "source": [
    "device = get_device()\n",
    "model = LeNet().to(device)\n",
    "optimizer = PSO(model.parameters(), inertial_weight=0.9, cognitive_coefficient=1.2, social_coefficient=1.2, num_particles=30)"
   ],
   "metadata": {
    "collapsed": false,
    "ExecuteTime": {
     "end_time": "2024-04-22T19:29:53.491707Z",
     "start_time": "2024-04-22T19:29:53.246364Z"
    }
   },
   "id": "64eff7ebbbf6c221",
   "execution_count": 3
  },
  {
   "cell_type": "markdown",
   "source": [
    "### Training"
   ],
   "metadata": {
    "collapsed": false
   },
   "id": "246d0834531aae85"
  },
  {
   "cell_type": "code",
   "outputs": [
    {
     "name": "stderr",
     "output_type": "stream",
     "text": [
      "  0%|          | 0/50 [00:00<?, ?it/s]"
     ]
    },
    {
     "name": "stdout",
     "output_type": "stream",
     "text": [
      "Epoch 1, Train Loss: 6042637248.000, Train Accuracy: 11.14%\n"
     ]
    },
    {
     "name": "stderr",
     "output_type": "stream",
     "text": [
      "  2%|▏         | 1/50 [00:44<36:22, 44.55s/it]"
     ]
    },
    {
     "name": "stdout",
     "output_type": "stream",
     "text": [
      "Validation Loss: 2762804115.200, Validation Accuracy: 11.10%\n",
      "Epoch 2, Train Loss: 5335729484.800, Train Accuracy: 10.96%\n"
     ]
    },
    {
     "name": "stderr",
     "output_type": "stream",
     "text": [
      "  4%|▍         | 2/50 [01:28<35:35, 44.49s/it]"
     ]
    },
    {
     "name": "stdout",
     "output_type": "stream",
     "text": [
      "Validation Loss: 2984766809.600, Validation Accuracy: 8.67%\n",
      "Epoch 3, Train Loss: 5700367503.360, Train Accuracy: 8.64%\n"
     ]
    },
    {
     "name": "stderr",
     "output_type": "stream",
     "text": [
      "  6%|▌         | 3/50 [02:13<34:46, 44.39s/it]"
     ]
    },
    {
     "name": "stdout",
     "output_type": "stream",
     "text": [
      "Validation Loss: 2928059596.800, Validation Accuracy: 9.22%\n",
      "Epoch 4, Train Loss: 5614156989.440, Train Accuracy: 8.95%\n"
     ]
    },
    {
     "name": "stderr",
     "output_type": "stream",
     "text": [
      "  8%|▊         | 4/50 [02:57<33:57, 44.29s/it]"
     ]
    },
    {
     "name": "stdout",
     "output_type": "stream",
     "text": [
      "Validation Loss: 2928059596.800, Validation Accuracy: 9.22%\n",
      "Epoch 5, Train Loss: 5615830131.200, Train Accuracy: 8.95%\n"
     ]
    },
    {
     "name": "stderr",
     "output_type": "stream",
     "text": [
      " 10%|█         | 5/50 [03:41<33:14, 44.32s/it]"
     ]
    },
    {
     "name": "stdout",
     "output_type": "stream",
     "text": [
      "Validation Loss: 2928059596.800, Validation Accuracy: 9.22%\n",
      "Epoch 6, Train Loss: 5613584396.800, Train Accuracy: 8.95%\n"
     ]
    },
    {
     "name": "stderr",
     "output_type": "stream",
     "text": [
      " 12%|█▏        | 6/50 [04:25<32:23, 44.17s/it]"
     ]
    },
    {
     "name": "stdout",
     "output_type": "stream",
     "text": [
      "Validation Loss: 2927898995.200, Validation Accuracy: 9.22%\n",
      "Epoch 7, Train Loss: 5612796298.240, Train Accuracy: 8.95%\n"
     ]
    },
    {
     "name": "stderr",
     "output_type": "stream",
     "text": [
      " 14%|█▍        | 7/50 [05:09<31:28, 43.92s/it]"
     ]
    },
    {
     "name": "stdout",
     "output_type": "stream",
     "text": [
      "Validation Loss: 2927898995.200, Validation Accuracy: 9.22%\n",
      "Epoch 8, Train Loss: 5612897943.040, Train Accuracy: 8.95%\n"
     ]
    },
    {
     "name": "stderr",
     "output_type": "stream",
     "text": [
      " 16%|█▌        | 8/50 [05:53<30:46, 43.96s/it]"
     ]
    },
    {
     "name": "stdout",
     "output_type": "stream",
     "text": [
      "Validation Loss: 2927898995.200, Validation Accuracy: 9.22%\n",
      "Epoch 9, Train Loss: 5611801418.240, Train Accuracy: 8.95%\n"
     ]
    },
    {
     "name": "stderr",
     "output_type": "stream",
     "text": [
      " 18%|█▊        | 9/50 [06:37<30:08, 44.10s/it]"
     ]
    },
    {
     "name": "stdout",
     "output_type": "stream",
     "text": [
      "Validation Loss: 2927898995.200, Validation Accuracy: 9.22%\n",
      "Epoch 10, Train Loss: 5617501327.360, Train Accuracy: 8.95%\n"
     ]
    },
    {
     "name": "stderr",
     "output_type": "stream",
     "text": [
      " 20%|██        | 10/50 [07:22<29:40, 44.51s/it]"
     ]
    },
    {
     "name": "stdout",
     "output_type": "stream",
     "text": [
      "Validation Loss: 2927898995.200, Validation Accuracy: 9.22%\n",
      "Epoch 11, Train Loss: 5611737489.920, Train Accuracy: 8.95%\n"
     ]
    },
    {
     "name": "stderr",
     "output_type": "stream",
     "text": [
      " 22%|██▏       | 11/50 [08:07<28:59, 44.61s/it]"
     ]
    },
    {
     "name": "stdout",
     "output_type": "stream",
     "text": [
      "Validation Loss: 2927898995.200, Validation Accuracy: 9.22%\n",
      "Epoch 12, Train Loss: 5612954711.040, Train Accuracy: 8.95%\n"
     ]
    },
    {
     "name": "stderr",
     "output_type": "stream",
     "text": [
      " 24%|██▍       | 12/50 [08:52<28:15, 44.62s/it]"
     ]
    },
    {
     "name": "stdout",
     "output_type": "stream",
     "text": [
      "Validation Loss: 2927898995.200, Validation Accuracy: 9.22%\n",
      "Epoch 13, Train Loss: 5614686323.200, Train Accuracy: 8.95%\n"
     ]
    },
    {
     "name": "stderr",
     "output_type": "stream",
     "text": [
      " 26%|██▌       | 13/50 [09:37<27:32, 44.67s/it]"
     ]
    },
    {
     "name": "stdout",
     "output_type": "stream",
     "text": [
      "Validation Loss: 2927898995.200, Validation Accuracy: 9.22%\n",
      "Epoch 14, Train Loss: 5610874926.080, Train Accuracy: 8.95%\n"
     ]
    },
    {
     "name": "stderr",
     "output_type": "stream",
     "text": [
      " 28%|██▊       | 14/50 [10:22<26:53, 44.82s/it]"
     ]
    },
    {
     "name": "stdout",
     "output_type": "stream",
     "text": [
      "Validation Loss: 2927898995.200, Validation Accuracy: 9.22%\n",
      "Epoch 15, Train Loss: 5610874065.920, Train Accuracy: 8.95%\n"
     ]
    },
    {
     "name": "stderr",
     "output_type": "stream",
     "text": [
      " 30%|███       | 15/50 [11:07<26:12, 44.94s/it]"
     ]
    },
    {
     "name": "stdout",
     "output_type": "stream",
     "text": [
      "Validation Loss: 2927898995.200, Validation Accuracy: 9.22%\n",
      "Epoch 16, Train Loss: 5611628899.840, Train Accuracy: 8.95%\n"
     ]
    },
    {
     "name": "stderr",
     "output_type": "stream",
     "text": [
      " 32%|███▏      | 16/50 [11:52<25:31, 45.03s/it]"
     ]
    },
    {
     "name": "stdout",
     "output_type": "stream",
     "text": [
      "Validation Loss: 2927898995.200, Validation Accuracy: 9.22%\n"
     ]
    }
   ],
   "source": [
    "train(50, optimizer, model, device, train_loader, test_loader)"
   ],
   "metadata": {
    "collapsed": false,
    "is_executing": true,
    "ExecuteTime": {
     "start_time": "2024-04-22T19:29:53.492806Z"
    }
   },
   "id": "8f046cf20bbbb7ec",
   "execution_count": null
  }
 ],
 "metadata": {
  "kernelspec": {
   "display_name": "Python 3",
   "language": "python",
   "name": "python3"
  },
  "language_info": {
   "codemirror_mode": {
    "name": "ipython",
    "version": 2
   },
   "file_extension": ".py",
   "mimetype": "text/x-python",
   "name": "python",
   "nbconvert_exporter": "python",
   "pygments_lexer": "ipython2",
   "version": "2.7.6"
  }
 },
 "nbformat": 4,
 "nbformat_minor": 5
}
