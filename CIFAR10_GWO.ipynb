{
 "cells": [
  {
   "cell_type": "code",
   "execution_count": 1,
   "metadata": {},
   "outputs": [],
   "source": [
    "import torch\n",
    "from modelutils import *\n",
    "from torchvision import datasets, transforms\n",
    "from optimizers import PSO, GWO\n",
    "import torchsummary\n",
    "import matplotlib.pyplot as plt"
   ]
  },
  {
   "cell_type": "code",
   "execution_count": 2,
   "metadata": {},
   "outputs": [
    {
     "name": "stdout",
     "output_type": "stream",
     "text": [
      "Downloading https://www.cs.toronto.edu/~kriz/cifar-10-python.tar.gz to ./data/cifar-10-python.tar.gz\n"
     ]
    },
    {
     "name": "stderr",
     "output_type": "stream",
     "text": [
      "100%|██████████| 170498071/170498071 [00:05<00:00, 31389352.76it/s]\n"
     ]
    },
    {
     "name": "stdout",
     "output_type": "stream",
     "text": [
      "Extracting ./data/cifar-10-python.tar.gz to ./data\n",
      "Files already downloaded and verified\n"
     ]
    }
   ],
   "source": [
    "batch_size = 64\n",
    "\n",
    "transform = transforms.Compose([\n",
    "    transforms.Resize((32, 32)),\n",
    "    transforms.ToTensor(),\n",
    "    transforms.Normalize((0.4914, 0.4822, 0.4465), (0.2023, 0.1994, 0.2010))\n",
    "])\n",
    "\n",
    "# Download and load the training and test datasets\n",
    "trainset = datasets.CIFAR10(root='./data', train=True, download=True, transform=transform)\n",
    "testset = datasets.CIFAR10(root='./data', train=False, download=True, transform=transform)\n",
    "\n",
    "# Data loaders\n",
    "train_loader = torch.utils.data.DataLoader(trainset, batch_size=batch_size, shuffle=True)\n",
    "test_loader = torch.utils.data.DataLoader(testset, batch_size=batch_size, shuffle=False)"
   ]
  },
  {
   "cell_type": "code",
   "execution_count": 3,
   "metadata": {},
   "outputs": [
    {
     "name": "stdout",
     "output_type": "stream",
     "text": [
      "Using CPU\n"
     ]
    }
   ],
   "source": [
    "hparams = {\n",
    "    \"epochs\": [50, 100],\n",
    "    \"particles\": [10, 20, 25, 50]\n",
    "}\n",
    "best_model = None\n",
    "best_acc = 0\n",
    "MODEL_PATH = \"./results/model_params/GWO/CIFAR10/\"\n",
    "CHART_PATH = \"./results/charts/GWO/CIFAR10/\"\n",
    "device = get_device()\n",
    "model = lenet_cifar().to(device)"
   ]
  },
  {
   "cell_type": "code",
   "execution_count": 4,
   "metadata": {},
   "outputs": [
    {
     "name": "stdout",
     "output_type": "stream",
     "text": [
      "Model 1 Epochs 50 Particles 10\n"
     ]
    },
    {
     "name": "stderr",
     "output_type": "stream",
     "text": [
      "  0%|          | 0/50 [00:00<?, ?it/s]"
     ]
    },
    {
     "name": "stdout",
     "output_type": "stream",
     "text": [
      "Epoch 1, Train Loss: 18.006, Train Accuracy: 10.04%\n"
     ]
    },
    {
     "name": "stderr",
     "output_type": "stream",
     "text": [
      "  2%|▏         | 1/50 [01:03<52:10, 63.88s/it]"
     ]
    },
    {
     "name": "stdout",
     "output_type": "stream",
     "text": [
      "Validation Loss: 2.303, Validation Accuracy: 10.12%\n",
      "Epoch 2, Train Loss: 18.006, Train Accuracy: 10.04%\n"
     ]
    },
    {
     "name": "stderr",
     "output_type": "stream",
     "text": [
      "  4%|▍         | 2/50 [02:06<50:23, 62.98s/it]"
     ]
    },
    {
     "name": "stdout",
     "output_type": "stream",
     "text": [
      "Validation Loss: 2.303, Validation Accuracy: 10.12%\n",
      "Epoch 3, Train Loss: 18.006, Train Accuracy: 10.04%\n"
     ]
    },
    {
     "name": "stderr",
     "output_type": "stream",
     "text": [
      "  6%|▌         | 3/50 [03:06<48:28, 61.88s/it]"
     ]
    },
    {
     "name": "stdout",
     "output_type": "stream",
     "text": [
      "Validation Loss: 2.303, Validation Accuracy: 10.12%\n",
      "Epoch 4, Train Loss: 18.006, Train Accuracy: 10.04%\n"
     ]
    },
    {
     "name": "stderr",
     "output_type": "stream",
     "text": [
      "  8%|▊         | 4/50 [04:09<47:46, 62.32s/it]"
     ]
    },
    {
     "name": "stdout",
     "output_type": "stream",
     "text": [
      "Validation Loss: 2.303, Validation Accuracy: 10.12%\n",
      "Epoch 5, Train Loss: 18.006, Train Accuracy: 10.04%\n"
     ]
    },
    {
     "name": "stderr",
     "output_type": "stream",
     "text": [
      " 10%|█         | 5/50 [05:07<45:36, 60.81s/it]"
     ]
    },
    {
     "name": "stdout",
     "output_type": "stream",
     "text": [
      "Validation Loss: 2.303, Validation Accuracy: 10.12%\n",
      "Epoch 6, Train Loss: 18.006, Train Accuracy: 10.04%\n"
     ]
    },
    {
     "name": "stderr",
     "output_type": "stream",
     "text": [
      " 12%|█▏        | 6/50 [06:11<45:21, 61.86s/it]"
     ]
    },
    {
     "name": "stdout",
     "output_type": "stream",
     "text": [
      "Validation Loss: 2.303, Validation Accuracy: 10.12%\n",
      "Epoch 7, Train Loss: 18.006, Train Accuracy: 10.04%\n"
     ]
    },
    {
     "name": "stderr",
     "output_type": "stream",
     "text": [
      " 14%|█▍        | 7/50 [07:06<42:42, 59.58s/it]"
     ]
    },
    {
     "name": "stdout",
     "output_type": "stream",
     "text": [
      "Validation Loss: 2.303, Validation Accuracy: 10.12%\n",
      "Epoch 8, Train Loss: 18.006, Train Accuracy: 10.04%\n"
     ]
    },
    {
     "name": "stderr",
     "output_type": "stream",
     "text": [
      " 16%|█▌        | 8/50 [08:10<42:40, 60.97s/it]"
     ]
    },
    {
     "name": "stdout",
     "output_type": "stream",
     "text": [
      "Validation Loss: 2.303, Validation Accuracy: 10.12%\n",
      "Epoch 9, Train Loss: 18.006, Train Accuracy: 10.04%\n"
     ]
    },
    {
     "name": "stderr",
     "output_type": "stream",
     "text": [
      " 18%|█▊        | 9/50 [09:27<45:01, 65.88s/it]"
     ]
    },
    {
     "name": "stdout",
     "output_type": "stream",
     "text": [
      "Validation Loss: 2.303, Validation Accuracy: 10.12%\n",
      "Epoch 10, Train Loss: 18.006, Train Accuracy: 10.04%\n"
     ]
    },
    {
     "name": "stderr",
     "output_type": "stream",
     "text": [
      " 20%|██        | 10/50 [10:46<46:35, 69.89s/it]"
     ]
    },
    {
     "name": "stdout",
     "output_type": "stream",
     "text": [
      "Validation Loss: 2.303, Validation Accuracy: 10.12%\n",
      "Epoch 11, Train Loss: 18.006, Train Accuracy: 10.04%\n"
     ]
    },
    {
     "name": "stderr",
     "output_type": "stream",
     "text": [
      " 22%|██▏       | 11/50 [12:02<46:36, 71.71s/it]"
     ]
    },
    {
     "name": "stdout",
     "output_type": "stream",
     "text": [
      "Validation Loss: 2.303, Validation Accuracy: 10.12%\n",
      "Epoch 12, Train Loss: 18.006, Train Accuracy: 10.04%\n"
     ]
    },
    {
     "name": "stderr",
     "output_type": "stream",
     "text": [
      " 24%|██▍       | 12/50 [13:12<45:14, 71.42s/it]"
     ]
    },
    {
     "name": "stdout",
     "output_type": "stream",
     "text": [
      "Validation Loss: 2.303, Validation Accuracy: 10.12%\n",
      "Epoch 13, Train Loss: 18.006, Train Accuracy: 10.04%\n"
     ]
    },
    {
     "name": "stderr",
     "output_type": "stream",
     "text": [
      " 26%|██▌       | 13/50 [14:24<44:02, 71.43s/it]"
     ]
    },
    {
     "name": "stdout",
     "output_type": "stream",
     "text": [
      "Validation Loss: 2.303, Validation Accuracy: 10.12%\n",
      "Epoch 14, Train Loss: 18.006, Train Accuracy: 10.04%\n"
     ]
    },
    {
     "name": "stderr",
     "output_type": "stream",
     "text": [
      " 28%|██▊       | 14/50 [15:43<44:19, 73.88s/it]"
     ]
    },
    {
     "name": "stdout",
     "output_type": "stream",
     "text": [
      "Validation Loss: 2.303, Validation Accuracy: 10.12%\n",
      "Epoch 15, Train Loss: 18.006, Train Accuracy: 10.04%\n"
     ]
    },
    {
     "name": "stderr",
     "output_type": "stream",
     "text": [
      " 30%|███       | 15/50 [17:00<43:34, 74.71s/it]"
     ]
    },
    {
     "name": "stdout",
     "output_type": "stream",
     "text": [
      "Validation Loss: 2.303, Validation Accuracy: 10.12%\n",
      "Epoch 16, Train Loss: 18.006, Train Accuracy: 10.04%\n"
     ]
    },
    {
     "name": "stderr",
     "output_type": "stream",
     "text": [
      " 32%|███▏      | 16/50 [17:57<39:17, 69.33s/it]"
     ]
    },
    {
     "name": "stdout",
     "output_type": "stream",
     "text": [
      "Validation Loss: 2.303, Validation Accuracy: 10.12%\n",
      "Epoch 17, Train Loss: 18.006, Train Accuracy: 10.04%\n"
     ]
    },
    {
     "name": "stderr",
     "output_type": "stream",
     "text": [
      " 34%|███▍      | 17/50 [18:56<36:25, 66.22s/it]"
     ]
    },
    {
     "name": "stdout",
     "output_type": "stream",
     "text": [
      "Validation Loss: 2.303, Validation Accuracy: 10.12%\n",
      "Epoch 18, Train Loss: 18.006, Train Accuracy: 10.04%\n"
     ]
    },
    {
     "name": "stderr",
     "output_type": "stream",
     "text": [
      " 36%|███▌      | 18/50 [20:05<35:50, 67.21s/it]"
     ]
    },
    {
     "name": "stdout",
     "output_type": "stream",
     "text": [
      "Validation Loss: 2.303, Validation Accuracy: 10.12%\n",
      "Epoch 19, Train Loss: 18.006, Train Accuracy: 10.04%\n"
     ]
    },
    {
     "name": "stderr",
     "output_type": "stream",
     "text": [
      " 38%|███▊      | 19/50 [21:21<36:05, 69.86s/it]"
     ]
    },
    {
     "name": "stdout",
     "output_type": "stream",
     "text": [
      "Validation Loss: 2.303, Validation Accuracy: 10.12%\n",
      "Epoch 20, Train Loss: 18.006, Train Accuracy: 10.04%\n"
     ]
    },
    {
     "name": "stderr",
     "output_type": "stream",
     "text": [
      " 40%|████      | 20/50 [22:49<37:35, 75.17s/it]"
     ]
    },
    {
     "name": "stdout",
     "output_type": "stream",
     "text": [
      "Validation Loss: 2.303, Validation Accuracy: 10.12%\n",
      "Epoch 21, Train Loss: 18.006, Train Accuracy: 10.04%\n"
     ]
    },
    {
     "name": "stderr",
     "output_type": "stream",
     "text": [
      " 42%|████▏     | 21/50 [24:15<37:54, 78.44s/it]"
     ]
    },
    {
     "name": "stdout",
     "output_type": "stream",
     "text": [
      "Validation Loss: 2.303, Validation Accuracy: 10.12%\n",
      "Epoch 22, Train Loss: 18.006, Train Accuracy: 10.04%\n"
     ]
    },
    {
     "name": "stderr",
     "output_type": "stream",
     "text": [
      " 44%|████▍     | 22/50 [25:39<37:23, 80.13s/it]"
     ]
    },
    {
     "name": "stdout",
     "output_type": "stream",
     "text": [
      "Validation Loss: 2.303, Validation Accuracy: 10.12%\n",
      "Epoch 23, Train Loss: 18.006, Train Accuracy: 10.04%\n"
     ]
    },
    {
     "name": "stderr",
     "output_type": "stream",
     "text": [
      " 46%|████▌     | 23/50 [27:03<36:36, 81.35s/it]"
     ]
    },
    {
     "name": "stdout",
     "output_type": "stream",
     "text": [
      "Validation Loss: 2.303, Validation Accuracy: 10.12%\n",
      "Epoch 24, Train Loss: 18.006, Train Accuracy: 10.04%\n"
     ]
    },
    {
     "name": "stderr",
     "output_type": "stream",
     "text": [
      " 48%|████▊     | 24/50 [28:30<35:59, 83.05s/it]"
     ]
    },
    {
     "name": "stdout",
     "output_type": "stream",
     "text": [
      "Validation Loss: 2.303, Validation Accuracy: 10.12%\n",
      "Epoch 25, Train Loss: 18.006, Train Accuracy: 10.04%\n"
     ]
    },
    {
     "name": "stderr",
     "output_type": "stream",
     "text": [
      " 50%|█████     | 25/50 [30:01<35:36, 85.46s/it]"
     ]
    },
    {
     "name": "stdout",
     "output_type": "stream",
     "text": [
      "Validation Loss: 2.303, Validation Accuracy: 10.12%\n",
      "Epoch 26, Train Loss: 18.006, Train Accuracy: 10.04%\n"
     ]
    },
    {
     "name": "stderr",
     "output_type": "stream",
     "text": [
      " 52%|█████▏    | 26/50 [31:22<33:35, 83.98s/it]"
     ]
    },
    {
     "name": "stdout",
     "output_type": "stream",
     "text": [
      "Validation Loss: 2.303, Validation Accuracy: 10.12%\n",
      "Epoch 27, Train Loss: 18.006, Train Accuracy: 10.04%\n"
     ]
    },
    {
     "name": "stderr",
     "output_type": "stream",
     "text": [
      " 54%|█████▍    | 27/50 [32:41<31:40, 82.64s/it]"
     ]
    },
    {
     "name": "stdout",
     "output_type": "stream",
     "text": [
      "Validation Loss: 2.303, Validation Accuracy: 10.12%\n",
      "Epoch 28, Train Loss: 18.006, Train Accuracy: 10.04%\n"
     ]
    },
    {
     "name": "stderr",
     "output_type": "stream",
     "text": [
      " 56%|█████▌    | 28/50 [34:09<30:52, 84.19s/it]"
     ]
    },
    {
     "name": "stdout",
     "output_type": "stream",
     "text": [
      "Validation Loss: 2.303, Validation Accuracy: 10.12%\n",
      "Epoch 29, Train Loss: 18.006, Train Accuracy: 10.04%\n"
     ]
    },
    {
     "name": "stderr",
     "output_type": "stream",
     "text": [
      " 58%|█████▊    | 29/50 [35:33<29:26, 84.10s/it]"
     ]
    },
    {
     "name": "stdout",
     "output_type": "stream",
     "text": [
      "Validation Loss: 2.303, Validation Accuracy: 10.12%\n",
      "Epoch 30, Train Loss: 18.006, Train Accuracy: 10.04%\n"
     ]
    },
    {
     "name": "stderr",
     "output_type": "stream",
     "text": [
      " 60%|██████    | 30/50 [36:47<26:59, 80.98s/it]"
     ]
    },
    {
     "name": "stdout",
     "output_type": "stream",
     "text": [
      "Validation Loss: 2.303, Validation Accuracy: 10.12%\n",
      "Epoch 31, Train Loss: 18.006, Train Accuracy: 10.04%\n"
     ]
    },
    {
     "name": "stderr",
     "output_type": "stream",
     "text": [
      " 62%|██████▏   | 31/50 [38:00<24:56, 78.75s/it]"
     ]
    },
    {
     "name": "stdout",
     "output_type": "stream",
     "text": [
      "Validation Loss: 2.303, Validation Accuracy: 10.12%\n",
      "Epoch 32, Train Loss: 18.006, Train Accuracy: 10.04%\n"
     ]
    },
    {
     "name": "stderr",
     "output_type": "stream",
     "text": [
      " 64%|██████▍   | 32/50 [39:28<24:25, 81.42s/it]"
     ]
    },
    {
     "name": "stdout",
     "output_type": "stream",
     "text": [
      "Validation Loss: 2.303, Validation Accuracy: 10.12%\n",
      "Epoch 33, Train Loss: 18.006, Train Accuracy: 10.04%\n"
     ]
    },
    {
     "name": "stderr",
     "output_type": "stream",
     "text": [
      " 66%|██████▌   | 33/50 [40:47<22:54, 80.83s/it]"
     ]
    },
    {
     "name": "stdout",
     "output_type": "stream",
     "text": [
      "Validation Loss: 2.303, Validation Accuracy: 10.12%\n",
      "Epoch 34, Train Loss: 18.006, Train Accuracy: 10.04%\n"
     ]
    },
    {
     "name": "stderr",
     "output_type": "stream",
     "text": [
      " 68%|██████▊   | 34/50 [42:16<22:10, 83.13s/it]"
     ]
    },
    {
     "name": "stdout",
     "output_type": "stream",
     "text": [
      "Validation Loss: 2.303, Validation Accuracy: 10.12%\n",
      "Epoch 35, Train Loss: 18.006, Train Accuracy: 10.04%\n"
     ]
    },
    {
     "name": "stderr",
     "output_type": "stream",
     "text": [
      " 70%|███████   | 35/50 [43:45<21:13, 84.92s/it]"
     ]
    },
    {
     "name": "stdout",
     "output_type": "stream",
     "text": [
      "Validation Loss: 2.303, Validation Accuracy: 10.12%\n",
      "Epoch 36, Train Loss: 18.006, Train Accuracy: 10.04%\n"
     ]
    },
    {
     "name": "stderr",
     "output_type": "stream",
     "text": [
      " 72%|███████▏  | 36/50 [45:03<19:20, 82.91s/it]"
     ]
    },
    {
     "name": "stdout",
     "output_type": "stream",
     "text": [
      "Validation Loss: 2.303, Validation Accuracy: 10.12%\n",
      "Epoch 37, Train Loss: 18.006, Train Accuracy: 10.04%\n"
     ]
    },
    {
     "name": "stderr",
     "output_type": "stream",
     "text": [
      " 74%|███████▍  | 37/50 [46:14<17:11, 79.32s/it]"
     ]
    },
    {
     "name": "stdout",
     "output_type": "stream",
     "text": [
      "Validation Loss: 2.303, Validation Accuracy: 10.12%\n",
      "Epoch 38, Train Loss: 18.006, Train Accuracy: 10.04%\n"
     ]
    },
    {
     "name": "stderr",
     "output_type": "stream",
     "text": [
      " 76%|███████▌  | 38/50 [47:41<16:19, 81.63s/it]"
     ]
    },
    {
     "name": "stdout",
     "output_type": "stream",
     "text": [
      "Validation Loss: 2.303, Validation Accuracy: 10.12%\n",
      "Epoch 39, Train Loss: 18.006, Train Accuracy: 10.04%\n"
     ]
    },
    {
     "name": "stderr",
     "output_type": "stream",
     "text": [
      " 78%|███████▊  | 39/50 [49:10<15:20, 83.65s/it]"
     ]
    },
    {
     "name": "stdout",
     "output_type": "stream",
     "text": [
      "Validation Loss: 2.303, Validation Accuracy: 10.12%\n",
      "Epoch 40, Train Loss: 18.006, Train Accuracy: 10.04%\n"
     ]
    },
    {
     "name": "stderr",
     "output_type": "stream",
     "text": [
      " 80%|████████  | 40/50 [50:33<13:55, 83.54s/it]"
     ]
    },
    {
     "name": "stdout",
     "output_type": "stream",
     "text": [
      "Validation Loss: 2.303, Validation Accuracy: 10.12%\n",
      "Epoch 41, Train Loss: 18.006, Train Accuracy: 10.04%\n"
     ]
    },
    {
     "name": "stderr",
     "output_type": "stream",
     "text": [
      " 82%|████████▏ | 41/50 [51:54<12:26, 82.93s/it]"
     ]
    },
    {
     "name": "stdout",
     "output_type": "stream",
     "text": [
      "Validation Loss: 2.303, Validation Accuracy: 10.12%\n",
      "Epoch 42, Train Loss: 18.006, Train Accuracy: 10.04%\n"
     ]
    },
    {
     "name": "stderr",
     "output_type": "stream",
     "text": [
      " 84%|████████▍ | 42/50 [53:10<10:45, 80.67s/it]"
     ]
    },
    {
     "name": "stdout",
     "output_type": "stream",
     "text": [
      "Validation Loss: 2.303, Validation Accuracy: 10.12%\n",
      "Epoch 43, Train Loss: 18.006, Train Accuracy: 10.04%\n"
     ]
    },
    {
     "name": "stderr",
     "output_type": "stream",
     "text": [
      " 86%|████████▌ | 43/50 [54:19<09:01, 77.30s/it]"
     ]
    },
    {
     "name": "stdout",
     "output_type": "stream",
     "text": [
      "Validation Loss: 2.303, Validation Accuracy: 10.12%\n",
      "Epoch 44, Train Loss: 18.006, Train Accuracy: 10.04%\n"
     ]
    },
    {
     "name": "stderr",
     "output_type": "stream",
     "text": [
      " 88%|████████▊ | 44/50 [55:23<07:19, 73.17s/it]"
     ]
    },
    {
     "name": "stdout",
     "output_type": "stream",
     "text": [
      "Validation Loss: 2.303, Validation Accuracy: 10.12%\n",
      "Epoch 45, Train Loss: 18.006, Train Accuracy: 10.04%\n"
     ]
    },
    {
     "name": "stderr",
     "output_type": "stream",
     "text": [
      " 90%|█████████ | 45/50 [56:26<05:50, 70.18s/it]"
     ]
    },
    {
     "name": "stdout",
     "output_type": "stream",
     "text": [
      "Validation Loss: 2.303, Validation Accuracy: 10.12%\n",
      "Epoch 46, Train Loss: 18.006, Train Accuracy: 10.04%\n"
     ]
    },
    {
     "name": "stderr",
     "output_type": "stream",
     "text": [
      " 92%|█████████▏| 46/50 [57:29<04:32, 68.14s/it]"
     ]
    },
    {
     "name": "stdout",
     "output_type": "stream",
     "text": [
      "Validation Loss: 2.303, Validation Accuracy: 10.12%\n",
      "Epoch 47, Train Loss: 18.006, Train Accuracy: 10.04%\n"
     ]
    },
    {
     "name": "stderr",
     "output_type": "stream",
     "text": [
      " 94%|█████████▍| 47/50 [58:33<03:20, 66.94s/it]"
     ]
    },
    {
     "name": "stdout",
     "output_type": "stream",
     "text": [
      "Validation Loss: 2.303, Validation Accuracy: 10.12%\n",
      "Epoch 48, Train Loss: 18.006, Train Accuracy: 10.04%\n"
     ]
    },
    {
     "name": "stderr",
     "output_type": "stream",
     "text": [
      " 96%|█████████▌| 48/50 [59:36<02:11, 65.56s/it]"
     ]
    },
    {
     "name": "stdout",
     "output_type": "stream",
     "text": [
      "Validation Loss: 2.303, Validation Accuracy: 10.12%\n",
      "Epoch 49, Train Loss: 18.006, Train Accuracy: 10.04%\n"
     ]
    },
    {
     "name": "stderr",
     "output_type": "stream",
     "text": [
      " 98%|█████████▊| 49/50 [1:00:52<01:08, 68.83s/it]"
     ]
    },
    {
     "name": "stdout",
     "output_type": "stream",
     "text": [
      "Validation Loss: 2.303, Validation Accuracy: 10.12%\n",
      "Epoch 50, Train Loss: 18.006, Train Accuracy: 10.04%\n"
     ]
    },
    {
     "name": "stderr",
     "output_type": "stream",
     "text": [
      "100%|██████████| 50/50 [1:02:01<00:00, 74.42s/it]"
     ]
    },
    {
     "name": "stdout",
     "output_type": "stream",
     "text": [
      "Validation Loss: 2.303, Validation Accuracy: 10.12%\n",
      "Finished Training\n"
     ]
    },
    {
     "name": "stderr",
     "output_type": "stream",
     "text": [
      "\n"
     ]
    },
    {
     "name": "stdout",
     "output_type": "stream",
     "text": [
      "Model 2 Epochs 50 Particles 20\n"
     ]
    },
    {
     "name": "stderr",
     "output_type": "stream",
     "text": [
      "  0%|          | 0/50 [00:00<?, ?it/s]"
     ]
    },
    {
     "name": "stdout",
     "output_type": "stream",
     "text": [
      "Epoch 1, Train Loss: 18.006, Train Accuracy: 10.04%\n"
     ]
    },
    {
     "name": "stderr",
     "output_type": "stream",
     "text": [
      "  2%|▏         | 1/50 [01:05<53:39, 65.71s/it]"
     ]
    },
    {
     "name": "stdout",
     "output_type": "stream",
     "text": [
      "Validation Loss: 2.303, Validation Accuracy: 10.12%\n",
      "Epoch 2, Train Loss: 18.006, Train Accuracy: 10.04%\n"
     ]
    },
    {
     "name": "stderr",
     "output_type": "stream",
     "text": [
      "  4%|▍         | 2/50 [02:11<52:31, 65.66s/it]"
     ]
    },
    {
     "name": "stdout",
     "output_type": "stream",
     "text": [
      "Validation Loss: 2.303, Validation Accuracy: 10.12%\n",
      "Epoch 3, Train Loss: 18.006, Train Accuracy: 10.04%\n"
     ]
    },
    {
     "name": "stderr",
     "output_type": "stream",
     "text": [
      "  6%|▌         | 3/50 [03:15<50:53, 64.98s/it]"
     ]
    },
    {
     "name": "stdout",
     "output_type": "stream",
     "text": [
      "Validation Loss: 2.303, Validation Accuracy: 10.12%\n",
      "Epoch 4, Train Loss: 18.006, Train Accuracy: 10.04%\n"
     ]
    },
    {
     "name": "stderr",
     "output_type": "stream",
     "text": [
      "  8%|▊         | 4/50 [04:22<50:27, 65.82s/it]"
     ]
    },
    {
     "name": "stdout",
     "output_type": "stream",
     "text": [
      "Validation Loss: 2.303, Validation Accuracy: 10.12%\n",
      "Epoch 5, Train Loss: 18.006, Train Accuracy: 10.04%\n"
     ]
    },
    {
     "name": "stderr",
     "output_type": "stream",
     "text": [
      " 10%|█         | 5/50 [05:38<52:11, 69.59s/it]"
     ]
    },
    {
     "name": "stdout",
     "output_type": "stream",
     "text": [
      "Validation Loss: 2.303, Validation Accuracy: 10.12%\n",
      "Epoch 6, Train Loss: 18.006, Train Accuracy: 10.04%\n"
     ]
    },
    {
     "name": "stderr",
     "output_type": "stream",
     "text": [
      " 12%|█▏        | 6/50 [07:06<55:31, 75.71s/it]"
     ]
    },
    {
     "name": "stdout",
     "output_type": "stream",
     "text": [
      "Validation Loss: 2.303, Validation Accuracy: 10.12%\n",
      "Epoch 7, Train Loss: 18.006, Train Accuracy: 10.04%\n"
     ]
    },
    {
     "name": "stderr",
     "output_type": "stream",
     "text": [
      " 14%|█▍        | 7/50 [08:40<58:35, 81.75s/it]"
     ]
    },
    {
     "name": "stdout",
     "output_type": "stream",
     "text": [
      "Validation Loss: 2.303, Validation Accuracy: 10.12%\n",
      "Epoch 8, Train Loss: 18.006, Train Accuracy: 10.04%\n"
     ]
    },
    {
     "name": "stderr",
     "output_type": "stream",
     "text": [
      " 16%|█▌        | 8/50 [10:24<1:02:05, 88.71s/it]"
     ]
    },
    {
     "name": "stdout",
     "output_type": "stream",
     "text": [
      "Validation Loss: 2.303, Validation Accuracy: 10.12%\n",
      "Epoch 9, Train Loss: 18.006, Train Accuracy: 10.04%\n"
     ]
    },
    {
     "name": "stderr",
     "output_type": "stream",
     "text": [
      " 18%|█▊        | 9/50 [12:09<1:04:06, 93.81s/it]"
     ]
    },
    {
     "name": "stdout",
     "output_type": "stream",
     "text": [
      "Validation Loss: 2.303, Validation Accuracy: 10.12%\n",
      "Epoch 10, Train Loss: 18.006, Train Accuracy: 10.04%\n"
     ]
    },
    {
     "name": "stderr",
     "output_type": "stream",
     "text": [
      " 20%|██        | 10/50 [13:42<1:02:25, 93.65s/it]"
     ]
    },
    {
     "name": "stdout",
     "output_type": "stream",
     "text": [
      "Validation Loss: 2.303, Validation Accuracy: 10.12%\n",
      "Epoch 11, Train Loss: 18.006, Train Accuracy: 10.04%\n"
     ]
    },
    {
     "name": "stderr",
     "output_type": "stream",
     "text": [
      " 22%|██▏       | 11/50 [15:12<1:00:02, 92.37s/it]"
     ]
    },
    {
     "name": "stdout",
     "output_type": "stream",
     "text": [
      "Validation Loss: 2.303, Validation Accuracy: 10.12%\n",
      "Epoch 12, Train Loss: 18.006, Train Accuracy: 10.04%\n"
     ]
    },
    {
     "name": "stderr",
     "output_type": "stream",
     "text": [
      " 24%|██▍       | 12/50 [16:49<59:23, 93.78s/it]  "
     ]
    },
    {
     "name": "stdout",
     "output_type": "stream",
     "text": [
      "Validation Loss: 2.303, Validation Accuracy: 10.12%\n",
      "Epoch 13, Train Loss: 18.006, Train Accuracy: 10.04%\n"
     ]
    },
    {
     "name": "stderr",
     "output_type": "stream",
     "text": [
      " 26%|██▌       | 13/50 [18:18<56:56, 92.35s/it]"
     ]
    },
    {
     "name": "stdout",
     "output_type": "stream",
     "text": [
      "Validation Loss: 2.303, Validation Accuracy: 10.12%\n",
      "Epoch 14, Train Loss: 18.006, Train Accuracy: 10.04%\n"
     ]
    },
    {
     "name": "stderr",
     "output_type": "stream",
     "text": [
      " 28%|██▊       | 14/50 [19:41<53:42, 89.52s/it]"
     ]
    },
    {
     "name": "stdout",
     "output_type": "stream",
     "text": [
      "Validation Loss: 2.303, Validation Accuracy: 10.12%\n",
      "Epoch 15, Train Loss: 18.006, Train Accuracy: 10.04%\n"
     ]
    },
    {
     "name": "stderr",
     "output_type": "stream",
     "text": [
      " 30%|███       | 15/50 [21:07<51:42, 88.63s/it]"
     ]
    },
    {
     "name": "stdout",
     "output_type": "stream",
     "text": [
      "Validation Loss: 2.303, Validation Accuracy: 10.12%\n",
      "Epoch 16, Train Loss: 18.006, Train Accuracy: 10.04%\n"
     ]
    },
    {
     "name": "stderr",
     "output_type": "stream",
     "text": [
      " 32%|███▏      | 16/50 [22:36<50:12, 88.59s/it]"
     ]
    },
    {
     "name": "stdout",
     "output_type": "stream",
     "text": [
      "Validation Loss: 2.303, Validation Accuracy: 10.12%\n",
      "Epoch 17, Train Loss: 18.006, Train Accuracy: 10.04%\n"
     ]
    },
    {
     "name": "stderr",
     "output_type": "stream",
     "text": [
      " 34%|███▍      | 17/50 [24:08<49:21, 89.75s/it]"
     ]
    },
    {
     "name": "stdout",
     "output_type": "stream",
     "text": [
      "Validation Loss: 2.303, Validation Accuracy: 10.12%\n",
      "Epoch 18, Train Loss: 18.006, Train Accuracy: 10.04%\n"
     ]
    },
    {
     "name": "stderr",
     "output_type": "stream",
     "text": [
      " 36%|███▌      | 18/50 [25:44<48:46, 91.44s/it]"
     ]
    },
    {
     "name": "stdout",
     "output_type": "stream",
     "text": [
      "Validation Loss: 2.303, Validation Accuracy: 10.12%\n",
      "Epoch 19, Train Loss: 18.006, Train Accuracy: 10.04%\n"
     ]
    },
    {
     "name": "stderr",
     "output_type": "stream",
     "text": [
      " 38%|███▊      | 19/50 [27:06<45:55, 88.87s/it]"
     ]
    },
    {
     "name": "stdout",
     "output_type": "stream",
     "text": [
      "Validation Loss: 2.303, Validation Accuracy: 10.12%\n",
      "Epoch 20, Train Loss: 18.006, Train Accuracy: 10.04%\n"
     ]
    },
    {
     "name": "stderr",
     "output_type": "stream",
     "text": [
      " 40%|████      | 20/50 [28:29<43:28, 86.96s/it]"
     ]
    },
    {
     "name": "stdout",
     "output_type": "stream",
     "text": [
      "Validation Loss: 2.303, Validation Accuracy: 10.12%\n",
      "Epoch 21, Train Loss: 18.006, Train Accuracy: 10.04%\n"
     ]
    },
    {
     "name": "stderr",
     "output_type": "stream",
     "text": [
      " 42%|████▏     | 21/50 [29:49<41:02, 84.90s/it]"
     ]
    },
    {
     "name": "stdout",
     "output_type": "stream",
     "text": [
      "Validation Loss: 2.303, Validation Accuracy: 10.12%\n",
      "Epoch 22, Train Loss: 18.006, Train Accuracy: 10.04%\n"
     ]
    },
    {
     "name": "stderr",
     "output_type": "stream",
     "text": [
      " 44%|████▍     | 22/50 [31:27<41:28, 88.86s/it]"
     ]
    },
    {
     "name": "stdout",
     "output_type": "stream",
     "text": [
      "Validation Loss: 2.303, Validation Accuracy: 10.12%\n",
      "Epoch 23, Train Loss: 18.006, Train Accuracy: 10.04%\n"
     ]
    },
    {
     "name": "stderr",
     "output_type": "stream",
     "text": [
      " 46%|████▌     | 23/50 [32:52<39:27, 87.70s/it]"
     ]
    },
    {
     "name": "stdout",
     "output_type": "stream",
     "text": [
      "Validation Loss: 2.303, Validation Accuracy: 10.12%\n",
      "Epoch 24, Train Loss: 18.006, Train Accuracy: 10.04%\n"
     ]
    },
    {
     "name": "stderr",
     "output_type": "stream",
     "text": [
      " 48%|████▊     | 24/50 [34:11<36:47, 84.92s/it]"
     ]
    },
    {
     "name": "stdout",
     "output_type": "stream",
     "text": [
      "Validation Loss: 2.303, Validation Accuracy: 10.12%\n",
      "Epoch 25, Train Loss: 18.006, Train Accuracy: 10.04%\n"
     ]
    },
    {
     "name": "stderr",
     "output_type": "stream",
     "text": [
      " 50%|█████     | 25/50 [35:31<34:47, 83.51s/it]"
     ]
    },
    {
     "name": "stdout",
     "output_type": "stream",
     "text": [
      "Validation Loss: 2.303, Validation Accuracy: 10.12%\n",
      "Epoch 26, Train Loss: 18.006, Train Accuracy: 10.04%\n"
     ]
    },
    {
     "name": "stderr",
     "output_type": "stream",
     "text": [
      " 52%|█████▏    | 26/50 [36:52<33:06, 82.76s/it]"
     ]
    },
    {
     "name": "stdout",
     "output_type": "stream",
     "text": [
      "Validation Loss: 2.303, Validation Accuracy: 10.12%\n",
      "Epoch 27, Train Loss: 18.006, Train Accuracy: 10.04%\n"
     ]
    },
    {
     "name": "stderr",
     "output_type": "stream",
     "text": [
      " 54%|█████▍    | 27/50 [38:12<31:29, 82.13s/it]"
     ]
    },
    {
     "name": "stdout",
     "output_type": "stream",
     "text": [
      "Validation Loss: 2.303, Validation Accuracy: 10.12%\n",
      "Epoch 28, Train Loss: 18.006, Train Accuracy: 10.04%\n"
     ]
    },
    {
     "name": "stderr",
     "output_type": "stream",
     "text": [
      " 56%|█████▌    | 28/50 [39:46<31:24, 85.66s/it]"
     ]
    },
    {
     "name": "stdout",
     "output_type": "stream",
     "text": [
      "Validation Loss: 2.303, Validation Accuracy: 10.12%\n",
      "Epoch 29, Train Loss: 18.006, Train Accuracy: 10.04%\n"
     ]
    },
    {
     "name": "stderr",
     "output_type": "stream",
     "text": [
      " 58%|█████▊    | 29/50 [41:37<32:34, 93.07s/it]"
     ]
    },
    {
     "name": "stdout",
     "output_type": "stream",
     "text": [
      "Validation Loss: 2.303, Validation Accuracy: 10.12%\n",
      "Epoch 30, Train Loss: 18.006, Train Accuracy: 10.04%\n"
     ]
    },
    {
     "name": "stderr",
     "output_type": "stream",
     "text": [
      " 60%|██████    | 30/50 [43:17<31:46, 95.33s/it]"
     ]
    },
    {
     "name": "stdout",
     "output_type": "stream",
     "text": [
      "Validation Loss: 2.303, Validation Accuracy: 10.12%\n",
      "Epoch 31, Train Loss: 18.006, Train Accuracy: 10.04%\n"
     ]
    },
    {
     "name": "stderr",
     "output_type": "stream",
     "text": [
      " 62%|██████▏   | 31/50 [44:45<29:26, 92.99s/it]"
     ]
    },
    {
     "name": "stdout",
     "output_type": "stream",
     "text": [
      "Validation Loss: 2.303, Validation Accuracy: 10.12%\n",
      "Epoch 32, Train Loss: 18.006, Train Accuracy: 10.04%\n"
     ]
    },
    {
     "name": "stderr",
     "output_type": "stream",
     "text": [
      " 64%|██████▍   | 32/50 [46:37<29:40, 98.90s/it]"
     ]
    },
    {
     "name": "stdout",
     "output_type": "stream",
     "text": [
      "Validation Loss: 2.303, Validation Accuracy: 10.12%\n",
      "Epoch 33, Train Loss: 18.006, Train Accuracy: 10.04%\n"
     ]
    },
    {
     "name": "stderr",
     "output_type": "stream",
     "text": [
      " 66%|██████▌   | 33/50 [48:16<27:57, 98.69s/it]"
     ]
    },
    {
     "name": "stdout",
     "output_type": "stream",
     "text": [
      "Validation Loss: 2.303, Validation Accuracy: 10.12%\n",
      "Epoch 34, Train Loss: 18.006, Train Accuracy: 10.04%\n"
     ]
    },
    {
     "name": "stderr",
     "output_type": "stream",
     "text": [
      " 68%|██████▊   | 34/50 [49:54<26:17, 98.59s/it]"
     ]
    },
    {
     "name": "stdout",
     "output_type": "stream",
     "text": [
      "Validation Loss: 2.303, Validation Accuracy: 10.12%\n",
      "Epoch 35, Train Loss: 18.006, Train Accuracy: 10.04%\n"
     ]
    },
    {
     "name": "stderr",
     "output_type": "stream",
     "text": [
      " 70%|███████   | 35/50 [51:37<24:59, 100.00s/it]"
     ]
    },
    {
     "name": "stdout",
     "output_type": "stream",
     "text": [
      "Validation Loss: 2.303, Validation Accuracy: 10.12%\n",
      "Epoch 36, Train Loss: 18.006, Train Accuracy: 10.04%\n"
     ]
    },
    {
     "name": "stderr",
     "output_type": "stream",
     "text": [
      " 72%|███████▏  | 36/50 [53:14<23:05, 98.98s/it] "
     ]
    },
    {
     "name": "stdout",
     "output_type": "stream",
     "text": [
      "Validation Loss: 2.303, Validation Accuracy: 10.12%\n",
      "Epoch 37, Train Loss: 18.006, Train Accuracy: 10.04%\n"
     ]
    },
    {
     "name": "stderr",
     "output_type": "stream",
     "text": [
      " 74%|███████▍  | 37/50 [54:39<20:32, 94.77s/it]"
     ]
    },
    {
     "name": "stdout",
     "output_type": "stream",
     "text": [
      "Validation Loss: 2.303, Validation Accuracy: 10.12%\n",
      "Epoch 38, Train Loss: 18.006, Train Accuracy: 10.04%\n"
     ]
    },
    {
     "name": "stderr",
     "output_type": "stream",
     "text": [
      " 76%|███████▌  | 38/50 [56:05<18:26, 92.20s/it]"
     ]
    },
    {
     "name": "stdout",
     "output_type": "stream",
     "text": [
      "Validation Loss: 2.303, Validation Accuracy: 10.12%\n",
      "Epoch 39, Train Loss: 18.006, Train Accuracy: 10.04%\n"
     ]
    },
    {
     "name": "stderr",
     "output_type": "stream",
     "text": [
      " 78%|███████▊  | 39/50 [57:46<17:23, 94.82s/it]"
     ]
    },
    {
     "name": "stdout",
     "output_type": "stream",
     "text": [
      "Validation Loss: 2.303, Validation Accuracy: 10.12%\n",
      "Epoch 40, Train Loss: 18.006, Train Accuracy: 10.04%\n"
     ]
    },
    {
     "name": "stderr",
     "output_type": "stream",
     "text": [
      " 80%|████████  | 40/50 [59:28<16:08, 96.83s/it]"
     ]
    },
    {
     "name": "stdout",
     "output_type": "stream",
     "text": [
      "Validation Loss: 2.303, Validation Accuracy: 10.12%\n",
      "Epoch 41, Train Loss: 18.006, Train Accuracy: 10.04%\n"
     ]
    },
    {
     "name": "stderr",
     "output_type": "stream",
     "text": [
      " 82%|████████▏ | 41/50 [1:01:05<14:32, 97.00s/it]"
     ]
    },
    {
     "name": "stdout",
     "output_type": "stream",
     "text": [
      "Validation Loss: 2.303, Validation Accuracy: 10.12%\n",
      "Epoch 42, Train Loss: 18.006, Train Accuracy: 10.04%\n"
     ]
    },
    {
     "name": "stderr",
     "output_type": "stream",
     "text": [
      " 84%|████████▍ | 42/50 [1:02:33<12:34, 94.32s/it]"
     ]
    },
    {
     "name": "stdout",
     "output_type": "stream",
     "text": [
      "Validation Loss: 2.303, Validation Accuracy: 10.12%\n",
      "Epoch 43, Train Loss: 18.006, Train Accuracy: 10.04%\n"
     ]
    },
    {
     "name": "stderr",
     "output_type": "stream",
     "text": [
      " 86%|████████▌ | 43/50 [1:04:04<10:53, 93.34s/it]"
     ]
    },
    {
     "name": "stdout",
     "output_type": "stream",
     "text": [
      "Validation Loss: 2.303, Validation Accuracy: 10.12%\n",
      "Epoch 44, Train Loss: 18.006, Train Accuracy: 10.04%\n"
     ]
    },
    {
     "name": "stderr",
     "output_type": "stream",
     "text": [
      " 88%|████████▊ | 44/50 [1:05:49<09:40, 96.81s/it]"
     ]
    },
    {
     "name": "stdout",
     "output_type": "stream",
     "text": [
      "Validation Loss: 2.303, Validation Accuracy: 10.12%\n",
      "Epoch 45, Train Loss: 18.006, Train Accuracy: 10.04%\n"
     ]
    },
    {
     "name": "stderr",
     "output_type": "stream",
     "text": [
      " 90%|█████████ | 45/50 [1:07:23<08:00, 96.04s/it]"
     ]
    },
    {
     "name": "stdout",
     "output_type": "stream",
     "text": [
      "Validation Loss: 2.303, Validation Accuracy: 10.12%\n",
      "Epoch 46, Train Loss: 18.006, Train Accuracy: 10.04%\n"
     ]
    },
    {
     "name": "stderr",
     "output_type": "stream",
     "text": [
      " 92%|█████████▏| 46/50 [1:09:03<06:29, 97.27s/it]"
     ]
    },
    {
     "name": "stdout",
     "output_type": "stream",
     "text": [
      "Validation Loss: 2.303, Validation Accuracy: 10.12%\n",
      "Epoch 47, Train Loss: 18.006, Train Accuracy: 10.04%\n"
     ]
    },
    {
     "name": "stderr",
     "output_type": "stream",
     "text": [
      " 94%|█████████▍| 47/50 [1:10:30<04:41, 93.94s/it]"
     ]
    },
    {
     "name": "stdout",
     "output_type": "stream",
     "text": [
      "Validation Loss: 2.303, Validation Accuracy: 10.12%\n",
      "Epoch 48, Train Loss: 18.006, Train Accuracy: 10.04%\n"
     ]
    },
    {
     "name": "stderr",
     "output_type": "stream",
     "text": [
      " 96%|█████████▌| 48/50 [1:12:04<03:07, 93.98s/it]"
     ]
    },
    {
     "name": "stdout",
     "output_type": "stream",
     "text": [
      "Validation Loss: 2.303, Validation Accuracy: 10.12%\n",
      "Epoch 49, Train Loss: 18.006, Train Accuracy: 10.04%\n"
     ]
    },
    {
     "name": "stderr",
     "output_type": "stream",
     "text": [
      " 98%|█████████▊| 49/50 [1:13:39<01:34, 94.36s/it]"
     ]
    },
    {
     "name": "stdout",
     "output_type": "stream",
     "text": [
      "Validation Loss: 2.303, Validation Accuracy: 10.12%\n",
      "Epoch 50, Train Loss: 18.006, Train Accuracy: 10.04%\n"
     ]
    },
    {
     "name": "stderr",
     "output_type": "stream",
     "text": [
      "100%|██████████| 50/50 [1:15:31<00:00, 90.64s/it]"
     ]
    },
    {
     "name": "stdout",
     "output_type": "stream",
     "text": [
      "Validation Loss: 2.303, Validation Accuracy: 10.12%\n",
      "Finished Training\n"
     ]
    },
    {
     "name": "stderr",
     "output_type": "stream",
     "text": [
      "\n"
     ]
    },
    {
     "name": "stdout",
     "output_type": "stream",
     "text": [
      "Model 3 Epochs 50 Particles 25\n"
     ]
    },
    {
     "name": "stderr",
     "output_type": "stream",
     "text": [
      "  0%|          | 0/50 [00:00<?, ?it/s]"
     ]
    },
    {
     "name": "stdout",
     "output_type": "stream",
     "text": [
      "Epoch 1, Train Loss: 18.006, Train Accuracy: 10.04%\n"
     ]
    },
    {
     "name": "stderr",
     "output_type": "stream",
     "text": [
      "  2%|▏         | 1/50 [01:37<1:19:59, 97.95s/it]"
     ]
    },
    {
     "name": "stdout",
     "output_type": "stream",
     "text": [
      "Validation Loss: 2.303, Validation Accuracy: 10.12%\n",
      "Epoch 2, Train Loss: 18.006, Train Accuracy: 10.04%\n"
     ]
    },
    {
     "name": "stderr",
     "output_type": "stream",
     "text": [
      "  4%|▍         | 2/50 [03:12<1:16:47, 95.99s/it]"
     ]
    },
    {
     "name": "stdout",
     "output_type": "stream",
     "text": [
      "Validation Loss: 2.303, Validation Accuracy: 10.12%\n",
      "Epoch 3, Train Loss: 18.006, Train Accuracy: 10.04%\n"
     ]
    },
    {
     "name": "stderr",
     "output_type": "stream",
     "text": [
      "  6%|▌         | 3/50 [04:42<1:12:54, 93.07s/it]"
     ]
    },
    {
     "name": "stdout",
     "output_type": "stream",
     "text": [
      "Validation Loss: 2.303, Validation Accuracy: 10.12%\n",
      "Epoch 4, Train Loss: 18.006, Train Accuracy: 10.04%\n"
     ]
    },
    {
     "name": "stderr",
     "output_type": "stream",
     "text": [
      "  8%|▊         | 4/50 [05:52<1:04:27, 84.08s/it]"
     ]
    },
    {
     "name": "stdout",
     "output_type": "stream",
     "text": [
      "Validation Loss: 2.303, Validation Accuracy: 10.12%\n",
      "Epoch 5, Train Loss: 18.006, Train Accuracy: 10.04%\n"
     ]
    },
    {
     "name": "stderr",
     "output_type": "stream",
     "text": [
      " 10%|█         | 5/50 [06:53<56:53, 75.86s/it]  "
     ]
    },
    {
     "name": "stdout",
     "output_type": "stream",
     "text": [
      "Validation Loss: 2.303, Validation Accuracy: 10.12%\n",
      "Epoch 6, Train Loss: 18.006, Train Accuracy: 10.04%\n"
     ]
    },
    {
     "name": "stderr",
     "output_type": "stream",
     "text": [
      " 12%|█▏        | 6/50 [07:56<52:24, 71.47s/it]"
     ]
    },
    {
     "name": "stdout",
     "output_type": "stream",
     "text": [
      "Validation Loss: 2.303, Validation Accuracy: 10.12%\n",
      "Epoch 7, Train Loss: 18.006, Train Accuracy: 10.04%\n"
     ]
    },
    {
     "name": "stderr",
     "output_type": "stream",
     "text": [
      " 14%|█▍        | 7/50 [09:22<54:37, 76.22s/it]"
     ]
    },
    {
     "name": "stdout",
     "output_type": "stream",
     "text": [
      "Validation Loss: 2.303, Validation Accuracy: 10.12%\n",
      "Epoch 8, Train Loss: 18.006, Train Accuracy: 10.04%\n"
     ]
    },
    {
     "name": "stderr",
     "output_type": "stream",
     "text": [
      " 16%|█▌        | 8/50 [10:41<54:00, 77.16s/it]"
     ]
    },
    {
     "name": "stdout",
     "output_type": "stream",
     "text": [
      "Validation Loss: 2.303, Validation Accuracy: 10.12%\n",
      "Epoch 9, Train Loss: 18.006, Train Accuracy: 10.04%\n"
     ]
    },
    {
     "name": "stderr",
     "output_type": "stream",
     "text": [
      " 18%|█▊        | 9/50 [12:06<54:20, 79.52s/it]"
     ]
    },
    {
     "name": "stdout",
     "output_type": "stream",
     "text": [
      "Validation Loss: 2.303, Validation Accuracy: 10.12%\n",
      "Epoch 10, Train Loss: 18.006, Train Accuracy: 10.04%\n"
     ]
    },
    {
     "name": "stderr",
     "output_type": "stream",
     "text": [
      " 20%|██        | 10/50 [13:24<52:41, 79.03s/it]"
     ]
    },
    {
     "name": "stdout",
     "output_type": "stream",
     "text": [
      "Validation Loss: 2.303, Validation Accuracy: 10.12%\n",
      "Epoch 11, Train Loss: 18.006, Train Accuracy: 10.04%\n"
     ]
    },
    {
     "name": "stderr",
     "output_type": "stream",
     "text": [
      " 22%|██▏       | 11/50 [14:47<52:08, 80.21s/it]"
     ]
    },
    {
     "name": "stdout",
     "output_type": "stream",
     "text": [
      "Validation Loss: 2.303, Validation Accuracy: 10.12%\n",
      "Epoch 12, Train Loss: 18.006, Train Accuracy: 10.04%\n"
     ]
    },
    {
     "name": "stderr",
     "output_type": "stream",
     "text": [
      " 24%|██▍       | 12/50 [16:23<53:55, 85.13s/it]"
     ]
    },
    {
     "name": "stdout",
     "output_type": "stream",
     "text": [
      "Validation Loss: 2.303, Validation Accuracy: 10.12%\n",
      "Epoch 13, Train Loss: 18.006, Train Accuracy: 10.04%\n"
     ]
    },
    {
     "name": "stderr",
     "output_type": "stream",
     "text": [
      " 26%|██▌       | 13/50 [17:55<53:46, 87.20s/it]"
     ]
    },
    {
     "name": "stdout",
     "output_type": "stream",
     "text": [
      "Validation Loss: 2.303, Validation Accuracy: 10.12%\n",
      "Epoch 14, Train Loss: 18.006, Train Accuracy: 10.04%\n"
     ]
    },
    {
     "name": "stderr",
     "output_type": "stream",
     "text": [
      " 28%|██▊       | 14/50 [19:25<52:43, 87.88s/it]"
     ]
    },
    {
     "name": "stdout",
     "output_type": "stream",
     "text": [
      "Validation Loss: 2.303, Validation Accuracy: 10.12%\n",
      "Epoch 15, Train Loss: 18.006, Train Accuracy: 10.04%\n"
     ]
    },
    {
     "name": "stderr",
     "output_type": "stream",
     "text": [
      " 30%|███       | 15/50 [20:53<51:20, 88.03s/it]"
     ]
    },
    {
     "name": "stdout",
     "output_type": "stream",
     "text": [
      "Validation Loss: 2.303, Validation Accuracy: 10.12%\n",
      "Epoch 16, Train Loss: 18.006, Train Accuracy: 10.04%\n"
     ]
    },
    {
     "name": "stderr",
     "output_type": "stream",
     "text": [
      " 32%|███▏      | 16/50 [22:26<50:40, 89.43s/it]"
     ]
    },
    {
     "name": "stdout",
     "output_type": "stream",
     "text": [
      "Validation Loss: 2.303, Validation Accuracy: 10.12%\n",
      "Epoch 17, Train Loss: 18.006, Train Accuracy: 10.04%\n"
     ]
    },
    {
     "name": "stderr",
     "output_type": "stream",
     "text": [
      " 34%|███▍      | 17/50 [23:38<46:20, 84.27s/it]"
     ]
    },
    {
     "name": "stdout",
     "output_type": "stream",
     "text": [
      "Validation Loss: 2.303, Validation Accuracy: 10.12%\n",
      "Epoch 18, Train Loss: 18.006, Train Accuracy: 10.04%\n"
     ]
    },
    {
     "name": "stderr",
     "output_type": "stream",
     "text": [
      " 36%|███▌      | 18/50 [24:51<43:03, 80.74s/it]"
     ]
    },
    {
     "name": "stdout",
     "output_type": "stream",
     "text": [
      "Validation Loss: 2.303, Validation Accuracy: 10.12%\n",
      "Epoch 19, Train Loss: 18.006, Train Accuracy: 10.04%\n"
     ]
    },
    {
     "name": "stderr",
     "output_type": "stream",
     "text": [
      " 38%|███▊      | 19/50 [26:01<40:10, 77.75s/it]"
     ]
    },
    {
     "name": "stdout",
     "output_type": "stream",
     "text": [
      "Validation Loss: 2.303, Validation Accuracy: 10.12%\n",
      "Epoch 20, Train Loss: 18.006, Train Accuracy: 10.04%\n"
     ]
    },
    {
     "name": "stderr",
     "output_type": "stream",
     "text": [
      " 40%|████      | 20/50 [27:13<37:56, 75.89s/it]"
     ]
    },
    {
     "name": "stdout",
     "output_type": "stream",
     "text": [
      "Validation Loss: 2.303, Validation Accuracy: 10.12%\n",
      "Epoch 21, Train Loss: 18.006, Train Accuracy: 10.04%\n"
     ]
    },
    {
     "name": "stderr",
     "output_type": "stream",
     "text": [
      " 42%|████▏     | 21/50 [28:25<36:09, 74.83s/it]"
     ]
    },
    {
     "name": "stdout",
     "output_type": "stream",
     "text": [
      "Validation Loss: 2.303, Validation Accuracy: 10.12%\n",
      "Epoch 22, Train Loss: 18.006, Train Accuracy: 10.04%\n"
     ]
    },
    {
     "name": "stderr",
     "output_type": "stream",
     "text": [
      " 44%|████▍     | 22/50 [29:36<34:20, 73.58s/it]"
     ]
    },
    {
     "name": "stdout",
     "output_type": "stream",
     "text": [
      "Validation Loss: 2.303, Validation Accuracy: 10.12%\n",
      "Epoch 23, Train Loss: 18.006, Train Accuracy: 10.04%\n"
     ]
    },
    {
     "name": "stderr",
     "output_type": "stream",
     "text": [
      " 46%|████▌     | 23/50 [30:44<32:20, 71.85s/it]"
     ]
    },
    {
     "name": "stdout",
     "output_type": "stream",
     "text": [
      "Validation Loss: 2.303, Validation Accuracy: 10.12%\n",
      "Epoch 24, Train Loss: 18.006, Train Accuracy: 10.04%\n"
     ]
    },
    {
     "name": "stderr",
     "output_type": "stream",
     "text": [
      " 48%|████▊     | 24/50 [31:53<30:45, 70.99s/it]"
     ]
    },
    {
     "name": "stdout",
     "output_type": "stream",
     "text": [
      "Validation Loss: 2.303, Validation Accuracy: 10.12%\n",
      "Epoch 25, Train Loss: 18.006, Train Accuracy: 10.04%\n"
     ]
    },
    {
     "name": "stderr",
     "output_type": "stream",
     "text": [
      " 50%|█████     | 25/50 [33:06<29:49, 71.58s/it]"
     ]
    },
    {
     "name": "stdout",
     "output_type": "stream",
     "text": [
      "Validation Loss: 2.303, Validation Accuracy: 10.12%\n",
      "Epoch 26, Train Loss: 18.006, Train Accuracy: 10.04%\n"
     ]
    },
    {
     "name": "stderr",
     "output_type": "stream",
     "text": [
      " 52%|█████▏    | 26/50 [34:17<28:35, 71.47s/it]"
     ]
    },
    {
     "name": "stdout",
     "output_type": "stream",
     "text": [
      "Validation Loss: 2.303, Validation Accuracy: 10.12%\n",
      "Epoch 27, Train Loss: 18.006, Train Accuracy: 10.04%\n"
     ]
    },
    {
     "name": "stderr",
     "output_type": "stream",
     "text": [
      " 54%|█████▍    | 27/50 [35:28<27:24, 71.50s/it]"
     ]
    },
    {
     "name": "stdout",
     "output_type": "stream",
     "text": [
      "Validation Loss: 2.303, Validation Accuracy: 10.12%\n",
      "Epoch 28, Train Loss: 18.006, Train Accuracy: 10.04%\n"
     ]
    },
    {
     "name": "stderr",
     "output_type": "stream",
     "text": [
      " 56%|█████▌    | 28/50 [36:40<26:11, 71.44s/it]"
     ]
    },
    {
     "name": "stdout",
     "output_type": "stream",
     "text": [
      "Validation Loss: 2.303, Validation Accuracy: 10.12%\n",
      "Epoch 29, Train Loss: 18.006, Train Accuracy: 10.04%\n"
     ]
    },
    {
     "name": "stderr",
     "output_type": "stream",
     "text": [
      " 58%|█████▊    | 29/50 [37:48<24:43, 70.62s/it]"
     ]
    },
    {
     "name": "stdout",
     "output_type": "stream",
     "text": [
      "Validation Loss: 2.303, Validation Accuracy: 10.12%\n",
      "Epoch 30, Train Loss: 18.006, Train Accuracy: 10.04%\n"
     ]
    },
    {
     "name": "stderr",
     "output_type": "stream",
     "text": [
      " 60%|██████    | 30/50 [39:00<23:35, 70.79s/it]"
     ]
    },
    {
     "name": "stdout",
     "output_type": "stream",
     "text": [
      "Validation Loss: 2.303, Validation Accuracy: 10.12%\n",
      "Epoch 31, Train Loss: 18.006, Train Accuracy: 10.04%\n"
     ]
    },
    {
     "name": "stderr",
     "output_type": "stream",
     "text": [
      " 62%|██████▏   | 31/50 [40:10<22:23, 70.70s/it]"
     ]
    },
    {
     "name": "stdout",
     "output_type": "stream",
     "text": [
      "Validation Loss: 2.303, Validation Accuracy: 10.12%\n",
      "Epoch 32, Train Loss: 18.006, Train Accuracy: 10.04%\n"
     ]
    },
    {
     "name": "stderr",
     "output_type": "stream",
     "text": [
      " 64%|██████▍   | 32/50 [41:22<21:18, 71.02s/it]"
     ]
    },
    {
     "name": "stdout",
     "output_type": "stream",
     "text": [
      "Validation Loss: 2.303, Validation Accuracy: 10.12%\n",
      "Epoch 33, Train Loss: 18.006, Train Accuracy: 10.04%\n"
     ]
    },
    {
     "name": "stderr",
     "output_type": "stream",
     "text": [
      " 66%|██████▌   | 33/50 [42:34<20:11, 71.27s/it]"
     ]
    },
    {
     "name": "stdout",
     "output_type": "stream",
     "text": [
      "Validation Loss: 2.303, Validation Accuracy: 10.12%\n",
      "Epoch 34, Train Loss: 18.006, Train Accuracy: 10.04%\n"
     ]
    },
    {
     "name": "stderr",
     "output_type": "stream",
     "text": [
      " 68%|██████▊   | 34/50 [43:51<19:27, 72.98s/it]"
     ]
    },
    {
     "name": "stdout",
     "output_type": "stream",
     "text": [
      "Validation Loss: 2.303, Validation Accuracy: 10.12%\n",
      "Epoch 35, Train Loss: 18.006, Train Accuracy: 10.04%\n"
     ]
    },
    {
     "name": "stderr",
     "output_type": "stream",
     "text": [
      " 70%|███████   | 35/50 [45:01<18:04, 72.30s/it]"
     ]
    },
    {
     "name": "stdout",
     "output_type": "stream",
     "text": [
      "Validation Loss: 2.303, Validation Accuracy: 10.12%\n",
      "Epoch 36, Train Loss: 18.006, Train Accuracy: 10.04%\n"
     ]
    },
    {
     "name": "stderr",
     "output_type": "stream",
     "text": [
      " 72%|███████▏  | 36/50 [46:12<16:45, 71.83s/it]"
     ]
    },
    {
     "name": "stdout",
     "output_type": "stream",
     "text": [
      "Validation Loss: 2.303, Validation Accuracy: 10.12%\n",
      "Epoch 37, Train Loss: 18.006, Train Accuracy: 10.04%\n"
     ]
    },
    {
     "name": "stderr",
     "output_type": "stream",
     "text": [
      " 74%|███████▍  | 37/50 [47:26<15:42, 72.50s/it]"
     ]
    },
    {
     "name": "stdout",
     "output_type": "stream",
     "text": [
      "Validation Loss: 2.303, Validation Accuracy: 10.12%\n",
      "Epoch 38, Train Loss: 18.006, Train Accuracy: 10.04%\n"
     ]
    },
    {
     "name": "stderr",
     "output_type": "stream",
     "text": [
      " 76%|███████▌  | 38/50 [48:36<14:20, 71.71s/it]"
     ]
    },
    {
     "name": "stdout",
     "output_type": "stream",
     "text": [
      "Validation Loss: 2.303, Validation Accuracy: 10.12%\n",
      "Epoch 39, Train Loss: 18.006, Train Accuracy: 10.04%\n"
     ]
    },
    {
     "name": "stderr",
     "output_type": "stream",
     "text": [
      " 78%|███████▊  | 39/50 [49:48<13:09, 71.78s/it]"
     ]
    },
    {
     "name": "stdout",
     "output_type": "stream",
     "text": [
      "Validation Loss: 2.303, Validation Accuracy: 10.12%\n",
      "Epoch 40, Train Loss: 18.006, Train Accuracy: 10.04%\n"
     ]
    },
    {
     "name": "stderr",
     "output_type": "stream",
     "text": [
      " 80%|████████  | 40/50 [50:56<11:47, 70.78s/it]"
     ]
    },
    {
     "name": "stdout",
     "output_type": "stream",
     "text": [
      "Validation Loss: 2.303, Validation Accuracy: 10.12%\n",
      "Epoch 41, Train Loss: 18.006, Train Accuracy: 10.04%\n"
     ]
    },
    {
     "name": "stderr",
     "output_type": "stream",
     "text": [
      " 82%|████████▏ | 41/50 [52:10<10:44, 71.56s/it]"
     ]
    },
    {
     "name": "stdout",
     "output_type": "stream",
     "text": [
      "Validation Loss: 2.303, Validation Accuracy: 10.12%\n",
      "Epoch 42, Train Loss: 18.006, Train Accuracy: 10.04%\n"
     ]
    },
    {
     "name": "stderr",
     "output_type": "stream",
     "text": [
      " 84%|████████▍ | 42/50 [53:31<09:55, 74.38s/it]"
     ]
    },
    {
     "name": "stdout",
     "output_type": "stream",
     "text": [
      "Validation Loss: 2.303, Validation Accuracy: 10.12%\n",
      "Epoch 43, Train Loss: 18.006, Train Accuracy: 10.04%\n"
     ]
    },
    {
     "name": "stderr",
     "output_type": "stream",
     "text": [
      " 86%|████████▌ | 43/50 [54:42<08:33, 73.34s/it]"
     ]
    },
    {
     "name": "stdout",
     "output_type": "stream",
     "text": [
      "Validation Loss: 2.303, Validation Accuracy: 10.12%\n",
      "Epoch 44, Train Loss: 18.006, Train Accuracy: 10.04%\n"
     ]
    },
    {
     "name": "stderr",
     "output_type": "stream",
     "text": [
      " 88%|████████▊ | 44/50 [55:51<07:13, 72.19s/it]"
     ]
    },
    {
     "name": "stdout",
     "output_type": "stream",
     "text": [
      "Validation Loss: 2.303, Validation Accuracy: 10.12%\n",
      "Epoch 45, Train Loss: 18.006, Train Accuracy: 10.04%\n"
     ]
    },
    {
     "name": "stderr",
     "output_type": "stream",
     "text": [
      " 90%|█████████ | 45/50 [57:04<06:01, 72.40s/it]"
     ]
    },
    {
     "name": "stdout",
     "output_type": "stream",
     "text": [
      "Validation Loss: 2.303, Validation Accuracy: 10.12%\n",
      "Epoch 46, Train Loss: 18.006, Train Accuracy: 10.04%\n"
     ]
    },
    {
     "name": "stderr",
     "output_type": "stream",
     "text": [
      " 92%|█████████▏| 46/50 [58:17<04:50, 72.68s/it]"
     ]
    },
    {
     "name": "stdout",
     "output_type": "stream",
     "text": [
      "Validation Loss: 2.303, Validation Accuracy: 10.12%\n",
      "Epoch 47, Train Loss: 18.006, Train Accuracy: 10.04%\n"
     ]
    },
    {
     "name": "stderr",
     "output_type": "stream",
     "text": [
      " 94%|█████████▍| 47/50 [59:28<03:36, 72.11s/it]"
     ]
    },
    {
     "name": "stdout",
     "output_type": "stream",
     "text": [
      "Validation Loss: 2.303, Validation Accuracy: 10.12%\n",
      "Epoch 48, Train Loss: 18.006, Train Accuracy: 10.04%\n"
     ]
    },
    {
     "name": "stderr",
     "output_type": "stream",
     "text": [
      " 96%|█████████▌| 48/50 [1:00:40<02:23, 71.98s/it]"
     ]
    },
    {
     "name": "stdout",
     "output_type": "stream",
     "text": [
      "Validation Loss: 2.303, Validation Accuracy: 10.12%\n",
      "Epoch 49, Train Loss: 18.006, Train Accuracy: 10.04%\n"
     ]
    },
    {
     "name": "stderr",
     "output_type": "stream",
     "text": [
      " 98%|█████████▊| 49/50 [1:01:49<01:11, 71.24s/it]"
     ]
    },
    {
     "name": "stdout",
     "output_type": "stream",
     "text": [
      "Validation Loss: 2.303, Validation Accuracy: 10.12%\n",
      "Epoch 50, Train Loss: 18.006, Train Accuracy: 10.04%\n"
     ]
    },
    {
     "name": "stderr",
     "output_type": "stream",
     "text": [
      "100%|██████████| 50/50 [1:02:59<00:00, 75.59s/it]"
     ]
    },
    {
     "name": "stdout",
     "output_type": "stream",
     "text": [
      "Validation Loss: 2.303, Validation Accuracy: 10.12%\n",
      "Finished Training\n"
     ]
    },
    {
     "name": "stderr",
     "output_type": "stream",
     "text": [
      "\n"
     ]
    },
    {
     "name": "stdout",
     "output_type": "stream",
     "text": [
      "Model 4 Epochs 50 Particles 50\n"
     ]
    },
    {
     "name": "stderr",
     "output_type": "stream",
     "text": [
      "  0%|          | 0/50 [00:00<?, ?it/s]"
     ]
    },
    {
     "name": "stdout",
     "output_type": "stream",
     "text": [
      "Epoch 1, Train Loss: 18.006, Train Accuracy: 10.04%\n"
     ]
    },
    {
     "name": "stderr",
     "output_type": "stream",
     "text": [
      "  2%|▏         | 1/50 [01:11<58:31, 71.67s/it]"
     ]
    },
    {
     "name": "stdout",
     "output_type": "stream",
     "text": [
      "Validation Loss: 2.303, Validation Accuracy: 10.12%\n",
      "Epoch 2, Train Loss: 18.006, Train Accuracy: 10.04%\n"
     ]
    },
    {
     "name": "stderr",
     "output_type": "stream",
     "text": [
      "  4%|▍         | 2/50 [02:23<57:28, 71.84s/it]"
     ]
    },
    {
     "name": "stdout",
     "output_type": "stream",
     "text": [
      "Validation Loss: 2.303, Validation Accuracy: 10.12%\n",
      "Epoch 3, Train Loss: 18.006, Train Accuracy: 10.04%\n"
     ]
    },
    {
     "name": "stderr",
     "output_type": "stream",
     "text": [
      "  6%|▌         | 3/50 [03:36<56:44, 72.43s/it]"
     ]
    },
    {
     "name": "stdout",
     "output_type": "stream",
     "text": [
      "Validation Loss: 2.303, Validation Accuracy: 10.12%\n",
      "Epoch 4, Train Loss: 18.006, Train Accuracy: 10.04%\n"
     ]
    },
    {
     "name": "stderr",
     "output_type": "stream",
     "text": [
      "  8%|▊         | 4/50 [04:47<55:09, 71.94s/it]"
     ]
    },
    {
     "name": "stdout",
     "output_type": "stream",
     "text": [
      "Validation Loss: 2.303, Validation Accuracy: 10.12%\n",
      "Epoch 5, Train Loss: 18.006, Train Accuracy: 10.04%\n"
     ]
    },
    {
     "name": "stderr",
     "output_type": "stream",
     "text": [
      " 10%|█         | 5/50 [05:56<52:55, 70.57s/it]"
     ]
    },
    {
     "name": "stdout",
     "output_type": "stream",
     "text": [
      "Validation Loss: 2.303, Validation Accuracy: 10.12%\n",
      "Epoch 6, Train Loss: 18.006, Train Accuracy: 10.04%\n"
     ]
    },
    {
     "name": "stderr",
     "output_type": "stream",
     "text": [
      " 12%|█▏        | 6/50 [07:08<52:11, 71.16s/it]"
     ]
    },
    {
     "name": "stdout",
     "output_type": "stream",
     "text": [
      "Validation Loss: 2.303, Validation Accuracy: 10.12%\n",
      "Epoch 7, Train Loss: 18.006, Train Accuracy: 10.04%\n"
     ]
    },
    {
     "name": "stderr",
     "output_type": "stream",
     "text": [
      " 14%|█▍        | 7/50 [08:22<51:39, 72.07s/it]"
     ]
    },
    {
     "name": "stdout",
     "output_type": "stream",
     "text": [
      "Validation Loss: 2.303, Validation Accuracy: 10.12%\n",
      "Epoch 8, Train Loss: 18.006, Train Accuracy: 10.04%\n"
     ]
    },
    {
     "name": "stderr",
     "output_type": "stream",
     "text": [
      " 16%|█▌        | 8/50 [09:39<51:34, 73.69s/it]"
     ]
    },
    {
     "name": "stdout",
     "output_type": "stream",
     "text": [
      "Validation Loss: 2.303, Validation Accuracy: 10.12%\n",
      "Epoch 9, Train Loss: 18.006, Train Accuracy: 10.04%\n"
     ]
    },
    {
     "name": "stderr",
     "output_type": "stream",
     "text": [
      " 18%|█▊        | 9/50 [10:41<47:53, 70.09s/it]"
     ]
    },
    {
     "name": "stdout",
     "output_type": "stream",
     "text": [
      "Validation Loss: 2.303, Validation Accuracy: 10.12%\n",
      "Epoch 10, Train Loss: 18.006, Train Accuracy: 10.04%\n"
     ]
    },
    {
     "name": "stderr",
     "output_type": "stream",
     "text": [
      " 20%|██        | 10/50 [11:39<44:09, 66.23s/it]"
     ]
    },
    {
     "name": "stdout",
     "output_type": "stream",
     "text": [
      "Validation Loss: 2.303, Validation Accuracy: 10.12%\n",
      "Epoch 11, Train Loss: 18.006, Train Accuracy: 10.04%\n"
     ]
    },
    {
     "name": "stderr",
     "output_type": "stream",
     "text": [
      " 22%|██▏       | 11/50 [12:39<41:54, 64.47s/it]"
     ]
    },
    {
     "name": "stdout",
     "output_type": "stream",
     "text": [
      "Validation Loss: 2.303, Validation Accuracy: 10.12%\n",
      "Epoch 12, Train Loss: 18.006, Train Accuracy: 10.04%\n"
     ]
    },
    {
     "name": "stderr",
     "output_type": "stream",
     "text": [
      " 24%|██▍       | 12/50 [13:38<39:46, 62.80s/it]"
     ]
    },
    {
     "name": "stdout",
     "output_type": "stream",
     "text": [
      "Validation Loss: 2.303, Validation Accuracy: 10.12%\n",
      "Epoch 13, Train Loss: 18.006, Train Accuracy: 10.04%\n"
     ]
    },
    {
     "name": "stderr",
     "output_type": "stream",
     "text": [
      " 26%|██▌       | 13/50 [14:43<39:08, 63.47s/it]"
     ]
    },
    {
     "name": "stdout",
     "output_type": "stream",
     "text": [
      "Validation Loss: 2.303, Validation Accuracy: 10.12%\n",
      "Epoch 14, Train Loss: 18.006, Train Accuracy: 10.04%\n"
     ]
    },
    {
     "name": "stderr",
     "output_type": "stream",
     "text": [
      " 28%|██▊       | 14/50 [16:01<40:36, 67.68s/it]"
     ]
    },
    {
     "name": "stdout",
     "output_type": "stream",
     "text": [
      "Validation Loss: 2.303, Validation Accuracy: 10.12%\n",
      "Epoch 15, Train Loss: 18.006, Train Accuracy: 10.04%\n"
     ]
    },
    {
     "name": "stderr",
     "output_type": "stream",
     "text": [
      " 30%|███       | 15/50 [17:18<41:13, 70.67s/it]"
     ]
    },
    {
     "name": "stdout",
     "output_type": "stream",
     "text": [
      "Validation Loss: 2.303, Validation Accuracy: 10.12%\n",
      "Epoch 16, Train Loss: 18.006, Train Accuracy: 10.04%\n"
     ]
    },
    {
     "name": "stderr",
     "output_type": "stream",
     "text": [
      " 32%|███▏      | 16/50 [18:36<41:14, 72.79s/it]"
     ]
    },
    {
     "name": "stdout",
     "output_type": "stream",
     "text": [
      "Validation Loss: 2.303, Validation Accuracy: 10.12%\n",
      "Epoch 17, Train Loss: 18.006, Train Accuracy: 10.04%\n"
     ]
    },
    {
     "name": "stderr",
     "output_type": "stream",
     "text": [
      " 34%|███▍      | 17/50 [19:35<37:43, 68.59s/it]"
     ]
    },
    {
     "name": "stdout",
     "output_type": "stream",
     "text": [
      "Validation Loss: 2.303, Validation Accuracy: 10.12%\n",
      "Epoch 18, Train Loss: 18.006, Train Accuracy: 10.04%\n"
     ]
    },
    {
     "name": "stderr",
     "output_type": "stream",
     "text": [
      " 36%|███▌      | 18/50 [20:32<34:44, 65.14s/it]"
     ]
    },
    {
     "name": "stdout",
     "output_type": "stream",
     "text": [
      "Validation Loss: 2.303, Validation Accuracy: 10.12%\n",
      "Epoch 19, Train Loss: 18.006, Train Accuracy: 10.04%\n"
     ]
    },
    {
     "name": "stderr",
     "output_type": "stream",
     "text": [
      " 38%|███▊      | 19/50 [21:29<32:27, 62.82s/it]"
     ]
    },
    {
     "name": "stdout",
     "output_type": "stream",
     "text": [
      "Validation Loss: 2.303, Validation Accuracy: 10.12%\n",
      "Epoch 20, Train Loss: 18.006, Train Accuracy: 10.04%\n"
     ]
    },
    {
     "name": "stderr",
     "output_type": "stream",
     "text": [
      " 40%|████      | 20/50 [22:26<30:27, 60.91s/it]"
     ]
    },
    {
     "name": "stdout",
     "output_type": "stream",
     "text": [
      "Validation Loss: 2.303, Validation Accuracy: 10.12%\n",
      "Epoch 21, Train Loss: 18.006, Train Accuracy: 10.04%\n"
     ]
    },
    {
     "name": "stderr",
     "output_type": "stream",
     "text": [
      " 42%|████▏     | 21/50 [23:24<29:01, 60.05s/it]"
     ]
    },
    {
     "name": "stdout",
     "output_type": "stream",
     "text": [
      "Validation Loss: 2.303, Validation Accuracy: 10.12%\n",
      "Epoch 22, Train Loss: 18.006, Train Accuracy: 10.04%\n"
     ]
    },
    {
     "name": "stderr",
     "output_type": "stream",
     "text": [
      " 44%|████▍     | 22/50 [24:22<27:44, 59.44s/it]"
     ]
    },
    {
     "name": "stdout",
     "output_type": "stream",
     "text": [
      "Validation Loss: 2.303, Validation Accuracy: 10.12%\n",
      "Epoch 23, Train Loss: 18.006, Train Accuracy: 10.04%\n"
     ]
    },
    {
     "name": "stderr",
     "output_type": "stream",
     "text": [
      " 46%|████▌     | 23/50 [25:17<26:11, 58.20s/it]"
     ]
    },
    {
     "name": "stdout",
     "output_type": "stream",
     "text": [
      "Validation Loss: 2.303, Validation Accuracy: 10.12%\n",
      "Epoch 24, Train Loss: 18.006, Train Accuracy: 10.04%\n"
     ]
    },
    {
     "name": "stderr",
     "output_type": "stream",
     "text": [
      " 48%|████▊     | 24/50 [26:16<25:16, 58.34s/it]"
     ]
    },
    {
     "name": "stdout",
     "output_type": "stream",
     "text": [
      "Validation Loss: 2.303, Validation Accuracy: 10.12%\n",
      "Epoch 25, Train Loss: 18.006, Train Accuracy: 10.04%\n"
     ]
    },
    {
     "name": "stderr",
     "output_type": "stream",
     "text": [
      " 50%|█████     | 25/50 [27:12<24:05, 57.83s/it]"
     ]
    },
    {
     "name": "stdout",
     "output_type": "stream",
     "text": [
      "Validation Loss: 2.303, Validation Accuracy: 10.12%\n",
      "Epoch 26, Train Loss: 18.006, Train Accuracy: 10.04%\n"
     ]
    },
    {
     "name": "stderr",
     "output_type": "stream",
     "text": [
      " 52%|█████▏    | 26/50 [28:12<23:19, 58.31s/it]"
     ]
    },
    {
     "name": "stdout",
     "output_type": "stream",
     "text": [
      "Validation Loss: 2.303, Validation Accuracy: 10.12%\n",
      "Epoch 27, Train Loss: 18.006, Train Accuracy: 10.04%\n"
     ]
    },
    {
     "name": "stderr",
     "output_type": "stream",
     "text": [
      " 54%|█████▍    | 27/50 [29:10<22:17, 58.15s/it]"
     ]
    },
    {
     "name": "stdout",
     "output_type": "stream",
     "text": [
      "Validation Loss: 2.303, Validation Accuracy: 10.12%\n",
      "Epoch 28, Train Loss: 18.006, Train Accuracy: 10.04%\n"
     ]
    },
    {
     "name": "stderr",
     "output_type": "stream",
     "text": [
      " 56%|█████▌    | 28/50 [30:07<21:15, 57.96s/it]"
     ]
    },
    {
     "name": "stdout",
     "output_type": "stream",
     "text": [
      "Validation Loss: 2.303, Validation Accuracy: 10.12%\n",
      "Epoch 29, Train Loss: 18.006, Train Accuracy: 10.04%\n"
     ]
    },
    {
     "name": "stderr",
     "output_type": "stream",
     "text": [
      " 58%|█████▊    | 29/50 [31:05<20:16, 57.93s/it]"
     ]
    },
    {
     "name": "stdout",
     "output_type": "stream",
     "text": [
      "Validation Loss: 2.303, Validation Accuracy: 10.12%\n",
      "Epoch 30, Train Loss: 18.006, Train Accuracy: 10.04%\n"
     ]
    },
    {
     "name": "stderr",
     "output_type": "stream",
     "text": [
      " 60%|██████    | 30/50 [32:02<19:14, 57.74s/it]"
     ]
    },
    {
     "name": "stdout",
     "output_type": "stream",
     "text": [
      "Validation Loss: 2.303, Validation Accuracy: 10.12%\n",
      "Epoch 31, Train Loss: 18.006, Train Accuracy: 10.04%\n"
     ]
    },
    {
     "name": "stderr",
     "output_type": "stream",
     "text": [
      " 62%|██████▏   | 31/50 [33:00<18:16, 57.70s/it]"
     ]
    },
    {
     "name": "stdout",
     "output_type": "stream",
     "text": [
      "Validation Loss: 2.303, Validation Accuracy: 10.12%\n",
      "Epoch 32, Train Loss: 18.006, Train Accuracy: 10.04%\n"
     ]
    },
    {
     "name": "stderr",
     "output_type": "stream",
     "text": [
      " 64%|██████▍   | 32/50 [33:57<17:15, 57.55s/it]"
     ]
    },
    {
     "name": "stdout",
     "output_type": "stream",
     "text": [
      "Validation Loss: 2.303, Validation Accuracy: 10.12%\n",
      "Epoch 33, Train Loss: 18.006, Train Accuracy: 10.04%\n"
     ]
    },
    {
     "name": "stderr",
     "output_type": "stream",
     "text": [
      " 66%|██████▌   | 33/50 [34:57<16:32, 58.36s/it]"
     ]
    },
    {
     "name": "stdout",
     "output_type": "stream",
     "text": [
      "Validation Loss: 2.303, Validation Accuracy: 10.12%\n",
      "Epoch 34, Train Loss: 18.006, Train Accuracy: 10.04%\n"
     ]
    },
    {
     "name": "stderr",
     "output_type": "stream",
     "text": [
      " 68%|██████▊   | 34/50 [35:55<15:29, 58.10s/it]"
     ]
    },
    {
     "name": "stdout",
     "output_type": "stream",
     "text": [
      "Validation Loss: 2.303, Validation Accuracy: 10.12%\n",
      "Epoch 35, Train Loss: 18.006, Train Accuracy: 10.04%\n"
     ]
    },
    {
     "name": "stderr",
     "output_type": "stream",
     "text": [
      " 70%|███████   | 35/50 [36:50<14:19, 57.31s/it]"
     ]
    },
    {
     "name": "stdout",
     "output_type": "stream",
     "text": [
      "Validation Loss: 2.303, Validation Accuracy: 10.12%\n",
      "Epoch 36, Train Loss: 18.006, Train Accuracy: 10.04%\n"
     ]
    },
    {
     "name": "stderr",
     "output_type": "stream",
     "text": [
      " 72%|███████▏  | 36/50 [37:46<13:16, 56.90s/it]"
     ]
    },
    {
     "name": "stdout",
     "output_type": "stream",
     "text": [
      "Validation Loss: 2.303, Validation Accuracy: 10.12%\n",
      "Epoch 37, Train Loss: 18.006, Train Accuracy: 10.04%\n"
     ]
    },
    {
     "name": "stderr",
     "output_type": "stream",
     "text": [
      " 74%|███████▍  | 37/50 [38:45<12:27, 57.47s/it]"
     ]
    },
    {
     "name": "stdout",
     "output_type": "stream",
     "text": [
      "Validation Loss: 2.303, Validation Accuracy: 10.12%\n",
      "Epoch 38, Train Loss: 18.006, Train Accuracy: 10.04%\n"
     ]
    },
    {
     "name": "stderr",
     "output_type": "stream",
     "text": [
      " 76%|███████▌  | 38/50 [39:42<11:28, 57.34s/it]"
     ]
    },
    {
     "name": "stdout",
     "output_type": "stream",
     "text": [
      "Validation Loss: 2.303, Validation Accuracy: 10.12%\n",
      "Epoch 39, Train Loss: 18.006, Train Accuracy: 10.04%\n"
     ]
    },
    {
     "name": "stderr",
     "output_type": "stream",
     "text": [
      " 78%|███████▊  | 39/50 [40:41<10:34, 57.68s/it]"
     ]
    },
    {
     "name": "stdout",
     "output_type": "stream",
     "text": [
      "Validation Loss: 2.303, Validation Accuracy: 10.12%\n",
      "Epoch 40, Train Loss: 18.006, Train Accuracy: 10.04%\n"
     ]
    },
    {
     "name": "stderr",
     "output_type": "stream",
     "text": [
      " 80%|████████  | 40/50 [41:40<09:42, 58.29s/it]"
     ]
    },
    {
     "name": "stdout",
     "output_type": "stream",
     "text": [
      "Validation Loss: 2.303, Validation Accuracy: 10.12%\n",
      "Epoch 41, Train Loss: 18.006, Train Accuracy: 10.04%\n"
     ]
    },
    {
     "name": "stderr",
     "output_type": "stream",
     "text": [
      " 82%|████████▏ | 41/50 [42:41<08:50, 58.96s/it]"
     ]
    },
    {
     "name": "stdout",
     "output_type": "stream",
     "text": [
      "Validation Loss: 2.303, Validation Accuracy: 10.12%\n",
      "Epoch 42, Train Loss: 18.006, Train Accuracy: 10.04%\n"
     ]
    },
    {
     "name": "stderr",
     "output_type": "stream",
     "text": [
      " 84%|████████▍ | 42/50 [43:39<07:49, 58.64s/it]"
     ]
    },
    {
     "name": "stdout",
     "output_type": "stream",
     "text": [
      "Validation Loss: 2.303, Validation Accuracy: 10.12%\n",
      "Epoch 43, Train Loss: 18.006, Train Accuracy: 10.04%\n"
     ]
    },
    {
     "name": "stderr",
     "output_type": "stream",
     "text": [
      " 86%|████████▌ | 43/50 [44:50<07:17, 62.45s/it]"
     ]
    },
    {
     "name": "stdout",
     "output_type": "stream",
     "text": [
      "Validation Loss: 2.303, Validation Accuracy: 10.12%\n",
      "Epoch 44, Train Loss: 18.006, Train Accuracy: 10.04%\n"
     ]
    },
    {
     "name": "stderr",
     "output_type": "stream",
     "text": [
      " 88%|████████▊ | 44/50 [45:58<06:24, 64.12s/it]"
     ]
    },
    {
     "name": "stdout",
     "output_type": "stream",
     "text": [
      "Validation Loss: 2.303, Validation Accuracy: 10.12%\n",
      "Epoch 45, Train Loss: 18.006, Train Accuracy: 10.04%\n"
     ]
    },
    {
     "name": "stderr",
     "output_type": "stream",
     "text": [
      " 90%|█████████ | 45/50 [47:19<05:45, 69.16s/it]"
     ]
    },
    {
     "name": "stdout",
     "output_type": "stream",
     "text": [
      "Validation Loss: 2.303, Validation Accuracy: 10.12%\n",
      "Epoch 46, Train Loss: 18.006, Train Accuracy: 10.04%\n"
     ]
    },
    {
     "name": "stderr",
     "output_type": "stream",
     "text": [
      " 92%|█████████▏| 46/50 [48:29<04:37, 69.42s/it]"
     ]
    },
    {
     "name": "stdout",
     "output_type": "stream",
     "text": [
      "Validation Loss: 2.303, Validation Accuracy: 10.12%\n",
      "Epoch 47, Train Loss: 18.006, Train Accuracy: 10.04%\n"
     ]
    },
    {
     "name": "stderr",
     "output_type": "stream",
     "text": [
      " 94%|█████████▍| 47/50 [49:40<03:29, 69.79s/it]"
     ]
    },
    {
     "name": "stdout",
     "output_type": "stream",
     "text": [
      "Validation Loss: 2.303, Validation Accuracy: 10.12%\n",
      "Epoch 48, Train Loss: 18.006, Train Accuracy: 10.04%\n"
     ]
    },
    {
     "name": "stderr",
     "output_type": "stream",
     "text": [
      " 96%|█████████▌| 48/50 [51:00<02:25, 72.82s/it]"
     ]
    },
    {
     "name": "stdout",
     "output_type": "stream",
     "text": [
      "Validation Loss: 2.303, Validation Accuracy: 10.12%\n",
      "Epoch 49, Train Loss: 18.006, Train Accuracy: 10.04%\n"
     ]
    },
    {
     "name": "stderr",
     "output_type": "stream",
     "text": [
      " 98%|█████████▊| 49/50 [52:30<01:18, 78.10s/it]"
     ]
    },
    {
     "name": "stdout",
     "output_type": "stream",
     "text": [
      "Validation Loss: 2.303, Validation Accuracy: 10.12%\n",
      "Epoch 50, Train Loss: 18.006, Train Accuracy: 10.04%\n"
     ]
    },
    {
     "name": "stderr",
     "output_type": "stream",
     "text": [
      "100%|██████████| 50/50 [53:48<00:00, 64.58s/it]"
     ]
    },
    {
     "name": "stdout",
     "output_type": "stream",
     "text": [
      "Validation Loss: 2.303, Validation Accuracy: 10.12%\n",
      "Finished Training\n"
     ]
    },
    {
     "name": "stderr",
     "output_type": "stream",
     "text": [
      "\n"
     ]
    },
    {
     "name": "stdout",
     "output_type": "stream",
     "text": [
      "Model 5 Epochs 100 Particles 10\n"
     ]
    },
    {
     "name": "stderr",
     "output_type": "stream",
     "text": [
      "  0%|          | 0/100 [00:00<?, ?it/s]"
     ]
    },
    {
     "name": "stdout",
     "output_type": "stream",
     "text": [
      "Epoch 1, Train Loss: 18.006, Train Accuracy: 10.04%\n"
     ]
    },
    {
     "name": "stderr",
     "output_type": "stream",
     "text": [
      "  1%|          | 1/100 [01:47<2:56:44, 107.12s/it]"
     ]
    },
    {
     "name": "stdout",
     "output_type": "stream",
     "text": [
      "Validation Loss: 2.303, Validation Accuracy: 10.12%\n",
      "Epoch 2, Train Loss: 18.006, Train Accuracy: 10.04%\n"
     ]
    },
    {
     "name": "stderr",
     "output_type": "stream",
     "text": [
      "  2%|▏         | 2/100 [03:25<2:46:46, 102.10s/it]"
     ]
    },
    {
     "name": "stdout",
     "output_type": "stream",
     "text": [
      "Validation Loss: 2.303, Validation Accuracy: 10.12%\n",
      "Epoch 3, Train Loss: 18.006, Train Accuracy: 10.04%\n"
     ]
    },
    {
     "name": "stderr",
     "output_type": "stream",
     "text": [
      "  3%|▎         | 3/100 [04:57<2:37:20, 97.32s/it] "
     ]
    },
    {
     "name": "stdout",
     "output_type": "stream",
     "text": [
      "Validation Loss: 2.303, Validation Accuracy: 10.12%\n",
      "Epoch 4, Train Loss: 18.006, Train Accuracy: 10.04%\n"
     ]
    },
    {
     "name": "stderr",
     "output_type": "stream",
     "text": [
      "  4%|▍         | 4/100 [06:26<2:30:42, 94.19s/it]"
     ]
    },
    {
     "name": "stdout",
     "output_type": "stream",
     "text": [
      "Validation Loss: 2.303, Validation Accuracy: 10.12%\n",
      "Epoch 5, Train Loss: 18.006, Train Accuracy: 10.04%\n"
     ]
    },
    {
     "name": "stderr",
     "output_type": "stream",
     "text": [
      "  5%|▌         | 5/100 [07:34<2:14:07, 84.71s/it]"
     ]
    },
    {
     "name": "stdout",
     "output_type": "stream",
     "text": [
      "Validation Loss: 2.303, Validation Accuracy: 10.12%\n",
      "Epoch 6, Train Loss: 18.006, Train Accuracy: 10.04%\n"
     ]
    },
    {
     "name": "stderr",
     "output_type": "stream",
     "text": [
      "  6%|▌         | 6/100 [08:57<2:11:48, 84.14s/it]"
     ]
    },
    {
     "name": "stdout",
     "output_type": "stream",
     "text": [
      "Validation Loss: 2.303, Validation Accuracy: 10.12%\n",
      "Epoch 7, Train Loss: 18.006, Train Accuracy: 10.04%\n"
     ]
    },
    {
     "name": "stderr",
     "output_type": "stream",
     "text": [
      "  7%|▋         | 7/100 [10:17<2:08:08, 82.67s/it]"
     ]
    },
    {
     "name": "stdout",
     "output_type": "stream",
     "text": [
      "Validation Loss: 2.303, Validation Accuracy: 10.12%\n",
      "Epoch 8, Train Loss: 18.006, Train Accuracy: 10.04%\n"
     ]
    },
    {
     "name": "stderr",
     "output_type": "stream",
     "text": [
      "  8%|▊         | 8/100 [11:48<2:10:51, 85.34s/it]"
     ]
    },
    {
     "name": "stdout",
     "output_type": "stream",
     "text": [
      "Validation Loss: 2.303, Validation Accuracy: 10.12%\n",
      "Epoch 9, Train Loss: 18.006, Train Accuracy: 10.04%\n"
     ]
    },
    {
     "name": "stderr",
     "output_type": "stream",
     "text": [
      "  9%|▉         | 9/100 [13:14<2:09:40, 85.50s/it]"
     ]
    },
    {
     "name": "stdout",
     "output_type": "stream",
     "text": [
      "Validation Loss: 2.303, Validation Accuracy: 10.12%\n",
      "Epoch 10, Train Loss: 18.006, Train Accuracy: 10.04%\n"
     ]
    },
    {
     "name": "stderr",
     "output_type": "stream",
     "text": [
      " 10%|█         | 10/100 [15:16<2:25:08, 96.76s/it]"
     ]
    },
    {
     "name": "stdout",
     "output_type": "stream",
     "text": [
      "Validation Loss: 2.303, Validation Accuracy: 10.12%\n",
      "Epoch 11, Train Loss: 18.006, Train Accuracy: 10.04%\n"
     ]
    },
    {
     "name": "stderr",
     "output_type": "stream",
     "text": [
      " 11%|█         | 11/100 [16:56<2:25:09, 97.86s/it]"
     ]
    },
    {
     "name": "stdout",
     "output_type": "stream",
     "text": [
      "Validation Loss: 2.303, Validation Accuracy: 10.12%\n",
      "Epoch 12, Train Loss: 18.006, Train Accuracy: 10.04%\n"
     ]
    },
    {
     "name": "stderr",
     "output_type": "stream",
     "text": [
      " 12%|█▏        | 12/100 [18:18<2:16:37, 93.16s/it]"
     ]
    },
    {
     "name": "stdout",
     "output_type": "stream",
     "text": [
      "Validation Loss: 2.303, Validation Accuracy: 10.12%\n",
      "Epoch 13, Train Loss: 18.006, Train Accuracy: 10.04%\n"
     ]
    },
    {
     "name": "stderr",
     "output_type": "stream",
     "text": [
      " 13%|█▎        | 13/100 [19:40<2:10:04, 89.70s/it]"
     ]
    },
    {
     "name": "stdout",
     "output_type": "stream",
     "text": [
      "Validation Loss: 2.303, Validation Accuracy: 10.12%\n",
      "Epoch 14, Train Loss: 18.006, Train Accuracy: 10.04%\n"
     ]
    },
    {
     "name": "stderr",
     "output_type": "stream",
     "text": [
      " 14%|█▍        | 14/100 [21:00<2:04:24, 86.80s/it]"
     ]
    },
    {
     "name": "stdout",
     "output_type": "stream",
     "text": [
      "Validation Loss: 2.303, Validation Accuracy: 10.12%\n",
      "Epoch 15, Train Loss: 18.006, Train Accuracy: 10.04%\n"
     ]
    },
    {
     "name": "stderr",
     "output_type": "stream",
     "text": [
      " 15%|█▌        | 15/100 [22:24<2:01:48, 85.98s/it]"
     ]
    },
    {
     "name": "stdout",
     "output_type": "stream",
     "text": [
      "Validation Loss: 2.303, Validation Accuracy: 10.12%\n",
      "Epoch 16, Train Loss: 18.006, Train Accuracy: 10.04%\n"
     ]
    },
    {
     "name": "stderr",
     "output_type": "stream",
     "text": [
      " 16%|█▌        | 16/100 [23:49<1:59:39, 85.47s/it]"
     ]
    },
    {
     "name": "stdout",
     "output_type": "stream",
     "text": [
      "Validation Loss: 2.303, Validation Accuracy: 10.12%\n",
      "Epoch 17, Train Loss: 18.006, Train Accuracy: 10.04%\n"
     ]
    },
    {
     "name": "stderr",
     "output_type": "stream",
     "text": [
      " 17%|█▋        | 17/100 [25:11<1:56:48, 84.44s/it]"
     ]
    },
    {
     "name": "stdout",
     "output_type": "stream",
     "text": [
      "Validation Loss: 2.303, Validation Accuracy: 10.12%\n",
      "Epoch 18, Train Loss: 18.006, Train Accuracy: 10.04%\n"
     ]
    },
    {
     "name": "stderr",
     "output_type": "stream",
     "text": [
      " 18%|█▊        | 18/100 [26:34<1:54:59, 84.14s/it]"
     ]
    },
    {
     "name": "stdout",
     "output_type": "stream",
     "text": [
      "Validation Loss: 2.303, Validation Accuracy: 10.12%\n",
      "Epoch 19, Train Loss: 18.006, Train Accuracy: 10.04%\n"
     ]
    },
    {
     "name": "stderr",
     "output_type": "stream",
     "text": [
      " 19%|█▉        | 19/100 [27:59<1:53:49, 84.32s/it]"
     ]
    },
    {
     "name": "stdout",
     "output_type": "stream",
     "text": [
      "Validation Loss: 2.303, Validation Accuracy: 10.12%\n",
      "Epoch 20, Train Loss: 18.006, Train Accuracy: 10.04%\n"
     ]
    },
    {
     "name": "stderr",
     "output_type": "stream",
     "text": [
      " 20%|██        | 20/100 [29:28<1:54:16, 85.70s/it]"
     ]
    },
    {
     "name": "stdout",
     "output_type": "stream",
     "text": [
      "Validation Loss: 2.303, Validation Accuracy: 10.12%\n",
      "Epoch 21, Train Loss: 18.006, Train Accuracy: 10.04%\n"
     ]
    },
    {
     "name": "stderr",
     "output_type": "stream",
     "text": [
      " 21%|██        | 21/100 [30:57<1:54:03, 86.63s/it]"
     ]
    },
    {
     "name": "stdout",
     "output_type": "stream",
     "text": [
      "Validation Loss: 2.303, Validation Accuracy: 10.12%\n",
      "Epoch 22, Train Loss: 18.006, Train Accuracy: 10.04%\n"
     ]
    },
    {
     "name": "stderr",
     "output_type": "stream",
     "text": [
      " 22%|██▏       | 22/100 [32:27<1:53:59, 87.69s/it]"
     ]
    },
    {
     "name": "stdout",
     "output_type": "stream",
     "text": [
      "Validation Loss: 2.303, Validation Accuracy: 10.12%\n",
      "Epoch 23, Train Loss: 18.006, Train Accuracy: 10.04%\n"
     ]
    },
    {
     "name": "stderr",
     "output_type": "stream",
     "text": [
      " 23%|██▎       | 23/100 [33:54<1:52:20, 87.53s/it]"
     ]
    },
    {
     "name": "stdout",
     "output_type": "stream",
     "text": [
      "Validation Loss: 2.303, Validation Accuracy: 10.12%\n",
      "Epoch 24, Train Loss: 18.006, Train Accuracy: 10.04%\n"
     ]
    },
    {
     "name": "stderr",
     "output_type": "stream",
     "text": [
      " 24%|██▍       | 24/100 [35:09<1:46:05, 83.75s/it]"
     ]
    },
    {
     "name": "stdout",
     "output_type": "stream",
     "text": [
      "Validation Loss: 2.303, Validation Accuracy: 10.12%\n",
      "Epoch 25, Train Loss: 18.006, Train Accuracy: 10.04%\n"
     ]
    },
    {
     "name": "stderr",
     "output_type": "stream",
     "text": [
      " 25%|██▌       | 25/100 [36:18<1:39:12, 79.37s/it]"
     ]
    },
    {
     "name": "stdout",
     "output_type": "stream",
     "text": [
      "Validation Loss: 2.303, Validation Accuracy: 10.12%\n",
      "Epoch 26, Train Loss: 18.006, Train Accuracy: 10.04%\n"
     ]
    },
    {
     "name": "stderr",
     "output_type": "stream",
     "text": [
      " 26%|██▌       | 26/100 [37:44<1:40:09, 81.21s/it]"
     ]
    },
    {
     "name": "stdout",
     "output_type": "stream",
     "text": [
      "Validation Loss: 2.303, Validation Accuracy: 10.12%\n",
      "Epoch 27, Train Loss: 18.006, Train Accuracy: 10.04%\n"
     ]
    },
    {
     "name": "stderr",
     "output_type": "stream",
     "text": [
      " 27%|██▋       | 27/100 [38:59<1:36:48, 79.56s/it]"
     ]
    },
    {
     "name": "stdout",
     "output_type": "stream",
     "text": [
      "Validation Loss: 2.303, Validation Accuracy: 10.12%\n",
      "Epoch 28, Train Loss: 18.006, Train Accuracy: 10.04%\n"
     ]
    },
    {
     "name": "stderr",
     "output_type": "stream",
     "text": [
      " 28%|██▊       | 28/100 [40:07<1:31:21, 76.13s/it]"
     ]
    },
    {
     "name": "stdout",
     "output_type": "stream",
     "text": [
      "Validation Loss: 2.303, Validation Accuracy: 10.12%\n",
      "Epoch 29, Train Loss: 18.006, Train Accuracy: 10.04%\n"
     ]
    },
    {
     "name": "stderr",
     "output_type": "stream",
     "text": [
      " 29%|██▉       | 29/100 [41:14<1:26:36, 73.19s/it]"
     ]
    },
    {
     "name": "stdout",
     "output_type": "stream",
     "text": [
      "Validation Loss: 2.303, Validation Accuracy: 10.12%\n",
      "Epoch 30, Train Loss: 18.006, Train Accuracy: 10.04%\n"
     ]
    },
    {
     "name": "stderr",
     "output_type": "stream",
     "text": [
      " 30%|███       | 30/100 [42:21<1:23:16, 71.38s/it]"
     ]
    },
    {
     "name": "stdout",
     "output_type": "stream",
     "text": [
      "Validation Loss: 2.303, Validation Accuracy: 10.12%\n",
      "Epoch 31, Train Loss: 18.006, Train Accuracy: 10.04%\n"
     ]
    },
    {
     "name": "stderr",
     "output_type": "stream",
     "text": [
      " 31%|███       | 31/100 [43:19<1:17:39, 67.53s/it]"
     ]
    },
    {
     "name": "stdout",
     "output_type": "stream",
     "text": [
      "Validation Loss: 2.303, Validation Accuracy: 10.12%\n",
      "Epoch 32, Train Loss: 18.006, Train Accuracy: 10.04%\n"
     ]
    },
    {
     "name": "stderr",
     "output_type": "stream",
     "text": [
      " 32%|███▏      | 32/100 [44:16<1:12:42, 64.15s/it]"
     ]
    },
    {
     "name": "stdout",
     "output_type": "stream",
     "text": [
      "Validation Loss: 2.303, Validation Accuracy: 10.12%\n",
      "Epoch 33, Train Loss: 18.006, Train Accuracy: 10.04%\n"
     ]
    },
    {
     "name": "stderr",
     "output_type": "stream",
     "text": [
      " 33%|███▎      | 33/100 [45:14<1:09:47, 62.50s/it]"
     ]
    },
    {
     "name": "stdout",
     "output_type": "stream",
     "text": [
      "Validation Loss: 2.303, Validation Accuracy: 10.12%\n",
      "Epoch 34, Train Loss: 18.006, Train Accuracy: 10.04%\n"
     ]
    },
    {
     "name": "stderr",
     "output_type": "stream",
     "text": [
      " 34%|███▍      | 34/100 [46:15<1:08:04, 61.89s/it]"
     ]
    },
    {
     "name": "stdout",
     "output_type": "stream",
     "text": [
      "Validation Loss: 2.303, Validation Accuracy: 10.12%\n",
      "Epoch 35, Train Loss: 18.006, Train Accuracy: 10.04%\n"
     ]
    },
    {
     "name": "stderr",
     "output_type": "stream",
     "text": [
      " 35%|███▌      | 35/100 [47:46<1:16:38, 70.75s/it]"
     ]
    },
    {
     "name": "stdout",
     "output_type": "stream",
     "text": [
      "Validation Loss: 2.303, Validation Accuracy: 10.12%\n",
      "Epoch 36, Train Loss: 18.006, Train Accuracy: 10.04%\n"
     ]
    },
    {
     "name": "stderr",
     "output_type": "stream",
     "text": [
      " 36%|███▌      | 36/100 [49:10<1:19:29, 74.53s/it]"
     ]
    },
    {
     "name": "stdout",
     "output_type": "stream",
     "text": [
      "Validation Loss: 2.303, Validation Accuracy: 10.12%\n",
      "Epoch 37, Train Loss: 18.006, Train Accuracy: 10.04%\n"
     ]
    },
    {
     "name": "stderr",
     "output_type": "stream",
     "text": [
      " 37%|███▋      | 37/100 [50:32<1:20:50, 76.99s/it]"
     ]
    },
    {
     "name": "stdout",
     "output_type": "stream",
     "text": [
      "Validation Loss: 2.303, Validation Accuracy: 10.12%\n",
      "Epoch 38, Train Loss: 18.006, Train Accuracy: 10.04%\n"
     ]
    },
    {
     "name": "stderr",
     "output_type": "stream",
     "text": [
      " 38%|███▊      | 38/100 [51:56<1:21:33, 78.93s/it]"
     ]
    },
    {
     "name": "stdout",
     "output_type": "stream",
     "text": [
      "Validation Loss: 2.303, Validation Accuracy: 10.12%\n",
      "Epoch 39, Train Loss: 18.006, Train Accuracy: 10.04%\n"
     ]
    },
    {
     "name": "stderr",
     "output_type": "stream",
     "text": [
      " 39%|███▉      | 39/100 [53:20<1:21:54, 80.56s/it]"
     ]
    },
    {
     "name": "stdout",
     "output_type": "stream",
     "text": [
      "Validation Loss: 2.303, Validation Accuracy: 10.12%\n",
      "Epoch 40, Train Loss: 18.006, Train Accuracy: 10.04%\n"
     ]
    },
    {
     "name": "stderr",
     "output_type": "stream",
     "text": [
      " 40%|████      | 40/100 [54:36<1:19:04, 79.08s/it]"
     ]
    },
    {
     "name": "stdout",
     "output_type": "stream",
     "text": [
      "Validation Loss: 2.303, Validation Accuracy: 10.12%\n",
      "Epoch 41, Train Loss: 18.006, Train Accuracy: 10.04%\n"
     ]
    },
    {
     "name": "stderr",
     "output_type": "stream",
     "text": [
      " 41%|████      | 41/100 [55:57<1:18:18, 79.63s/it]"
     ]
    },
    {
     "name": "stdout",
     "output_type": "stream",
     "text": [
      "Validation Loss: 2.303, Validation Accuracy: 10.12%\n",
      "Epoch 42, Train Loss: 18.006, Train Accuracy: 10.04%\n"
     ]
    },
    {
     "name": "stderr",
     "output_type": "stream",
     "text": [
      " 42%|████▏     | 42/100 [57:13<1:16:04, 78.70s/it]"
     ]
    },
    {
     "name": "stdout",
     "output_type": "stream",
     "text": [
      "Validation Loss: 2.303, Validation Accuracy: 10.12%\n",
      "Epoch 43, Train Loss: 18.006, Train Accuracy: 10.04%\n"
     ]
    },
    {
     "name": "stderr",
     "output_type": "stream",
     "text": [
      " 43%|████▎     | 43/100 [58:28<1:13:34, 77.44s/it]"
     ]
    },
    {
     "name": "stdout",
     "output_type": "stream",
     "text": [
      "Validation Loss: 2.303, Validation Accuracy: 10.12%\n",
      "Epoch 44, Train Loss: 18.006, Train Accuracy: 10.04%\n"
     ]
    },
    {
     "name": "stderr",
     "output_type": "stream",
     "text": [
      " 44%|████▍     | 44/100 [59:44<1:11:59, 77.14s/it]"
     ]
    },
    {
     "name": "stdout",
     "output_type": "stream",
     "text": [
      "Validation Loss: 2.303, Validation Accuracy: 10.12%\n",
      "Epoch 45, Train Loss: 18.006, Train Accuracy: 10.04%\n"
     ]
    },
    {
     "name": "stderr",
     "output_type": "stream",
     "text": [
      " 45%|████▌     | 45/100 [1:01:10<1:13:04, 79.72s/it]"
     ]
    },
    {
     "name": "stdout",
     "output_type": "stream",
     "text": [
      "Validation Loss: 2.303, Validation Accuracy: 10.12%\n",
      "Epoch 46, Train Loss: 18.006, Train Accuracy: 10.04%\n"
     ]
    },
    {
     "name": "stderr",
     "output_type": "stream",
     "text": [
      " 46%|████▌     | 46/100 [1:02:30<1:11:56, 79.93s/it]"
     ]
    },
    {
     "name": "stdout",
     "output_type": "stream",
     "text": [
      "Validation Loss: 2.303, Validation Accuracy: 10.12%\n",
      "Epoch 47, Train Loss: 18.006, Train Accuracy: 10.04%\n"
     ]
    },
    {
     "name": "stderr",
     "output_type": "stream",
     "text": [
      " 47%|████▋     | 47/100 [1:03:58<1:12:46, 82.38s/it]"
     ]
    },
    {
     "name": "stdout",
     "output_type": "stream",
     "text": [
      "Validation Loss: 2.303, Validation Accuracy: 10.12%\n",
      "Epoch 48, Train Loss: 18.006, Train Accuracy: 10.04%\n"
     ]
    },
    {
     "name": "stderr",
     "output_type": "stream",
     "text": [
      " 48%|████▊     | 48/100 [1:05:25<1:12:30, 83.67s/it]"
     ]
    },
    {
     "name": "stdout",
     "output_type": "stream",
     "text": [
      "Validation Loss: 2.303, Validation Accuracy: 10.12%\n",
      "Epoch 49, Train Loss: 18.006, Train Accuracy: 10.04%\n"
     ]
    },
    {
     "name": "stderr",
     "output_type": "stream",
     "text": [
      " 49%|████▉     | 49/100 [1:06:49<1:11:19, 83.91s/it]"
     ]
    },
    {
     "name": "stdout",
     "output_type": "stream",
     "text": [
      "Validation Loss: 2.303, Validation Accuracy: 10.12%\n",
      "Epoch 50, Train Loss: 18.006, Train Accuracy: 10.04%\n"
     ]
    },
    {
     "name": "stderr",
     "output_type": "stream",
     "text": [
      " 50%|█████     | 50/100 [1:08:17<1:10:50, 85.02s/it]"
     ]
    },
    {
     "name": "stdout",
     "output_type": "stream",
     "text": [
      "Validation Loss: 2.303, Validation Accuracy: 10.12%\n",
      "Epoch 51, Train Loss: 18.006, Train Accuracy: 10.04%\n"
     ]
    },
    {
     "name": "stderr",
     "output_type": "stream",
     "text": [
      " 51%|█████     | 51/100 [1:09:41<1:09:08, 84.67s/it]"
     ]
    },
    {
     "name": "stdout",
     "output_type": "stream",
     "text": [
      "Validation Loss: 2.303, Validation Accuracy: 10.12%\n",
      "Epoch 52, Train Loss: 18.006, Train Accuracy: 10.04%\n"
     ]
    },
    {
     "name": "stderr",
     "output_type": "stream",
     "text": [
      " 52%|█████▏    | 52/100 [1:11:08<1:08:13, 85.29s/it]"
     ]
    },
    {
     "name": "stdout",
     "output_type": "stream",
     "text": [
      "Validation Loss: 2.303, Validation Accuracy: 10.12%\n",
      "Epoch 53, Train Loss: 18.006, Train Accuracy: 10.04%\n"
     ]
    },
    {
     "name": "stderr",
     "output_type": "stream",
     "text": [
      " 53%|█████▎    | 53/100 [1:12:29<1:05:51, 84.07s/it]"
     ]
    },
    {
     "name": "stdout",
     "output_type": "stream",
     "text": [
      "Validation Loss: 2.303, Validation Accuracy: 10.12%\n",
      "Epoch 54, Train Loss: 18.006, Train Accuracy: 10.04%\n"
     ]
    },
    {
     "name": "stderr",
     "output_type": "stream",
     "text": [
      " 54%|█████▍    | 54/100 [1:13:52<1:04:10, 83.70s/it]"
     ]
    },
    {
     "name": "stdout",
     "output_type": "stream",
     "text": [
      "Validation Loss: 2.303, Validation Accuracy: 10.12%\n",
      "Epoch 55, Train Loss: 18.006, Train Accuracy: 10.04%\n"
     ]
    },
    {
     "name": "stderr",
     "output_type": "stream",
     "text": [
      " 55%|█████▌    | 55/100 [1:15:24<1:04:45, 86.35s/it]"
     ]
    },
    {
     "name": "stdout",
     "output_type": "stream",
     "text": [
      "Validation Loss: 2.303, Validation Accuracy: 10.12%\n",
      "Epoch 56, Train Loss: 18.006, Train Accuracy: 10.04%\n"
     ]
    },
    {
     "name": "stderr",
     "output_type": "stream",
     "text": [
      " 56%|█████▌    | 56/100 [1:16:40<1:00:54, 83.05s/it]"
     ]
    },
    {
     "name": "stdout",
     "output_type": "stream",
     "text": [
      "Validation Loss: 2.303, Validation Accuracy: 10.12%\n",
      "Epoch 57, Train Loss: 18.006, Train Accuracy: 10.04%\n"
     ]
    },
    {
     "name": "stderr",
     "output_type": "stream",
     "text": [
      " 57%|█████▋    | 57/100 [1:18:07<1:00:24, 84.30s/it]"
     ]
    },
    {
     "name": "stdout",
     "output_type": "stream",
     "text": [
      "Validation Loss: 2.303, Validation Accuracy: 10.12%\n",
      "Epoch 58, Train Loss: 18.006, Train Accuracy: 10.04%\n"
     ]
    },
    {
     "name": "stderr",
     "output_type": "stream",
     "text": [
      " 58%|█████▊    | 58/100 [1:19:53<1:03:36, 90.86s/it]"
     ]
    },
    {
     "name": "stdout",
     "output_type": "stream",
     "text": [
      "Validation Loss: 2.303, Validation Accuracy: 10.12%\n",
      "Epoch 59, Train Loss: 18.006, Train Accuracy: 10.04%\n"
     ]
    },
    {
     "name": "stderr",
     "output_type": "stream",
     "text": [
      " 59%|█████▉    | 59/100 [1:21:13<59:51, 87.61s/it]  "
     ]
    },
    {
     "name": "stdout",
     "output_type": "stream",
     "text": [
      "Validation Loss: 2.303, Validation Accuracy: 10.12%\n",
      "Epoch 60, Train Loss: 18.006, Train Accuracy: 10.04%\n"
     ]
    },
    {
     "name": "stderr",
     "output_type": "stream",
     "text": [
      " 60%|██████    | 60/100 [1:22:36<57:29, 86.23s/it]"
     ]
    },
    {
     "name": "stdout",
     "output_type": "stream",
     "text": [
      "Validation Loss: 2.303, Validation Accuracy: 10.12%\n",
      "Epoch 61, Train Loss: 18.006, Train Accuracy: 10.04%\n"
     ]
    },
    {
     "name": "stderr",
     "output_type": "stream",
     "text": [
      " 61%|██████    | 61/100 [1:24:22<59:51, 92.08s/it]"
     ]
    },
    {
     "name": "stdout",
     "output_type": "stream",
     "text": [
      "Validation Loss: 2.303, Validation Accuracy: 10.12%\n",
      "Epoch 62, Train Loss: 18.006, Train Accuracy: 10.04%\n"
     ]
    },
    {
     "name": "stderr",
     "output_type": "stream",
     "text": [
      " 62%|██████▏   | 62/100 [1:26:05<1:00:28, 95.48s/it]"
     ]
    },
    {
     "name": "stdout",
     "output_type": "stream",
     "text": [
      "Validation Loss: 2.303, Validation Accuracy: 10.12%\n",
      "Epoch 63, Train Loss: 18.006, Train Accuracy: 10.04%\n"
     ]
    },
    {
     "name": "stderr",
     "output_type": "stream",
     "text": [
      " 63%|██████▎   | 63/100 [1:27:38<58:22, 94.66s/it]  "
     ]
    },
    {
     "name": "stdout",
     "output_type": "stream",
     "text": [
      "Validation Loss: 2.303, Validation Accuracy: 10.12%\n",
      "Epoch 64, Train Loss: 18.006, Train Accuracy: 10.04%\n"
     ]
    },
    {
     "name": "stderr",
     "output_type": "stream",
     "text": [
      " 64%|██████▍   | 64/100 [1:29:06<55:41, 92.83s/it]"
     ]
    },
    {
     "name": "stdout",
     "output_type": "stream",
     "text": [
      "Validation Loss: 2.303, Validation Accuracy: 10.12%\n",
      "Epoch 65, Train Loss: 18.006, Train Accuracy: 10.04%\n"
     ]
    },
    {
     "name": "stderr",
     "output_type": "stream",
     "text": [
      " 65%|██████▌   | 65/100 [1:30:31<52:43, 90.39s/it]"
     ]
    },
    {
     "name": "stdout",
     "output_type": "stream",
     "text": [
      "Validation Loss: 2.303, Validation Accuracy: 10.12%\n",
      "Epoch 66, Train Loss: 18.006, Train Accuracy: 10.04%\n"
     ]
    },
    {
     "name": "stderr",
     "output_type": "stream",
     "text": [
      " 66%|██████▌   | 66/100 [1:32:04<51:33, 90.98s/it]"
     ]
    },
    {
     "name": "stdout",
     "output_type": "stream",
     "text": [
      "Validation Loss: 2.303, Validation Accuracy: 10.12%\n",
      "Epoch 67, Train Loss: 18.006, Train Accuracy: 10.04%\n"
     ]
    },
    {
     "name": "stderr",
     "output_type": "stream",
     "text": [
      " 67%|██████▋   | 67/100 [1:33:59<54:06, 98.38s/it]"
     ]
    },
    {
     "name": "stdout",
     "output_type": "stream",
     "text": [
      "Validation Loss: 2.303, Validation Accuracy: 10.12%\n",
      "Epoch 68, Train Loss: 18.006, Train Accuracy: 10.04%\n"
     ]
    },
    {
     "name": "stderr",
     "output_type": "stream",
     "text": [
      " 68%|██████▊   | 68/100 [1:35:39<52:41, 98.79s/it]"
     ]
    },
    {
     "name": "stdout",
     "output_type": "stream",
     "text": [
      "Validation Loss: 2.303, Validation Accuracy: 10.12%\n",
      "Epoch 69, Train Loss: 18.006, Train Accuracy: 10.04%\n"
     ]
    },
    {
     "name": "stderr",
     "output_type": "stream",
     "text": [
      " 69%|██████▉   | 69/100 [1:37:20<51:20, 99.36s/it]"
     ]
    },
    {
     "name": "stdout",
     "output_type": "stream",
     "text": [
      "Validation Loss: 2.303, Validation Accuracy: 10.12%\n",
      "Epoch 70, Train Loss: 18.006, Train Accuracy: 10.04%\n"
     ]
    },
    {
     "name": "stderr",
     "output_type": "stream",
     "text": [
      " 70%|███████   | 70/100 [1:39:06<50:45, 101.52s/it]"
     ]
    },
    {
     "name": "stdout",
     "output_type": "stream",
     "text": [
      "Validation Loss: 2.303, Validation Accuracy: 10.12%\n",
      "Epoch 71, Train Loss: 18.006, Train Accuracy: 10.04%\n"
     ]
    },
    {
     "name": "stderr",
     "output_type": "stream",
     "text": [
      " 71%|███████   | 71/100 [1:40:33<46:54, 97.06s/it] "
     ]
    },
    {
     "name": "stdout",
     "output_type": "stream",
     "text": [
      "Validation Loss: 2.303, Validation Accuracy: 10.12%\n",
      "Epoch 72, Train Loss: 18.006, Train Accuracy: 10.04%\n"
     ]
    },
    {
     "name": "stderr",
     "output_type": "stream",
     "text": [
      " 72%|███████▏  | 72/100 [1:42:01<43:58, 94.24s/it]"
     ]
    },
    {
     "name": "stdout",
     "output_type": "stream",
     "text": [
      "Validation Loss: 2.303, Validation Accuracy: 10.12%\n",
      "Epoch 73, Train Loss: 18.006, Train Accuracy: 10.04%\n"
     ]
    },
    {
     "name": "stderr",
     "output_type": "stream",
     "text": [
      " 73%|███████▎  | 73/100 [1:43:28<41:29, 92.21s/it]"
     ]
    },
    {
     "name": "stdout",
     "output_type": "stream",
     "text": [
      "Validation Loss: 2.303, Validation Accuracy: 10.12%\n",
      "Epoch 74, Train Loss: 18.006, Train Accuracy: 10.04%\n"
     ]
    },
    {
     "name": "stderr",
     "output_type": "stream",
     "text": [
      " 74%|███████▍  | 74/100 [1:45:02<40:14, 92.88s/it]"
     ]
    },
    {
     "name": "stdout",
     "output_type": "stream",
     "text": [
      "Validation Loss: 2.303, Validation Accuracy: 10.12%\n",
      "Epoch 75, Train Loss: 18.006, Train Accuracy: 10.04%\n"
     ]
    },
    {
     "name": "stderr",
     "output_type": "stream",
     "text": [
      " 75%|███████▌  | 75/100 [1:46:30<38:01, 91.27s/it]"
     ]
    },
    {
     "name": "stdout",
     "output_type": "stream",
     "text": [
      "Validation Loss: 2.303, Validation Accuracy: 10.12%\n",
      "Epoch 76, Train Loss: 18.006, Train Accuracy: 10.04%\n"
     ]
    },
    {
     "name": "stderr",
     "output_type": "stream",
     "text": [
      " 76%|███████▌  | 76/100 [1:48:09<37:25, 93.54s/it]"
     ]
    },
    {
     "name": "stdout",
     "output_type": "stream",
     "text": [
      "Validation Loss: 2.303, Validation Accuracy: 10.12%\n",
      "Epoch 77, Train Loss: 18.006, Train Accuracy: 10.04%\n"
     ]
    },
    {
     "name": "stderr",
     "output_type": "stream",
     "text": [
      " 77%|███████▋  | 77/100 [1:49:45<36:11, 94.42s/it]"
     ]
    },
    {
     "name": "stdout",
     "output_type": "stream",
     "text": [
      "Validation Loss: 2.303, Validation Accuracy: 10.12%\n",
      "Epoch 78, Train Loss: 18.006, Train Accuracy: 10.04%\n"
     ]
    },
    {
     "name": "stderr",
     "output_type": "stream",
     "text": [
      " 78%|███████▊  | 78/100 [1:51:08<33:17, 90.77s/it]"
     ]
    },
    {
     "name": "stdout",
     "output_type": "stream",
     "text": [
      "Validation Loss: 2.303, Validation Accuracy: 10.12%\n",
      "Epoch 79, Train Loss: 18.006, Train Accuracy: 10.04%\n"
     ]
    },
    {
     "name": "stderr",
     "output_type": "stream",
     "text": [
      " 79%|███████▉  | 79/100 [1:52:33<31:11, 89.12s/it]"
     ]
    },
    {
     "name": "stdout",
     "output_type": "stream",
     "text": [
      "Validation Loss: 2.303, Validation Accuracy: 10.12%\n",
      "Epoch 80, Train Loss: 18.006, Train Accuracy: 10.04%\n"
     ]
    },
    {
     "name": "stderr",
     "output_type": "stream",
     "text": [
      " 80%|████████  | 80/100 [1:54:20<31:28, 94.42s/it]"
     ]
    },
    {
     "name": "stdout",
     "output_type": "stream",
     "text": [
      "Validation Loss: 2.303, Validation Accuracy: 10.12%\n",
      "Epoch 81, Train Loss: 18.006, Train Accuracy: 10.04%\n"
     ]
    },
    {
     "name": "stderr",
     "output_type": "stream",
     "text": [
      " 81%|████████  | 81/100 [1:55:46<29:08, 92.03s/it]"
     ]
    },
    {
     "name": "stdout",
     "output_type": "stream",
     "text": [
      "Validation Loss: 2.303, Validation Accuracy: 10.12%\n",
      "Epoch 82, Train Loss: 18.006, Train Accuracy: 10.04%\n"
     ]
    },
    {
     "name": "stderr",
     "output_type": "stream",
     "text": [
      " 82%|████████▏ | 82/100 [1:57:14<27:15, 90.86s/it]"
     ]
    },
    {
     "name": "stdout",
     "output_type": "stream",
     "text": [
      "Validation Loss: 2.303, Validation Accuracy: 10.12%\n",
      "Epoch 83, Train Loss: 18.006, Train Accuracy: 10.04%\n"
     ]
    },
    {
     "name": "stderr",
     "output_type": "stream",
     "text": [
      " 83%|████████▎ | 83/100 [1:58:39<25:16, 89.20s/it]"
     ]
    },
    {
     "name": "stdout",
     "output_type": "stream",
     "text": [
      "Validation Loss: 2.303, Validation Accuracy: 10.12%\n",
      "Epoch 84, Train Loss: 18.006, Train Accuracy: 10.04%\n"
     ]
    },
    {
     "name": "stderr",
     "output_type": "stream",
     "text": [
      " 84%|████████▍ | 84/100 [1:59:48<22:05, 82.86s/it]"
     ]
    },
    {
     "name": "stdout",
     "output_type": "stream",
     "text": [
      "Validation Loss: 2.303, Validation Accuracy: 10.12%\n",
      "Epoch 85, Train Loss: 18.006, Train Accuracy: 10.04%\n"
     ]
    },
    {
     "name": "stderr",
     "output_type": "stream",
     "text": [
      " 85%|████████▌ | 85/100 [2:00:58<19:45, 79.03s/it]"
     ]
    },
    {
     "name": "stdout",
     "output_type": "stream",
     "text": [
      "Validation Loss: 2.303, Validation Accuracy: 10.12%\n",
      "Epoch 86, Train Loss: 18.006, Train Accuracy: 10.04%\n"
     ]
    },
    {
     "name": "stderr",
     "output_type": "stream",
     "text": [
      " 86%|████████▌ | 86/100 [2:02:06<17:42, 75.92s/it]"
     ]
    },
    {
     "name": "stdout",
     "output_type": "stream",
     "text": [
      "Validation Loss: 2.303, Validation Accuracy: 10.12%\n",
      "Epoch 87, Train Loss: 18.006, Train Accuracy: 10.04%\n"
     ]
    },
    {
     "name": "stderr",
     "output_type": "stream",
     "text": [
      " 87%|████████▋ | 87/100 [2:03:20<16:16, 75.15s/it]"
     ]
    },
    {
     "name": "stdout",
     "output_type": "stream",
     "text": [
      "Validation Loss: 2.303, Validation Accuracy: 10.12%\n",
      "Epoch 88, Train Loss: 18.006, Train Accuracy: 10.04%\n"
     ]
    },
    {
     "name": "stderr",
     "output_type": "stream",
     "text": [
      " 88%|████████▊ | 88/100 [2:04:42<15:27, 77.32s/it]"
     ]
    },
    {
     "name": "stdout",
     "output_type": "stream",
     "text": [
      "Validation Loss: 2.303, Validation Accuracy: 10.12%\n",
      "Epoch 89, Train Loss: 18.006, Train Accuracy: 10.04%\n"
     ]
    },
    {
     "name": "stderr",
     "output_type": "stream",
     "text": [
      " 89%|████████▉ | 89/100 [2:05:52<13:45, 75.01s/it]"
     ]
    },
    {
     "name": "stdout",
     "output_type": "stream",
     "text": [
      "Validation Loss: 2.303, Validation Accuracy: 10.12%\n",
      "Epoch 90, Train Loss: 18.006, Train Accuracy: 10.04%\n"
     ]
    },
    {
     "name": "stderr",
     "output_type": "stream",
     "text": [
      " 90%|█████████ | 90/100 [2:07:02<12:16, 73.64s/it]"
     ]
    },
    {
     "name": "stdout",
     "output_type": "stream",
     "text": [
      "Validation Loss: 2.303, Validation Accuracy: 10.12%\n",
      "Epoch 91, Train Loss: 18.006, Train Accuracy: 10.04%\n"
     ]
    },
    {
     "name": "stderr",
     "output_type": "stream",
     "text": [
      " 91%|█████████ | 91/100 [2:08:19<11:10, 74.55s/it]"
     ]
    },
    {
     "name": "stdout",
     "output_type": "stream",
     "text": [
      "Validation Loss: 2.303, Validation Accuracy: 10.12%\n",
      "Epoch 92, Train Loss: 18.006, Train Accuracy: 10.04%\n"
     ]
    },
    {
     "name": "stderr",
     "output_type": "stream",
     "text": [
      " 92%|█████████▏| 92/100 [2:09:32<09:54, 74.27s/it]"
     ]
    },
    {
     "name": "stdout",
     "output_type": "stream",
     "text": [
      "Validation Loss: 2.303, Validation Accuracy: 10.12%\n",
      "Epoch 93, Train Loss: 18.006, Train Accuracy: 10.04%\n"
     ]
    },
    {
     "name": "stderr",
     "output_type": "stream",
     "text": [
      " 93%|█████████▎| 93/100 [2:10:55<08:56, 76.71s/it]"
     ]
    },
    {
     "name": "stdout",
     "output_type": "stream",
     "text": [
      "Validation Loss: 2.303, Validation Accuracy: 10.12%\n",
      "Epoch 94, Train Loss: 18.006, Train Accuracy: 10.04%\n"
     ]
    },
    {
     "name": "stderr",
     "output_type": "stream",
     "text": [
      " 94%|█████████▍| 94/100 [2:12:15<07:46, 77.78s/it]"
     ]
    },
    {
     "name": "stdout",
     "output_type": "stream",
     "text": [
      "Validation Loss: 2.303, Validation Accuracy: 10.12%\n",
      "Epoch 95, Train Loss: 18.006, Train Accuracy: 10.04%\n"
     ]
    },
    {
     "name": "stderr",
     "output_type": "stream",
     "text": [
      " 95%|█████████▌| 95/100 [2:13:27<06:19, 75.90s/it]"
     ]
    },
    {
     "name": "stdout",
     "output_type": "stream",
     "text": [
      "Validation Loss: 2.303, Validation Accuracy: 10.12%\n",
      "Epoch 96, Train Loss: 18.006, Train Accuracy: 10.04%\n"
     ]
    },
    {
     "name": "stderr",
     "output_type": "stream",
     "text": [
      " 96%|█████████▌| 96/100 [2:14:37<04:56, 74.14s/it]"
     ]
    },
    {
     "name": "stdout",
     "output_type": "stream",
     "text": [
      "Validation Loss: 2.303, Validation Accuracy: 10.12%\n",
      "Epoch 97, Train Loss: 18.006, Train Accuracy: 10.04%\n"
     ]
    },
    {
     "name": "stderr",
     "output_type": "stream",
     "text": [
      " 97%|█████████▋| 97/100 [2:15:46<03:38, 72.85s/it]"
     ]
    },
    {
     "name": "stdout",
     "output_type": "stream",
     "text": [
      "Validation Loss: 2.303, Validation Accuracy: 10.12%\n",
      "Epoch 98, Train Loss: 18.006, Train Accuracy: 10.04%\n"
     ]
    },
    {
     "name": "stderr",
     "output_type": "stream",
     "text": [
      " 98%|█████████▊| 98/100 [2:17:00<02:26, 73.08s/it]"
     ]
    },
    {
     "name": "stdout",
     "output_type": "stream",
     "text": [
      "Validation Loss: 2.303, Validation Accuracy: 10.12%\n",
      "Epoch 99, Train Loss: 18.006, Train Accuracy: 10.04%\n"
     ]
    },
    {
     "name": "stderr",
     "output_type": "stream",
     "text": [
      " 99%|█████████▉| 99/100 [2:18:09<01:11, 71.97s/it]"
     ]
    },
    {
     "name": "stdout",
     "output_type": "stream",
     "text": [
      "Validation Loss: 2.303, Validation Accuracy: 10.12%\n",
      "Epoch 100, Train Loss: 18.006, Train Accuracy: 10.04%\n"
     ]
    },
    {
     "name": "stderr",
     "output_type": "stream",
     "text": [
      "100%|██████████| 100/100 [2:19:22<00:00, 83.62s/it]"
     ]
    },
    {
     "name": "stdout",
     "output_type": "stream",
     "text": [
      "Validation Loss: 2.303, Validation Accuracy: 10.12%\n",
      "Finished Training\n"
     ]
    },
    {
     "name": "stderr",
     "output_type": "stream",
     "text": [
      "\n"
     ]
    },
    {
     "name": "stdout",
     "output_type": "stream",
     "text": [
      "Model 6 Epochs 100 Particles 20\n"
     ]
    },
    {
     "name": "stderr",
     "output_type": "stream",
     "text": [
      "  0%|          | 0/100 [00:00<?, ?it/s]"
     ]
    },
    {
     "name": "stdout",
     "output_type": "stream",
     "text": [
      "Epoch 1, Train Loss: 18.006, Train Accuracy: 10.04%\n"
     ]
    },
    {
     "name": "stderr",
     "output_type": "stream",
     "text": [
      "  1%|          | 1/100 [01:24<2:20:05, 84.91s/it]"
     ]
    },
    {
     "name": "stdout",
     "output_type": "stream",
     "text": [
      "Validation Loss: 2.303, Validation Accuracy: 10.12%\n",
      "Epoch 2, Train Loss: 18.006, Train Accuracy: 10.04%\n"
     ]
    },
    {
     "name": "stderr",
     "output_type": "stream",
     "text": [
      "  2%|▏         | 2/100 [02:34<2:04:07, 76.00s/it]"
     ]
    },
    {
     "name": "stdout",
     "output_type": "stream",
     "text": [
      "Validation Loss: 2.303, Validation Accuracy: 10.12%\n",
      "Epoch 3, Train Loss: 18.006, Train Accuracy: 10.04%\n"
     ]
    },
    {
     "name": "stderr",
     "output_type": "stream",
     "text": [
      "  3%|▎         | 3/100 [03:44<1:58:31, 73.31s/it]"
     ]
    },
    {
     "name": "stdout",
     "output_type": "stream",
     "text": [
      "Validation Loss: 2.303, Validation Accuracy: 10.12%\n",
      "Epoch 4, Train Loss: 18.006, Train Accuracy: 10.04%\n"
     ]
    },
    {
     "name": "stderr",
     "output_type": "stream",
     "text": [
      "  4%|▍         | 4/100 [04:54<1:54:58, 71.86s/it]"
     ]
    },
    {
     "name": "stdout",
     "output_type": "stream",
     "text": [
      "Validation Loss: 2.303, Validation Accuracy: 10.12%\n",
      "Epoch 5, Train Loss: 18.006, Train Accuracy: 10.04%\n"
     ]
    },
    {
     "name": "stderr",
     "output_type": "stream",
     "text": [
      "  5%|▌         | 5/100 [06:04<1:52:47, 71.24s/it]"
     ]
    },
    {
     "name": "stdout",
     "output_type": "stream",
     "text": [
      "Validation Loss: 2.303, Validation Accuracy: 10.12%\n",
      "Epoch 6, Train Loss: 18.006, Train Accuracy: 10.04%\n"
     ]
    },
    {
     "name": "stderr",
     "output_type": "stream",
     "text": [
      "  6%|▌         | 6/100 [07:15<1:51:11, 70.98s/it]"
     ]
    },
    {
     "name": "stdout",
     "output_type": "stream",
     "text": [
      "Validation Loss: 2.303, Validation Accuracy: 10.12%\n",
      "Epoch 7, Train Loss: 18.006, Train Accuracy: 10.04%\n"
     ]
    },
    {
     "name": "stderr",
     "output_type": "stream",
     "text": [
      "  7%|▋         | 7/100 [08:25<1:49:36, 70.72s/it]"
     ]
    },
    {
     "name": "stdout",
     "output_type": "stream",
     "text": [
      "Validation Loss: 2.303, Validation Accuracy: 10.12%\n",
      "Epoch 8, Train Loss: 18.006, Train Accuracy: 10.04%\n"
     ]
    },
    {
     "name": "stderr",
     "output_type": "stream",
     "text": [
      "  8%|▊         | 8/100 [09:34<1:47:55, 70.39s/it]"
     ]
    },
    {
     "name": "stdout",
     "output_type": "stream",
     "text": [
      "Validation Loss: 2.303, Validation Accuracy: 10.12%\n",
      "Epoch 9, Train Loss: 18.006, Train Accuracy: 10.04%\n"
     ]
    },
    {
     "name": "stderr",
     "output_type": "stream",
     "text": [
      "  9%|▉         | 9/100 [10:46<1:47:31, 70.90s/it]"
     ]
    },
    {
     "name": "stdout",
     "output_type": "stream",
     "text": [
      "Validation Loss: 2.303, Validation Accuracy: 10.12%\n",
      "Epoch 10, Train Loss: 18.006, Train Accuracy: 10.04%\n"
     ]
    },
    {
     "name": "stderr",
     "output_type": "stream",
     "text": [
      " 10%|█         | 10/100 [12:13<1:53:31, 75.68s/it]"
     ]
    },
    {
     "name": "stdout",
     "output_type": "stream",
     "text": [
      "Validation Loss: 2.303, Validation Accuracy: 10.12%\n",
      "Epoch 11, Train Loss: 18.006, Train Accuracy: 10.04%\n"
     ]
    },
    {
     "name": "stderr",
     "output_type": "stream",
     "text": [
      " 11%|█         | 11/100 [13:31<1:53:17, 76.37s/it]"
     ]
    },
    {
     "name": "stdout",
     "output_type": "stream",
     "text": [
      "Validation Loss: 2.303, Validation Accuracy: 10.12%\n",
      "Epoch 12, Train Loss: 18.006, Train Accuracy: 10.04%\n"
     ]
    },
    {
     "name": "stderr",
     "output_type": "stream",
     "text": [
      " 12%|█▏        | 12/100 [14:52<1:54:16, 77.91s/it]"
     ]
    },
    {
     "name": "stdout",
     "output_type": "stream",
     "text": [
      "Validation Loss: 2.303, Validation Accuracy: 10.12%\n",
      "Epoch 13, Train Loss: 18.006, Train Accuracy: 10.04%\n"
     ]
    },
    {
     "name": "stderr",
     "output_type": "stream",
     "text": [
      " 13%|█▎        | 13/100 [16:16<1:55:23, 79.58s/it]"
     ]
    },
    {
     "name": "stdout",
     "output_type": "stream",
     "text": [
      "Validation Loss: 2.303, Validation Accuracy: 10.12%\n",
      "Epoch 14, Train Loss: 18.006, Train Accuracy: 10.04%\n"
     ]
    },
    {
     "name": "stderr",
     "output_type": "stream",
     "text": [
      " 14%|█▍        | 14/100 [17:38<1:55:15, 80.41s/it]"
     ]
    },
    {
     "name": "stdout",
     "output_type": "stream",
     "text": [
      "Validation Loss: 2.303, Validation Accuracy: 10.12%\n",
      "Epoch 15, Train Loss: 18.006, Train Accuracy: 10.04%\n"
     ]
    },
    {
     "name": "stderr",
     "output_type": "stream",
     "text": [
      " 15%|█▌        | 15/100 [18:58<1:53:41, 80.25s/it]"
     ]
    },
    {
     "name": "stdout",
     "output_type": "stream",
     "text": [
      "Validation Loss: 2.303, Validation Accuracy: 10.12%\n",
      "Epoch 16, Train Loss: 18.006, Train Accuracy: 10.04%\n"
     ]
    },
    {
     "name": "stderr",
     "output_type": "stream",
     "text": [
      " 16%|█▌        | 16/100 [20:52<2:06:44, 90.53s/it]"
     ]
    },
    {
     "name": "stdout",
     "output_type": "stream",
     "text": [
      "Validation Loss: 2.303, Validation Accuracy: 10.12%\n",
      "Epoch 17, Train Loss: 18.006, Train Accuracy: 10.04%\n"
     ]
    },
    {
     "name": "stderr",
     "output_type": "stream",
     "text": [
      " 17%|█▋        | 17/100 [23:13<2:26:09, 105.65s/it]"
     ]
    },
    {
     "name": "stdout",
     "output_type": "stream",
     "text": [
      "Validation Loss: 2.303, Validation Accuracy: 10.12%\n",
      "Epoch 18, Train Loss: 18.006, Train Accuracy: 10.04%\n"
     ]
    },
    {
     "name": "stderr",
     "output_type": "stream",
     "text": [
      " 18%|█▊        | 18/100 [24:38<2:16:03, 99.56s/it] "
     ]
    },
    {
     "name": "stdout",
     "output_type": "stream",
     "text": [
      "Validation Loss: 2.303, Validation Accuracy: 10.12%\n",
      "Epoch 19, Train Loss: 18.006, Train Accuracy: 10.04%\n"
     ]
    },
    {
     "name": "stderr",
     "output_type": "stream",
     "text": [
      " 19%|█▉        | 19/100 [26:51<2:27:48, 109.49s/it]"
     ]
    },
    {
     "name": "stdout",
     "output_type": "stream",
     "text": [
      "Validation Loss: 2.303, Validation Accuracy: 10.12%\n",
      "Epoch 20, Train Loss: 18.006, Train Accuracy: 10.04%\n"
     ]
    },
    {
     "name": "stderr",
     "output_type": "stream",
     "text": [
      " 20%|██        | 20/100 [28:28<2:21:02, 105.78s/it]"
     ]
    },
    {
     "name": "stdout",
     "output_type": "stream",
     "text": [
      "Validation Loss: 2.303, Validation Accuracy: 10.12%\n",
      "Epoch 21, Train Loss: 18.006, Train Accuracy: 10.04%\n"
     ]
    },
    {
     "name": "stderr",
     "output_type": "stream",
     "text": [
      " 21%|██        | 21/100 [30:39<2:29:05, 113.24s/it]"
     ]
    },
    {
     "name": "stdout",
     "output_type": "stream",
     "text": [
      "Validation Loss: 2.303, Validation Accuracy: 10.12%\n",
      "Epoch 22, Train Loss: 18.006, Train Accuracy: 10.04%\n"
     ]
    },
    {
     "name": "stderr",
     "output_type": "stream",
     "text": [
      " 22%|██▏       | 22/100 [32:31<2:26:47, 112.92s/it]"
     ]
    },
    {
     "name": "stdout",
     "output_type": "stream",
     "text": [
      "Validation Loss: 2.303, Validation Accuracy: 10.12%\n",
      "Epoch 23, Train Loss: 18.006, Train Accuracy: 10.04%\n"
     ]
    },
    {
     "name": "stderr",
     "output_type": "stream",
     "text": [
      " 23%|██▎       | 23/100 [34:03<2:16:50, 106.63s/it]"
     ]
    },
    {
     "name": "stdout",
     "output_type": "stream",
     "text": [
      "Validation Loss: 2.303, Validation Accuracy: 10.12%\n",
      "Epoch 24, Train Loss: 18.006, Train Accuracy: 10.04%\n"
     ]
    },
    {
     "name": "stderr",
     "output_type": "stream",
     "text": [
      " 24%|██▍       | 24/100 [35:37<2:10:28, 103.00s/it]"
     ]
    },
    {
     "name": "stdout",
     "output_type": "stream",
     "text": [
      "Validation Loss: 2.303, Validation Accuracy: 10.12%\n",
      "Epoch 25, Train Loss: 18.006, Train Accuracy: 10.04%\n"
     ]
    },
    {
     "name": "stderr",
     "output_type": "stream",
     "text": [
      " 25%|██▌       | 25/100 [37:05<2:02:57, 98.36s/it] "
     ]
    },
    {
     "name": "stdout",
     "output_type": "stream",
     "text": [
      "Validation Loss: 2.303, Validation Accuracy: 10.12%\n",
      "Epoch 26, Train Loss: 18.006, Train Accuracy: 10.04%\n"
     ]
    },
    {
     "name": "stderr",
     "output_type": "stream",
     "text": [
      " 26%|██▌       | 26/100 [38:25<1:54:32, 92.87s/it]"
     ]
    },
    {
     "name": "stdout",
     "output_type": "stream",
     "text": [
      "Validation Loss: 2.303, Validation Accuracy: 10.12%\n",
      "Epoch 27, Train Loss: 18.006, Train Accuracy: 10.04%\n"
     ]
    },
    {
     "name": "stderr",
     "output_type": "stream",
     "text": [
      " 27%|██▋       | 27/100 [39:53<1:51:10, 91.38s/it]"
     ]
    },
    {
     "name": "stdout",
     "output_type": "stream",
     "text": [
      "Validation Loss: 2.303, Validation Accuracy: 10.12%\n",
      "Epoch 28, Train Loss: 18.006, Train Accuracy: 10.04%\n"
     ]
    },
    {
     "name": "stderr",
     "output_type": "stream",
     "text": [
      " 28%|██▊       | 28/100 [41:42<1:55:50, 96.54s/it]"
     ]
    },
    {
     "name": "stdout",
     "output_type": "stream",
     "text": [
      "Validation Loss: 2.303, Validation Accuracy: 10.12%\n",
      "Epoch 29, Train Loss: 18.006, Train Accuracy: 10.04%\n"
     ]
    },
    {
     "name": "stderr",
     "output_type": "stream",
     "text": [
      " 29%|██▉       | 29/100 [43:25<1:56:42, 98.63s/it]"
     ]
    },
    {
     "name": "stdout",
     "output_type": "stream",
     "text": [
      "Validation Loss: 2.303, Validation Accuracy: 10.12%\n",
      "Epoch 30, Train Loss: 18.006, Train Accuracy: 10.04%\n"
     ]
    },
    {
     "name": "stderr",
     "output_type": "stream",
     "text": [
      " 30%|███       | 30/100 [44:57<1:52:34, 96.50s/it]"
     ]
    },
    {
     "name": "stdout",
     "output_type": "stream",
     "text": [
      "Validation Loss: 2.303, Validation Accuracy: 10.12%\n",
      "Epoch 31, Train Loss: 18.006, Train Accuracy: 10.04%\n"
     ]
    },
    {
     "name": "stderr",
     "output_type": "stream",
     "text": [
      " 31%|███       | 31/100 [46:55<1:58:39, 103.18s/it]"
     ]
    },
    {
     "name": "stdout",
     "output_type": "stream",
     "text": [
      "Validation Loss: 2.303, Validation Accuracy: 10.12%\n",
      "Epoch 32, Train Loss: 18.006, Train Accuracy: 10.04%\n"
     ]
    },
    {
     "name": "stderr",
     "output_type": "stream",
     "text": [
      " 32%|███▏      | 32/100 [49:16<2:09:40, 114.42s/it]"
     ]
    },
    {
     "name": "stdout",
     "output_type": "stream",
     "text": [
      "Validation Loss: 2.303, Validation Accuracy: 10.12%\n",
      "Epoch 33, Train Loss: 18.006, Train Accuracy: 10.04%\n"
     ]
    },
    {
     "name": "stderr",
     "output_type": "stream",
     "text": [
      " 33%|███▎      | 33/100 [50:51<2:01:22, 108.69s/it]"
     ]
    },
    {
     "name": "stdout",
     "output_type": "stream",
     "text": [
      "Validation Loss: 2.303, Validation Accuracy: 10.12%\n",
      "Epoch 34, Train Loss: 18.006, Train Accuracy: 10.04%\n"
     ]
    },
    {
     "name": "stderr",
     "output_type": "stream",
     "text": [
      " 34%|███▍      | 34/100 [53:08<2:08:57, 117.23s/it]"
     ]
    },
    {
     "name": "stdout",
     "output_type": "stream",
     "text": [
      "Validation Loss: 2.303, Validation Accuracy: 10.12%\n",
      "Epoch 35, Train Loss: 18.006, Train Accuracy: 10.04%\n"
     ]
    },
    {
     "name": "stderr",
     "output_type": "stream",
     "text": [
      " 35%|███▌      | 35/100 [55:03<2:06:02, 116.35s/it]"
     ]
    },
    {
     "name": "stdout",
     "output_type": "stream",
     "text": [
      "Validation Loss: 2.303, Validation Accuracy: 10.12%\n",
      "Epoch 36, Train Loss: 18.006, Train Accuracy: 10.04%\n"
     ]
    },
    {
     "name": "stderr",
     "output_type": "stream",
     "text": [
      " 36%|███▌      | 36/100 [57:04<2:05:31, 117.68s/it]"
     ]
    },
    {
     "name": "stdout",
     "output_type": "stream",
     "text": [
      "Validation Loss: 2.303, Validation Accuracy: 10.12%\n",
      "Epoch 37, Train Loss: 18.006, Train Accuracy: 10.04%\n"
     ]
    },
    {
     "name": "stderr",
     "output_type": "stream",
     "text": [
      " 37%|███▋      | 37/100 [59:12<2:06:52, 120.84s/it]"
     ]
    },
    {
     "name": "stdout",
     "output_type": "stream",
     "text": [
      "Validation Loss: 2.303, Validation Accuracy: 10.12%\n",
      "Epoch 38, Train Loss: 18.006, Train Accuracy: 10.04%\n"
     ]
    },
    {
     "name": "stderr",
     "output_type": "stream",
     "text": [
      " 38%|███▊      | 38/100 [1:01:50<2:16:25, 132.02s/it]"
     ]
    },
    {
     "name": "stdout",
     "output_type": "stream",
     "text": [
      "Validation Loss: 2.303, Validation Accuracy: 10.12%\n",
      "Epoch 39, Train Loss: 18.006, Train Accuracy: 10.04%\n"
     ]
    },
    {
     "name": "stderr",
     "output_type": "stream",
     "text": [
      " 39%|███▉      | 39/100 [1:04:28<2:22:11, 139.85s/it]"
     ]
    },
    {
     "name": "stdout",
     "output_type": "stream",
     "text": [
      "Validation Loss: 2.303, Validation Accuracy: 10.12%\n",
      "Epoch 40, Train Loss: 18.006, Train Accuracy: 10.04%\n"
     ]
    },
    {
     "name": "stderr",
     "output_type": "stream",
     "text": [
      " 40%|████      | 40/100 [1:05:59<2:05:18, 125.30s/it]"
     ]
    },
    {
     "name": "stdout",
     "output_type": "stream",
     "text": [
      "Validation Loss: 2.303, Validation Accuracy: 10.12%\n",
      "Epoch 41, Train Loss: 18.006, Train Accuracy: 10.04%\n"
     ]
    },
    {
     "name": "stderr",
     "output_type": "stream",
     "text": [
      " 41%|████      | 41/100 [1:07:22<1:50:46, 112.65s/it]"
     ]
    },
    {
     "name": "stdout",
     "output_type": "stream",
     "text": [
      "Validation Loss: 2.303, Validation Accuracy: 10.12%\n",
      "Epoch 42, Train Loss: 18.006, Train Accuracy: 10.04%\n"
     ]
    },
    {
     "name": "stderr",
     "output_type": "stream",
     "text": [
      " 42%|████▏     | 42/100 [1:09:04<1:45:35, 109.22s/it]"
     ]
    },
    {
     "name": "stdout",
     "output_type": "stream",
     "text": [
      "Validation Loss: 2.303, Validation Accuracy: 10.12%\n",
      "Epoch 43, Train Loss: 18.006, Train Accuracy: 10.04%\n"
     ]
    },
    {
     "name": "stderr",
     "output_type": "stream",
     "text": [
      " 43%|████▎     | 43/100 [1:11:31<1:54:35, 120.62s/it]"
     ]
    },
    {
     "name": "stdout",
     "output_type": "stream",
     "text": [
      "Validation Loss: 2.303, Validation Accuracy: 10.12%\n",
      "Epoch 44, Train Loss: 18.006, Train Accuracy: 10.04%\n"
     ]
    },
    {
     "name": "stderr",
     "output_type": "stream",
     "text": [
      " 44%|████▍     | 44/100 [1:13:47<1:57:02, 125.39s/it]"
     ]
    },
    {
     "name": "stdout",
     "output_type": "stream",
     "text": [
      "Validation Loss: 2.303, Validation Accuracy: 10.12%\n",
      "Epoch 45, Train Loss: 18.006, Train Accuracy: 10.04%\n"
     ]
    },
    {
     "name": "stderr",
     "output_type": "stream",
     "text": [
      " 45%|████▌     | 45/100 [1:16:16<2:01:14, 132.27s/it]"
     ]
    },
    {
     "name": "stdout",
     "output_type": "stream",
     "text": [
      "Validation Loss: 2.303, Validation Accuracy: 10.12%\n",
      "Epoch 46, Train Loss: 18.006, Train Accuracy: 10.04%\n"
     ]
    },
    {
     "name": "stderr",
     "output_type": "stream",
     "text": [
      " 46%|████▌     | 46/100 [1:18:33<2:00:20, 133.72s/it]"
     ]
    },
    {
     "name": "stdout",
     "output_type": "stream",
     "text": [
      "Validation Loss: 2.303, Validation Accuracy: 10.12%\n",
      "Epoch 47, Train Loss: 18.006, Train Accuracy: 10.04%\n"
     ]
    },
    {
     "name": "stderr",
     "output_type": "stream",
     "text": [
      " 47%|████▋     | 47/100 [1:20:40<1:56:27, 131.84s/it]"
     ]
    },
    {
     "name": "stdout",
     "output_type": "stream",
     "text": [
      "Validation Loss: 2.303, Validation Accuracy: 10.12%\n",
      "Epoch 48, Train Loss: 18.006, Train Accuracy: 10.04%\n"
     ]
    },
    {
     "name": "stderr",
     "output_type": "stream",
     "text": [
      " 48%|████▊     | 48/100 [1:23:04<1:57:15, 135.30s/it]"
     ]
    },
    {
     "name": "stdout",
     "output_type": "stream",
     "text": [
      "Validation Loss: 2.303, Validation Accuracy: 10.12%\n",
      "Epoch 49, Train Loss: 18.006, Train Accuracy: 10.04%\n"
     ]
    },
    {
     "name": "stderr",
     "output_type": "stream",
     "text": [
      " 49%|████▉     | 49/100 [1:24:28<1:42:04, 120.08s/it]"
     ]
    },
    {
     "name": "stdout",
     "output_type": "stream",
     "text": [
      "Validation Loss: 2.303, Validation Accuracy: 10.12%\n",
      "Epoch 50, Train Loss: 18.006, Train Accuracy: 10.04%\n"
     ]
    },
    {
     "name": "stderr",
     "output_type": "stream",
     "text": [
      " 50%|█████     | 50/100 [1:25:48<1:30:00, 108.02s/it]"
     ]
    },
    {
     "name": "stdout",
     "output_type": "stream",
     "text": [
      "Validation Loss: 2.303, Validation Accuracy: 10.12%\n",
      "Epoch 51, Train Loss: 18.006, Train Accuracy: 10.04%\n"
     ]
    },
    {
     "name": "stderr",
     "output_type": "stream",
     "text": [
      " 51%|█████     | 51/100 [1:27:13<1:22:34, 101.11s/it]"
     ]
    },
    {
     "name": "stdout",
     "output_type": "stream",
     "text": [
      "Validation Loss: 2.303, Validation Accuracy: 10.12%\n",
      "Epoch 52, Train Loss: 18.006, Train Accuracy: 10.04%\n"
     ]
    },
    {
     "name": "stderr",
     "output_type": "stream",
     "text": [
      " 52%|█████▏    | 52/100 [1:28:30<1:15:07, 93.90s/it] "
     ]
    },
    {
     "name": "stdout",
     "output_type": "stream",
     "text": [
      "Validation Loss: 2.303, Validation Accuracy: 10.12%\n",
      "Epoch 53, Train Loss: 18.006, Train Accuracy: 10.04%\n"
     ]
    },
    {
     "name": "stderr",
     "output_type": "stream",
     "text": [
      " 53%|█████▎    | 53/100 [1:30:29<1:19:20, 101.29s/it]"
     ]
    },
    {
     "name": "stdout",
     "output_type": "stream",
     "text": [
      "Validation Loss: 2.303, Validation Accuracy: 10.12%\n",
      "Epoch 54, Train Loss: 18.006, Train Accuracy: 10.04%\n"
     ]
    },
    {
     "name": "stderr",
     "output_type": "stream",
     "text": [
      " 54%|█████▍    | 54/100 [1:33:06<1:30:35, 118.17s/it]"
     ]
    },
    {
     "name": "stdout",
     "output_type": "stream",
     "text": [
      "Validation Loss: 2.303, Validation Accuracy: 10.12%\n",
      "Epoch 55, Train Loss: 18.006, Train Accuracy: 10.04%\n"
     ]
    },
    {
     "name": "stderr",
     "output_type": "stream",
     "text": [
      " 55%|█████▌    | 55/100 [1:35:35<1:35:32, 127.39s/it]"
     ]
    },
    {
     "name": "stdout",
     "output_type": "stream",
     "text": [
      "Validation Loss: 2.303, Validation Accuracy: 10.12%\n",
      "Epoch 56, Train Loss: 18.006, Train Accuracy: 10.04%\n"
     ]
    },
    {
     "name": "stderr",
     "output_type": "stream",
     "text": [
      " 56%|█████▌    | 56/100 [1:37:15<1:27:26, 119.25s/it]"
     ]
    },
    {
     "name": "stdout",
     "output_type": "stream",
     "text": [
      "Validation Loss: 2.303, Validation Accuracy: 10.12%\n",
      "Epoch 57, Train Loss: 18.006, Train Accuracy: 10.04%\n"
     ]
    },
    {
     "name": "stderr",
     "output_type": "stream",
     "text": [
      " 57%|█████▋    | 57/100 [1:38:25<1:14:50, 104.43s/it]"
     ]
    },
    {
     "name": "stdout",
     "output_type": "stream",
     "text": [
      "Validation Loss: 2.303, Validation Accuracy: 10.12%\n",
      "Epoch 58, Train Loss: 18.006, Train Accuracy: 10.04%\n"
     ]
    },
    {
     "name": "stderr",
     "output_type": "stream",
     "text": [
      " 58%|█████▊    | 58/100 [1:39:34<1:05:30, 93.59s/it] "
     ]
    },
    {
     "name": "stdout",
     "output_type": "stream",
     "text": [
      "Validation Loss: 2.303, Validation Accuracy: 10.12%\n",
      "Epoch 59, Train Loss: 18.006, Train Accuracy: 10.04%\n"
     ]
    },
    {
     "name": "stderr",
     "output_type": "stream",
     "text": [
      " 59%|█████▉    | 59/100 [1:40:40<58:28, 85.56s/it]  "
     ]
    },
    {
     "name": "stdout",
     "output_type": "stream",
     "text": [
      "Validation Loss: 2.303, Validation Accuracy: 10.12%\n",
      "Epoch 60, Train Loss: 18.006, Train Accuracy: 10.04%\n"
     ]
    },
    {
     "name": "stderr",
     "output_type": "stream",
     "text": [
      " 60%|██████    | 60/100 [1:41:50<53:49, 80.75s/it]"
     ]
    },
    {
     "name": "stdout",
     "output_type": "stream",
     "text": [
      "Validation Loss: 2.303, Validation Accuracy: 10.12%\n",
      "Epoch 61, Train Loss: 18.006, Train Accuracy: 10.04%\n"
     ]
    },
    {
     "name": "stderr",
     "output_type": "stream",
     "text": [
      " 61%|██████    | 61/100 [1:42:56<49:35, 76.31s/it]"
     ]
    },
    {
     "name": "stdout",
     "output_type": "stream",
     "text": [
      "Validation Loss: 2.303, Validation Accuracy: 10.12%\n",
      "Epoch 62, Train Loss: 18.006, Train Accuracy: 10.04%\n"
     ]
    },
    {
     "name": "stderr",
     "output_type": "stream",
     "text": [
      " 62%|██████▏   | 62/100 [1:44:04<46:45, 73.82s/it]"
     ]
    },
    {
     "name": "stdout",
     "output_type": "stream",
     "text": [
      "Validation Loss: 2.303, Validation Accuracy: 10.12%\n",
      "Epoch 63, Train Loss: 18.006, Train Accuracy: 10.04%\n"
     ]
    },
    {
     "name": "stderr",
     "output_type": "stream",
     "text": [
      " 63%|██████▎   | 63/100 [1:45:17<45:21, 73.56s/it]"
     ]
    },
    {
     "name": "stdout",
     "output_type": "stream",
     "text": [
      "Validation Loss: 2.303, Validation Accuracy: 10.12%\n",
      "Epoch 64, Train Loss: 18.006, Train Accuracy: 10.04%\n"
     ]
    },
    {
     "name": "stderr",
     "output_type": "stream",
     "text": [
      " 64%|██████▍   | 64/100 [1:46:39<45:36, 76.01s/it]"
     ]
    },
    {
     "name": "stdout",
     "output_type": "stream",
     "text": [
      "Validation Loss: 2.303, Validation Accuracy: 10.12%\n",
      "Epoch 65, Train Loss: 18.006, Train Accuracy: 10.04%\n"
     ]
    },
    {
     "name": "stderr",
     "output_type": "stream",
     "text": [
      " 65%|██████▌   | 65/100 [1:48:17<48:17, 82.79s/it]"
     ]
    },
    {
     "name": "stdout",
     "output_type": "stream",
     "text": [
      "Validation Loss: 2.303, Validation Accuracy: 10.12%\n",
      "Epoch 66, Train Loss: 18.006, Train Accuracy: 10.04%\n"
     ]
    },
    {
     "name": "stderr",
     "output_type": "stream",
     "text": [
      " 66%|██████▌   | 66/100 [1:49:34<45:49, 80.87s/it]"
     ]
    },
    {
     "name": "stdout",
     "output_type": "stream",
     "text": [
      "Validation Loss: 2.303, Validation Accuracy: 10.12%\n",
      "Epoch 67, Train Loss: 18.006, Train Accuracy: 10.04%\n"
     ]
    },
    {
     "name": "stderr",
     "output_type": "stream",
     "text": [
      " 67%|██████▋   | 67/100 [1:50:46<43:02, 78.26s/it]"
     ]
    },
    {
     "name": "stdout",
     "output_type": "stream",
     "text": [
      "Validation Loss: 2.303, Validation Accuracy: 10.12%\n",
      "Epoch 68, Train Loss: 18.006, Train Accuracy: 10.04%\n"
     ]
    },
    {
     "name": "stderr",
     "output_type": "stream",
     "text": [
      " 68%|██████▊   | 68/100 [1:51:53<39:58, 74.95s/it]"
     ]
    },
    {
     "name": "stdout",
     "output_type": "stream",
     "text": [
      "Validation Loss: 2.303, Validation Accuracy: 10.12%\n",
      "Epoch 69, Train Loss: 18.006, Train Accuracy: 10.04%\n"
     ]
    },
    {
     "name": "stderr",
     "output_type": "stream",
     "text": [
      " 69%|██████▉   | 69/100 [1:53:00<37:28, 72.54s/it]"
     ]
    },
    {
     "name": "stdout",
     "output_type": "stream",
     "text": [
      "Validation Loss: 2.303, Validation Accuracy: 10.12%\n",
      "Epoch 70, Train Loss: 18.006, Train Accuracy: 10.04%\n"
     ]
    },
    {
     "name": "stderr",
     "output_type": "stream",
     "text": [
      " 70%|███████   | 70/100 [1:54:11<35:58, 71.96s/it]"
     ]
    },
    {
     "name": "stdout",
     "output_type": "stream",
     "text": [
      "Validation Loss: 2.303, Validation Accuracy: 10.12%\n",
      "Epoch 71, Train Loss: 18.006, Train Accuracy: 10.04%\n"
     ]
    },
    {
     "name": "stderr",
     "output_type": "stream",
     "text": [
      " 71%|███████   | 71/100 [1:55:25<35:09, 72.74s/it]"
     ]
    },
    {
     "name": "stdout",
     "output_type": "stream",
     "text": [
      "Validation Loss: 2.303, Validation Accuracy: 10.12%\n",
      "Epoch 72, Train Loss: 18.006, Train Accuracy: 10.04%\n"
     ]
    },
    {
     "name": "stderr",
     "output_type": "stream",
     "text": [
      " 72%|███████▏  | 72/100 [1:56:44<34:52, 74.72s/it]"
     ]
    },
    {
     "name": "stdout",
     "output_type": "stream",
     "text": [
      "Validation Loss: 2.303, Validation Accuracy: 10.12%\n",
      "Epoch 73, Train Loss: 18.006, Train Accuracy: 10.04%\n"
     ]
    },
    {
     "name": "stderr",
     "output_type": "stream",
     "text": [
      " 73%|███████▎  | 73/100 [1:57:43<31:30, 70.00s/it]"
     ]
    },
    {
     "name": "stdout",
     "output_type": "stream",
     "text": [
      "Validation Loss: 2.303, Validation Accuracy: 10.12%\n",
      "Epoch 74, Train Loss: 18.006, Train Accuracy: 10.04%\n"
     ]
    },
    {
     "name": "stderr",
     "output_type": "stream",
     "text": [
      " 74%|███████▍  | 74/100 [1:58:41<28:40, 66.16s/it]"
     ]
    },
    {
     "name": "stdout",
     "output_type": "stream",
     "text": [
      "Validation Loss: 2.303, Validation Accuracy: 10.12%\n",
      "Epoch 75, Train Loss: 18.006, Train Accuracy: 10.04%\n"
     ]
    },
    {
     "name": "stderr",
     "output_type": "stream",
     "text": [
      " 75%|███████▌  | 75/100 [1:59:40<26:41, 64.05s/it]"
     ]
    },
    {
     "name": "stdout",
     "output_type": "stream",
     "text": [
      "Validation Loss: 2.303, Validation Accuracy: 10.12%\n",
      "Epoch 76, Train Loss: 18.006, Train Accuracy: 10.04%\n"
     ]
    },
    {
     "name": "stderr",
     "output_type": "stream",
     "text": [
      " 76%|███████▌  | 76/100 [2:00:37<24:49, 62.04s/it]"
     ]
    },
    {
     "name": "stdout",
     "output_type": "stream",
     "text": [
      "Validation Loss: 2.303, Validation Accuracy: 10.12%\n",
      "Epoch 77, Train Loss: 18.006, Train Accuracy: 10.04%\n"
     ]
    },
    {
     "name": "stderr",
     "output_type": "stream",
     "text": [
      " 77%|███████▋  | 77/100 [2:01:35<23:21, 60.95s/it]"
     ]
    },
    {
     "name": "stdout",
     "output_type": "stream",
     "text": [
      "Validation Loss: 2.303, Validation Accuracy: 10.12%\n",
      "Epoch 78, Train Loss: 18.006, Train Accuracy: 10.04%\n"
     ]
    },
    {
     "name": "stderr",
     "output_type": "stream",
     "text": [
      " 78%|███████▊  | 78/100 [2:02:31<21:47, 59.43s/it]"
     ]
    },
    {
     "name": "stdout",
     "output_type": "stream",
     "text": [
      "Validation Loss: 2.303, Validation Accuracy: 10.12%\n",
      "Epoch 79, Train Loss: 18.006, Train Accuracy: 10.04%\n"
     ]
    },
    {
     "name": "stderr",
     "output_type": "stream",
     "text": [
      " 79%|███████▉  | 79/100 [2:03:35<21:14, 60.67s/it]"
     ]
    },
    {
     "name": "stdout",
     "output_type": "stream",
     "text": [
      "Validation Loss: 2.303, Validation Accuracy: 10.12%\n",
      "Epoch 80, Train Loss: 18.006, Train Accuracy: 10.04%\n"
     ]
    },
    {
     "name": "stderr",
     "output_type": "stream",
     "text": [
      " 80%|████████  | 80/100 [2:04:58<22:26, 67.33s/it]"
     ]
    },
    {
     "name": "stdout",
     "output_type": "stream",
     "text": [
      "Validation Loss: 2.303, Validation Accuracy: 10.12%\n",
      "Epoch 81, Train Loss: 18.006, Train Accuracy: 10.04%\n"
     ]
    },
    {
     "name": "stderr",
     "output_type": "stream",
     "text": [
      " 81%|████████  | 81/100 [2:06:10<21:44, 68.65s/it]"
     ]
    },
    {
     "name": "stdout",
     "output_type": "stream",
     "text": [
      "Validation Loss: 2.303, Validation Accuracy: 10.12%\n",
      "Epoch 82, Train Loss: 18.006, Train Accuracy: 10.04%\n"
     ]
    },
    {
     "name": "stderr",
     "output_type": "stream",
     "text": [
      " 82%|████████▏ | 82/100 [2:07:19<20:39, 68.86s/it]"
     ]
    },
    {
     "name": "stdout",
     "output_type": "stream",
     "text": [
      "Validation Loss: 2.303, Validation Accuracy: 10.12%\n",
      "Epoch 83, Train Loss: 18.006, Train Accuracy: 10.04%\n"
     ]
    },
    {
     "name": "stderr",
     "output_type": "stream",
     "text": [
      " 83%|████████▎ | 83/100 [2:08:30<19:41, 69.49s/it]"
     ]
    },
    {
     "name": "stdout",
     "output_type": "stream",
     "text": [
      "Validation Loss: 2.303, Validation Accuracy: 10.12%\n",
      "Epoch 84, Train Loss: 18.006, Train Accuracy: 10.04%\n"
     ]
    },
    {
     "name": "stderr",
     "output_type": "stream",
     "text": [
      " 84%|████████▍ | 84/100 [2:09:38<18:26, 69.16s/it]"
     ]
    },
    {
     "name": "stdout",
     "output_type": "stream",
     "text": [
      "Validation Loss: 2.303, Validation Accuracy: 10.12%\n",
      "Epoch 85, Train Loss: 18.006, Train Accuracy: 10.04%\n"
     ]
    },
    {
     "name": "stderr",
     "output_type": "stream",
     "text": [
      " 85%|████████▌ | 85/100 [2:10:45<17:08, 68.57s/it]"
     ]
    },
    {
     "name": "stdout",
     "output_type": "stream",
     "text": [
      "Validation Loss: 2.303, Validation Accuracy: 10.12%\n",
      "Epoch 86, Train Loss: 18.006, Train Accuracy: 10.04%\n"
     ]
    },
    {
     "name": "stderr",
     "output_type": "stream",
     "text": [
      " 86%|████████▌ | 86/100 [2:12:00<16:23, 70.26s/it]"
     ]
    },
    {
     "name": "stdout",
     "output_type": "stream",
     "text": [
      "Validation Loss: 2.303, Validation Accuracy: 10.12%\n",
      "Epoch 87, Train Loss: 18.006, Train Accuracy: 10.04%\n"
     ]
    },
    {
     "name": "stderr",
     "output_type": "stream",
     "text": [
      " 87%|████████▋ | 87/100 [2:13:04<14:51, 68.61s/it]"
     ]
    },
    {
     "name": "stdout",
     "output_type": "stream",
     "text": [
      "Validation Loss: 2.303, Validation Accuracy: 10.12%\n",
      "Epoch 88, Train Loss: 18.006, Train Accuracy: 10.04%\n"
     ]
    },
    {
     "name": "stderr",
     "output_type": "stream",
     "text": [
      " 88%|████████▊ | 88/100 [2:14:14<13:47, 68.99s/it]"
     ]
    },
    {
     "name": "stdout",
     "output_type": "stream",
     "text": [
      "Validation Loss: 2.303, Validation Accuracy: 10.12%\n",
      "Epoch 89, Train Loss: 18.006, Train Accuracy: 10.04%\n"
     ]
    },
    {
     "name": "stderr",
     "output_type": "stream",
     "text": [
      " 89%|████████▉ | 89/100 [2:15:19<12:25, 67.73s/it]"
     ]
    },
    {
     "name": "stdout",
     "output_type": "stream",
     "text": [
      "Validation Loss: 2.303, Validation Accuracy: 10.12%\n",
      "Epoch 90, Train Loss: 18.006, Train Accuracy: 10.04%\n"
     ]
    },
    {
     "name": "stderr",
     "output_type": "stream",
     "text": [
      " 90%|█████████ | 90/100 [2:16:24<11:09, 66.90s/it]"
     ]
    },
    {
     "name": "stdout",
     "output_type": "stream",
     "text": [
      "Validation Loss: 2.303, Validation Accuracy: 10.12%\n",
      "Epoch 91, Train Loss: 18.006, Train Accuracy: 10.04%\n"
     ]
    },
    {
     "name": "stderr",
     "output_type": "stream",
     "text": [
      " 91%|█████████ | 91/100 [2:17:31<10:02, 66.91s/it]"
     ]
    },
    {
     "name": "stdout",
     "output_type": "stream",
     "text": [
      "Validation Loss: 2.303, Validation Accuracy: 10.12%\n",
      "Epoch 92, Train Loss: 18.006, Train Accuracy: 10.04%\n"
     ]
    },
    {
     "name": "stderr",
     "output_type": "stream",
     "text": [
      " 92%|█████████▏| 92/100 [2:18:46<09:15, 69.42s/it]"
     ]
    },
    {
     "name": "stdout",
     "output_type": "stream",
     "text": [
      "Validation Loss: 2.303, Validation Accuracy: 10.12%\n",
      "Epoch 93, Train Loss: 18.006, Train Accuracy: 10.04%\n"
     ]
    },
    {
     "name": "stderr",
     "output_type": "stream",
     "text": [
      " 93%|█████████▎| 93/100 [2:20:06<08:27, 72.53s/it]"
     ]
    },
    {
     "name": "stdout",
     "output_type": "stream",
     "text": [
      "Validation Loss: 2.303, Validation Accuracy: 10.12%\n",
      "Epoch 94, Train Loss: 18.006, Train Accuracy: 10.04%\n"
     ]
    },
    {
     "name": "stderr",
     "output_type": "stream",
     "text": [
      " 94%|█████████▍| 94/100 [2:21:20<07:18, 73.01s/it]"
     ]
    },
    {
     "name": "stdout",
     "output_type": "stream",
     "text": [
      "Validation Loss: 2.303, Validation Accuracy: 10.12%\n",
      "Epoch 95, Train Loss: 18.006, Train Accuracy: 10.04%\n"
     ]
    },
    {
     "name": "stderr",
     "output_type": "stream",
     "text": [
      " 95%|█████████▌| 95/100 [2:22:33<06:04, 72.88s/it]"
     ]
    },
    {
     "name": "stdout",
     "output_type": "stream",
     "text": [
      "Validation Loss: 2.303, Validation Accuracy: 10.12%\n",
      "Epoch 96, Train Loss: 18.006, Train Accuracy: 10.04%\n"
     ]
    },
    {
     "name": "stderr",
     "output_type": "stream",
     "text": [
      " 96%|█████████▌| 96/100 [2:23:42<04:46, 71.65s/it]"
     ]
    },
    {
     "name": "stdout",
     "output_type": "stream",
     "text": [
      "Validation Loss: 2.303, Validation Accuracy: 10.12%\n",
      "Epoch 97, Train Loss: 18.006, Train Accuracy: 10.04%\n"
     ]
    },
    {
     "name": "stderr",
     "output_type": "stream",
     "text": [
      " 97%|█████████▋| 97/100 [2:24:49<03:31, 70.42s/it]"
     ]
    },
    {
     "name": "stdout",
     "output_type": "stream",
     "text": [
      "Validation Loss: 2.303, Validation Accuracy: 10.12%\n",
      "Epoch 98, Train Loss: 18.006, Train Accuracy: 10.04%\n"
     ]
    },
    {
     "name": "stderr",
     "output_type": "stream",
     "text": [
      " 98%|█████████▊| 98/100 [2:25:59<02:20, 70.20s/it]"
     ]
    },
    {
     "name": "stdout",
     "output_type": "stream",
     "text": [
      "Validation Loss: 2.303, Validation Accuracy: 10.12%\n",
      "Epoch 99, Train Loss: 18.006, Train Accuracy: 10.04%\n"
     ]
    },
    {
     "name": "stderr",
     "output_type": "stream",
     "text": [
      " 99%|█████████▉| 99/100 [2:27:07<01:09, 69.60s/it]"
     ]
    },
    {
     "name": "stdout",
     "output_type": "stream",
     "text": [
      "Validation Loss: 2.303, Validation Accuracy: 10.12%\n",
      "Epoch 100, Train Loss: 18.006, Train Accuracy: 10.04%\n"
     ]
    },
    {
     "name": "stderr",
     "output_type": "stream",
     "text": [
      "100%|██████████| 100/100 [2:28:14<00:00, 88.94s/it]"
     ]
    },
    {
     "name": "stdout",
     "output_type": "stream",
     "text": [
      "Validation Loss: 2.303, Validation Accuracy: 10.12%\n",
      "Finished Training\n"
     ]
    },
    {
     "name": "stderr",
     "output_type": "stream",
     "text": [
      "\n"
     ]
    },
    {
     "name": "stdout",
     "output_type": "stream",
     "text": [
      "Model 7 Epochs 100 Particles 25\n"
     ]
    },
    {
     "name": "stderr",
     "output_type": "stream",
     "text": [
      "  0%|          | 0/100 [00:00<?, ?it/s]"
     ]
    },
    {
     "name": "stdout",
     "output_type": "stream",
     "text": [
      "Epoch 1, Train Loss: 18.006, Train Accuracy: 10.04%\n"
     ]
    },
    {
     "name": "stderr",
     "output_type": "stream",
     "text": [
      "  1%|          | 1/100 [01:34<2:35:16, 94.10s/it]"
     ]
    },
    {
     "name": "stdout",
     "output_type": "stream",
     "text": [
      "Validation Loss: 2.303, Validation Accuracy: 10.12%\n",
      "Epoch 2, Train Loss: 18.006, Train Accuracy: 10.04%\n"
     ]
    },
    {
     "name": "stderr",
     "output_type": "stream",
     "text": [
      "  2%|▏         | 2/100 [02:42<2:09:02, 79.01s/it]"
     ]
    },
    {
     "name": "stdout",
     "output_type": "stream",
     "text": [
      "Validation Loss: 2.303, Validation Accuracy: 10.12%\n",
      "Epoch 3, Train Loss: 18.006, Train Accuracy: 10.04%\n"
     ]
    },
    {
     "name": "stderr",
     "output_type": "stream",
     "text": [
      "  3%|▎         | 3/100 [03:49<1:58:43, 73.44s/it]"
     ]
    },
    {
     "name": "stdout",
     "output_type": "stream",
     "text": [
      "Validation Loss: 2.303, Validation Accuracy: 10.12%\n",
      "Epoch 4, Train Loss: 18.006, Train Accuracy: 10.04%\n"
     ]
    },
    {
     "name": "stderr",
     "output_type": "stream",
     "text": [
      "  4%|▍         | 4/100 [04:56<1:53:27, 70.92s/it]"
     ]
    },
    {
     "name": "stdout",
     "output_type": "stream",
     "text": [
      "Validation Loss: 2.303, Validation Accuracy: 10.12%\n",
      "Epoch 5, Train Loss: 18.006, Train Accuracy: 10.04%\n"
     ]
    },
    {
     "name": "stderr",
     "output_type": "stream",
     "text": [
      "  5%|▌         | 5/100 [06:13<1:55:55, 73.22s/it]"
     ]
    },
    {
     "name": "stdout",
     "output_type": "stream",
     "text": [
      "Validation Loss: 2.303, Validation Accuracy: 10.12%\n",
      "Epoch 6, Train Loss: 18.006, Train Accuracy: 10.04%\n"
     ]
    },
    {
     "name": "stderr",
     "output_type": "stream",
     "text": [
      "  6%|▌         | 6/100 [07:20<1:51:28, 71.15s/it]"
     ]
    },
    {
     "name": "stdout",
     "output_type": "stream",
     "text": [
      "Validation Loss: 2.303, Validation Accuracy: 10.12%\n",
      "Epoch 7, Train Loss: 18.006, Train Accuracy: 10.04%\n"
     ]
    },
    {
     "name": "stderr",
     "output_type": "stream",
     "text": [
      "  7%|▋         | 7/100 [08:32<1:50:30, 71.30s/it]"
     ]
    },
    {
     "name": "stdout",
     "output_type": "stream",
     "text": [
      "Validation Loss: 2.303, Validation Accuracy: 10.12%\n",
      "Epoch 8, Train Loss: 18.006, Train Accuracy: 10.04%\n"
     ]
    },
    {
     "name": "stderr",
     "output_type": "stream",
     "text": [
      "  8%|▊         | 8/100 [09:37<1:46:19, 69.35s/it]"
     ]
    },
    {
     "name": "stdout",
     "output_type": "stream",
     "text": [
      "Validation Loss: 2.303, Validation Accuracy: 10.12%\n",
      "Epoch 9, Train Loss: 18.006, Train Accuracy: 10.04%\n"
     ]
    },
    {
     "name": "stderr",
     "output_type": "stream",
     "text": [
      "  9%|▉         | 9/100 [10:41<1:42:34, 67.63s/it]"
     ]
    },
    {
     "name": "stdout",
     "output_type": "stream",
     "text": [
      "Validation Loss: 2.303, Validation Accuracy: 10.12%\n",
      "Epoch 10, Train Loss: 18.006, Train Accuracy: 10.04%\n"
     ]
    },
    {
     "name": "stderr",
     "output_type": "stream",
     "text": [
      " 10%|█         | 10/100 [11:47<1:40:33, 67.03s/it]"
     ]
    },
    {
     "name": "stdout",
     "output_type": "stream",
     "text": [
      "Validation Loss: 2.303, Validation Accuracy: 10.12%\n",
      "Epoch 11, Train Loss: 18.006, Train Accuracy: 10.04%\n"
     ]
    },
    {
     "name": "stderr",
     "output_type": "stream",
     "text": [
      " 11%|█         | 11/100 [12:52<1:38:41, 66.54s/it]"
     ]
    },
    {
     "name": "stdout",
     "output_type": "stream",
     "text": [
      "Validation Loss: 2.303, Validation Accuracy: 10.12%\n",
      "Epoch 12, Train Loss: 18.006, Train Accuracy: 10.04%\n"
     ]
    },
    {
     "name": "stderr",
     "output_type": "stream",
     "text": [
      " 12%|█▏        | 12/100 [13:58<1:37:12, 66.28s/it]"
     ]
    },
    {
     "name": "stdout",
     "output_type": "stream",
     "text": [
      "Validation Loss: 2.303, Validation Accuracy: 10.12%\n",
      "Epoch 13, Train Loss: 18.006, Train Accuracy: 10.04%\n"
     ]
    },
    {
     "name": "stderr",
     "output_type": "stream",
     "text": [
      " 13%|█▎        | 13/100 [15:04<1:36:02, 66.24s/it]"
     ]
    },
    {
     "name": "stdout",
     "output_type": "stream",
     "text": [
      "Validation Loss: 2.303, Validation Accuracy: 10.12%\n",
      "Epoch 14, Train Loss: 18.006, Train Accuracy: 10.04%\n"
     ]
    },
    {
     "name": "stderr",
     "output_type": "stream",
     "text": [
      " 14%|█▍        | 14/100 [16:14<1:36:25, 67.28s/it]"
     ]
    },
    {
     "name": "stdout",
     "output_type": "stream",
     "text": [
      "Validation Loss: 2.303, Validation Accuracy: 10.12%\n",
      "Epoch 15, Train Loss: 18.006, Train Accuracy: 10.04%\n"
     ]
    },
    {
     "name": "stderr",
     "output_type": "stream",
     "text": [
      " 15%|█▌        | 15/100 [17:20<1:34:48, 66.93s/it]"
     ]
    },
    {
     "name": "stdout",
     "output_type": "stream",
     "text": [
      "Validation Loss: 2.303, Validation Accuracy: 10.12%\n",
      "Epoch 16, Train Loss: 18.006, Train Accuracy: 10.04%\n"
     ]
    },
    {
     "name": "stderr",
     "output_type": "stream",
     "text": [
      " 16%|█▌        | 16/100 [18:25<1:33:01, 66.45s/it]"
     ]
    },
    {
     "name": "stdout",
     "output_type": "stream",
     "text": [
      "Validation Loss: 2.303, Validation Accuracy: 10.12%\n",
      "Epoch 17, Train Loss: 18.006, Train Accuracy: 10.04%\n"
     ]
    },
    {
     "name": "stderr",
     "output_type": "stream",
     "text": [
      " 17%|█▋        | 17/100 [19:37<1:34:25, 68.26s/it]"
     ]
    },
    {
     "name": "stdout",
     "output_type": "stream",
     "text": [
      "Validation Loss: 2.303, Validation Accuracy: 10.12%\n",
      "Epoch 18, Train Loss: 18.006, Train Accuracy: 10.04%\n"
     ]
    },
    {
     "name": "stderr",
     "output_type": "stream",
     "text": [
      " 18%|█▊        | 18/100 [20:53<1:36:10, 70.38s/it]"
     ]
    },
    {
     "name": "stdout",
     "output_type": "stream",
     "text": [
      "Validation Loss: 2.303, Validation Accuracy: 10.12%\n",
      "Epoch 19, Train Loss: 18.006, Train Accuracy: 10.04%\n"
     ]
    },
    {
     "name": "stderr",
     "output_type": "stream",
     "text": [
      " 19%|█▉        | 19/100 [22:05<1:35:44, 70.92s/it]"
     ]
    },
    {
     "name": "stdout",
     "output_type": "stream",
     "text": [
      "Validation Loss: 2.303, Validation Accuracy: 10.12%\n",
      "Epoch 20, Train Loss: 18.006, Train Accuracy: 10.04%\n"
     ]
    },
    {
     "name": "stderr",
     "output_type": "stream",
     "text": [
      " 20%|██        | 20/100 [23:20<1:36:21, 72.27s/it]"
     ]
    },
    {
     "name": "stdout",
     "output_type": "stream",
     "text": [
      "Validation Loss: 2.303, Validation Accuracy: 10.12%\n",
      "Epoch 21, Train Loss: 18.006, Train Accuracy: 10.04%\n"
     ]
    },
    {
     "name": "stderr",
     "output_type": "stream",
     "text": [
      " 21%|██        | 21/100 [24:37<1:36:55, 73.62s/it]"
     ]
    },
    {
     "name": "stdout",
     "output_type": "stream",
     "text": [
      "Validation Loss: 2.303, Validation Accuracy: 10.12%\n",
      "Epoch 22, Train Loss: 18.006, Train Accuracy: 10.04%\n"
     ]
    },
    {
     "name": "stderr",
     "output_type": "stream",
     "text": [
      " 22%|██▏       | 22/100 [25:51<1:35:51, 73.73s/it]"
     ]
    },
    {
     "name": "stdout",
     "output_type": "stream",
     "text": [
      "Validation Loss: 2.303, Validation Accuracy: 10.12%\n",
      "Epoch 23, Train Loss: 18.006, Train Accuracy: 10.04%\n"
     ]
    },
    {
     "name": "stderr",
     "output_type": "stream",
     "text": [
      " 23%|██▎       | 23/100 [27:05<1:34:36, 73.72s/it]"
     ]
    },
    {
     "name": "stdout",
     "output_type": "stream",
     "text": [
      "Validation Loss: 2.303, Validation Accuracy: 10.12%\n",
      "Epoch 24, Train Loss: 18.006, Train Accuracy: 10.04%\n"
     ]
    },
    {
     "name": "stderr",
     "output_type": "stream",
     "text": [
      " 24%|██▍       | 24/100 [28:21<1:34:07, 74.31s/it]"
     ]
    },
    {
     "name": "stdout",
     "output_type": "stream",
     "text": [
      "Validation Loss: 2.303, Validation Accuracy: 10.12%\n",
      "Epoch 25, Train Loss: 18.006, Train Accuracy: 10.04%\n"
     ]
    },
    {
     "name": "stderr",
     "output_type": "stream",
     "text": [
      " 25%|██▌       | 25/100 [29:31<1:31:20, 73.07s/it]"
     ]
    },
    {
     "name": "stdout",
     "output_type": "stream",
     "text": [
      "Validation Loss: 2.303, Validation Accuracy: 10.12%\n",
      "Epoch 26, Train Loss: 18.006, Train Accuracy: 10.04%\n"
     ]
    },
    {
     "name": "stderr",
     "output_type": "stream",
     "text": [
      " 26%|██▌       | 26/100 [30:41<1:29:07, 72.26s/it]"
     ]
    },
    {
     "name": "stdout",
     "output_type": "stream",
     "text": [
      "Validation Loss: 2.303, Validation Accuracy: 10.12%\n",
      "Epoch 27, Train Loss: 18.006, Train Accuracy: 10.04%\n"
     ]
    },
    {
     "name": "stderr",
     "output_type": "stream",
     "text": [
      " 27%|██▋       | 27/100 [32:00<1:30:13, 74.15s/it]"
     ]
    },
    {
     "name": "stdout",
     "output_type": "stream",
     "text": [
      "Validation Loss: 2.303, Validation Accuracy: 10.12%\n",
      "Epoch 28, Train Loss: 18.006, Train Accuracy: 10.04%\n"
     ]
    },
    {
     "name": "stderr",
     "output_type": "stream",
     "text": [
      " 28%|██▊       | 28/100 [33:16<1:29:36, 74.67s/it]"
     ]
    },
    {
     "name": "stdout",
     "output_type": "stream",
     "text": [
      "Validation Loss: 2.303, Validation Accuracy: 10.12%\n",
      "Epoch 29, Train Loss: 18.006, Train Accuracy: 10.04%\n"
     ]
    },
    {
     "name": "stderr",
     "output_type": "stream",
     "text": [
      " 29%|██▉       | 29/100 [34:30<1:28:14, 74.56s/it]"
     ]
    },
    {
     "name": "stdout",
     "output_type": "stream",
     "text": [
      "Validation Loss: 2.303, Validation Accuracy: 10.12%\n",
      "Epoch 30, Train Loss: 18.006, Train Accuracy: 10.04%\n"
     ]
    },
    {
     "name": "stderr",
     "output_type": "stream",
     "text": [
      " 30%|███       | 30/100 [35:44<1:26:50, 74.44s/it]"
     ]
    },
    {
     "name": "stdout",
     "output_type": "stream",
     "text": [
      "Validation Loss: 2.303, Validation Accuracy: 10.12%\n",
      "Epoch 31, Train Loss: 18.006, Train Accuracy: 10.04%\n"
     ]
    },
    {
     "name": "stderr",
     "output_type": "stream",
     "text": [
      " 31%|███       | 31/100 [37:04<1:27:31, 76.11s/it]"
     ]
    },
    {
     "name": "stdout",
     "output_type": "stream",
     "text": [
      "Validation Loss: 2.303, Validation Accuracy: 10.12%\n",
      "Epoch 32, Train Loss: 18.006, Train Accuracy: 10.04%\n"
     ]
    },
    {
     "name": "stderr",
     "output_type": "stream",
     "text": [
      " 32%|███▏      | 32/100 [38:19<1:25:55, 75.81s/it]"
     ]
    },
    {
     "name": "stdout",
     "output_type": "stream",
     "text": [
      "Validation Loss: 2.303, Validation Accuracy: 10.12%\n",
      "Epoch 33, Train Loss: 18.006, Train Accuracy: 10.04%\n"
     ]
    },
    {
     "name": "stderr",
     "output_type": "stream",
     "text": [
      " 33%|███▎      | 33/100 [39:36<1:25:02, 76.15s/it]"
     ]
    },
    {
     "name": "stdout",
     "output_type": "stream",
     "text": [
      "Validation Loss: 2.303, Validation Accuracy: 10.12%\n",
      "Epoch 34, Train Loss: 18.006, Train Accuracy: 10.04%\n"
     ]
    },
    {
     "name": "stderr",
     "output_type": "stream",
     "text": [
      " 34%|███▍      | 34/100 [40:49<1:22:47, 75.27s/it]"
     ]
    },
    {
     "name": "stdout",
     "output_type": "stream",
     "text": [
      "Validation Loss: 2.303, Validation Accuracy: 10.12%\n",
      "Epoch 35, Train Loss: 18.006, Train Accuracy: 10.04%\n"
     ]
    },
    {
     "name": "stderr",
     "output_type": "stream",
     "text": [
      " 35%|███▌      | 35/100 [42:02<1:20:41, 74.48s/it]"
     ]
    },
    {
     "name": "stdout",
     "output_type": "stream",
     "text": [
      "Validation Loss: 2.303, Validation Accuracy: 10.12%\n",
      "Epoch 36, Train Loss: 18.006, Train Accuracy: 10.04%\n"
     ]
    },
    {
     "name": "stderr",
     "output_type": "stream",
     "text": [
      " 36%|███▌      | 36/100 [43:17<1:19:33, 74.59s/it]"
     ]
    },
    {
     "name": "stdout",
     "output_type": "stream",
     "text": [
      "Validation Loss: 2.303, Validation Accuracy: 10.12%\n",
      "Epoch 37, Train Loss: 18.006, Train Accuracy: 10.04%\n"
     ]
    },
    {
     "name": "stderr",
     "output_type": "stream",
     "text": [
      " 37%|███▋      | 37/100 [44:31<1:18:10, 74.45s/it]"
     ]
    },
    {
     "name": "stdout",
     "output_type": "stream",
     "text": [
      "Validation Loss: 2.303, Validation Accuracy: 10.12%\n",
      "Epoch 38, Train Loss: 18.006, Train Accuracy: 10.04%\n"
     ]
    },
    {
     "name": "stderr",
     "output_type": "stream",
     "text": [
      " 38%|███▊      | 38/100 [46:11<1:24:49, 82.08s/it]"
     ]
    },
    {
     "name": "stdout",
     "output_type": "stream",
     "text": [
      "Validation Loss: 2.303, Validation Accuracy: 10.12%\n",
      "Epoch 39, Train Loss: 18.006, Train Accuracy: 10.04%\n"
     ]
    },
    {
     "name": "stderr",
     "output_type": "stream",
     "text": [
      " 39%|███▉      | 39/100 [47:34<1:23:40, 82.30s/it]"
     ]
    },
    {
     "name": "stdout",
     "output_type": "stream",
     "text": [
      "Validation Loss: 2.303, Validation Accuracy: 10.12%\n",
      "Epoch 40, Train Loss: 18.006, Train Accuracy: 10.04%\n"
     ]
    },
    {
     "name": "stderr",
     "output_type": "stream",
     "text": [
      " 40%|████      | 40/100 [48:55<1:22:08, 82.14s/it]"
     ]
    },
    {
     "name": "stdout",
     "output_type": "stream",
     "text": [
      "Validation Loss: 2.303, Validation Accuracy: 10.12%\n",
      "Epoch 41, Train Loss: 18.006, Train Accuracy: 10.04%\n"
     ]
    },
    {
     "name": "stderr",
     "output_type": "stream",
     "text": [
      " 41%|████      | 41/100 [50:07<1:17:32, 78.86s/it]"
     ]
    },
    {
     "name": "stdout",
     "output_type": "stream",
     "text": [
      "Validation Loss: 2.303, Validation Accuracy: 10.12%\n",
      "Epoch 42, Train Loss: 18.006, Train Accuracy: 10.04%\n"
     ]
    },
    {
     "name": "stderr",
     "output_type": "stream",
     "text": [
      " 42%|████▏     | 42/100 [51:24<1:15:43, 78.34s/it]"
     ]
    },
    {
     "name": "stdout",
     "output_type": "stream",
     "text": [
      "Validation Loss: 2.303, Validation Accuracy: 10.12%\n",
      "Epoch 43, Train Loss: 18.006, Train Accuracy: 10.04%\n"
     ]
    },
    {
     "name": "stderr",
     "output_type": "stream",
     "text": [
      " 43%|████▎     | 43/100 [53:14<1:23:23, 87.79s/it]"
     ]
    },
    {
     "name": "stdout",
     "output_type": "stream",
     "text": [
      "Validation Loss: 2.303, Validation Accuracy: 10.12%\n",
      "Epoch 44, Train Loss: 18.006, Train Accuracy: 10.04%\n"
     ]
    },
    {
     "name": "stderr",
     "output_type": "stream",
     "text": [
      " 44%|████▍     | 44/100 [54:32<1:19:21, 85.02s/it]"
     ]
    },
    {
     "name": "stdout",
     "output_type": "stream",
     "text": [
      "Validation Loss: 2.303, Validation Accuracy: 10.12%\n",
      "Epoch 45, Train Loss: 18.006, Train Accuracy: 10.04%\n"
     ]
    },
    {
     "name": "stderr",
     "output_type": "stream",
     "text": [
      " 45%|████▌     | 45/100 [55:49<1:15:42, 82.60s/it]"
     ]
    },
    {
     "name": "stdout",
     "output_type": "stream",
     "text": [
      "Validation Loss: 2.303, Validation Accuracy: 10.12%\n",
      "Epoch 46, Train Loss: 18.006, Train Accuracy: 10.04%\n"
     ]
    },
    {
     "name": "stderr",
     "output_type": "stream",
     "text": [
      " 46%|████▌     | 46/100 [58:27<1:34:42, 105.23s/it]"
     ]
    },
    {
     "name": "stdout",
     "output_type": "stream",
     "text": [
      "Validation Loss: 2.303, Validation Accuracy: 10.12%\n",
      "Epoch 47, Train Loss: 18.006, Train Accuracy: 10.04%\n"
     ]
    },
    {
     "name": "stderr",
     "output_type": "stream",
     "text": [
      " 47%|████▋     | 47/100 [1:00:30<1:37:35, 110.48s/it]"
     ]
    },
    {
     "name": "stdout",
     "output_type": "stream",
     "text": [
      "Validation Loss: 2.303, Validation Accuracy: 10.12%\n",
      "Epoch 48, Train Loss: 18.006, Train Accuracy: 10.04%\n"
     ]
    },
    {
     "name": "stderr",
     "output_type": "stream",
     "text": [
      " 48%|████▊     | 48/100 [1:02:20<1:35:40, 110.39s/it]"
     ]
    },
    {
     "name": "stdout",
     "output_type": "stream",
     "text": [
      "Validation Loss: 2.303, Validation Accuracy: 10.12%\n",
      "Epoch 49, Train Loss: 18.006, Train Accuracy: 10.04%\n"
     ]
    },
    {
     "name": "stderr",
     "output_type": "stream",
     "text": [
      " 49%|████▉     | 49/100 [1:04:08<1:33:08, 109.58s/it]"
     ]
    },
    {
     "name": "stdout",
     "output_type": "stream",
     "text": [
      "Validation Loss: 2.303, Validation Accuracy: 10.12%\n",
      "Epoch 50, Train Loss: 18.006, Train Accuracy: 10.04%\n"
     ]
    },
    {
     "name": "stderr",
     "output_type": "stream",
     "text": [
      " 50%|█████     | 50/100 [1:06:24<1:38:01, 117.64s/it]"
     ]
    },
    {
     "name": "stdout",
     "output_type": "stream",
     "text": [
      "Validation Loss: 2.303, Validation Accuracy: 10.12%\n",
      "Epoch 51, Train Loss: 18.006, Train Accuracy: 10.04%\n"
     ]
    },
    {
     "name": "stderr",
     "output_type": "stream",
     "text": [
      " 51%|█████     | 51/100 [1:08:17<1:34:52, 116.16s/it]"
     ]
    },
    {
     "name": "stdout",
     "output_type": "stream",
     "text": [
      "Validation Loss: 2.303, Validation Accuracy: 10.12%\n",
      "Epoch 52, Train Loss: 18.006, Train Accuracy: 10.04%\n"
     ]
    },
    {
     "name": "stderr",
     "output_type": "stream",
     "text": [
      " 52%|█████▏    | 52/100 [1:10:11<1:32:25, 115.52s/it]"
     ]
    },
    {
     "name": "stdout",
     "output_type": "stream",
     "text": [
      "Validation Loss: 2.303, Validation Accuracy: 10.12%\n",
      "Epoch 53, Train Loss: 18.006, Train Accuracy: 10.04%\n"
     ]
    },
    {
     "name": "stderr",
     "output_type": "stream",
     "text": [
      " 53%|█████▎    | 53/100 [1:11:49<1:26:29, 110.41s/it]"
     ]
    },
    {
     "name": "stdout",
     "output_type": "stream",
     "text": [
      "Validation Loss: 2.303, Validation Accuracy: 10.12%\n",
      "Epoch 54, Train Loss: 18.006, Train Accuracy: 10.04%\n"
     ]
    },
    {
     "name": "stderr",
     "output_type": "stream",
     "text": [
      " 54%|█████▍    | 54/100 [1:14:19<1:33:34, 122.07s/it]"
     ]
    },
    {
     "name": "stdout",
     "output_type": "stream",
     "text": [
      "Validation Loss: 2.303, Validation Accuracy: 10.12%\n",
      "Epoch 55, Train Loss: 18.006, Train Accuracy: 10.04%\n"
     ]
    },
    {
     "name": "stderr",
     "output_type": "stream",
     "text": [
      " 55%|█████▌    | 55/100 [1:16:32<1:34:12, 125.61s/it]"
     ]
    },
    {
     "name": "stdout",
     "output_type": "stream",
     "text": [
      "Validation Loss: 2.303, Validation Accuracy: 10.12%\n",
      "Epoch 56, Train Loss: 18.006, Train Accuracy: 10.04%\n"
     ]
    },
    {
     "name": "stderr",
     "output_type": "stream",
     "text": [
      " 56%|█████▌    | 56/100 [1:18:28<1:29:52, 122.55s/it]"
     ]
    },
    {
     "name": "stdout",
     "output_type": "stream",
     "text": [
      "Validation Loss: 2.303, Validation Accuracy: 10.12%\n",
      "Epoch 57, Train Loss: 18.006, Train Accuracy: 10.04%\n"
     ]
    },
    {
     "name": "stderr",
     "output_type": "stream",
     "text": [
      " 57%|█████▋    | 57/100 [1:20:30<1:27:49, 122.55s/it]"
     ]
    },
    {
     "name": "stdout",
     "output_type": "stream",
     "text": [
      "Validation Loss: 2.303, Validation Accuracy: 10.12%\n",
      "Epoch 58, Train Loss: 18.006, Train Accuracy: 10.04%\n"
     ]
    },
    {
     "name": "stderr",
     "output_type": "stream",
     "text": [
      " 58%|█████▊    | 58/100 [1:22:56<1:30:36, 129.43s/it]"
     ]
    },
    {
     "name": "stdout",
     "output_type": "stream",
     "text": [
      "Validation Loss: 2.303, Validation Accuracy: 10.12%\n",
      "Epoch 59, Train Loss: 18.006, Train Accuracy: 10.04%\n"
     ]
    },
    {
     "name": "stderr",
     "output_type": "stream",
     "text": [
      " 59%|█████▉    | 59/100 [1:24:33<1:21:54, 119.86s/it]"
     ]
    },
    {
     "name": "stdout",
     "output_type": "stream",
     "text": [
      "Validation Loss: 2.303, Validation Accuracy: 10.12%\n",
      "Epoch 60, Train Loss: 18.006, Train Accuracy: 10.04%\n"
     ]
    },
    {
     "name": "stderr",
     "output_type": "stream",
     "text": [
      " 60%|██████    | 60/100 [1:25:44<1:10:08, 105.20s/it]"
     ]
    },
    {
     "name": "stdout",
     "output_type": "stream",
     "text": [
      "Validation Loss: 2.303, Validation Accuracy: 10.12%\n",
      "Epoch 61, Train Loss: 18.006, Train Accuracy: 10.04%\n"
     ]
    },
    {
     "name": "stderr",
     "output_type": "stream",
     "text": [
      " 61%|██████    | 61/100 [1:26:58<1:02:15, 95.77s/it] "
     ]
    },
    {
     "name": "stdout",
     "output_type": "stream",
     "text": [
      "Validation Loss: 2.303, Validation Accuracy: 10.12%\n",
      "Epoch 62, Train Loss: 18.006, Train Accuracy: 10.04%\n"
     ]
    },
    {
     "name": "stderr",
     "output_type": "stream",
     "text": [
      " 62%|██████▏   | 62/100 [1:28:16<57:15, 90.41s/it]  "
     ]
    },
    {
     "name": "stdout",
     "output_type": "stream",
     "text": [
      "Validation Loss: 2.303, Validation Accuracy: 10.12%\n",
      "Epoch 63, Train Loss: 18.006, Train Accuracy: 10.04%\n"
     ]
    },
    {
     "name": "stderr",
     "output_type": "stream",
     "text": [
      " 63%|██████▎   | 63/100 [1:29:30<52:38, 85.36s/it]"
     ]
    },
    {
     "name": "stdout",
     "output_type": "stream",
     "text": [
      "Validation Loss: 2.303, Validation Accuracy: 10.12%\n",
      "Epoch 64, Train Loss: 18.006, Train Accuracy: 10.04%\n"
     ]
    },
    {
     "name": "stderr",
     "output_type": "stream",
     "text": [
      " 64%|██████▍   | 64/100 [1:30:39<48:24, 80.67s/it]"
     ]
    },
    {
     "name": "stdout",
     "output_type": "stream",
     "text": [
      "Validation Loss: 2.303, Validation Accuracy: 10.12%\n",
      "Epoch 65, Train Loss: 18.006, Train Accuracy: 10.04%\n"
     ]
    },
    {
     "name": "stderr",
     "output_type": "stream",
     "text": [
      " 65%|██████▌   | 65/100 [1:31:54<45:56, 78.74s/it]"
     ]
    },
    {
     "name": "stdout",
     "output_type": "stream",
     "text": [
      "Validation Loss: 2.303, Validation Accuracy: 10.12%\n",
      "Epoch 66, Train Loss: 18.006, Train Accuracy: 10.04%\n"
     ]
    },
    {
     "name": "stderr",
     "output_type": "stream",
     "text": [
      " 66%|██████▌   | 66/100 [1:33:06<43:34, 76.88s/it]"
     ]
    },
    {
     "name": "stdout",
     "output_type": "stream",
     "text": [
      "Validation Loss: 2.303, Validation Accuracy: 10.12%\n",
      "Epoch 67, Train Loss: 18.006, Train Accuracy: 10.04%\n"
     ]
    },
    {
     "name": "stderr",
     "output_type": "stream",
     "text": [
      " 67%|██████▋   | 67/100 [1:34:18<41:25, 75.31s/it]"
     ]
    },
    {
     "name": "stdout",
     "output_type": "stream",
     "text": [
      "Validation Loss: 2.303, Validation Accuracy: 10.12%\n",
      "Epoch 68, Train Loss: 18.006, Train Accuracy: 10.04%\n"
     ]
    },
    {
     "name": "stderr",
     "output_type": "stream",
     "text": [
      " 68%|██████▊   | 68/100 [1:35:30<39:36, 74.27s/it]"
     ]
    },
    {
     "name": "stdout",
     "output_type": "stream",
     "text": [
      "Validation Loss: 2.303, Validation Accuracy: 10.12%\n",
      "Epoch 69, Train Loss: 18.006, Train Accuracy: 10.04%\n"
     ]
    },
    {
     "name": "stderr",
     "output_type": "stream",
     "text": [
      " 69%|██████▉   | 69/100 [1:36:40<37:44, 73.04s/it]"
     ]
    },
    {
     "name": "stdout",
     "output_type": "stream",
     "text": [
      "Validation Loss: 2.303, Validation Accuracy: 10.12%\n",
      "Epoch 70, Train Loss: 18.006, Train Accuracy: 10.04%\n"
     ]
    },
    {
     "name": "stderr",
     "output_type": "stream",
     "text": [
      " 70%|███████   | 70/100 [1:37:51<36:12, 72.42s/it]"
     ]
    },
    {
     "name": "stdout",
     "output_type": "stream",
     "text": [
      "Validation Loss: 2.303, Validation Accuracy: 10.12%\n",
      "Epoch 71, Train Loss: 18.006, Train Accuracy: 10.04%\n"
     ]
    },
    {
     "name": "stderr",
     "output_type": "stream",
     "text": [
      " 71%|███████   | 71/100 [1:39:03<35:01, 72.45s/it]"
     ]
    },
    {
     "name": "stdout",
     "output_type": "stream",
     "text": [
      "Validation Loss: 2.303, Validation Accuracy: 10.12%\n",
      "Epoch 72, Train Loss: 18.006, Train Accuracy: 10.04%\n"
     ]
    },
    {
     "name": "stderr",
     "output_type": "stream",
     "text": [
      " 72%|███████▏  | 72/100 [1:40:25<35:03, 75.12s/it]"
     ]
    },
    {
     "name": "stdout",
     "output_type": "stream",
     "text": [
      "Validation Loss: 2.303, Validation Accuracy: 10.12%\n",
      "Epoch 73, Train Loss: 18.006, Train Accuracy: 10.04%\n"
     ]
    },
    {
     "name": "stderr",
     "output_type": "stream",
     "text": [
      " 73%|███████▎  | 73/100 [1:42:09<37:43, 83.83s/it]"
     ]
    },
    {
     "name": "stdout",
     "output_type": "stream",
     "text": [
      "Validation Loss: 2.303, Validation Accuracy: 10.12%\n",
      "Epoch 74, Train Loss: 18.006, Train Accuracy: 10.04%\n"
     ]
    },
    {
     "name": "stderr",
     "output_type": "stream",
     "text": [
      " 74%|███████▍  | 74/100 [1:43:29<35:51, 82.76s/it]"
     ]
    },
    {
     "name": "stdout",
     "output_type": "stream",
     "text": [
      "Validation Loss: 2.303, Validation Accuracy: 10.12%\n",
      "Epoch 75, Train Loss: 18.006, Train Accuracy: 10.04%\n"
     ]
    },
    {
     "name": "stderr",
     "output_type": "stream",
     "text": [
      " 75%|███████▌  | 75/100 [1:45:25<38:37, 92.68s/it]"
     ]
    },
    {
     "name": "stdout",
     "output_type": "stream",
     "text": [
      "Validation Loss: 2.303, Validation Accuracy: 10.12%\n",
      "Epoch 76, Train Loss: 18.006, Train Accuracy: 10.04%\n"
     ]
    },
    {
     "name": "stderr",
     "output_type": "stream",
     "text": [
      " 76%|███████▌  | 76/100 [1:46:48<35:54, 89.77s/it]"
     ]
    },
    {
     "name": "stdout",
     "output_type": "stream",
     "text": [
      "Validation Loss: 2.303, Validation Accuracy: 10.12%\n",
      "Epoch 77, Train Loss: 18.006, Train Accuracy: 10.04%\n"
     ]
    },
    {
     "name": "stderr",
     "output_type": "stream",
     "text": [
      " 77%|███████▋  | 77/100 [1:48:08<33:20, 87.00s/it]"
     ]
    },
    {
     "name": "stdout",
     "output_type": "stream",
     "text": [
      "Validation Loss: 2.303, Validation Accuracy: 10.12%\n",
      "Epoch 78, Train Loss: 18.006, Train Accuracy: 10.04%\n"
     ]
    },
    {
     "name": "stderr",
     "output_type": "stream",
     "text": [
      " 78%|███████▊  | 78/100 [1:49:28<31:03, 84.72s/it]"
     ]
    },
    {
     "name": "stdout",
     "output_type": "stream",
     "text": [
      "Validation Loss: 2.303, Validation Accuracy: 10.12%\n",
      "Epoch 79, Train Loss: 18.006, Train Accuracy: 10.04%\n"
     ]
    },
    {
     "name": "stderr",
     "output_type": "stream",
     "text": [
      " 79%|███████▉  | 79/100 [1:50:43<28:41, 81.97s/it]"
     ]
    },
    {
     "name": "stdout",
     "output_type": "stream",
     "text": [
      "Validation Loss: 2.303, Validation Accuracy: 10.12%\n",
      "Epoch 80, Train Loss: 18.006, Train Accuracy: 10.04%\n"
     ]
    },
    {
     "name": "stderr",
     "output_type": "stream",
     "text": [
      " 80%|████████  | 80/100 [1:52:01<26:53, 80.70s/it]"
     ]
    },
    {
     "name": "stdout",
     "output_type": "stream",
     "text": [
      "Validation Loss: 2.303, Validation Accuracy: 10.12%\n",
      "Epoch 81, Train Loss: 18.006, Train Accuracy: 10.04%\n"
     ]
    },
    {
     "name": "stderr",
     "output_type": "stream",
     "text": [
      " 81%|████████  | 81/100 [1:53:20<25:20, 80.01s/it]"
     ]
    },
    {
     "name": "stdout",
     "output_type": "stream",
     "text": [
      "Validation Loss: 2.303, Validation Accuracy: 10.12%\n",
      "Epoch 82, Train Loss: 18.006, Train Accuracy: 10.04%\n"
     ]
    },
    {
     "name": "stderr",
     "output_type": "stream",
     "text": [
      " 82%|████████▏ | 82/100 [1:54:39<23:58, 79.90s/it]"
     ]
    },
    {
     "name": "stdout",
     "output_type": "stream",
     "text": [
      "Validation Loss: 2.303, Validation Accuracy: 10.12%\n",
      "Epoch 83, Train Loss: 18.006, Train Accuracy: 10.04%\n"
     ]
    },
    {
     "name": "stderr",
     "output_type": "stream",
     "text": [
      " 83%|████████▎ | 83/100 [1:55:59<22:38, 79.90s/it]"
     ]
    },
    {
     "name": "stdout",
     "output_type": "stream",
     "text": [
      "Validation Loss: 2.303, Validation Accuracy: 10.12%\n",
      "Epoch 84, Train Loss: 18.006, Train Accuracy: 10.04%\n"
     ]
    },
    {
     "name": "stderr",
     "output_type": "stream",
     "text": [
      " 84%|████████▍ | 84/100 [1:57:18<21:13, 79.57s/it]"
     ]
    },
    {
     "name": "stdout",
     "output_type": "stream",
     "text": [
      "Validation Loss: 2.303, Validation Accuracy: 10.12%\n",
      "Epoch 85, Train Loss: 18.006, Train Accuracy: 10.04%\n"
     ]
    },
    {
     "name": "stderr",
     "output_type": "stream",
     "text": [
      " 85%|████████▌ | 85/100 [1:58:38<19:53, 79.60s/it]"
     ]
    },
    {
     "name": "stdout",
     "output_type": "stream",
     "text": [
      "Validation Loss: 2.303, Validation Accuracy: 10.12%\n",
      "Epoch 86, Train Loss: 18.006, Train Accuracy: 10.04%\n"
     ]
    },
    {
     "name": "stderr",
     "output_type": "stream",
     "text": [
      " 86%|████████▌ | 86/100 [2:00:04<19:04, 81.78s/it]"
     ]
    },
    {
     "name": "stdout",
     "output_type": "stream",
     "text": [
      "Validation Loss: 2.303, Validation Accuracy: 10.12%\n",
      "Epoch 87, Train Loss: 18.006, Train Accuracy: 10.04%\n"
     ]
    },
    {
     "name": "stderr",
     "output_type": "stream",
     "text": [
      " 87%|████████▋ | 87/100 [2:01:45<18:54, 87.30s/it]"
     ]
    },
    {
     "name": "stdout",
     "output_type": "stream",
     "text": [
      "Validation Loss: 2.303, Validation Accuracy: 10.12%\n",
      "Epoch 88, Train Loss: 18.006, Train Accuracy: 10.04%\n"
     ]
    },
    {
     "name": "stderr",
     "output_type": "stream",
     "text": [
      " 88%|████████▊ | 88/100 [2:03:17<17:45, 88.81s/it]"
     ]
    },
    {
     "name": "stdout",
     "output_type": "stream",
     "text": [
      "Validation Loss: 2.303, Validation Accuracy: 10.12%\n",
      "Epoch 89, Train Loss: 18.006, Train Accuracy: 10.04%\n"
     ]
    },
    {
     "name": "stderr",
     "output_type": "stream",
     "text": [
      " 89%|████████▉ | 89/100 [2:04:47<16:21, 89.27s/it]"
     ]
    },
    {
     "name": "stdout",
     "output_type": "stream",
     "text": [
      "Validation Loss: 2.303, Validation Accuracy: 10.12%\n",
      "Epoch 90, Train Loss: 18.006, Train Accuracy: 10.04%\n"
     ]
    },
    {
     "name": "stderr",
     "output_type": "stream",
     "text": [
      " 90%|█████████ | 90/100 [2:06:17<14:53, 89.35s/it]"
     ]
    },
    {
     "name": "stdout",
     "output_type": "stream",
     "text": [
      "Validation Loss: 2.303, Validation Accuracy: 10.12%\n",
      "Epoch 91, Train Loss: 18.006, Train Accuracy: 10.04%\n"
     ]
    },
    {
     "name": "stderr",
     "output_type": "stream",
     "text": [
      " 91%|█████████ | 91/100 [2:07:55<13:48, 92.05s/it]"
     ]
    },
    {
     "name": "stdout",
     "output_type": "stream",
     "text": [
      "Validation Loss: 2.303, Validation Accuracy: 10.12%\n",
      "Epoch 92, Train Loss: 18.006, Train Accuracy: 10.04%\n"
     ]
    },
    {
     "name": "stderr",
     "output_type": "stream",
     "text": [
      " 92%|█████████▏| 92/100 [2:13:17<21:28, 161.08s/it]"
     ]
    },
    {
     "name": "stdout",
     "output_type": "stream",
     "text": [
      "Validation Loss: 2.303, Validation Accuracy: 10.12%\n",
      "Epoch 93, Train Loss: 18.006, Train Accuracy: 10.04%\n"
     ]
    },
    {
     "name": "stderr",
     "output_type": "stream",
     "text": [
      " 93%|█████████▎| 93/100 [2:18:42<24:30, 210.02s/it]"
     ]
    },
    {
     "name": "stdout",
     "output_type": "stream",
     "text": [
      "Validation Loss: 2.303, Validation Accuracy: 10.12%\n",
      "Epoch 94, Train Loss: 18.006, Train Accuracy: 10.04%\n"
     ]
    },
    {
     "name": "stderr",
     "output_type": "stream",
     "text": [
      " 94%|█████████▍| 94/100 [2:21:04<18:58, 189.77s/it]"
     ]
    },
    {
     "name": "stdout",
     "output_type": "stream",
     "text": [
      "Validation Loss: 2.303, Validation Accuracy: 10.12%\n",
      "Epoch 95, Train Loss: 18.006, Train Accuracy: 10.04%\n"
     ]
    },
    {
     "name": "stderr",
     "output_type": "stream",
     "text": [
      " 95%|█████████▌| 95/100 [2:23:12<14:16, 171.30s/it]"
     ]
    },
    {
     "name": "stdout",
     "output_type": "stream",
     "text": [
      "Validation Loss: 2.303, Validation Accuracy: 10.12%\n",
      "Epoch 96, Train Loss: 18.006, Train Accuracy: 10.04%\n"
     ]
    },
    {
     "name": "stderr",
     "output_type": "stream",
     "text": [
      " 96%|█████████▌| 96/100 [2:25:08<10:18, 154.60s/it]"
     ]
    },
    {
     "name": "stdout",
     "output_type": "stream",
     "text": [
      "Validation Loss: 2.303, Validation Accuracy: 10.12%\n",
      "Epoch 97, Train Loss: 18.006, Train Accuracy: 10.04%\n"
     ]
    },
    {
     "name": "stderr",
     "output_type": "stream",
     "text": [
      " 97%|█████████▋| 97/100 [2:26:57<07:03, 141.01s/it]"
     ]
    },
    {
     "name": "stdout",
     "output_type": "stream",
     "text": [
      "Validation Loss: 2.303, Validation Accuracy: 10.12%\n",
      "Epoch 98, Train Loss: 18.006, Train Accuracy: 10.04%\n"
     ]
    },
    {
     "name": "stderr",
     "output_type": "stream",
     "text": [
      " 98%|█████████▊| 98/100 [2:29:19<04:42, 141.35s/it]"
     ]
    },
    {
     "name": "stdout",
     "output_type": "stream",
     "text": [
      "Validation Loss: 2.303, Validation Accuracy: 10.12%\n",
      "Epoch 99, Train Loss: 18.006, Train Accuracy: 10.04%\n"
     ]
    },
    {
     "name": "stderr",
     "output_type": "stream",
     "text": [
      " 99%|█████████▉| 99/100 [2:31:44<02:22, 142.34s/it]"
     ]
    },
    {
     "name": "stdout",
     "output_type": "stream",
     "text": [
      "Validation Loss: 2.303, Validation Accuracy: 10.12%\n",
      "Epoch 100, Train Loss: 18.006, Train Accuracy: 10.04%\n"
     ]
    },
    {
     "name": "stderr",
     "output_type": "stream",
     "text": [
      "100%|██████████| 100/100 [2:33:29<00:00, 92.10s/it] "
     ]
    },
    {
     "name": "stdout",
     "output_type": "stream",
     "text": [
      "Validation Loss: 2.303, Validation Accuracy: 10.12%\n",
      "Finished Training\n"
     ]
    },
    {
     "name": "stderr",
     "output_type": "stream",
     "text": [
      "\n"
     ]
    },
    {
     "name": "stdout",
     "output_type": "stream",
     "text": [
      "Model 8 Epochs 100 Particles 50\n"
     ]
    },
    {
     "name": "stderr",
     "output_type": "stream",
     "text": [
      "  0%|          | 0/100 [00:00<?, ?it/s]"
     ]
    },
    {
     "name": "stdout",
     "output_type": "stream",
     "text": [
      "Epoch 1, Train Loss: 18.006, Train Accuracy: 10.04%\n"
     ]
    },
    {
     "name": "stderr",
     "output_type": "stream",
     "text": [
      "  1%|          | 1/100 [02:45<4:33:50, 165.96s/it]"
     ]
    },
    {
     "name": "stdout",
     "output_type": "stream",
     "text": [
      "Validation Loss: 2.303, Validation Accuracy: 10.12%\n",
      "Epoch 2, Train Loss: 18.006, Train Accuracy: 10.04%\n"
     ]
    },
    {
     "name": "stderr",
     "output_type": "stream",
     "text": [
      "  2%|▏         | 2/100 [04:25<3:27:30, 127.04s/it]"
     ]
    },
    {
     "name": "stdout",
     "output_type": "stream",
     "text": [
      "Validation Loss: 2.303, Validation Accuracy: 10.12%\n",
      "Epoch 3, Train Loss: 18.006, Train Accuracy: 10.04%\n"
     ]
    },
    {
     "name": "stderr",
     "output_type": "stream",
     "text": [
      "  3%|▎         | 3/100 [06:54<3:41:24, 136.95s/it]"
     ]
    },
    {
     "name": "stdout",
     "output_type": "stream",
     "text": [
      "Validation Loss: 2.303, Validation Accuracy: 10.12%\n",
      "Epoch 4, Train Loss: 18.006, Train Accuracy: 10.04%\n"
     ]
    },
    {
     "name": "stderr",
     "output_type": "stream",
     "text": [
      "  4%|▍         | 4/100 [09:07<3:36:35, 135.37s/it]"
     ]
    },
    {
     "name": "stdout",
     "output_type": "stream",
     "text": [
      "Validation Loss: 2.303, Validation Accuracy: 10.12%\n",
      "Epoch 5, Train Loss: 18.006, Train Accuracy: 10.04%\n"
     ]
    },
    {
     "name": "stderr",
     "output_type": "stream",
     "text": [
      "  5%|▌         | 5/100 [11:04<3:23:37, 128.61s/it]"
     ]
    },
    {
     "name": "stdout",
     "output_type": "stream",
     "text": [
      "Validation Loss: 2.303, Validation Accuracy: 10.12%\n",
      "Epoch 6, Train Loss: 18.006, Train Accuracy: 10.04%\n"
     ]
    },
    {
     "name": "stderr",
     "output_type": "stream",
     "text": [
      "  6%|▌         | 6/100 [13:06<3:18:01, 126.40s/it]"
     ]
    },
    {
     "name": "stdout",
     "output_type": "stream",
     "text": [
      "Validation Loss: 2.303, Validation Accuracy: 10.12%\n"
     ]
    }
   ],
   "source": [
    "idx = 1\n",
    "for i in range(len(hparams[\"epochs\"])):\n",
    "    epochs = hparams[\"epochs\"][i]\n",
    "    for j in range(len(hparams[\"particles\"])):\n",
    "        particles = hparams[\"particles\"][j] \n",
    "        name = f\"Model {idx} Epochs {epochs} Particles {particles}\"\n",
    "        print(name)\n",
    "        optimizer = optimizer = GWO(model.parameters(), min_param_value = 0., max_param_value=1., lr = round(2/epochs, 3))\n",
    "        metrics = train(num_epochs= epochs, optimizer= optimizer, model= model, device= device, train_loader= train_loader, val_loader= test_loader)\n",
    "        torch.save(model.state_dict(), MODEL_PATH + name)\n",
    "        plotter(metrics= metrics, idx = idx, name = name, PATH = CHART_PATH)\n",
    "        idx += 1\n",
    "        if metrics[\"val_acc\"]>best_acc:\n",
    "            best_acc = metrics[\"val_acc\"]\n",
    "            best_model = name"
   ]
  },
  {
   "cell_type": "code",
   "execution_count": null,
   "metadata": {},
   "outputs": [],
   "source": [
    "print([best_model, best_acc])"
   ]
  }
 ],
 "metadata": {
  "kernelspec": {
   "display_name": "school",
   "language": "python",
   "name": "python3"
  },
  "language_info": {
   "codemirror_mode": {
    "name": "ipython",
    "version": 3
   },
   "file_extension": ".py",
   "mimetype": "text/x-python",
   "name": "python",
   "nbconvert_exporter": "python",
   "pygments_lexer": "ipython3",
   "version": "3.10.12"
  }
 },
 "nbformat": 4,
 "nbformat_minor": 2
}
